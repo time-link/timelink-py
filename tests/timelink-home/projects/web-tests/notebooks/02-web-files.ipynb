{
 "cells": [
  {
   "cell_type": "markdown",
   "metadata": {},
   "source": [
    "# Web managing kleio files"
   ]
  },
  {
   "cell_type": "code",
   "execution_count": 4,
   "metadata": {},
   "outputs": [
    {
     "name": "stdout",
     "output_type": "stream",
     "text": [
      "/Users/jrc/develop/timelink-py/tests/timelink-home/projects/web-tests\n"
     ]
    }
   ],
   "source": [
    "from timelink.kleio import KleioServer\n",
    "\n",
    "timelink_home = KleioServer.find_local_kleio_home()\n",
    "print(timelink_home)"
   ]
  },
  {
   "cell_type": "code",
   "execution_count": 5,
   "metadata": {},
   "outputs": [],
   "source": [
    "from timelink.kleio import KleioServer\n",
    "from timelink.api.database import TimelinkDatabase\n",
    "import os\n",
    "\n",
    "kserver = KleioServer.start(kleio_home=timelink_home)\n",
    "db_dir = '../database/sqlite/'\n",
    "db = TimelinkDatabase(db_type='sqlite',\n",
    "                      db_path=db_dir,\n",
    "                      db_name='timelink-web')\n",
    "kserver, db\n",
    "# link database to kleio server\n",
    "db.set_kleio_server(kserver)\n",
    "\n"
   ]
  },
  {
   "cell_type": "markdown",
   "metadata": {},
   "source": [
    "## Get the list of Kleio files and translate and import status"
   ]
  },
  {
   "cell_type": "code",
   "execution_count": 6,
   "metadata": {},
   "outputs": [
    {
     "name": "stdout",
     "output_type": "stream",
     "text": [
      "<class 'pandas.core.frame.DataFrame'>\n",
      "RangeIndex: 4 entries, 0 to 3\n",
      "Data columns (total 25 columns):\n",
      " #   Column              Non-Null Count  Dtype              \n",
      "---  ------              --------------  -----              \n",
      " 0   path                4 non-null      object             \n",
      " 1   name                4 non-null      object             \n",
      " 2   size                4 non-null      int64              \n",
      " 3   directory           4 non-null      object             \n",
      " 4   modified            4 non-null      datetime64[ns, UTC]\n",
      " 5   modified_iso        4 non-null      datetime64[ns, UTC]\n",
      " 6   modified_string     4 non-null      object             \n",
      " 7   qtime               4 non-null      datetime64[ns, UTC]\n",
      " 8   qtime_string        4 non-null      object             \n",
      " 9   source_url          4 non-null      object             \n",
      " 10  status              4 non-null      object             \n",
      " 11  translated          4 non-null      datetime64[ns, UTC]\n",
      " 12  translated_string   4 non-null      object             \n",
      " 13  errors              4 non-null      int64              \n",
      " 14  warnings            4 non-null      int64              \n",
      " 15  version             4 non-null      object             \n",
      " 16  rpt_url             4 non-null      object             \n",
      " 17  xml_url             4 non-null      object             \n",
      " 18  import_status       4 non-null      object             \n",
      " 19  import_errors       0 non-null      object             \n",
      " 20  import_warnings     0 non-null      object             \n",
      " 21  import_error_rpt    0 non-null      object             \n",
      " 22  import_warning_rpt  0 non-null      object             \n",
      " 23  imported            0 non-null      object             \n",
      " 24  imported_string     0 non-null      object             \n",
      "dtypes: datetime64[ns, UTC](4), int64(3), object(18)\n",
      "memory usage: 928.0+ bytes\n"
     ]
    },
    {
     "data": {
      "text/html": [
       "<div>\n",
       "<style scoped>\n",
       "    .dataframe tbody tr th:only-of-type {\n",
       "        vertical-align: middle;\n",
       "    }\n",
       "\n",
       "    .dataframe tbody tr th {\n",
       "        vertical-align: top;\n",
       "    }\n",
       "\n",
       "    .dataframe thead th {\n",
       "        text-align: right;\n",
       "    }\n",
       "</style>\n",
       "<table border=\"1\" class=\"dataframe\">\n",
       "  <thead>\n",
       "    <tr style=\"text-align: right;\">\n",
       "      <th></th>\n",
       "      <th>path</th>\n",
       "      <th>status</th>\n",
       "      <th>warnings</th>\n",
       "      <th>import_status</th>\n",
       "      <th>import_warnings</th>\n",
       "      <th>modified_string</th>\n",
       "    </tr>\n",
       "  </thead>\n",
       "  <tbody>\n",
       "    <tr>\n",
       "      <th>0</th>\n",
       "      <td>sources/b1685.cli</td>\n",
       "      <td>translation_status_enum.W</td>\n",
       "      <td>1</td>\n",
       "      <td>import_status_enum.U</td>\n",
       "      <td>None</td>\n",
       "      <td>2025-02-09 03:35:45</td>\n",
       "    </tr>\n",
       "    <tr>\n",
       "      <th>1</th>\n",
       "      <td>sources/dehergne-a.cli</td>\n",
       "      <td>translation_status_enum.V</td>\n",
       "      <td>0</td>\n",
       "      <td>import_status_enum.U</td>\n",
       "      <td>None</td>\n",
       "      <td>2025-02-09 03:08:53</td>\n",
       "    </tr>\n",
       "    <tr>\n",
       "      <th>2</th>\n",
       "      <td>sources/dehergne-locations-1644.cli</td>\n",
       "      <td>translation_status_enum.V</td>\n",
       "      <td>0</td>\n",
       "      <td>import_status_enum.U</td>\n",
       "      <td>None</td>\n",
       "      <td>2025-02-09 03:08:50</td>\n",
       "    </tr>\n",
       "    <tr>\n",
       "      <th>3</th>\n",
       "      <td>sources/real-entities/real-entities.cli</td>\n",
       "      <td>translation_status_enum.V</td>\n",
       "      <td>0</td>\n",
       "      <td>import_status_enum.U</td>\n",
       "      <td>None</td>\n",
       "      <td>2025-02-09 03:08:51</td>\n",
       "    </tr>\n",
       "  </tbody>\n",
       "</table>\n",
       "</div>"
      ],
      "text/plain": [
       "                                      path                     status  \\\n",
       "0                        sources/b1685.cli  translation_status_enum.W   \n",
       "1                   sources/dehergne-a.cli  translation_status_enum.V   \n",
       "2      sources/dehergne-locations-1644.cli  translation_status_enum.V   \n",
       "3  sources/real-entities/real-entities.cli  translation_status_enum.V   \n",
       "\n",
       "   warnings         import_status import_warnings      modified_string  \n",
       "0         1  import_status_enum.U            None  2025-02-09 03:35:45  \n",
       "1         0  import_status_enum.U            None  2025-02-09 03:08:53  \n",
       "2         0  import_status_enum.U            None  2025-02-09 03:08:50  \n",
       "3         0  import_status_enum.U            None  2025-02-09 03:08:51  "
      ]
     },
     "execution_count": 6,
     "metadata": {},
     "output_type": "execute_result"
    }
   ],
   "source": [
    "from typing import List\n",
    "from timelink.kleio import KleioFile\n",
    "import pandas as pd\n",
    "\n",
    "files = db.get_import_status()\n",
    "files_df = pd.DataFrame([dict(file) for file in files])\n",
    "files_df.info()\n",
    "files_df[['path', 'status', 'warnings','import_status','import_warnings', 'modified_string']]"
   ]
  },
  {
   "cell_type": "markdown",
   "metadata": {},
   "source": [
    "Get files with specific status\n",
    "\n",
    "* T = needs translation (modified after last translation or never translated)\n",
    "* E = translated with errors\n",
    "* W = translated with warnings\n",
    "* V = valid, translated sucessfully\n",
    "* P = currently being processed by Kleio Server\n",
    "* Q = queued for translation by Kleio Server"
   ]
  },
  {
   "cell_type": "code",
   "execution_count": 7,
   "metadata": {},
   "outputs": [
    {
     "data": {
      "text/plain": [
       "{'path': 'sources/b1685.cli',\n",
       " 'name': 'b1685.cli',\n",
       " 'size': 17236,\n",
       " 'directory': 'sources',\n",
       " 'modified': datetime.datetime(2025, 2, 9, 3, 35, 45, 465041, tzinfo=TzInfo(UTC)),\n",
       " 'modified_iso': datetime.datetime(2025, 2, 9, 3, 35, 45, tzinfo=TzInfo(UTC)),\n",
       " 'modified_string': '2025-02-09 03:35:45',\n",
       " 'qtime': datetime.datetime(1970, 1, 1, 0, 0, tzinfo=TzInfo(UTC)),\n",
       " 'qtime_string': '1970-01-01 00:00:00',\n",
       " 'source_url': '/rest/sources/sources/b1685.cli',\n",
       " 'status': <translation_status_enum.W: 'W'>,\n",
       " 'translated': datetime.datetime(2025, 2, 9, 3, 35, tzinfo=TzInfo(UTC)),\n",
       " 'translated_string': '2025-02-09T03:35:00+00:00',\n",
       " 'errors': 0,\n",
       " 'warnings': 1,\n",
       " 'version': 'KleioTranslator - server version 12.7 - build 579 2025-01-29 17:45:15',\n",
       " 'rpt_url': '/rest/reports/sources/b1685.rpt',\n",
       " 'xml_url': '/rest/exports/sources/b1685.xml',\n",
       " 'import_status': None,\n",
       " 'import_errors': None,\n",
       " 'import_warnings': None,\n",
       " 'import_error_rpt': None,\n",
       " 'import_warning_rpt': None,\n",
       " 'imported': None,\n",
       " 'imported_string': None}"
      ]
     },
     "execution_count": 7,
     "metadata": {},
     "output_type": "execute_result"
    }
   ],
   "source": [
    "with_warnings =  kserver.get_translations(path=\"\", status=\"W\", recurse=True)\n",
    "\n",
    "dict(with_warnings[0])  # get a dict, better display"
   ]
  },
  {
   "cell_type": "markdown",
   "metadata": {},
   "source": [
    "Get a translation report"
   ]
  },
  {
   "cell_type": "code",
   "execution_count": 8,
   "metadata": {},
   "outputs": [
    {
     "name": "stdout",
     "output_type": "stream",
     "text": [
      "KleioTranslator - server version 12.7 - build 579 2025-01-29 17:45:15\n",
      "9-2-2025 3-35\n",
      "\n",
      "Processing data file b1685.cli\n",
      "-------------------------------------------\n",
      "Generic Act translation module with geoentities (XML).\n",
      "     Joaquim Ramos de Carvalho (joaquim@uc.pt) \n",
      "** New document: kleio\n",
      "=========================\n",
      "kleio translation started\n",
      "=========================\n",
      "Structure: gacto2.str\n",
      "Prefix: \n",
      "Autorel: \n",
      "Translation count: 81\n",
      "Obs: \n",
      "** Processing source fonte$baptismos 1685\n",
      "\n",
      "WARNING: b1685.cli line 3 * Warning: ...\n"
     ]
    }
   ],
   "source": [
    "rpt = kserver.get_report(with_warnings[0])\n",
    "print(rpt[0:512],\"...\")\n"
   ]
  },
  {
   "cell_type": "markdown",
   "metadata": {},
   "source": [
    "Show the Kleio source file"
   ]
  },
  {
   "cell_type": "code",
   "execution_count": 9,
   "metadata": {},
   "outputs": [
    {
     "name": "stdout",
     "output_type": "stream",
     "text": [
      "kleio$gacto2.str/translations=82\n",
      "   fonte$baptismos 1685/tipo=reg paroquiais/localizacao=fol. 30-34/data=16850000/obs=existem baptismos anteriores mas em muito mau estado.#VERSAO ABREVIADA. USAR O TRADUTOR CORRECTO\n",
      "\n",
      "      bap$b1685.1/8/7/1685/?/manuel cordeiro\n",
      "\n",
      "         n$maria/f/id=b1685.1-per1\n",
      "\n",
      "            pai$manuel madeira/m/id=b1685.1-per1-per2\n",
      "               ls$residencia/alencarce\n",
      "\n",
      "            mae$domingas joao/f/id=b1685.1-per1-per3/obs=\n",
      "\n",
      "            pad$antonio jorge/m/id=b1685.1-per4\n",
      "             \n"
     ]
    }
   ],
   "source": [
    "src = kserver.get_source(with_warnings[0])\n",
    "print(src[0:512])"
   ]
  },
  {
   "cell_type": "markdown",
   "metadata": {},
   "source": [
    "## Import files into the database\n",
    "\n",
    "The method db.update_from_sources() compares modification timestamps with\n",
    "import timestamps and translates and import as needed."
   ]
  },
  {
   "cell_type": "code",
   "execution_count": 10,
   "metadata": {},
   "outputs": [],
   "source": [
    "import logging\n",
    "\n",
    "# This should run in the background in real life apps.\n",
    "db.update_from_sources()"
   ]
  },
  {
   "cell_type": "markdown",
   "metadata": {},
   "source": [
    "## Clean translations, reimport\n",
    "\n",
    "Sometimes a full reload is needed (for instance when there is a \n",
    "relevant update of kleio server)."
   ]
  },
  {
   "cell_type": "code",
   "execution_count": 11,
   "metadata": {},
   "outputs": [
    {
     "name": "stderr",
     "output_type": "stream",
     "text": [
      "INFO:root:Request translation of T sources/b1685.cli\n",
      "INFO:root:Request translation of T sources/dehergne-a.cli\n",
      "INFO:root:Request translation of T sources/dehergne-locations-1644.cli\n",
      "INFO:root:Request translation of T sources/real-entities/real-entities.cli\n"
     ]
    }
   ],
   "source": [
    "import logging\n",
    "\n",
    "# Set log level to INFO\n",
    "logging.basicConfig(level=logging.INFO, force=True)\n",
    "\n",
    "# Clean translations and update database\n",
    "kserver.translation_clean(\"\", recurse=\"yes\")\n",
    "# translate and reimport\n",
    "db.update_from_sources()"
   ]
  },
  {
   "cell_type": "markdown",
   "metadata": {},
   "source": [
    "## Translate and import single files\n",
    "\n",
    "How to trigger the translation of a single file \n",
    "(or directory, can recurse into inner directories) and check with kleio server progress of translation."
   ]
  },
  {
   "cell_type": "code",
   "execution_count": 14,
   "metadata": {},
   "outputs": [
    {
     "name": "stdout",
     "output_type": "stream",
     "text": [
      "sources/b1685.cli 2025-02-09 04:18:00+00:00\n",
      "processing: 1\n",
      "queued: 0\n",
      "waiting\n",
      "need_import [KleioFile(path='sources/b1685.cli', name='b1685.cli', size=17236, directory='sources', modified=datetime.datetime(2025, 2, 9, 5, 59, 54, 581017, tzinfo=TzInfo(UTC)), modified_iso=datetime.datetime(2025, 2, 9, 5, 59, 54, tzinfo=TzInfo(UTC)), modified_string='2025-02-09 05:59:54', qtime=datetime.datetime(1970, 1, 1, 0, 0, tzinfo=TzInfo(UTC)), qtime_string='1970-01-01 00:00:00', source_url='/rest/sources/sources/b1685.cli', status=<translation_status_enum.W: 'W'>, translated=datetime.datetime(2025, 2, 9, 5, 59, tzinfo=TzInfo(UTC)), translated_string='2025-02-09T05:59:00+00:00', errors=0, warnings=1, version='KleioTranslator - server version 12.7 - build 579 2025-01-29 17:45:15', rpt_url='/rest/reports/sources/b1685.rpt', xml_url='/rest/exports/sources/b1685.xml', import_status=<import_status_enum.U: 'U'>, import_errors=None, import_warnings=None, import_error_rpt=None, import_warning_rpt=None, imported=None, imported_string=None)]\n"
     ]
    }
   ],
   "source": [
    "import time\n",
    "\n",
    "# get file list\n",
    "files=kserver.get_translations(\"\", recurse=True)\n",
    "# pick one\n",
    "file = files[0]\n",
    "path = file.path\n",
    "print(path, file.translated)\n",
    "\n",
    "# ask kleio server to translate and wait\n",
    "kserver.translate(path)\n",
    "# check progress (status=\"P\") for queued use (\"Q\")\n",
    "in_process = kserver.get_translations(path=path, status=\"P\")\n",
    "while len(in_process) > 0:\n",
    "    print(\"processing:\", len(in_process))\n",
    "    queued = kserver.get_translations(path=path, status=\"Q\")\n",
    "    print(\"queued:\",len(queued))\n",
    "    print(\"waiting\")\n",
    "    time.sleep(5)\n",
    "    in_process = kserver.get_translations(path=path, status=\"P\")\n",
    "\n",
    "need_import = db.get_need_import()\n",
    "print(\"need_import\",  need_import)\n"
   ]
  },
  {
   "cell_type": "markdown",
   "metadata": {},
   "source": [
    "### Importing specific files"
   ]
  },
  {
   "cell_type": "code",
   "execution_count": 15,
   "metadata": {},
   "outputs": [
    {
     "name": "stderr",
     "output_type": "stream",
     "text": [
      "INFO:root:Storing 2 postponed relations\n"
     ]
    },
    {
     "name": "stdout",
     "output_type": "stream",
     "text": [
      "{'datetime': 1739080800.075247, 'machine': 'jrc-air-m2.local', 'database': sqlite:////Users/jrc/develop/timelink-py/tests/timelink-home/projects/web-tests/database/sqlite/timelink-web.sqlite, 'file': '/rest/exports/sources/b1685.xml', 'import_time_seconds': 3.7359778881073, 'entities_processed': 0, 'entity_rate': 0.0, 'person_rate': 0.0, 'nerrors': 0, 'errors': []}\n"
     ]
    }
   ],
   "source": [
    "stats = db.import_from_xml(need_import[0])\n",
    "print(stats)\n"
   ]
  },
  {
   "cell_type": "markdown",
   "metadata": {},
   "source": [
    "## Check the result of import"
   ]
  },
  {
   "cell_type": "code",
   "execution_count": 28,
   "metadata": {},
   "outputs": [
    {
     "name": "stdout",
     "output_type": "stream",
     "text": [
      "I 0 0\n",
      "No errors\n",
      "No warnings\n"
     ]
    }
   ],
   "source": [
    "ifile: KleioFile = db.get_import_status(path=file.path)[0]  # just one\n",
    "print(ifile.import_status.value, ifile.import_errors, ifile.import_warnings)\n",
    "print(ifile.import_error_rpt)\n",
    "print(ifile.import_warning_rpt)"
   ]
  }
 ],
 "metadata": {
  "kernelspec": {
   "display_name": ".venv",
   "language": "python",
   "name": "python3"
  },
  "language_info": {
   "codemirror_mode": {
    "name": "ipython",
    "version": 3
   },
   "file_extension": ".py",
   "mimetype": "text/x-python",
   "name": "python",
   "nbconvert_exporter": "python",
   "pygments_lexer": "ipython3",
   "version": "3.10.14"
  }
 },
 "nbformat": 4,
 "nbformat_minor": 2
}
