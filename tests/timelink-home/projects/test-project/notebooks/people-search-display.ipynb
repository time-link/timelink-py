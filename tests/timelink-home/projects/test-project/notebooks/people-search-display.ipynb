{
 "cells": [
  {
   "cell_type": "markdown",
   "id": "403391c0",
   "metadata": {},
   "source": [
    "# Search people"
   ]
  },
  {
   "cell_type": "code",
   "execution_count": 7,
   "id": "b043cf18",
   "metadata": {},
   "outputs": [
    {
     "data": {
      "text/plain": [
       "'1.1.25'"
      ]
     },
     "execution_count": 7,
     "metadata": {},
     "output_type": "execute_result"
    }
   ],
   "source": [
    "import timelink\n",
    "timelink.version"
   ]
  },
  {
   "cell_type": "code",
   "execution_count": 30,
   "id": "10708992",
   "metadata": {},
   "outputs": [
    {
     "name": "stderr",
     "output_type": "stream",
     "text": [
      "WARNING:root:Reusing existing container musing_rosalind\n"
     ]
    },
    {
     "name": "stdout",
     "output_type": "stream",
     "text": [
      "Timelink version: 1.1.25\n",
      "Project name: test-project\n",
      "Project home: /Users/jrc/develop/timelink-py/tests/timelink-home/projects/test-project\n",
      "Database type: sqlite\n",
      "Database name: test\n",
      "Kleio image: timelinkserver/kleio-server\n",
      "Kleio server token: IScb5...\n",
      "Kleio server URL: http://127.0.0.1:8089\n",
      "Kleio server home: /Users/jrc/develop/timelink-py/tests/timelink-home/projects/test-project\n",
      "Kleio server container: musing_rosalind\n",
      "Kleio version requested: latest\n",
      "Kleio server version: 12.8.593 (2025-03-16 21:55:53)\n",
      "SQLite directory: ../../../database/sqlite\n",
      "Database version: 6ccf1ef385a6\n",
      "Call print_info(show_token=True) to show the Kleio Server token\n",
      "Call print_info(show_password=True) to show the Postgres password\n",
      "TimelinkNotebook(project_name=test-project, project_home=/Users/jrc/develop/timelink-py/tests/timelink-home/projects/test-project, db_type=sqlite, db_name=test, kleio_image=timelinkserver/kleio-server, kleio_version=latest, postgres_image=postgres, postgres_version=latest)\n"
     ]
    }
   ],
   "source": [
    "from timelink.notebooks import TimelinkNotebook\n",
    "\n",
    "tlnb = TimelinkNotebook(\n",
    "    sqlite_dir='../../../database/sqlite',\n",
    "    db_name='test',\n",
    "    db_type='sqlite',\n",
    ")\n",
    "tlnb.print_info()"
   ]
  },
  {
   "cell_type": "markdown",
   "id": "709f0a7e",
   "metadata": {},
   "source": [
    "### Search for people, show in Kleio notation"
   ]
  },
  {
   "cell_type": "code",
   "execution_count": 41,
   "id": "dd960c79",
   "metadata": {},
   "outputs": [
    {
     "name": "stdout",
     "output_type": "stream",
     "text": [
      "n$filipa/f/id=lousa-b1714-1-per2-10\n",
      "  <rel$parentesco/pai/joao de almeida/lousa-b1714-1-per2-10-per3-10/1714-01-06\n",
      "  <rel$parentesco/mae/maria antonia/lousa-b1714-1-per2-10-per4-10/1714-01-06\n",
      "  <rel$sociabilidade/celebrou ato/joao lopes serra/lousa-b1714-1-per1-10/1714-01-06\n",
      "  ls$nome/constanca/1714-01-06/obs=\"\"\"segundo um assento na margem do baptismo: \"a mae da baptizada mudou no santo crisma o nome de Filipa em Constancia e que justifocou ante o vigario gheral desta vila por cujo despacho fiz esta declaraÂÂo. assina: Padre Tavares\"\"\"\"\n",
      "  pn$joao de almeida/m/id=lousa-b1714-1-per2-10-per3-10\n",
      "    <rel$sociabilidade/celebrou ato/joao lopes serra/lousa-b1714-1-per1-10/1714-01-06\n",
      "    rel$parentesco/pai/filipa/lousa-b1714-1-per2-10-per3-10/1714-01-06\n",
      "    rel$parentesco/marido/maria antonia/lousa-b1714-1-per2-10-per3-10/1714-01-06\n",
      "    ls$morada/vila da lousa/1714-01-06\n",
      "    ls$freguesia/lousa/1714-01-06\n",
      "  mn$maria antonia/f/id=lousa-b1714-1-per2-10-per4-10\n",
      "    <rel$parentesco/marido/joao de almeida/lousa-b1714-1-per2-10-per3-10/1714-01-06\n",
      "    <rel$sociabilidade/celebrou ato/joao lopes serra/lousa-b1714-1-per1-10/1714-01-06\n",
      "    rel$parentesco/mae/filipa/lousa-b1714-1-per2-10-per4-10/1714-01-06\n",
      "  pad$joao de arruda? frazao/m/id=lousa-b1714-1-per2-10-per5-10\n",
      "    <rel$sociabilidade/celebrou ato/joao lopes serra/lousa-b1714-1-per1-10/1714-01-06\n",
      "    ls$morada/vila da lousa/1714-01-06\n",
      "    ls$freguesia/lousa/1714-01-06\n",
      "  mad$escolastica monteira/f/id=lousa-b1714-1-per2-10-per6-10\n",
      "    <rel$sociabilidade/celebrou ato/joao lopes serra/lousa-b1714-1-per1-10/1714-01-06\n",
      "    ls$titulo/licenciado/1714-01-06\n",
      "    ls$morada/vila da lousa%lousa vila/1714-01-06\n",
      "    ls$freguesia/lousa/1714-01-06\n",
      "\n"
     ]
    }
   ],
   "source": [
    "from timelink.api.models import Person\n",
    "\n",
    "show_only=10\n",
    "\n",
    "with tlnb.db.session() as session:\n",
    "    persons = session.query(Person).filter(Person.name.like('filipa')).all()\n",
    "\n",
    "    for person in persons[:show_only]:\n",
    "        print(person.to_kleio())\n",
    "        print()"
   ]
  },
  {
   "cell_type": "markdown",
   "id": "242ebafc",
   "metadata": {},
   "source": [
    "## Fetch an entity and display with template"
   ]
  },
  {
   "cell_type": "code",
   "execution_count": 51,
   "id": "fa7545e1",
   "metadata": {},
   "outputs": [
    {
     "data": {
      "text/markdown": [
       "# Entity Details\n",
       "\n",
       "\n",
       "| Element | Value |\n",
       "|----|---|\n",
       "| **ID:**    | deh-matteo-ricci |\n",
       "| **Description:** | Matteo Ricci |\n",
       "| **Group Name:** | n |\n",
       "| **Class:** | person |\n",
       "| **Source:** | sameas-tests |\n",
       "| **Inside:**| sameas-dehergne |\n",
       "| **Order:** | 3 |\n",
       "| **Level:** | 3 |\n",
       "| **Line:**  | 14 |\n",
       "| **Updated:** | 2025-04-06 13:05 |\n",
       "| **Indexed:** | N/A |\n",
       "| **sex** | m |\n",
       "| **nome** | Matteo Ricci |\n",
       "\n",
       "\n",
       "\n",
       "\n",
       "\n",
       "## Record linking\n",
       "\n",
       "| ID | RID | User | Rule | Source | Status |\n",
       "|----|-----|------|------|--------|--------|\n",
       "| 737 | rp205633 | user | same_as('sameas-tests.cli') | sameas-tests | SOURCE |\n",
       "\n",
       "\n",
       "\n",
       "\n",
       "\n",
       "- same as from deh-joao-barradas-ref1 Matteo Ricci\n",
       "\n",
       "- same as from deh-lazzaro-cattaneo-ref1 Matteo Ricci\n",
       "\n",
       "- same as from bio-matteo-ricci Matteo Ricci\n",
       "\n",
       "\n",
       "\n",
       "## Biography\n",
       "\n",
       "| Date | Event |\n",
       "|------|-------|\n",
       "|2024-09-20|rel$parentesco/pai/Matteo Ricci/deh-matteo-ricci-pai/2024-09-20|\n",
       "|2024-09-20|rel$parentesco/mae/Matteo Ricci/deh-matteo-ricci-mae/2024-09-20|\n",
       "|2024-09-20|rel$identification/same as/Matteo Ricci/deh-matteo-ricci/2024-09-20|\n",
       "|2024-09-20|rel$identification/same as/Matteo Ricci/deh-matteo-ricci/2024-09-20|\n",
       "|2024-09-20|rel$function-in-act/n/lista/sameas-dehergne/2024-09-20/obs=line: 14|\n",
       "|2024-09-20|ls$nacionalidade/Itália/2024-09-20|\n",
       "|2020-10-02|rel$identification/same as/Matteo Ricci/deh-matteo-ricci/2020-10-02|\n",
       "|1596-01-01|ls$jesuita-votos-local/Nan-tch'ang/1596-01-01|\n",
       "|1610-05-11|ls$morte@wikidata/\"https://www.wikidata.org/wiki/Q956\"%Pequim/1610-05-11|\n",
       "|1610-05-11|ls$morte/Pequim#@wikidata:Q956/1610-05-11|\n",
       "\n",
       "\n",
       "## Incoming Relations (rels_in)\n",
       "\n",
       "\n",
       "\n",
       "- **ID:** sameas-dehergne-rela37\n",
       "  **Origin:** deh-matteo-ricci-pai (Giovanni Battista Ricci)\n",
       "  **Type:** parentesco\n",
       "  **Value:** pai\n",
       "  **Date:** 20240920\n",
       "  **Obs:** \n",
       "\n",
       "- **ID:** sameas-dehergne-rela39\n",
       "  **Origin:** deh-matteo-ricci-mae (Giovanna Angiolelli)\n",
       "  **Type:** parentesco\n",
       "  **Value:** mae\n",
       "  **Date:** 20240920\n",
       "  **Obs:** \n",
       "\n",
       "- **ID:** deh-joao-barradas-rela6\n",
       "  **Origin:** deh-joao-barradas-ref1 (Matteo Ricci)\n",
       "  **Type:** identification\n",
       "  **Value:** same as\n",
       "  **Date:** 20240920\n",
       "  **Obs:** \n",
       "\n",
       "- **ID:** deh-lazzaro-cattaneo-rela9\n",
       "  **Origin:** deh-lazzaro-cattaneo-ref1 (Matteo Ricci)\n",
       "  **Type:** identification\n",
       "  **Value:** same as\n",
       "  **Date:** 20240920\n",
       "  **Obs:** \n",
       "\n",
       "- **ID:** bio-notes-list-1-rela2\n",
       "  **Origin:** bio-matteo-ricci (Matteo Ricci)\n",
       "  **Type:** identification\n",
       "  **Value:** same as\n",
       "  **Date:** 20201002\n",
       "  **Obs:** \n",
       "\n",
       "\n",
       "\n",
       "## Outgoing Relations (rels_out)\n",
       "\n",
       "\n",
       "\n",
       "\n",
       "\n",
       "## Contains\n",
       "\n",
       "\n",
       "\n",
       "- **ID:** deh-matteo-ricci-pai\n",
       "  **Class:** person\n",
       "  **Group Name:** pai\n",
       "  **Order:** 9\n",
       "  **Level:** 4\n",
       "  **Line:** 19\n",
       "  \n",
       "\n",
       "- **ID:** deh-matteo-ricci-mae\n",
       "  **Class:** person\n",
       "  **Group Name:** mae\n",
       "  **Order:** 12\n",
       "  **Level:** 4\n",
       "  **Line:** 23\n",
       "  \n",
       "\n",
       "\n"
      ],
      "text/plain": [
       "<IPython.core.display.Markdown object>"
      ]
     },
     "metadata": {},
     "output_type": "display_data"
    }
   ],
   "source": [
    "from jinja2 import Environment, PackageLoader\n",
    "from IPython.display import Markdown, display\n",
    "\n",
    "from timelink.api.schemas import EntityAttrRelSchema\n",
    "from timelink.api.models import Entity\n",
    "from timelink.api.crud import get\n",
    "\n",
    "eid = 'deh-matteo-ricci'\n",
    "\n",
    "\n",
    "env = Environment(loader=PackageLoader(\"timelink\", \"app/templates\"))\n",
    "template = env.get_template(\"markdown/base/entity_attr_rel.j2\")\n",
    "output_file = f\"../inferences/markdown/{eid}.md\"\n",
    "\n",
    "emodel: EntityAttrRelSchema = None\n",
    "with tlnb.db.session() as session:\n",
    "    entity = session.get(Entity, eid)\n",
    "    # print(entity.to_kleio())\n",
    "    emodel: EntityAttrRelSchema = get(session, eid)\n",
    "    if emodel is None:\n",
    "        raise ValueError(f\"Entity {eid} not found\")\n",
    "\n",
    "    emodel_dict = emodel.model_dump()\n",
    "    markdown_content = template.render(entity=emodel_dict,\n",
    "                                       model=entity,\n",
    "                                       util=timelink.kleio.utilities)\n",
    "display(Markdown(str(markdown_content)))\n",
    "with open(output_file, 'w') as f:\n",
    "    f.write(markdown_content)\n"
   ]
  },
  {
   "cell_type": "code",
   "execution_count": null,
   "id": "e7cd4f09",
   "metadata": {},
   "outputs": [],
   "source": []
  }
 ],
 "metadata": {
  "kernelspec": {
   "display_name": ".venv",
   "language": "python",
   "name": "python3"
  },
  "language_info": {
   "codemirror_mode": {
    "name": "ipython",
    "version": 3
   },
   "file_extension": ".py",
   "mimetype": "text/x-python",
   "name": "python",
   "nbconvert_exporter": "python",
   "pygments_lexer": "ipython3",
   "version": "3.10.14"
  }
 },
 "nbformat": 4,
 "nbformat_minor": 5
}
