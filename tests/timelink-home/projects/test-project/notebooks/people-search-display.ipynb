{
 "cells": [
  {
   "cell_type": "markdown",
   "id": "403391c0",
   "metadata": {},
   "source": [
    "# Search people"
   ]
  },
  {
   "cell_type": "code",
   "execution_count": 2,
   "id": "b043cf18",
   "metadata": {},
   "outputs": [
    {
     "data": {
      "text/plain": [
       "'1.1.25'"
      ]
     },
     "execution_count": 2,
     "metadata": {},
     "output_type": "execute_result"
    }
   ],
   "source": [
    "import timelink\n",
    "timelink.version"
   ]
  },
  {
   "cell_type": "code",
   "execution_count": 5,
   "id": "10708992",
   "metadata": {},
   "outputs": [
    {
     "name": "stderr",
     "output_type": "stream",
     "text": [
      "WARNING:root:Reusing existing container loving_leavitt\n"
     ]
    },
    {
     "name": "stdout",
     "output_type": "stream",
     "text": [
      "Timelink version: 1.1.25\n",
      "Project name: test-project\n",
      "Project home: /Users/jrc/develop/timelink-py/tests/timelink-home/projects/test-project\n",
      "Database type: sqlite\n",
      "Database name: test\n",
      "Kleio image: timelinkserver/kleio-server\n",
      "Kleio server token: U8cRN...\n",
      "Kleio server URL: http://127.0.0.1:8088\n",
      "Kleio server home: /Users/jrc/develop/timelink-py/tests/timelink-home/projects/test-project\n",
      "Kleio server container: loving_leavitt\n",
      "Kleio version requested: latest\n",
      "Kleio server version: 12.8.593 (2025-03-16 21:55:53)\n",
      "SQLite directory: /Users/jrc/develop/timelink-py/tests/timelink-home/database/sqlite\n",
      "Database version: 6ccf1ef385a6\n",
      "Call print_info(show_token=True) to show the Kleio Server token\n",
      "Call print_info(show_password=True) to show the Postgres password\n",
      "TimelinkNotebook(project_name=test-project, project_home=/Users/jrc/develop/timelink-py/tests/timelink-home/projects/test-project, db_type=sqlite, db_name=test, kleio_image=timelinkserver/kleio-server, kleio_version=latest, postgres_image=postgres, postgres_version=latest)\n"
     ]
    }
   ],
   "source": [
    "from timelink.notebooks import TimelinkNotebook\n",
    "import os\n",
    "\n",
    "db_path = os.path.abspath(\"../../../database/sqlite/\")\n",
    "\n",
    "tlnb = TimelinkNotebook(\n",
    "    sqlite_dir=db_path,\n",
    "    db_name='test',\n",
    "    db_type='sqlite',\n",
    ")\n",
    "tlnb.print_info()"
   ]
  },
  {
   "cell_type": "markdown",
   "id": "709f0a7e",
   "metadata": {},
   "source": [
    "### Search for people, show in Kleio notation"
   ]
  },
  {
   "cell_type": "code",
   "execution_count": 6,
   "id": "dd960c79",
   "metadata": {},
   "outputs": [
    {
     "name": "stdout",
     "output_type": "stream",
     "text": [
      "n$filipa/f/id=lousa-b1714-1-per2-10\n",
      "  <rel$parentesco/pai/joao de almeida/lousa-b1714-1-per2-10-per3-10/1714-01-06\n",
      "  <rel$parentesco/mae/maria antonia/lousa-b1714-1-per2-10-per4-10/1714-01-06\n",
      "  <rel$sociabilidade/celebrou ato/joao lopes serra/lousa-b1714-1-per1-10/1714-01-06\n",
      "  ls$nome/constanca/1714-01-06/obs=\"\"\"segundo um assento na margem do baptismo: \"a mae da baptizada mudou no santo crisma o nome de Filipa em Constancia e que justifocou ante o vigario gheral desta vila por cujo despacho fiz esta declaraÂÂo. assina: Padre Tavares\"\"\"\"\n",
      "  pn$joao de almeida/m/id=lousa-b1714-1-per2-10-per3-10\n",
      "    <rel$sociabilidade/celebrou ato/joao lopes serra/lousa-b1714-1-per1-10/1714-01-06\n",
      "    rel$parentesco/pai/filipa/lousa-b1714-1-per2-10-per3-10/1714-01-06\n",
      "    rel$parentesco/marido/maria antonia/lousa-b1714-1-per2-10-per3-10/1714-01-06\n",
      "    ls$morada/vila da lousa/1714-01-06\n",
      "    ls$freguesia/lousa/1714-01-06\n",
      "  mn$maria antonia/f/id=lousa-b1714-1-per2-10-per4-10\n",
      "    <rel$parentesco/marido/joao de almeida/lousa-b1714-1-per2-10-per3-10/1714-01-06\n",
      "    <rel$sociabilidade/celebrou ato/joao lopes serra/lousa-b1714-1-per1-10/1714-01-06\n",
      "    rel$parentesco/mae/filipa/lousa-b1714-1-per2-10-per4-10/1714-01-06\n",
      "  pad$joao de arruda? frazao/m/id=lousa-b1714-1-per2-10-per5-10\n",
      "    <rel$sociabilidade/celebrou ato/joao lopes serra/lousa-b1714-1-per1-10/1714-01-06\n",
      "    ls$morada/vila da lousa/1714-01-06\n",
      "    ls$freguesia/lousa/1714-01-06\n",
      "  mad$escolastica monteira/f/id=lousa-b1714-1-per2-10-per6-10\n",
      "    <rel$sociabilidade/celebrou ato/joao lopes serra/lousa-b1714-1-per1-10/1714-01-06\n",
      "    ls$titulo/licenciado/1714-01-06\n",
      "    ls$morada/vila da lousa%lousa vila/1714-01-06\n",
      "    ls$freguesia/lousa/1714-01-06\n",
      "\n"
     ]
    }
   ],
   "source": [
    "from timelink.api.models import Person\n",
    "\n",
    "show_only=10\n",
    "\n",
    "with tlnb.db.session() as session:\n",
    "    persons = session.query(Person).filter(Person.name.like('filipa')).all()\n",
    "\n",
    "    for person in persons[:show_only]:\n",
    "        print(person.to_kleio())\n",
    "        print()"
   ]
  },
  {
   "cell_type": "markdown",
   "id": "242ebafc",
   "metadata": {},
   "source": [
    "## Fetch an entity and display with template\n",
    "\n",
    "- [ ] Segmentar o template em header, elements, linking, biography, contained entities\n",
    "- [ ] Impementar os mesmos elementos que o to_kleio() aceita"
   ]
  },
  {
   "cell_type": "code",
   "execution_count": 7,
   "id": "60db2f7d",
   "metadata": {},
   "outputs": [
    {
     "data": {
      "text/plain": [
       "'1578-03'"
      ]
     },
     "execution_count": 7,
     "metadata": {},
     "output_type": "execute_result"
    }
   ],
   "source": [
    "from timelink.kleio.utilities import format_timelink_date\n",
    "\n",
    "tdate = '15780300'\n",
    "format_timelink_date(tdate)"
   ]
  },
  {
   "cell_type": "code",
   "execution_count": 9,
   "id": "fa7545e1",
   "metadata": {},
   "outputs": [
    {
     "name": "stdout",
     "output_type": "stream",
     "text": [
      "Template rentity_markdown.j2 not found. Using default template.\n"
     ]
    },
    {
     "data": {
      "text/markdown": [
       "### rentity\n",
       "\n",
       "\n",
       "\n",
       "\n",
       "\n",
       "\n",
       "| Description | Group | ID |\n",
       "|-- | -- | -- |\n",
       "| Matteo Ricci| None |rp205633 |\n",
       "\n",
       "None\n",
       "\n",
       "### Timeline\n",
       "\n",
       "| Date       | Event                   |\n",
       "|------------|-------------------------|\n",
       "| 1558| rel$sociabilidade/esteve com/Matteo Ricci/bio-rodolfo-aquaviva/1558/obs=Em Lisboa|\n",
       "| _ | rel$sociabilidade/esteve com/Matteo Ricci/bio-nicola-spinola/1558/obs=Em Lisboa|\n",
       "| _ | rel$sociabilidade/esteve com/Matteo Ricci/bio-matteo-ricci-per1-35/1558/obs=Em Lisboa|\n",
       "| _ | rel$sociabilidade/esteve com/Matteo Ricci/bio-francesco-pasio/1558/obs=Em Lisboa|\n",
       "| 1577| ls$estadia/Roma/1577|\n",
       "| 1578| ls$estadia/Coimbra/1578|\n",
       "| _ | ls$estadia/Lisboa/1578|\n",
       "| 15780300| rel$identification/same as/Matteo Ricci/bio-matteo-ricci/15780300|\n",
       "| _ | rel$function-in-act/referido/viagem/bio-michele-ruggieri-his4-19/15780300/obs=line: 50|\n",
       "| _ | rel$identification/same as/Matteo Ricci/bio-matteo-ricci/15780300|\n",
       "| 1583-09-10| rel$identification/same as/Matteo Ricci/bio-matteo-ricci/1583-09-10|\n",
       "| _ | rel$function-in-act/referido/estadia/bio-michele-ruggieri-his4-20/1583-09-10/obs=line: 53|\n",
       "| _ | rel$identification/same as/Matteo Ricci/bio-matteo-ricci/1583-09-10|\n",
       "| 1589-08| rel$identification/same as/Matteo Ricci/bio-matteo-ricci/1589-08|\n",
       "| _ | rel$function-in-act/referido/estadia/ivc-antonio-de-almeida-his5-10/1589-08/obs=line: 726|\n",
       "| _ | rel$identification/same as/Matteo Ricci/bio-matteo-ricci/1589-08|\n",
       "| 1594| rel$sociabilidade/Companheiro/Matteo Ricci/deh-joao-barradas/1594|\n",
       "| _ | rel$sociabilidade/Companheiro/Matteo Ricci/deh-lazzaro-cattaneo/1594|\n",
       "| _ | ls$estadia/rio Kan#Rio Nam Khan, em Laos?/1594|\n",
       "| _ | ls$estadia@wikidata/\"https://www.wikidata.org/wiki/Q1346617\"%Shiuchow (Chao-tcheou)/1594|\n",
       "| _ | ls$estadia/Shiuchow (Chao-tcheou)#@wikidata:Q1346617/1594|\n",
       "| 1596-01-01| ls$jesuita-votos-local/Nan-tch'ang/1596-01-01|\n",
       "| 1610-05-11| ls$morte@wikidata/\"https://www.wikidata.org/wiki/Q956\"%Pequim/1610-05-11|\n",
       "| _ | ls$morte/Pequim#@wikidata:Q956/1610-05-11|\n",
       "| 2020-10-02| rel$identification/same as/Matteo Ricci/deh-matteo-ricci/2020-10-02|\n",
       "| _ | rel$institucional/recomendou para a missão da Índia/Matteo Ricci/bio-padre-martino-da-silva/2020-10-02|\n",
       "| _ | rel$institucional/autorizou missão na Índia/Matteo Ricci/bio-everardo-mercuriano/2020-10-02|\n",
       "| _ | rel$function-in-act/n/lista/bio-notes-list-1/2020-10-02/obs=line: 7|\n",
       "| _ | rel$identification/same as/Matteo Ricci/deh-matteo-ricci/2020-10-02|\n",
       "| 2024-09-20| rel$parentesco/pai/Matteo Ricci/deh-matteo-ricci-pai/2024-09-20|\n",
       "| _ | rel$parentesco/mae/Matteo Ricci/deh-matteo-ricci-mae/2024-09-20|\n",
       "| _ | rel$identification/same as/Matteo Ricci/deh-matteo-ricci/2024-09-20|\n",
       "| _ | rel$identification/same as/Matteo Ricci/deh-matteo-ricci/2024-09-20|\n",
       "| _ | rel$function-in-act/referido/lista/sameas-dehergne/2024-09-20/obs=line: 29|\n",
       "| _ | rel$identification/same as/Matteo Ricci/deh-matteo-ricci/2024-09-20|\n",
       "| _ | rel$function-in-act/n/lista/sameas-dehergne/2024-09-20/obs=line: 14|\n",
       "| _ | rel$function-in-act/referido/lista/sameas-dehergne/2024-09-20/obs=line: 39|\n",
       "| _ | rel$identification/same as/Matteo Ricci/deh-matteo-ricci/2024-09-20|\n",
       "| _ | ls$nacionalidade/Itália/2024-09-20|\n",
       "| _ | ls$jesuita-tarefa/Toma o hábito de letrado/2024-09-20|\n",
       "| _ | ls$tarefa/Romaniza os cinco tons do chinês/2024-09-20|\n",
       "\n",
       "### Identified as\n",
       "\n",
       "| RID | User | Rule | Source | Status |\n",
       "|-----|------|------|--------|--------|\n",
       "| rp205633 | user | same_as('xsameas-tests.cli', 'reimported') | xsameas-tests | SOURCE |\n",
       "| rp205633 | user | same_as('sameas-tests.cli') | sameas-tests | SOURCE |\n",
       "| rp205633 | user | same_as('sameas-tests.cli') | sameas-tests | SOURCE |\n",
       "| rp205633 | user | same_as('sameas-tests.cli') | sameas-tests | SOURCE |\n",
       "| rp205633 | user | same_as('xsameas-tests.cli') | xsameas-tests | SOURCE |\n",
       "| rp205633 | user | same_as('xsameas-tests.cli') | xsameas-tests | SOURCE |\n",
       "| rp205633 | user | same_as('xsameas-tests.cli') | xsameas-tests | SOURCE |\n",
       "#### Identifications\n",
       "\n",
       "|  Origin | Name | Type | Source |\n",
       "|-- | -- | -- | -- |\n",
       "| deh-joao-barradas-ref1| Matteo Ricci |same as| sameas-tests |\n",
       "| deh-lazzaro-cattaneo-ref1| Matteo Ricci |same as| sameas-tests |\n",
       "| bio-matteo-ricci| Matteo Ricci |same as| xsameas-tests |\n",
       "| ivc-antonio-de-almeida-his5-10-per1-10| Matteo Ricci |same as| ivcc |\n",
       "| bio-michele-ruggieri-his4-19-per1-21| Matteo Ricci |same as| xsameas-tests |\n",
       "| bio-michele-ruggieri-his4-20-per1-21| Matteo Ricci |same as| xsameas-tests |\n",
       "\n",
       "\n",
       "#### Incoming relations\n",
       "\n",
       "|  Origin | Name | Type | Value | Date |\n",
       "|-- | -- | -- | -- | -- |\n",
       "| deh-joao-barradas| João Barradas |sociabilidade |Companheiro| 1594 |\n",
       "| deh-matteo-ricci-pai| Giovanni Battista Ricci |parentesco |pai| 2024-09-20 |\n",
       "| deh-matteo-ricci-mae| Giovanna Angiolelli |parentesco |mae| 2024-09-20 |\n",
       "| deh-lazzaro-cattaneo| Lazzaro Cattaneo |sociabilidade |Companheiro| 1594 |\n",
       "| bio-rodolfo-aquaviva| Rodolfo Aquaviva |sociabilidade |esteve com| 1558 |\n",
       "| bio-nicola-spinola| Nicola Spinola |sociabilidade |esteve com| 1558 |\n",
       "| bio-matteo-ricci-per1-35| Michele Ruggieri |sociabilidade |esteve com| 1558 |\n",
       "| bio-francesco-pasio| Francesco Pasio |sociabilidade |esteve com| 1558 |\n",
       "| bio-padre-martino-da-silva| Martino da Silva |institucional |recomendou para a missão da Índia| 2020-10-02 |\n",
       "| bio-everardo-mercuriano| Everardo Mercuriano |institucional |autorizou missão na Índia| 2020-10-02 |\n",
       "\n",
       "\n",
       "\n",
       "\n",
       "### Contains\n",
       "\n",
       "\n",
       "\n",
       "- **ID:** deh-matteo-ricci-pai\n",
       "  **Class:** person\n",
       "  **Group Name:** pai\n",
       "  **Order:** 9\n",
       "  **Level:** 4\n",
       "  **Line:** 19\n",
       "  \n",
       "\n",
       "- **ID:** deh-matteo-ricci-mae\n",
       "  **Class:** person\n",
       "  **Group Name:** mae\n",
       "  **Order:** 12\n",
       "  **Level:** 4\n",
       "  **Line:** 23\n",
       "  \n",
       "\n",
       "- **ID:** bio-rodolfo-aquaviva\n",
       "  **Class:** person\n",
       "  **Group Name:** referido\n",
       "  **Order:** 9\n",
       "  **Level:** 4\n",
       "  **Line:** 12\n",
       "  \n",
       "\n",
       "- **ID:** bio-nicola-spinola\n",
       "  **Class:** person\n",
       "  **Group Name:** referido\n",
       "  **Order:** 14\n",
       "  **Level:** 4\n",
       "  **Line:** 17\n",
       "  \n",
       "\n",
       "- **ID:** bio-matteo-ricci-per1-35\n",
       "  **Class:** person\n",
       "  **Group Name:** referido\n",
       "  **Order:** 18\n",
       "  **Level:** 4\n",
       "  **Line:** 21\n",
       "  \n",
       "\n",
       "- **ID:** bio-francesco-pasio\n",
       "  **Class:** person\n",
       "  **Group Name:** referido\n",
       "  **Order:** 22\n",
       "  **Level:** 4\n",
       "  **Line:** 24\n",
       "  \n",
       "\n",
       "- **ID:** bio-padre-martino-da-silva\n",
       "  **Class:** person\n",
       "  **Group Name:** referido\n",
       "  **Order:** 25\n",
       "  **Level:** 4\n",
       "  **Line:** 27\n",
       "  \n",
       "\n",
       "- **ID:** bio-everardo-mercuriano\n",
       "  **Class:** person\n",
       "  **Group Name:** referido\n",
       "  **Order:** 32\n",
       "  **Level:** 4\n",
       "  **Line:** 34\n",
       "  \n",
       "\n",
       "\n",
       "### Entity details\n",
       "\n",
       "| Element | Value |\n",
       "|----|---|\n",
       "| **ID:**    | rp205633 |\n",
       "| **Description:** | Matteo Ricci |\n",
       "| **Group Name:** | None |\n",
       "| **Class:** | rentity |\n",
       "| **Source:** | None |\n",
       "| **Inside:**| None |\n",
       "| **Order:** | None |\n",
       "| **Level:** | None |\n",
       "| **Line:**  | None |\n",
       "| **Updated:** | 2025-01-07 13:23 |\n",
       "| **Indexed:** | N/A |\n",
       "| **description** | Matteo Ricci|\n",
       "| **status** | SOURCE|\n",
       "| **the_class** | _|\n",
       "| **user** | user|\n",
       "\n",
       "\n",
       "---"
      ],
      "text/plain": [
       "<IPython.core.display.Markdown object>"
      ]
     },
     "metadata": {},
     "output_type": "display_data"
    }
   ],
   "source": [
    "from jinja2 import Environment, PackageLoader, TemplateNotFound\n",
    "from IPython.display import Markdown, display\n",
    "\n",
    "from timelink.api.models import Entity\n",
    "\n",
    "\n",
    "# eid = 'deh-matteo-ricci'\n",
    "# eid = 'crono-avulsos-his1-47'\n",
    "eid = 'rp205633'\n",
    "\n",
    "\n",
    "env = Environment(loader=PackageLoader(\"timelink\", \"app/templates\"))\n",
    "template_path = \"markdown/base/\"\n",
    "output_file = f\"../inferences/markdown/{eid}.md\"\n",
    "\n",
    "with tlnb.db.session() as session:\n",
    "    entity = session.get(Entity, eid)\n",
    "    template_name = entity.pom_class.lower() + \"_markdown.j2\"\n",
    "    # print(entity.to_kleio())\n",
    "    try:\n",
    "        template = env.get_template(template_path + template_name)\n",
    "    except TemplateNotFound:\n",
    "        print(f\"Template {template_name} not found. Using default template.\")\n",
    "        template = env.get_template(template_path + \"entity_default_markdown.j2\")\n",
    "    markdown_content = template.render(model=entity,\n",
    "                                       util=timelink.kleio.utilities)\n",
    "display(Markdown(str(markdown_content)))\n",
    "with open(output_file, 'w') as f:\n",
    "    f.write(markdown_content)\n",
    "\n"
   ]
  }
 ],
 "metadata": {
  "kernelspec": {
   "display_name": ".venv",
   "language": "python",
   "name": "python3"
  },
  "language_info": {
   "codemirror_mode": {
    "name": "ipython",
    "version": 3
   },
   "file_extension": ".py",
   "mimetype": "text/x-python",
   "name": "python",
   "nbconvert_exporter": "python",
   "pygments_lexer": "ipython3",
   "version": "3.10.14"
  }
 },
 "nbformat": 4,
 "nbformat_minor": 5
}
