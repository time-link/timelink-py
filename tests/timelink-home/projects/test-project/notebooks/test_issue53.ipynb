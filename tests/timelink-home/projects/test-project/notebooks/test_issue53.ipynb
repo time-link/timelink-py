{
 "cells": [
  {
   "cell_type": "markdown",
   "metadata": {},
   "source": [
    "# Issue53\n",
    "\n",
    "* Timelink Python package version: 1.1.13\n",
    "* Python version: 3.10, 3.11\n",
    "* Operating System: MacOs\n",
    "\n",
    "### Description\n",
    "\n",
    "it is not always possible to get the ORM corresponding to a group because a group\n",
    "can extend another one and not have its own mapping. However internally Timelink\n",
    "knows the model to use, but the end user need to inspect the structure file to figure out.\n",
    "\n",
    "In str\n",
    "```\n",
    "pars name=lugar; source=geoentity\n",
    "```\n",
    "\n",
    "in python\n",
    "```python\n",
    "db.get_model(\"lugar\") # returns none\n",
    "```\n",
    "\n",
    "Or make get_model smarter."
   ]
  },
  {
   "cell_type": "code",
   "execution_count": 1,
   "metadata": {},
   "outputs": [
    {
     "name": "stdout",
     "output_type": "stream",
     "text": [
      "Timelink version: 1.1.13\n",
      "Project name: test-project\n",
      "Project home: /Users/jrc/develop/timelink-py/tests/timelink-home/projects/test-project\n",
      "Database type: sqlite\n",
      "Database name: issue53\n",
      "Kleio image: kleio-server\n",
      "Kleio server token: t3pXK...\n",
      "Kleio server URL: http://127.0.0.1:8088\n",
      "Kleio server home: /Users/jrc/develop/timelink-py/tests/timelink-home/projects/test-project\n",
      "Kleio server container: youthful_mahavira\n",
      "Kleio version requested: 12.6.575\n",
      "Kleio server version: 12.6.575 (2024-09-06 14:08:58)\n",
      "SQLite directory: /Users/jrc/develop/timelink-py/tests/timelink-home/projects/test-project/database/sqlite\n",
      "Call print_info(show_token=True) to show the Kleio Server token\n",
      "Call print_info(show_password=True) to show the Postgres password\n",
      "TimelinkNotebook(project_name=test-project, project_home=/Users/jrc/develop/timelink-py/tests/timelink-home/projects/test-project, db_type=sqlite, db_name=issue53, kleio_image=kleio-server, kleio_version=12.6.575, postgres_image=postgres, postgres_version=latest)\n"
     ]
    }
   ],
   "source": [
    "# NBVAL_IGNORE_OUTPUT\n",
    "from timelink.notebooks import TimelinkNotebook\n",
    "tlnb = TimelinkNotebook(\n",
    "    kleio_image='kleio-server',\n",
    "    kleio_version='12.6.575',\n",
    "    db_name='issue53',\n",
    "    db_type='sqlite',)\n",
    "\n",
    "tlnb.print_info()"
   ]
  },
  {
   "cell_type": "markdown",
   "metadata": {},
   "source": [
    "## import a file with groups with no direct mapping"
   ]
  },
  {
   "cell_type": "code",
   "execution_count": 4,
   "metadata": {},
   "outputs": [],
   "source": [
    "# NBVAL_IGNORE_OUTPUT\n",
    "\n",
    "import logging\n",
    "logging.basicConfig(level=logging.INFO)\n",
    "\n",
    "path = \"sources/reference_sources/cronologias\"\n",
    "tlnb.update_from_sources(path=path)\n",
    "# get the import status\n",
    "import_status = tlnb.get_import_status(path=path)\n",
    "# list those with import_error > 0 or error > 0\n",
    "errors = import_status.query(\"import_errors > 0 or errors > 0\")\n",
    "if len(errors) > 0:\n",
    "    print(errors)"
   ]
  },
  {
   "cell_type": "code",
   "execution_count": 3,
   "metadata": {},
   "outputs": [],
   "source": [
    "# NBVAL_IGNORE_OUTPUT\n",
    "\n",
    "import logging\n",
    "logging.basicConfig(level=logging.INFO)\n",
    "\n",
    "path = \"sources/reference_sources/devassas\"\n",
    "tlnb.update_from_sources(path=path)\n",
    "# get the import status\n",
    "import_status = tlnb.get_import_status(path=path)\n",
    "# list those with import_error > 0 or error > 0\n",
    "errors = import_status.query(\"import_errors > 0 or errors > 0\")\n",
    "if len(errors) > 0:\n",
    "    print(errors)"
   ]
  },
  {
   "cell_type": "code",
   "execution_count": 32,
   "metadata": {},
   "outputs": [
    {
     "name": "stdout",
     "output_type": "stream",
     "text": [
      "devassa                  - <class 'timelink.api.models.act.Act'>\n",
      "acusa                    - <class 'timelink.api.models.pom_som_mapper.Acusacoes'>\n",
      "ls                       - <class 'timelink.api.models.attribute.Attribute'>\n",
      "caso                     - <class 'timelink.api.models.pom_som_mapper.Caso'>\n",
      "class                    - <class 'timelink.api.models.pom_som_mapper.PomSomMapper'>\n",
      "crono                    - <class 'timelink.api.models.pom_som_mapper.Evento'>\n",
      "lugar                    - <class 'timelink.api.models.geoentity.Geoentity'>\n",
      "testo                    - <class 'timelink.api.models.person.Person'>\n",
      "pai                      - <class 'timelink.api.models.person.Person'>\n",
      "acusado                  - <class 'timelink.api.models.person.Person'>\n",
      "acusada                  - <class 'timelink.api.models.person.Person'>\n",
      "referida                 - <class 'timelink.api.models.person.Person'>\n",
      "referido                 - <class 'timelink.api.models.person.Person'>\n",
      "testa                    - <class 'timelink.api.models.person.Person'>\n",
      "relation                 - <class 'timelink.api.models.relation.Relation'>\n",
      "rel                      - <class 'timelink.api.models.relation.Relation'>\n",
      "fonte                    - <class 'timelink.api.models.source.Source'>\n"
     ]
    }
   ],
   "source": [
    "from timelink.api.models import Entity\n",
    "\n",
    "for group, model in Entity.group_models.items():\n",
    "    print(f\"{group:24} - {model}\")"
   ]
  },
  {
   "cell_type": "code",
   "execution_count": 29,
   "metadata": {},
   "outputs": [
    {
     "name": "stdout",
     "output_type": "stream",
     "text": [
      "Macau            15551120 Chegada primeiros jesuítas a Macau\n",
      "                                 referido Belchior Nunes Barreto\n",
      "                                 referido Gaspar Vilela\n",
      "                                 referido António Dias\n",
      "                                 referido Fernão Mendes Pinto\n",
      "                                 referido Belchior Dias\n",
      "                                 referido Estevão de Góis\n",
      "Macau            15620000 Embaixada para Pequim em Macau\n",
      "                                 referido Diogo Pereira\n",
      "                                 referido Guilherme Pereira\n",
      "                                 referido Luís Fróis\n",
      "                                 referido Giovanni Battista de Monte\n",
      "                                 referido Pedro Quintero\n",
      "Pequim           15620000 Embaixada para Pequim em Macau\n",
      "                                 referido Diogo Pereira\n",
      "                                 referido Guilherme Pereira\n",
      "                                 referido Luís Fróis\n",
      "                                 referido Giovanni Battista de Monte\n",
      "                                 referido Pedro Quintero\n",
      "\n",
      "SELECT eventos_1.id, acts_1.id AS id_1, entities_1.id AS id_2, entities_1.class, entities_1.inside, entities_1.the_order, entities_1.the_level, entities_1.the_line, entities_1.groupname, entities_1.updated, entities_1.indexed, acts_1.the_type, eventos_1.the_date, acts_1.the_date AS the_date_1, acts_1.loc, acts_1.ref, eventos_1.obs, acts_1.obs AS obs_1, eventos_1.description, geoentities_1.id AS id_3, entities_2.id AS id_4, entities_2.class AS class_1, entities_2.inside AS inside_1, entities_2.the_order AS the_order_1, entities_2.the_level AS the_level_1, entities_2.the_line AS the_line_1, entities_2.groupname AS groupname_1, entities_2.updated AS updated_1, entities_2.indexed AS indexed_1, geoentities_1.name, geoentities_1.the_type AS the_type_1, geoentities_1.obs AS obs_2 \n",
      "FROM entities AS entities_1 JOIN acts AS acts_1 ON entities_1.id = acts_1.id JOIN eventos AS eventos_1 ON acts_1.id = eventos_1.id JOIN (entities AS entities_2 JOIN geoentities AS geoentities_1 ON entities_2.id = geoentities_1.id) ON eventos_1.id = entities_2.inside ORDER BY geoentities_1.name, eventos_1.the_date\n"
     ]
    }
   ],
   "source": [
    "\n",
    "from sqlalchemy import select\n",
    "\n",
    "eventos, lugares, pessoas = tlnb.db.get_model([\"crono\", \"lugar\", \"person\"])\n",
    "\n",
    "stmt = (select(eventos, lugares)\n",
    "        .join(lugares,\n",
    "              eventos.id == lugares.inside)\n",
    "        .order_by(lugares.name, eventos.the_date))\n",
    "\n",
    "with tlnb.db.session() as session:\n",
    "    results = session.execute(stmt).all()\n",
    "    for evento, lugar in results:\n",
    "        print(f\"{lugar.name:16} {evento.the_date} {evento.description}\")\n",
    "        in_query = select(pessoas).where(pessoas.inside == evento.id)\n",
    "        people_in_event = session.execute(in_query).scalars().all()\n",
    "        for person in people_in_event:\n",
    "            print(f\"{' ' * 32} {person.groupname} {person.name}\")\n",
    "\n",
    "print()\n",
    "print(stmt)\n"
   ]
  },
  {
   "cell_type": "markdown",
   "metadata": {},
   "source": [
    "## Devassas\n",
    "\n"
   ]
  },
  {
   "cell_type": "code",
   "execution_count": 15,
   "metadata": {},
   "outputs": [
    {
     "name": "stdout",
     "output_type": "stream",
     "text": [
      "['id', 'pom_class', 'inside', 'the_order', 'the_level', 'the_line', 'groupname', 'updated', 'indexed', 'name', 'the_type', 'obs', 'id', 'obs', 'the_type']\n",
      "['id', 'pom_class', 'inside', 'the_order', 'the_level', 'the_line', 'groupname', 'updated', 'indexed', 'name', 'the_type', 'obs', 'id', 'idcaso', 'literal', 'obs', 'origem']\n",
      "['id', 'pom_class', 'inside', 'the_order', 'the_level', 'the_line', 'groupname', 'updated', 'indexed', 'id', 'name', 'sex', 'obs']\n"
     ]
    }
   ],
   "source": [
    "\n",
    "from sqlalchemy import select\n",
    "from sqlalchemy import inspect\n",
    "\n",
    "casos = tlnb.db.get_model(\"caso\")\n",
    "acusacoes = tlnb.db.get_model(\"acusa\")\n",
    "\n",
    "acusados = tlnb.db.get_model(\"acusado\")  # acusado does not works\n",
    "\n",
    "insp = inspect(casos)\n",
    "print(insp.columns.keys())\n",
    "\n",
    "insp = inspect(acusacoes)\n",
    "print(insp.columns.keys())\n",
    "\n",
    "insp = inspect(acusados)\n",
    "print(insp.columns.keys())"
   ]
  },
  {
   "cell_type": "code",
   "execution_count": 16,
   "metadata": {},
   "outputs": [
    {
     "name": "stdout",
     "output_type": "stream",
     "text": [
      "\n",
      "c1692-antonio-cordeiro-alcouc dava mulheres em casa. Margem: tirada de ambos 1.1.1691 extra_info: {\"obs\": {\"original\": \"1o. 8.bro 691\"}}\n",
      "  antonio cordeiro\n",
      "  francisca nunes\n",
      "\n",
      "c1692-manuel-ferreira-juras pela hostia sagrada\n",
      "  manuel ferreira\n",
      "\n",
      "c1692-manuel-pinto-domingas-roxa portas adentro, ha 8 anos, tres filhos. Ja culpados anteriormente.\n",
      "  manuel pinto\n",
      "  domingas roxa\n",
      "\n",
      "c1692-mateus-dias-curas benzedor de gado e de pessoas com grandes cerimonias no cimo de um monte, ha quatro anos atras. margem: tiradas\n",
      "  mateus dias\n",
      "\n",
      "c1692-catarina-gaspar-curas benze e cura de quebranto\n",
      "  catarina gaspar\n",
      "\n",
      "c1692-manuel-aires-domingas-luis ela seria prima da mulher dele\n",
      "  manuel aires\n",
      "  domingas luis\n",
      "\n",
      "c1692-antonio-gomes-maria quarto grau margem: tirada dela em 25.1.692 dele 14.5.1693\n",
      "  antonio gomes\n",
      "  maria\n",
      "\n",
      "c1692-jose-cunha-isabel-rodrigues ha mais de 6 anos,2 filhos\n",
      "  jose da cunha\n",
      "  isabel\n",
      "\n",
      "c1692-antonio-catarina-fernandes tiveram filho(a). 2.o a t.a 23 manuel goncalves, ele foi prezo por ordem do pai dela.\n",
      "  antonio\n",
      "  catarina fernandes\n",
      "\n",
      "c1692-manuel-mendes-maria-mendes desde 7 anos 'a mg. tirada a ela 28-5-1693\n",
      "  manuel mendes da fonseca\n",
      "  maria mendes\n",
      "\n",
      "c1692-manuel-rodrigues-maria-joao 4 grau.\n",
      "  manuel rodrigues\n",
      "  isabel joao\n",
      "\n",
      "c1692-domingo-antunes-nfvida \n",
      "  domingos antunes\n",
      "  mariana rodrigues\n",
      "\n",
      "c1692-maria-esteva \n",
      "  maria esteva\n",
      "\n",
      "c1692-maria-silva \n",
      "  maria silva\n",
      "\n",
      "c1692-antonio-simoes-raposo-maria \n",
      "  antonio simoes raposo\n",
      "  maria\n",
      "\n",
      "c1692-joao-rodrigues-isabel-joao-cons da filha\n",
      "  joao rodrigues\n",
      "  isabel joao\n",
      "\n",
      "c1692-teresa-antonio-simoes 4 grau de consaguinidade\n",
      "  teresa\n",
      "  joao\n",
      "\n",
      "c1692-antonio-simoes-maria-domingues da filha\n",
      "  antonio simoes\n",
      "  maria domingues\n",
      "\n",
      "c1692-pai-de-joao-consentidor nome desconhecido,2098a, descricao =do filho\n",
      "  nome desconhecido\n",
      "\n",
      "c1692-manuel-catarina manuel e catarina, 2102 e 2103, parentes em 4 grau\n",
      "  manuel\n",
      "  catarina\n",
      "\n",
      "c1692-ana-simoes-feiticeira ana simoes,2114a\n",
      "  ana simoes\n",
      "\n",
      "d1692-c13b maria esteva,2093,de uma maria silva ou simoes a ruiva\n",
      "  maria esteva\n",
      "\n",
      "d1692-c13c maria esteva,2093,de uma maria silva ou simoes a ruiva\n",
      "  maria esteva\n",
      "\n",
      "c1692-baptista-moura-domingas-carvalho baptista de moura e isabel, 2140 e 2141 2.o grau de afinidade\n",
      "  baptista de moura\n",
      "  isabel\n",
      "\n",
      "c1692-manuel-oliveira-pascoa manuel de oliveira e pascoa, 2149 e 2150\n",
      "  manuel de oliveira\n",
      "  pascoa\n",
      "\n",
      "d1692-c23 pascoa, 2150\n",
      "  pascoa\n"
     ]
    }
   ],
   "source": [
    "casos, acusados = tlnb.db.get_model([\"caso\", \"acusado\"])\n",
    "\n",
    "stmt = (select(casos, acusados)\n",
    "        .join(acusados, acusados.inside == casos.id).order_by(casos.the_line))\n",
    "\n",
    "with tlnb.db.session() as session:\n",
    "    results = session.execute(stmt).all()\n",
    "    caso_id = None\n",
    "    for caso,acusados in results:\n",
    "        if caso_id != caso.id:\n",
    "            caso_id = caso.id\n",
    "            print()\n",
    "            print(caso.id, caso.obs)\n",
    "        print(\" \",acusados.name)"
   ]
  },
  {
   "cell_type": "code",
   "execution_count": null,
   "metadata": {},
   "outputs": [],
   "source": [
    "\n",
    "\n",
    "stmt = (select(casos, acusacoes)\n",
    "        .join(casos,\n",
    "              acusacoes.idcaso == casos.id)\n",
    "        .order_by(casos.the_line, acusacoes.the_line))\n",
    "\n",
    "with tlnb.db.session() as session:\n",
    "    results = session.execute(stmt).all()\n",
    "    for caso, acusacao in results:\n",
    "        print(caso.the_type,caso.obs)\n",
    "        print(acusacao)\n",
    "        # print(f\"{lugar.name:16} {evento.the_date} {evento.description}\")\n",
    "\n",
    "print()\n",
    "print(stmt)"
   ]
  }
 ],
 "metadata": {
  "kernelspec": {
   "display_name": ".venv",
   "language": "python",
   "name": "python3"
  },
  "language_info": {
   "codemirror_mode": {
    "name": "ipython",
    "version": 3
   },
   "file_extension": ".py",
   "mimetype": "text/x-python",
   "name": "python",
   "nbconvert_exporter": "python",
   "pygments_lexer": "ipython3",
   "version": "3.11.1"
  }
 },
 "nbformat": 4,
 "nbformat_minor": 2
}
