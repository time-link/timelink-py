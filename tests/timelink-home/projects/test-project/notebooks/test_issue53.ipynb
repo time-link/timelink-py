{
 "cells": [
  {
   "cell_type": "markdown",
   "metadata": {},
   "source": [
    "# Add TimelinkDatabase.get_group_model(group name). #53\n",
    "\n",
    "\n",
    "https://github.com/time-link/timelink-py/issues/53\n",
    "\n",
    "* Timelink Python package version: 1.1.13\n",
    "* Python version: 3.10, 3.11\n",
    "* Operating System: MacOs\n",
    "\n",
    "### Description\n",
    "\n",
    "it is not always possible to get the ORM corresponding to a group because a group\n",
    "can extend another one and not have its own mapping. However internally Timelink\n",
    "knows the model to use, but the end user need to inspect the structure file to figure out.\n",
    "\n",
    "In str\n",
    "```\n",
    "pars name=lugar; source=geoentity\n",
    "```\n",
    "\n",
    "in python\n",
    "```python\n",
    "db.get_model(\"lugar\") # returns none\n",
    "```\n",
    "\n",
    "Or make get_model smarter."
   ]
  },
  {
   "cell_type": "code",
   "execution_count": 1,
   "metadata": {},
   "outputs": [
    {
     "name": "stderr",
     "output_type": "stream",
     "text": [
      "INFO  [alembic.runtime.migration] Context impl SQLiteImpl.\n",
      "INFO  [alembic.runtime.migration] Will assume non-transactional DDL.\n",
      "INFO  [alembic.runtime.migration] Context impl SQLiteImpl.\n",
      "INFO  [alembic.runtime.migration] Will assume non-transactional DDL.\n"
     ]
    },
    {
     "name": "stdout",
     "output_type": "stream",
     "text": [
      "Timelink version: 1.1.15\n",
      "Project name: test-project\n",
      "Project home: /Users/jrc/develop/timelink-py/tests/timelink-home/projects/test-project\n",
      "Database type: sqlite\n",
      "Database name: issue53\n",
      "Kleio image: timelinkserver/kleio-server\n",
      "Kleio server token: DJgg0...\n",
      "Kleio server URL: http://127.0.0.1:8090\n",
      "Kleio server home: /Users/jrc/develop/timelink-py/tests/timelink-home/projects/test-project\n",
      "Kleio server container: relaxed_matsumoto\n",
      "Kleio version requested: latest\n",
      "Kleio server version: 12.6.577 (2024-10-24 16:53:53)\n",
      "SQLite directory: /Users/jrc/develop/timelink-py/tests/timelink-home/projects/test-project/database/sqlite\n",
      "Call print_info(show_token=True) to show the Kleio Server token\n",
      "Call print_info(show_password=True) to show the Postgres password\n",
      "TimelinkNotebook(project_name=test-project, project_home=/Users/jrc/develop/timelink-py/tests/timelink-home/projects/test-project, db_type=sqlite, db_name=issue53, kleio_image=timelinkserver/kleio-server, kleio_version=latest, postgres_image=postgres, postgres_version=latest)\n"
     ]
    }
   ],
   "source": [
    "# NBVAL_IGNORE_OUTPUT\n",
    "from timelink.notebooks import TimelinkNotebook\n",
    "tlnb = TimelinkNotebook(\n",
    "    db_name='issue53',\n",
    "    db_type='sqlite',)\n",
    "\n",
    "tlnb.print_info()"
   ]
  },
  {
   "cell_type": "markdown",
   "metadata": {},
   "source": [
    "## import a file with groups with no direct mapping"
   ]
  },
  {
   "cell_type": "code",
   "execution_count": 2,
   "metadata": {},
   "outputs": [],
   "source": [
    "# NBVAL_IGNORE_OUTPUT\n",
    "\n",
    "import logging\n",
    "logging.basicConfig(level=logging.INFO)\n",
    "\n",
    "path = \"sources/reference_sources/cronologias\"\n",
    "tlnb.update_from_sources(path=path)\n",
    "# get the import status\n",
    "import_status = tlnb.get_import_status(path=path)\n",
    "# list those with import_error > 0 or error > 0\n",
    "errors = import_status.query(\"import_errors > 0 or errors > 0\")\n",
    "if len(errors) > 0:\n",
    "    print(errors)"
   ]
  },
  {
   "cell_type": "code",
   "execution_count": 3,
   "metadata": {},
   "outputs": [],
   "source": [
    "# NBVAL_IGNORE_OUTPUT\n",
    "\n",
    "import logging\n",
    "logging.basicConfig(level=logging.INFO)\n",
    "\n",
    "path = \"sources/reference_sources/devassas\"\n",
    "tlnb.update_from_sources(path=path)\n",
    "# get the import status\n",
    "import_status = tlnb.get_import_status(path=path)\n",
    "# list those with import_error > 0 or error > 0\n",
    "errors = import_status.query(\"import_errors > 0 or errors > 0\")\n",
    "if len(errors) > 0:\n",
    "    print(errors)"
   ]
  },
  {
   "cell_type": "code",
   "execution_count": 4,
   "metadata": {},
   "outputs": [
    {
     "name": "stdout",
     "output_type": "stream",
     "text": [
      "acusa                    - <class 'timelink.api.models.pom_som_mapper.Acusacoes'>\n",
      "acusada                  - <class 'timelink.api.models.person.Person'>\n",
      "acusado                  - <class 'timelink.api.models.person.Person'>\n",
      "caso                     - <class 'timelink.api.models.pom_som_mapper.Caso'>\n",
      "class                    - <class 'timelink.api.models.rentity.REntity'>\n",
      "crono                    - <class 'timelink.api.models.pom_som_mapper.Evento'>\n",
      "devassa                  - <class 'timelink.api.models.act.Act'>\n",
      "fonte                    - <class 'timelink.api.models.source.Source'>\n",
      "ls                       - <class 'timelink.api.models.attribute.Attribute'>\n",
      "lugar                    - <class 'timelink.api.models.geoentity.Geoentity'>\n",
      "pai                      - <class 'timelink.api.models.person.Person'>\n",
      "referida                 - <class 'timelink.api.models.person.Person'>\n",
      "referido                 - <class 'timelink.api.models.person.Person'>\n",
      "rel                      - <class 'timelink.api.models.relation.Relation'>\n",
      "relation                 - <class 'timelink.api.models.relation.Relation'>\n",
      "testa                    - <class 'timelink.api.models.person.Person'>\n",
      "testo                    - <class 'timelink.api.models.person.Person'>\n"
     ]
    }
   ],
   "source": [
    "from timelink.api.models import Entity\n",
    "\n",
    "for group, model in sorted(Entity.group_models.items()):\n",
    "    print(f\"{group:24} - {model}\")"
   ]
  },
  {
   "cell_type": "code",
   "execution_count": 5,
   "metadata": {},
   "outputs": [
    {
     "name": "stdout",
     "output_type": "stream",
     "text": [
      "Macau            15551120 Chegada primeiros jesuítas a Macau\n",
      "                                 referido António Dias\n",
      "                                 referido Belchior Dias\n",
      "                                 referido Belchior Nunes Barreto\n",
      "                                 referido Estevão de Góis\n",
      "                                 referido Fernão Mendes Pinto\n",
      "                                 referido Gaspar Vilela\n",
      "Macau            15620000 Embaixada para Pequim em Macau\n",
      "                                 referido Diogo Pereira\n",
      "                                 referido Giovanni Battista de Monte\n",
      "                                 referido Guilherme Pereira\n",
      "                                 referido Luís Fróis\n",
      "                                 referido Pedro Quintero\n",
      "Pequim           15620000 Embaixada para Pequim em Macau\n",
      "                                 referido Diogo Pereira\n",
      "                                 referido Giovanni Battista de Monte\n",
      "                                 referido Guilherme Pereira\n",
      "                                 referido Luís Fróis\n",
      "                                 referido Pedro Quintero\n",
      "\n",
      "SELECT eventos_1.id, acts_1.id AS id_1, entities_1.id AS id_2, entities_1.class, entities_1.inside, entities_1.the_source, entities_1.the_order, entities_1.the_level, entities_1.the_line, entities_1.groupname, entities_1.extra_info, entities_1.updated, entities_1.indexed, acts_1.the_type, eventos_1.the_date, acts_1.the_date AS the_date_1, acts_1.loc, acts_1.ref, eventos_1.obs, acts_1.obs AS obs_1, eventos_1.description, geoentities_1.id AS id_3, entities_2.id AS id_4, entities_2.class AS class_1, entities_2.inside AS inside_1, entities_2.the_source AS the_source_1, entities_2.the_order AS the_order_1, entities_2.the_level AS the_level_1, entities_2.the_line AS the_line_1, entities_2.groupname AS groupname_1, entities_2.extra_info AS extra_info_1, entities_2.updated AS updated_1, entities_2.indexed AS indexed_1, geoentities_1.name, geoentities_1.the_type AS the_type_1, geoentities_1.obs AS obs_2 \n",
      "FROM entities AS entities_1 JOIN acts AS acts_1 ON entities_1.id = acts_1.id JOIN eventos AS eventos_1 ON acts_1.id = eventos_1.id JOIN (entities AS entities_2 JOIN geoentities AS geoentities_1 ON entities_2.id = geoentities_1.id) ON eventos_1.id = entities_2.inside ORDER BY geoentities_1.name, eventos_1.the_date\n"
     ]
    }
   ],
   "source": [
    "\n",
    "from sqlalchemy import select\n",
    "\n",
    "eventos, lugares, pessoas = tlnb.db.get_model([\"crono\", \"lugar\", \"person\"])\n",
    "\n",
    "stmt = (select(eventos, lugares)\n",
    "        .join(lugares,\n",
    "              eventos.id == lugares.inside)\n",
    "        .order_by(lugares.name, eventos.the_date))\n",
    "\n",
    "with tlnb.db.session() as session:\n",
    "    results = session.execute(stmt).all()\n",
    "    for evento, lugar in results:\n",
    "        print(f\"{lugar.name:16} {evento.the_date} {evento.description}\")\n",
    "        in_query = select(pessoas).where(pessoas.inside == evento.id)\n",
    "        people_in_event = session.execute(in_query).scalars().all()\n",
    "        for person in sorted(people_in_event, key=str):  # sort on str rep\n",
    "            print(f\"{' ' * 32} {person.groupname} {person.name}\")\n",
    "\n",
    "print()\n",
    "print(stmt)\n"
   ]
  },
  {
   "cell_type": "markdown",
   "metadata": {},
   "source": [
    "## Devassas\n",
    "\n"
   ]
  },
  {
   "cell_type": "code",
   "execution_count": 6,
   "metadata": {},
   "outputs": [
    {
     "name": "stdout",
     "output_type": "stream",
     "text": [
      "['id', 'pom_class', 'inside', 'the_source', 'the_order', 'the_level', 'the_line', 'groupname', 'extra_info', 'updated', 'indexed', 'name', 'the_type', 'obs', 'id', 'obs', 'the_type']\n",
      "['id', 'pom_class', 'inside', 'the_source', 'the_order', 'the_level', 'the_line', 'groupname', 'extra_info', 'updated', 'indexed', 'name', 'the_type', 'obs', 'id', 'idcaso', 'literal', 'obs', 'origem']\n",
      "['id', 'pom_class', 'inside', 'the_source', 'the_order', 'the_level', 'the_line', 'groupname', 'extra_info', 'updated', 'indexed', 'id', 'name', 'sex', 'obs']\n"
     ]
    }
   ],
   "source": [
    "\n",
    "from sqlalchemy import select\n",
    "from sqlalchemy import inspect\n",
    "\n",
    "casos = tlnb.db.get_model(\"caso\")\n",
    "acusacoes = tlnb.db.get_model(\"acusa\")\n",
    "\n",
    "acusados = tlnb.db.get_model(\"acusado\")  # acusado does not work\n",
    "\n",
    "insp = inspect(casos)\n",
    "print(insp.columns.keys())\n",
    "\n",
    "insp = inspect(acusacoes)\n",
    "print(insp.columns.keys())\n",
    "\n",
    "insp = inspect(acusados)\n",
    "print(insp.columns.keys())"
   ]
  },
  {
   "cell_type": "code",
   "execution_count": 7,
   "metadata": {},
   "outputs": [
    {
     "name": "stdout",
     "output_type": "stream",
     "text": [
      "\n",
      "c1692-ana-simoes-feiticeira ana simoes,2114a\n",
      "  ana simoes\n",
      "\n",
      "c1692-antonio-catarina-fernandes tiveram filho(a). 2.o a t.a 23 manuel goncalves, ele foi prezo por ordem do pai dela.\n",
      "  antonio\n",
      "  catarina fernandes\n",
      "\n",
      "c1692-antonio-cordeiro-alcouc dava mulheres em casa. Margem: tirada de ambos 1.1.1691\n",
      "  antonio cordeiro\n",
      "  francisca nunes\n",
      "\n",
      "c1692-antonio-gomes-maria quarto grau margem: tirada dela em 25.1.692 dele 14.5.1693\n",
      "  antonio gomes\n",
      "  maria\n",
      "\n",
      "c1692-antonio-simoes-maria-domingues da filha\n",
      "  antonio simoes\n",
      "  maria domingues\n",
      "\n",
      "c1692-antonio-simoes-raposo-maria \n",
      "  antonio simoes raposo\n"
     ]
    }
   ],
   "source": [
    "casos, acusados = tlnb.db.get_model([\"caso\", \"acusado\"])\n",
    "\n",
    "stmt = (select(casos, acusados)\n",
    "        .join(acusados, acusados.inside == casos.id).order_by(casos.the_line))\n",
    "\n",
    "with tlnb.db.session() as session:\n",
    "    results = session.execute(stmt).all()\n",
    "    caso_id = None\n",
    "    for caso,acusados in sorted(results, key=str)[:10]:\n",
    "        if caso_id != caso.id:\n",
    "            caso_id = caso.id\n",
    "            print()\n",
    "            print(caso.id, caso.obs)\n",
    "        print(\" \",acusados.name)"
   ]
  },
  {
   "cell_type": "code",
   "execution_count": 8,
   "metadata": {},
   "outputs": [
    {
     "name": "stdout",
     "output_type": "stream",
     "text": [
      "caso ana simoes,2114a\n",
      "acusa$d1692-2114-obj137-20/idcaso=c1692-ana-simoes-feiticeira/literal=diz que fez mal a domingos antunes da carvalheira, casado/obs=feitic/id=d1692-2114-obj137-20\n",
      "caso ana simoes,2114a\n",
      "acusa$d1692-2116-obj139-20/idcaso=c1692-ana-simoes-feiticeira/literal=t.a e' mulher de uma suposta vitima. Diz que o marido adoeceu e a denunciada apareceu la com a cura e a mulher suspeita que foi ela que o fez adoecer./obs=feitic/id=d1692-2116-obj139-20\n",
      "caso ana simoes,2114a\n",
      "acusa$d1692-2117-obj140-20/idcaso=c1692-ana-simoes-feiticeira/obs=feitic/id=d1692-2117-obj140-20\n",
      "caso ana simoes,2114a\n",
      "acusa$d1692-2118-obj141-20/idcaso=c1692-ana-simoes-feiticeira/obs=feitic/id=d1692-2118-obj141-20\n",
      "caso ana simoes,2114a\n",
      "acusa$d1692-2119-obj142-20/idcaso=c1692-ana-simoes-feiticeira/obs=feitic/id=d1692-2119-obj142-20\n",
      "caso ana simoes,2114a\n",
      "acusa$d1692-2122-obj146-20/idcaso=c1692-ana-simoes-feiticeira/obs=feitic/id=d1692-2122-obj146-20\n",
      "caso ana simoes,2114a\n",
      "acusa$d1692-2129-obj165-20/idcaso=c1692-ana-simoes-feiticeira/obs=feitic/id=d1692-2129-obj165-20\n",
      "caso ana simoes,2114a\n",
      "acusa$d1692-2142-obj167-20/idcaso=c1692-ana-simoes-feiticeira/obs=feitic/id=d1692-2142-obj167-20\n",
      "caso tiveram filho(a). 2.o a t.a 23 manuel goncalves, ele foi prezo por ordem do pai dela.\n",
      "acusa$d1692-2052-obj57-20/idcaso=c1692-antonio-catarina-fernandes/origem=ve-o entrar em casa dela/obs=amanc/id=d1692-2052-obj57-20\n",
      "caso tiveram filho(a). 2.o a t.a 23 manuel goncalves, ele foi prezo por ordem do pai dela.\n",
      "acusa$d1692-2066-obj61-20/idcaso=c1692-antonio-catarina-fernandes/obs=amanc, ele teria sido preso por ordem do pai dela/id=d1692-2066-obj61-20\n",
      "\n",
      "SELECT casos_1.id, objects_1.id AS id_1, entities_1.id AS id_2, entities_1.class, entities_1.inside, entities_1.the_source, entities_1.the_order, entities_1.the_level, entities_1.the_line, entities_1.groupname, entities_1.extra_info, entities_1.updated, entities_1.indexed, objects_1.name, casos_1.the_type, objects_1.the_type AS the_type_1, casos_1.obs, objects_1.obs AS obs_1, acusacoes.id AS id_3, objects.id AS id_4, entities.id AS id_5, entities.class AS class_1, entities.inside AS inside_1, entities.the_source AS the_source_1, entities.the_order AS the_order_1, entities.the_level AS the_level_1, entities.the_line AS the_line_1, entities.groupname AS groupname_1, entities.extra_info AS extra_info_1, entities.updated AS updated_1, entities.indexed AS indexed_1, objects.name AS name_1, objects.the_type AS the_type_2, acusacoes.obs AS obs_2, objects.obs AS obs_3, acusacoes.idcaso, acusacoes.literal, acusacoes.origem \n",
      "FROM entities JOIN objects ON entities.id = objects.id JOIN acusacoes ON objects.id = acusacoes.id JOIN (entities AS entities_1 JOIN objects AS objects_1 ON entities_1.id = objects_1.id JOIN casos AS casos_1 ON objects_1.id = casos_1.id) ON acusacoes.idcaso = casos_1.id ORDER BY entities_1.the_line, entities.the_line\n"
     ]
    }
   ],
   "source": [
    "\n",
    "\n",
    "stmt = (select(casos, acusacoes)\n",
    "        .join(casos,\n",
    "              acusacoes.idcaso == casos.id)\n",
    "        .order_by(casos.the_line, acusacoes.the_line))\n",
    "\n",
    "with tlnb.db.session() as session:\n",
    "    results = session.execute(stmt).all()\n",
    "    for caso, acusacao in sorted(results, key=str)[:10]:\n",
    "        print(caso.the_type,caso.obs)\n",
    "        print(acusacao)\n",
    "        # print(f\"{lugar.name:16} {evento.the_date} {evento.description}\")\n",
    "\n",
    "print()\n",
    "print(stmt)"
   ]
  }
 ],
 "metadata": {
  "kernelspec": {
   "display_name": ".venv",
   "language": "python",
   "name": "python3"
  },
  "language_info": {
   "codemirror_mode": {
    "name": "ipython",
    "version": 3
   },
   "file_extension": ".py",
   "mimetype": "text/x-python",
   "name": "python",
   "nbconvert_exporter": "python",
   "pygments_lexer": "ipython3",
   "version": "3.10.14"
  }
 },
 "nbformat": 4,
 "nbformat_minor": 2
}
