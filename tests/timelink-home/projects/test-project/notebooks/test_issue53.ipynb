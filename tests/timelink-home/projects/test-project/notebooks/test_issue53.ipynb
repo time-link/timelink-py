{
 "cells": [
  {
   "cell_type": "markdown",
   "metadata": {},
   "source": [
    "# Issue53\n",
    "\n",
    "* Timelink Python package version: 1.1.13\n",
    "* Python version: 3.10, 3.11\n",
    "* Operating System: MacOs\n",
    "\n",
    "### Description\n",
    "\n",
    "it is not always possible to get the ORM corresponding to a group because a group\n",
    "can extend another one and not have its own mapping. However internally Timelink\n",
    "knows the model to use, but the end user need to inspect the structure file to figure out.\n",
    "\n",
    "In str\n",
    "```\n",
    "pars name=lugar; source=geoentity\n",
    "```\n",
    "\n",
    "in python\n",
    "```python\n",
    "db.get_model(\"lugar\") # returns none\n",
    "```\n",
    "\n",
    "Or make get_model smarter."
   ]
  },
  {
   "cell_type": "code",
   "execution_count": 1,
   "metadata": {},
   "outputs": [
    {
     "name": "stdout",
     "output_type": "stream",
     "text": [
      "Timelink version: 1.1.13\n",
      "Project name: test-project\n",
      "Project home: /Users/jrc/develop/timelink-py/tests/timelink-home/projects/test-project\n",
      "Database type: sqlite\n",
      "Database name: issue53\n",
      "Kleio image: kleio-server\n",
      "Kleio server token: 98Sct...\n",
      "Kleio server URL: http://127.0.0.1:8088\n",
      "Kleio server home: /Users/jrc/develop/timelink-py/tests/timelink-home/projects/test-project\n",
      "Kleio server container: adoring_germain\n",
      "Kleio version requested: 12.6.575\n",
      "Kleio server version: 12.6.575 (2024-09-06 14:08:58)\n",
      "SQLite directory: /Users/jrc/develop/timelink-py/tests/timelink-home/projects/test-project/database/sqlite\n",
      "Call print_info(show_token=True) to show the Kleio Server token\n",
      "Call print_info(show_password=True) to show the Postgres password\n",
      "TimelinkNotebook(project_name=test-project, project_home=/Users/jrc/develop/timelink-py/tests/timelink-home/projects/test-project, db_type=sqlite, db_name=issue53, kleio_image=kleio-server, kleio_version=12.6.575, postgres_image=postgres, postgres_version=latest)\n"
     ]
    }
   ],
   "source": [
    "# NBVAL_IGNORE_OUTPUT\n",
    "from timelink.notebooks import TimelinkNotebook\n",
    "\n",
    "tlnb = TimelinkNotebook(db_name='issue53', kleio_image='kleio-server', kleio_version='12.6.575')\n",
    "tlnb.print_info()"
   ]
  },
  {
   "cell_type": "markdown",
   "metadata": {},
   "source": [
    "## import a file with groups with no direct mapping"
   ]
  },
  {
   "cell_type": "code",
   "execution_count": 2,
   "metadata": {},
   "outputs": [
    {
     "data": {
      "text/plain": [
       "([{'job': 27, 'sources': ['sources/cronologias/crono-avulsos.cli']}], None)"
      ]
     },
     "execution_count": 2,
     "metadata": {},
     "output_type": "execute_result"
    }
   ],
   "source": [
    "tlnb.kleio_server.translate(\"sources/cronologias/crono-avulsos.cli\")\n"
   ]
  },
  {
   "cell_type": "code",
   "execution_count": 3,
   "metadata": {},
   "outputs": [
    {
     "name": "stderr",
     "output_type": "stream",
     "text": [
      "INFO:root:Importing sources/cronologias/crono-avulsos.cli\n"
     ]
    }
   ],
   "source": [
    "# NBVAL_IGNORE_OUTPUT\n",
    "\n",
    "import logging\n",
    "logging.basicConfig(level=logging.INFO)\n",
    "\n",
    "path = \"sources/cronologias/\"\n",
    "tlnb.update_from_sources(path=path)\n",
    "# get the import status\n",
    "import_status = tlnb.get_import_status(path=path)\n",
    "# list those with import_error > 0 or error > 0\n",
    "errors = import_status.query(\"import_errors > 0 or errors > 0\")\n",
    "if len(errors) > 0:\n",
    "    print(errors)"
   ]
  },
  {
   "cell_type": "code",
   "execution_count": 4,
   "metadata": {},
   "outputs": [
    {
     "data": {
      "text/html": [
       "<div>\n",
       "<style scoped>\n",
       "    .dataframe tbody tr th:only-of-type {\n",
       "        vertical-align: middle;\n",
       "    }\n",
       "\n",
       "    .dataframe tbody tr th {\n",
       "        vertical-align: top;\n",
       "    }\n",
       "\n",
       "    .dataframe thead th {\n",
       "        text-align: right;\n",
       "    }\n",
       "</style>\n",
       "<table border=\"1\" class=\"dataframe\">\n",
       "  <thead>\n",
       "    <tr style=\"text-align: right;\">\n",
       "      <th></th>\n",
       "      <th>path</th>\n",
       "      <th>name</th>\n",
       "      <th>modified</th>\n",
       "      <th>status</th>\n",
       "      <th>translated</th>\n",
       "      <th>errors</th>\n",
       "      <th>warnings</th>\n",
       "      <th>import_status</th>\n",
       "      <th>import_errors</th>\n",
       "      <th>import_warnings</th>\n",
       "      <th>import_error_rpt</th>\n",
       "      <th>import_warning_rpt</th>\n",
       "      <th>imported</th>\n",
       "      <th>rpt_url</th>\n",
       "      <th>xml_url</th>\n",
       "    </tr>\n",
       "  </thead>\n",
       "  <tbody>\n",
       "    <tr>\n",
       "      <th>0</th>\n",
       "      <td>sources/cronologias/crono-avulsos.cli</td>\n",
       "      <td>crono-avulsos.cli</td>\n",
       "      <td>2024-09-11 03:13:43.614903+00:00</td>\n",
       "      <td>V</td>\n",
       "      <td>2024-09-11 03:13:00+00:00</td>\n",
       "      <td>0</td>\n",
       "      <td>0</td>\n",
       "      <td>I</td>\n",
       "      <td>0</td>\n",
       "      <td>0</td>\n",
       "      <td>No errors</td>\n",
       "      <td>No warnings</td>\n",
       "      <td>2024-09-11 03:13:44.703551</td>\n",
       "      <td>/rest/reports/sources/cronologias/crono-avulso...</td>\n",
       "      <td>/rest/exports/sources/cronologias/crono-avulso...</td>\n",
       "    </tr>\n",
       "  </tbody>\n",
       "</table>\n",
       "</div>"
      ],
      "text/plain": [
       "                                    path               name  \\\n",
       "0  sources/cronologias/crono-avulsos.cli  crono-avulsos.cli   \n",
       "\n",
       "                          modified status                translated  errors  \\\n",
       "0 2024-09-11 03:13:43.614903+00:00      V 2024-09-11 03:13:00+00:00       0   \n",
       "\n",
       "   warnings import_status  import_errors  import_warnings import_error_rpt  \\\n",
       "0         0             I              0                0        No errors   \n",
       "\n",
       "  import_warning_rpt                   imported  \\\n",
       "0        No warnings 2024-09-11 03:13:44.703551   \n",
       "\n",
       "                                             rpt_url  \\\n",
       "0  /rest/reports/sources/cronologias/crono-avulso...   \n",
       "\n",
       "                                             xml_url  \n",
       "0  /rest/exports/sources/cronologias/crono-avulso...  "
      ]
     },
     "execution_count": 4,
     "metadata": {},
     "output_type": "execute_result"
    }
   ],
   "source": [
    "# NBVAL_IGNORE_OUTPUT\n",
    "\n",
    "kleio_files = tlnb.get_kleio_files(path=path)\n",
    "kleio_files"
   ]
  },
  {
   "cell_type": "code",
   "execution_count": 5,
   "metadata": {},
   "outputs": [],
   "source": [
    "from sqlalchemy import select\n",
    "from sqlalchemy.orm import aliased\n",
    "\n",
    "eventos, lugares = tlnb.db.get_model([\"crono\",\"geoentity\"])\n",
    "\n",
    "stmt = (select(eventos, lugares)\n",
    "        .join(lugares,\n",
    "              eventos.id == lugares.inside)\n",
    "        .order_by(lugares.name, eventos.the_date))\n",
    "\n",
    "with tlnb.db.session() as session:\n",
    "    results = session.execute(stmt).all()\n",
    "    for evento, lugar in results:\n",
    "        print(f\"{lugar.name:16} {evento.the_date} {evento.description}\")"
   ]
  }
 ],
 "metadata": {
  "kernelspec": {
   "display_name": ".venv",
   "language": "python",
   "name": "python3"
  },
  "language_info": {
   "codemirror_mode": {
    "name": "ipython",
    "version": 3
   },
   "file_extension": ".py",
   "mimetype": "text/x-python",
   "name": "python",
   "nbconvert_exporter": "python",
   "pygments_lexer": "ipython3",
   "version": "3.11.1"
  }
 },
 "nbformat": 4,
 "nbformat_minor": 2
}
