{
 "cells": [
  {
   "cell_type": "markdown",
   "metadata": {},
   "source": [
    "### print_info() truncate token and password and add parameter to show them \n",
    "Fixes #26"
   ]
  },
  {
   "cell_type": "code",
   "execution_count": 1,
   "metadata": {},
   "outputs": [
    {
     "name": "stdout",
     "output_type": "stream",
     "text": [
      "Project name: test-project\n",
      "Project home: /Users/jrc/develop/timelink-py/tests/timelink-home/projects/test-project\n",
      "Database type: postgres\n",
      "Database name: test_project\n",
      "Kleio image: timelinkserver/kleio-server\n",
      "Kleio server token: IQEZi...\n",
      "Kleio server URL: http://127.0.0.1:8090\n",
      "Kleio server home: /Users/jrc/develop/timelink-py/tests/timelink-home/projects/test-project\n",
      "Kleio server container: exciting_swartz\n",
      "Kleio version requested: latest\n",
      "Kleio server version: 12.5.570 (2024-02-29 07:39:03)\n",
      "Postgres password: yokpV...\n",
      "Postgres image: postgres\n",
      "Postgres version: latest\n",
      "Postgres user: postgres\n",
      "TimelinkNotebook(project_name=test-project, project_home=/Users/jrc/develop/timelink-py/tests/timelink-home/projects/test-project, db_type=postgres, db_name=test_project, kleio_image=timelinkserver/kleio-server, kleio_version=latest, postgres_image=postgres, postgres_version=latest)\n"
     ]
    }
   ],
   "source": [
    "from timelink.notebooks import TimelinkNotebook\n",
    "\n",
    "# Create a new notebook\n",
    "notebook = TimelinkNotebook(db_type='postgres')\n",
    "\n",
    "notebook.print_info()"
   ]
  },
  {
   "cell_type": "code",
   "execution_count": 2,
   "metadata": {},
   "outputs": [
    {
     "name": "stdout",
     "output_type": "stream",
     "text": [
      "Project name: test-project\n",
      "Project home: /Users/jrc/develop/timelink-py/tests/timelink-home/projects/test-project\n",
      "Database type: postgres\n",
      "Database name: test_project\n",
      "Kleio image: timelinkserver/kleio-server\n",
      "Kleio server token: IQEZigLkKGEwr5IG8UcMDJRid6Rrj6J0\n",
      "Kleio server URL: http://127.0.0.1:8090\n",
      "Kleio server home: /Users/jrc/develop/timelink-py/tests/timelink-home/projects/test-project\n",
      "Kleio server container: exciting_swartz\n",
      "Kleio version requested: latest\n",
      "Kleio server version: 12.5.570 (2024-02-29 07:39:03)\n",
      "Postgres password: yokpVvcGmz\n",
      "Postgres image: postgres\n",
      "Postgres version: latest\n",
      "Postgres user: postgres\n",
      "TimelinkNotebook(project_name=test-project, project_home=/Users/jrc/develop/timelink-py/tests/timelink-home/projects/test-project, db_type=postgres, db_name=test_project, kleio_image=timelinkserver/kleio-server, kleio_version=latest, postgres_image=postgres, postgres_version=latest)\n"
     ]
    }
   ],
   "source": [
    "notebook.print_info(show_token=True, show_password=True)"
   ]
  }
 ],
 "metadata": {
  "kernelspec": {
   "display_name": ".venv",
   "language": "python",
   "name": "python3"
  },
  "language_info": {
   "codemirror_mode": {
    "name": "ipython",
    "version": 3
   },
   "file_extension": ".py",
   "mimetype": "text/x-python",
   "name": "python",
   "nbconvert_exporter": "python",
   "pygments_lexer": "ipython3",
   "version": "3.10.9"
  }
 },
 "nbformat": 4,
 "nbformat_minor": 2
}
