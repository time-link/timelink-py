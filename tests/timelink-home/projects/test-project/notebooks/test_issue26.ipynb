{
 "cells": [
  {
   "cell_type": "markdown",
   "metadata": {},
   "source": [
    "### print_info() truncate token and password and add parameter to show them \n",
    "Fixes #26\n",
    "\n",
    "https://github.com/time-link/timelink-py/issues/26"
   ]
  },
  {
   "cell_type": "code",
   "execution_count": 1,
   "metadata": {},
   "outputs": [],
   "source": [
    "# NBVAL_IGNORE_OUTPUT\n",
    "from timelink.notebooks import TimelinkNotebook\n",
    "\n",
    "# Create a new notebook\n",
    "notebook = TimelinkNotebook(db_type='postgres')\n",
    "\n",
    "# notebook.print_info()"
   ]
  },
  {
   "cell_type": "code",
   "execution_count": 2,
   "metadata": {},
   "outputs": [
    {
     "name": "stdout",
     "output_type": "stream",
     "text": [
      "Timelink version: 1.1.15\n",
      "Project name: test-project\n",
      "Project home: /workspaces/timelink-py/tests/timelink-home/projects/test-project\n",
      "Database type: postgres\n",
      "Database name: test_project\n",
      "Kleio image: timelinkserver/kleio-server\n",
      "Kleio server token: mLahU...\n",
      "Kleio server URL: http://127.0.0.1:8088\n",
      "Kleio server home: /workspaces/timelink-py/tests/timelink-home/projects/test-project\n",
      "Kleio server container: suspicious_bohr\n",
      "Kleio version requested: latest\n",
      "Kleio server version: 12.6.577 (2024-10-24 16:53:53)\n",
      "Postgres password: ...\n",
      "Postgres image: postgres\n",
      "Postgres version: latest\n",
      "Postgres user: timelink\n",
      "Call print_info(show_token=True) to show the Kleio Server token\n",
      "Call print_info(show_password=True) to show the Postgres password\n",
      "TimelinkNotebook(project_name=test-project, project_home=/workspaces/timelink-py/tests/timelink-home/projects/test-project, db_type=postgres, db_name=test_project, kleio_image=timelinkserver/kleio-server, kleio_version=latest, postgres_image=postgres, postgres_version=latest)\n"
     ]
    }
   ],
   "source": [
    "# NBVAL_IGNORE_OUTPUT\n",
    "\n",
    "notebook.print_info(show_token=False, show_password=False)"
   ]
  }
 ],
 "metadata": {
  "kernelspec": {
   "display_name": "Python 3",
   "language": "python",
   "name": "python3"
  },
  "language_info": {
   "codemirror_mode": {
    "name": "ipython",
    "version": 3
   },
   "file_extension": ".py",
   "mimetype": "text/x-python",
   "name": "python",
   "nbconvert_exporter": "python",
   "pygments_lexer": "ipython3",
   "version": "3.10.16"
  }
 },
 "nbformat": 4,
 "nbformat_minor": 2
}
