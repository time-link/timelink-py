{
 "cells": [
  {
   "cell_type": "markdown",
   "metadata": {},
   "source": [
    "# name_to_df"
   ]
  },
  {
   "cell_type": "code",
   "execution_count": 1,
   "metadata": {},
   "outputs": [
    {
     "name": "stdout",
     "output_type": "stream",
     "text": [
      "Project name: test-project\n",
      "Project home: /Users/jrc/develop/timelink-py/tests/timelink-home/projects/test-project\n",
      "Database type: sqlite\n",
      "Database name: name_to_df\n",
      "Kleio image: timelinkserver/kleio-server\n",
      "Kleio server token: aFupe9IVqRpeQ65g8HvOZXMErJ1DNar8\n",
      "Kleio server URL: http://127.0.0.1:8089\n",
      "Kleio server home: /Users/jrc/develop/timelink-py/tests/timelink-home/projects/test-project\n",
      "Kleio server container: vigorous_lehmann\n",
      "Kleio version requested: latest\n",
      "Kleio server version: 12.4.567 (2024-02-07 13:02:03)\n",
      "SQLite directory: /Users/jrc/develop/timelink-py/tests/timelink-home/projects/test-project/database/sqlite\n",
      "TimelinkNotebook(project_name=test-project, project_home=/Users/jrc/develop/timelink-py/tests/timelink-home/projects/test-project, db_type=sqlite, db_name=name_to_df, kleio_image=timelinkserver/kleio-server, kleio_version=latest, postgres_image=postgres, postgres_version=latest)\n"
     ]
    }
   ],
   "source": [
    "# NBVAL_IGNORE_OUTPUT\n",
    "\n",
    "from timelink.notebooks import TimelinkNotebook\n",
    "\n",
    "tlnb = TimelinkNotebook(db_name=\"name_to_df\")\n",
    "tlnb.print_info()"
   ]
  },
  {
   "cell_type": "code",
   "execution_count": 2,
   "metadata": {},
   "outputs": [],
   "source": [
    "### Import file\n",
    "from timelink.api.database import import_from_xml\n",
    "\n",
    "db = tlnb.db\n",
    "with db.session() as session:\n",
    "    import_from_xml( \"../../../../xml_data/dehergne-a.xml\",session)\n"
   ]
  },
  {
   "cell_type": "code",
   "execution_count": 14,
   "metadata": {},
   "outputs": [
    {
     "data": {
      "text/html": [
       "<div>\n",
       "<style scoped>\n",
       "    .dataframe tbody tr th:only-of-type {\n",
       "        vertical-align: middle;\n",
       "    }\n",
       "\n",
       "    .dataframe tbody tr th {\n",
       "        vertical-align: top;\n",
       "    }\n",
       "\n",
       "    .dataframe thead th {\n",
       "        text-align: right;\n",
       "    }\n",
       "</style>\n",
       "<table border=\"1\" class=\"dataframe\">\n",
       "  <thead>\n",
       "    <tr style=\"text-align: right;\">\n",
       "      <th></th>\n",
       "      <th>id</th>\n",
       "      <th>name</th>\n",
       "      <th>sex</th>\n",
       "      <th>obs</th>\n",
       "    </tr>\n",
       "  </thead>\n",
       "  <tbody>\n",
       "    <tr>\n",
       "      <th>0</th>\n",
       "      <td>deh-antonio-de-abreu</td>\n",
       "      <td>António de Abreu</td>\n",
       "      <td>m</td>\n",
       "      <td>None</td>\n",
       "    </tr>\n",
       "    <tr>\n",
       "      <th>1</th>\n",
       "      <td>deh-antonio-de-abreu-ref1</td>\n",
       "      <td>António de Abreu</td>\n",
       "      <td>m</td>\n",
       "      <td>None</td>\n",
       "    </tr>\n",
       "    <tr>\n",
       "      <th>2</th>\n",
       "      <td>deh-antonio-de-abreu-ref2</td>\n",
       "      <td>António de Abreu</td>\n",
       "      <td>m</td>\n",
       "      <td>None</td>\n",
       "    </tr>\n",
       "    <tr>\n",
       "      <th>3</th>\n",
       "      <td>deh-bento-de-abreu</td>\n",
       "      <td>Bento de Abreu</td>\n",
       "      <td>m</td>\n",
       "      <td>None</td>\n",
       "    </tr>\n",
       "    <tr>\n",
       "      <th>4</th>\n",
       "      <td>deh-bento-de-abreu-ref1</td>\n",
       "      <td>Bernardo de Abreu</td>\n",
       "      <td>m</td>\n",
       "      <td>Catálogos de 1720 Lus. 47, 210v. 264.294 e 325</td>\n",
       "    </tr>\n",
       "  </tbody>\n",
       "</table>\n",
       "</div>"
      ],
      "text/plain": [
       "                          id               name sex  \\\n",
       "0       deh-antonio-de-abreu   António de Abreu   m   \n",
       "1  deh-antonio-de-abreu-ref1   António de Abreu   m   \n",
       "2  deh-antonio-de-abreu-ref2   António de Abreu   m   \n",
       "3         deh-bento-de-abreu     Bento de Abreu   m   \n",
       "4    deh-bento-de-abreu-ref1  Bernardo de Abreu   m   \n",
       "\n",
       "                                              obs  \n",
       "0                                            None  \n",
       "1                                            None  \n",
       "2                                            None  \n",
       "3                                            None  \n",
       "4  Catálogos de 1720 Lus. 47, 210v. 264.294 e 325  "
      ]
     },
     "execution_count": 14,
     "metadata": {},
     "output_type": "execute_result"
    }
   ],
   "source": [
    "from timelink.pandas.name_to_df import pname_to_df\n",
    "\n",
    "# search for a name\n",
    "df = pname_to_df(\n",
    "                    name='%Abreu',\n",
    "                    db=tlnb.db,\n",
    "                    similar=True,\n",
    "                    sql_echo=False)\n",
    "df.head()"
   ]
  }
 ],
 "metadata": {
  "kernelspec": {
   "display_name": ".venv",
   "language": "python",
   "name": "python3"
  },
  "language_info": {
   "codemirror_mode": {
    "name": "ipython",
    "version": 3
   },
   "file_extension": ".py",
   "mimetype": "text/x-python",
   "name": "python",
   "nbconvert_exporter": "python",
   "pygments_lexer": "ipython3",
   "version": "3.10.9"
  }
 },
 "nbformat": 4,
 "nbformat_minor": 2
}
