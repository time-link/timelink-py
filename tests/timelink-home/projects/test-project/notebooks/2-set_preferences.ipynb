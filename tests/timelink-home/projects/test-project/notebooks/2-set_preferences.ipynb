{
 "cells": [
  {
   "cell_type": "markdown",
   "metadata": {},
   "source": [
    "## Set the timelink settings programatically"
   ]
  },
  {
   "cell_type": "markdown",
   "metadata": {},
   "source": [
    "### Get the parameters from Timelink Notebook interface"
   ]
  },
  {
   "cell_type": "code",
   "execution_count": 1,
   "metadata": {},
   "outputs": [
    {
     "name": "stdout",
     "output_type": "stream",
     "text": [
      "Timelink version: 1.1.13\n",
      "Project name: test-project\n",
      "Project home: /workspaces/timelink-py/tests/timelink-home/projects/test-project\n",
      "Database type: sqlite\n",
      "Database name: test_project\n",
      "Kleio image: timelinkserver/kleio-server\n",
      "Kleio server token: T7fAOPnFQDmbr4XqlMVSfk11jh2WCyCE\n",
      "Kleio server URL: http://127.0.0.1:8089\n",
      "Kleio server home: /Users/jrc/develop/timelink-py/tests/timelink-home/projects/test-project\n",
      "Kleio server container: musing_dewdney\n",
      "Kleio version requested: latest\n",
      "Kleio server version: 12.6.573 (2024-07-29 08:30:28)\n",
      "SQLite directory: /Users/jrc/develop/timelink-py/tests/timelink-home/projects/test-project/database/sqlite\n",
      "TimelinkNotebook(project_name=test-project, project_home=/Users/jrc/develop/timelink-py/tests/timelink-home/projects/test-project, db_type=sqlite, db_name=test_project, kleio_image=timelinkserver/kleio-server, kleio_version=latest, postgres_image=postgres, postgres_version=latest)\n"
     ]
    }
   ],
   "source": [
    "# NBVAL_IGNORE_OUTPUT\n",
    "\n",
    "from timelink.notebooks import TimelinkNotebook\n",
    "\n",
    "tlnb = TimelinkNotebook()\n",
    "\n",
    "kleio_home = tlnb.kleio_server.get_kleio_home()\n",
    "kleio_token = tlnb.kleio_server.get_token()\n",
    "kleio_url = tlnb.kleio_server.get_url()\n",
    "tlnb.print_info(show_token=True, show_password=True)\n",
    "\n"
   ]
  },
  {
   "cell_type": "code",
   "execution_count": 2,
   "metadata": {},
   "outputs": [
    {
     "name": "stdout",
     "output_type": "stream",
     "text": [
      "Workspace settings updated successfully.\n"
     ]
    }
   ],
   "source": [
    "import json\n",
    "import os\n",
    "\n",
    "# Path to the workspace settings file\n",
    "workspace_path = os.path.abspath(\"../../../../../\")\n",
    "settings_path = os.path.join(workspace_path, '.vscode', 'settings.json')\n",
    "\n",
    "# Ensure the .vscode directory exists\n",
    "os.makedirs(os.path.dirname(settings_path), exist_ok=True)\n",
    "\n",
    "# Read the existing settings\n",
    "if os.path.exists(settings_path):\n",
    "    with open(settings_path, 'r') as file:\n",
    "        settings = json.load(file)\n",
    "else:\n",
    "    settings = {}\n",
    "\n",
    "# Update the settings with your desired preferences\n",
    "# Example: Set the editor font size to 14\n",
    "settings['timelink.kleio.kleioServerHome'] = kleio_home\n",
    "settings['timelink.kleio.kleioServerToken'] = kleio_token\n",
    "settings['timelink.kleio.kleioServerUrl'] = kleio_url\n",
    "\n",
    "# Write the updated settings back to the file\n",
    "with open(settings_path, 'w') as file:\n",
    "    json.dump(settings, file, indent=4)\n",
    "\n",
    "print(\"Workspace settings updated successfully.\")"
   ]
  },
  {
   "cell_type": "markdown",
   "metadata": {},
   "source": []
  }
 ],
 "metadata": {
  "kernelspec": {
   "display_name": ".venv",
   "language": "python",
   "name": "python3"
  },
  "language_info": {
   "codemirror_mode": {
    "name": "ipython",
    "version": 3
   },
   "file_extension": ".py",
   "mimetype": "text/x-python",
   "name": "python",
   "nbconvert_exporter": "python",
   "pygments_lexer": "ipython3",
   "version": "3.11.2"
  }
 },
 "nbformat": 4,
 "nbformat_minor": 2
}
