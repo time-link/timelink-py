{
 "cells": [
  {
   "cell_type": "markdown",
   "metadata": {},
   "source": [
    "## Test if get_person() and other similar functions in Database work as expected"
   ]
  },
  {
   "cell_type": "code",
   "execution_count": 1,
   "metadata": {},
   "outputs": [
    {
     "name": "stdout",
     "output_type": "stream",
     "text": [
      "Timelink version: 1.1.13\n",
      "Project name: test-project\n",
      "Project home: /Users/jrc/develop/timelink-py/tests/timelink-home/projects/test-project\n",
      "Database type: sqlite\n",
      "Database name: test_project\n",
      "Kleio image: timelinkserver/kleio-server\n",
      "Kleio server token: T7fAOPnFQDmbr4XqlMVSfk11jh2WCyCE\n",
      "Kleio server URL: http://127.0.0.1:8089\n",
      "Kleio server home: /Users/jrc/develop/timelink-py/tests/timelink-home/projects/test-project\n",
      "Kleio server container: musing_dewdney\n",
      "Kleio version requested: latest\n",
      "Kleio server version: 12.6.573 (2024-07-29 08:30:28)\n",
      "SQLite directory: /Users/jrc/develop/timelink-py/tests/timelink-home/projects/test-project/database/sqlite\n",
      "Call print_info(show_password=True) to show the Postgres password\n",
      "TimelinkNotebook(project_name=test-project, project_home=/Users/jrc/develop/timelink-py/tests/timelink-home/projects/test-project, db_type=sqlite, db_name=test_project, kleio_image=timelinkserver/kleio-server, kleio_version=latest, postgres_image=postgres, postgres_version=latest)\n"
     ]
    }
   ],
   "source": [
    "# NBVAL_IGNORE_OUTPUT\n",
    "\n",
    "from timelink.notebooks import TimelinkNotebook\n",
    "\n",
    "tlnb = TimelinkNotebook()\n",
    "tlnb.print_info(show_token=True)"
   ]
  },
  {
   "cell_type": "markdown",
   "metadata": {},
   "source": [
    "# This should work too"
   ]
  },
  {
   "cell_type": "code",
   "execution_count": 2,
   "metadata": {},
   "outputs": [
    {
     "name": "stdout",
     "output_type": "stream",
     "text": [
      "n$luisa gomes/f/id=soure-1740-o12-luisa/obs=Test changing value in object\n",
      "  referido$antonio da cunha roxo/m/id=soure-1740-o12-luisa-per1/obs=teve filhos com luisa gomes\n",
      "    ls$naturalidade/lorvao/17401007\n",
      "    ls$morto/antes/17401007\n",
      "    rel$parentesco/marido1/luisa gomes/soure-1740-o12-luisa/17401007\n",
      "  marido$manuel gomes da costa/m/id=soure-1740-o12-luisa-per2/obs=teve filhos com luisa gomes\n",
      "    ls$naturalidade/eiras/17401007\n",
      "    ls$ec/c/17401007\n",
      "  rel$parentesco/mulher/manuel gomes da costa/soure-1740-o12-luisa-per2/17401007\n",
      "  ls$ec/c/17401007\n",
      "  ls$morto/agora/17401007\n"
     ]
    }
   ],
   "source": [
    "# NBVAL_IGNORE_OUTPUT\n",
    "# for some reason this gerates a little variation in the output and the test fails\n",
    "# so we are ignoring the output\n",
    "from timelink.api.models import Person\n",
    "\n",
    "id = 'soure-1740-o12-luisa'\n",
    "\n",
    "with tlnb.db.session() as session:\n",
    "    p = tlnb.db.get_person(id, session=session)\n",
    "    print(p.to_kleio())"
   ]
  },
  {
   "cell_type": "code",
   "execution_count": 3,
   "metadata": {},
   "outputs": [
    {
     "name": "stdout",
     "output_type": "stream",
     "text": [
      "n$luisa gomes/f/id=soure-1740-o12-luisa/obs=Test changing value in object\n",
      "  referido$antonio da cunha roxo/m/id=soure-1740-o12-luisa-per1/obs=teve filhos com luisa gomes\n",
      "    ls$naturalidade/lorvao/17401007\n",
      "    ls$morto/antes/17401007\n",
      "    rel$parentesco/marido1/luisa gomes/soure-1740-o12-luisa/17401007\n",
      "  marido$manuel gomes da costa/m/id=soure-1740-o12-luisa-per2/obs=teve filhos com luisa gomes\n",
      "    ls$naturalidade/eiras/17401007\n",
      "    ls$ec/c/17401007\n",
      "  rel$parentesco/mulher/manuel gomes da costa/soure-1740-o12-luisa-per2/17401007\n",
      "  ls$ec/c/17401007\n",
      "  ls$morto/agora/17401007\n"
     ]
    }
   ],
   "source": [
    "\n",
    "with tlnb.db.session() as session:\n",
    "    p.obs = 'Test changing value in object'\n",
    "    session.add(p)\n",
    "    session.commit()\n",
    "    print(p.to_kleio())\n"
   ]
  }
 ],
 "metadata": {
  "kernelspec": {
   "display_name": ".venv",
   "language": "python",
   "name": "python3"
  },
  "language_info": {
   "codemirror_mode": {
    "name": "ipython",
    "version": 3
   },
   "file_extension": ".py",
   "mimetype": "text/x-python",
   "name": "python",
   "nbconvert_exporter": "python",
   "pygments_lexer": "ipython3",
   "version": "3.11.1"
  }
 },
 "nbformat": 4,
 "nbformat_minor": 2
}
