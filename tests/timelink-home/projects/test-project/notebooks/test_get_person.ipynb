{
 "cells": [
  {
   "cell_type": "markdown",
   "metadata": {},
   "source": [
    "## Test if get_person() and other similar functions in Database work as expected"
   ]
  },
  {
   "cell_type": "code",
   "execution_count": 4,
   "metadata": {},
   "outputs": [
    {
     "name": "stderr",
     "output_type": "stream",
     "text": [
      "INFO  [alembic.runtime.migration] Context impl SQLiteImpl.\n",
      "INFO  [alembic.runtime.migration] Will assume non-transactional DDL.\n"
     ]
    },
    {
     "name": "stdout",
     "output_type": "stream",
     "text": [
      "Timelink version: 1.1.15\n",
      "Project name: test-project\n",
      "Project home: /Users/jrc/develop/timelink-py/tests/timelink-home/projects/test-project\n",
      "Database type: sqlite\n",
      "Database name: test_project\n",
      "Kleio image: timelinkserver/kleio-server\n",
      "Kleio server token: DJgg0...\n",
      "Kleio server URL: http://127.0.0.1:8090\n",
      "Kleio server home: /Users/jrc/develop/timelink-py/tests/timelink-home/projects/test-project\n",
      "Kleio server container: relaxed_matsumoto\n",
      "Kleio version requested: latest\n",
      "Kleio server version: 12.6.577 (2024-10-24 16:53:53)\n",
      "SQLite directory: /Users/jrc/develop/timelink-py/tests/timelink-home/projects/test-project/database/sqlite\n",
      "Call print_info(show_token=True) to show the Kleio Server token\n",
      "Call print_info(show_password=True) to show the Postgres password\n",
      "TimelinkNotebook(project_name=test-project, project_home=/Users/jrc/develop/timelink-py/tests/timelink-home/projects/test-project, db_type=sqlite, db_name=test_project, kleio_image=timelinkserver/kleio-server, kleio_version=latest, postgres_image=postgres, postgres_version=latest)\n"
     ]
    }
   ],
   "source": [
    "# NBVAL_IGNORE_OUTPUT\n",
    "\n",
    "from timelink.notebooks import TimelinkNotebook\n",
    "\n",
    "tlnb = TimelinkNotebook()\n",
    "tlnb.print_info(show_token=False)"
   ]
  },
  {
   "cell_type": "code",
   "execution_count": 5,
   "metadata": {},
   "outputs": [],
   "source": [
    "from timelink.api.database import import_from_xml\n",
    "\n",
    "db = tlnb.db\n",
    "with db.session() as session:\n",
    "    import_from_xml( \"../../../../xml_data/dehergne-a.xml\",session)"
   ]
  },
  {
   "cell_type": "markdown",
   "metadata": {},
   "source": [
    "# Normal way to get a person by id"
   ]
  },
  {
   "cell_type": "code",
   "execution_count": 6,
   "metadata": {},
   "outputs": [
    {
     "name": "stdout",
     "output_type": "stream",
     "text": [
      "n$António de Abreu/m/id=deh-antonio-de-abreu\n",
      "  <rel$identification/same as/António de Abreu/deh-joao-alberto-ref1/\n",
      "  rel$function-in-act/n/lista/dehergne-notices-a//obs=line: 8\n",
      "  ls$nacionalidade/Portugal/\n",
      "  ls$jesuita-estatuto/Padre/\n",
      "  ls$dehergne/1/obs=E. Goa, déc. 1579 (DI XII, 612 n. 54). Emb. non prêtre, le 25 mars 1602, sur le S. Valentim (W 486). | V. « Negapatami » (Négapatam), 6 janv. 1604, pr. (Lus. 3, 82). Il signe Antonius Dabreu. M. dans la rivière de « Chincheo »,m.q. Changchow (Tchang-tcheou), ou peut-être Chuanchow (Ts'iuen-tcheou), au Fou-kien, en 1611, en route vers le Japon (Schûtte 343., HS 43, 57 dit 1612). Pf. 125. (Distinct du Provincial de Portugal de ce nom, 1627-1629 N. Lisbonne 1561, E. à Coïmbre 1576 (Lus. 43 II, 509v). Un P. de ce nom meurt dans un naufrage le 31 oct. 1611, mais à Coulam, sur la côte malabare (Goa 24 II). HS 43a, 2v parle, semble-t-il, de ce dernier qu'il reporte à l'an 1612.\n",
      "  ls$jesuita-entrada@wikidata/\"https://www.wikidata.org/wiki/Q1171\"%Goa, Índia/1579-12\n",
      "  ls$jesuita-entrada/Goa, Índia#@wikidata:Q1171/1579-12\n",
      "  ls$embarque/S. Valentim/1602-03-25#não padre\n",
      "  ls$wicky/486/1602-03-25\n",
      "  ls$wicky-viagem/44/1602-03-25\n",
      "  ls$jesuita-votos/4V/1604-01-06\n",
      "  ls$jesuita-votos-local@wikidata/\"https://www.wikidata.org/wiki/Q695585\"%Negapattinam, Índia/1604-01-06\n",
      "  ls$jesuita-votos-local/Negapattinam, Índia#@wikidata:Q695585%Negapatami (Négapatam)/1604-01-06\n",
      "  ls$morte@wikidata/\"https://www.wikidata.org/wiki/Q57970\"%Changchow, China/1611\n",
      "  ls$morte/Changchow, China#no rio, a caminho do Japão @wikidata:Q57970/1611\n",
      "  referido$António de Abreu/m/id=deh-antonio-de-abreu-ref1\n",
      "    rel$function-in-act/referido/lista/dehergne-notices-a//obs=line: 20\n",
      "    ls$nacionalidade/Portugal/\n",
      "    ls$dehergne/1-ref1/obs=(Distinct du Provincial de Portugal de ce nom, 1627-1629 N. Lisbonne 1561, E. à Coïmbre 1576 (Lus. 43 II, 509v).\n",
      "    ls$nascimento@wikidata/\"https://www.wikidata.org/wiki/Q597\"%Lisboa/1561\n",
      "    ls$nascimento/Lisboa#@wikidata:Q597/1561\n",
      "    ls$jesuita-entrada@wikidata/\"https://www.wikidata.org/wiki/Q45412\"%Coimbra/1576\n",
      "    ls$jesuita-entrada/Coimbra#@wikidata:Q45412/1576\n",
      "    ls$jesuita-cargo/Provincial de Portugal/1627\n",
      "    ls$jesuita-cargo/Provincial de Portugal/1629\n",
      "  referido$António de Abreu/m/id=deh-antonio-de-abreu-ref2\n",
      "    rel$function-in-act/referido/lista/dehergne-notices-a//obs=line: 28\n",
      "    ls$nacionalidade/Portugal/\n",
      "    ls$dehergne/1-ref2/obs=Un P. de ce nom meurt dans un naufrage le 31 oct. 1611, mais à Coulam, sur la côte malabare (Goa 24 II). HS 43a, 2v parle, semble-t-il, de ce dernier qu'il reporte à l'an 1612.\n",
      "    ls$morte@wikidata/\"https://www.wikidata.org/wiki/Q321475\"%Coulam, Malabar/1611-10-31\n",
      "    ls$morte/Coulam, Malabar#Naufrágio @wikidata:Q321475/1611-10-31\n"
     ]
    }
   ],
   "source": [
    "# NBVAL_IGNORE_OUTPUT\n",
    "# for some reason this generates a little variation in the output and the test fails\n",
    "# so we are ignoring the output\n",
    "from timelink.api.models import Person\n",
    "\n",
    "id = 'deh-antonio-de-abreu'\n",
    "\n",
    "with tlnb.db.session() as session:\n",
    "    p = tlnb.db.get_person(id, session=session)\n",
    "    print(p.to_kleio())"
   ]
  },
  {
   "cell_type": "markdown",
   "metadata": {},
   "source": [
    "### This should work too"
   ]
  },
  {
   "cell_type": "code",
   "execution_count": 8,
   "metadata": {},
   "outputs": [
    {
     "name": "stdout",
     "output_type": "stream",
     "text": [
      "n$António de Abreu/m/id=deh-antonio-de-abreu\n",
      "  <rel$identification/same as/António de Abreu/deh-joao-alberto-ref1/\n",
      "  rel$function-in-act/n/lista/dehergne-notices-a//obs=line: 8\n",
      "  ls$nacionalidade/Portugal/\n",
      "  ls$jesuita-estatuto/Padre/\n",
      "  ls$dehergne/1/obs=E. Goa, déc. 1579 (DI XII, 612 n. 54). Emb. non prêtre, le 25 mars 1602, sur le S. Valentim (W 486). | V. « Negapatami » (Négapatam), 6 janv. 1604, pr. (Lus. 3, 82). Il signe Antonius Dabreu. M. dans la rivière de « Chincheo »,m.q. Changchow (Tchang-tcheou), ou peut-être Chuanchow (Ts'iuen-tcheou), au Fou-kien, en 1611, en route vers le Japon (Schûtte 343., HS 43, 57 dit 1612). Pf. 125. (Distinct du Provincial de Portugal de ce nom, 1627-1629 N. Lisbonne 1561, E. à Coïmbre 1576 (Lus. 43 II, 509v). Un P. de ce nom meurt dans un naufrage le 31 oct. 1611, mais à Coulam, sur la côte malabare (Goa 24 II). HS 43a, 2v parle, semble-t-il, de ce dernier qu'il reporte à l'an 1612.\n",
      "  ls$jesuita-entrada@wikidata/\"https://www.wikidata.org/wiki/Q1171\"%Goa, Índia/1579-12\n",
      "  ls$jesuita-entrada/Goa, Índia#@wikidata:Q1171/1579-12\n",
      "  ls$embarque/S. Valentim/1602-03-25#não padre\n",
      "  ls$wicky/486/1602-03-25\n",
      "  ls$wicky-viagem/44/1602-03-25\n",
      "  ls$jesuita-votos/4V/1604-01-06\n",
      "  ls$jesuita-votos-local@wikidata/\"https://www.wikidata.org/wiki/Q695585\"%Negapattinam, Índia/1604-01-06\n",
      "  ls$jesuita-votos-local/Negapattinam, Índia#@wikidata:Q695585%Negapatami (Négapatam)/1604-01-06\n",
      "  ls$morte@wikidata/\"https://www.wikidata.org/wiki/Q57970\"%Changchow, China/1611\n",
      "  ls$morte/Changchow, China#no rio, a caminho do Japão @wikidata:Q57970/1611\n",
      "  referido$António de Abreu/m/id=deh-antonio-de-abreu-ref1\n",
      "    rel$function-in-act/referido/lista/dehergne-notices-a//obs=line: 20\n",
      "    ls$nacionalidade/Portugal/\n",
      "    ls$dehergne/1-ref1/obs=(Distinct du Provincial de Portugal de ce nom, 1627-1629 N. Lisbonne 1561, E. à Coïmbre 1576 (Lus. 43 II, 509v).\n",
      "    ls$nascimento@wikidata/\"https://www.wikidata.org/wiki/Q597\"%Lisboa/1561\n",
      "    ls$nascimento/Lisboa#@wikidata:Q597/1561\n",
      "    ls$jesuita-entrada@wikidata/\"https://www.wikidata.org/wiki/Q45412\"%Coimbra/1576\n",
      "    ls$jesuita-entrada/Coimbra#@wikidata:Q45412/1576\n",
      "    ls$jesuita-cargo/Provincial de Portugal/1627\n",
      "    ls$jesuita-cargo/Provincial de Portugal/1629\n",
      "  referido$António de Abreu/m/id=deh-antonio-de-abreu-ref2\n",
      "    rel$function-in-act/referido/lista/dehergne-notices-a//obs=line: 28\n",
      "    ls$nacionalidade/Portugal/\n",
      "    ls$dehergne/1-ref2/obs=Un P. de ce nom meurt dans un naufrage le 31 oct. 1611, mais à Coulam, sur la côte malabare (Goa 24 II). HS 43a, 2v parle, semble-t-il, de ce dernier qu'il reporte à l'an 1612.\n",
      "    ls$morte@wikidata/\"https://www.wikidata.org/wiki/Q321475\"%Coulam, Malabar/1611-10-31\n",
      "    ls$morte/Coulam, Malabar#Naufrágio @wikidata:Q321475/1611-10-31\n"
     ]
    }
   ],
   "source": [
    "\n",
    "with tlnb.db.session() as session:\n",
    "    session.add(p)\n",
    "    print(p.to_kleio())\n"
   ]
  }
 ],
 "metadata": {
  "kernelspec": {
   "display_name": ".venv",
   "language": "python",
   "name": "python3"
  },
  "language_info": {
   "codemirror_mode": {
    "name": "ipython",
    "version": 3
   },
   "file_extension": ".py",
   "mimetype": "text/x-python",
   "name": "python",
   "nbconvert_exporter": "python",
   "pygments_lexer": "ipython3",
   "version": "3.10.14"
  }
 },
 "nbformat": 4,
 "nbformat_minor": 2
}
