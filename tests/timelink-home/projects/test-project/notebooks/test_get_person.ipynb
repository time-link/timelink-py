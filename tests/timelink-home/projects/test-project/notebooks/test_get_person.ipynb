{
 "cells": [
  {
   "cell_type": "markdown",
   "metadata": {},
   "source": [
    "## Test if get_person() and other similar functions in Database work as expected"
   ]
  },
  {
   "cell_type": "code",
   "execution_count": 1,
   "metadata": {},
   "outputs": [
    {
     "name": "stdout",
     "output_type": "stream",
     "text": [
      "Timelink version: 1.1.14\n",
      "Project name: test-project\n",
      "Project home: /Users/jrc/develop/timelink-py/tests/timelink-home/projects/test-project\n",
      "Database type: sqlite\n",
      "Database name: test_project\n",
      "Kleio image: timelinkserver/kleio-server\n",
      "Kleio server token: wBi8XRnXZhUHvmvzhSJl3p53TwoTiDwI\n",
      "Kleio server URL: http://127.0.0.1:8089\n",
      "Kleio server home: /Users/jrc/develop/timelink-py/tests/timelink-home/projects/test-project\n",
      "Kleio server container: musing_roentgen\n",
      "Kleio version requested: latest\n",
      "Kleio server version: 12.6.573 (2024-07-29 08:30:28)\n",
      "SQLite directory: /Users/jrc/develop/timelink-py/tests/timelink-home/projects/test-project/database/sqlite\n",
      "Call print_info(show_password=True) to show the Postgres password\n",
      "TimelinkNotebook(project_name=test-project, project_home=/Users/jrc/develop/timelink-py/tests/timelink-home/projects/test-project, db_type=sqlite, db_name=test_project, kleio_image=timelinkserver/kleio-server, kleio_version=latest, postgres_image=postgres, postgres_version=latest)\n"
     ]
    }
   ],
   "source": [
    "# NBVAL_IGNORE_OUTPUT\n",
    "\n",
    "from timelink.notebooks import TimelinkNotebook\n",
    "\n",
    "tlnb = TimelinkNotebook()\n",
    "tlnb.print_info(show_token=True)"
   ]
  },
  {
   "cell_type": "markdown",
   "metadata": {},
   "source": [
    "# This should work too"
   ]
  },
  {
   "cell_type": "code",
   "execution_count": 2,
   "metadata": {},
   "outputs": [
    {
     "name": "stdout",
     "output_type": "stream",
     "text": [
      "n$António de Abreu/m/id=deh-antonio-de-abreu\n",
      "  ls$nacionalidade/Portugal/0\n",
      "  ls$jesuita-estatuto/Padre/0\n",
      "  ls$jesuita-entrada@wikidata/\"https://www.wikidata.org/wiki/Q1171\"%Goa, Índia/15791200\n",
      "  ls$jesuita-entrada/Goa, Índia#@wikidata:Q1171/15791200\n",
      "  ls$embarque/S. Valentim/16020325\n",
      "  ls$wicky/486/16020325\n",
      "  ls$wicky-viagem/44/16020325\n",
      "  ls$jesuita-votos/4V/16040106\n",
      "  ls$jesuita-votos-local@wikidata/\"https://www.wikidata.org/wiki/Q695585\"%Negapattinam, Índia/16040106\n",
      "  ls$jesuita-votos-local/Negapattinam, Índia#@wikidata:Q695585%Negapatami (Négapatam)/16040106\n",
      "  ls$morte@wikidata/\"https://www.wikidata.org/wiki/Q57970\"%Changchow, China/16110000\n",
      "  ls$morte/Changchow, China#no rio, a caminho do Japão @wikidata:Q57970/16110000\n",
      "  ls$dehergne/1/0/obs=\"\"\"\n",
      "      E. Goa, déc. 1579 (DI XII, 612 n. 54). Emb. non prêtre, le 25 mars 1602, sur\n",
      "  le S. Valentim (W 486). | V. « Negapatami » (Négapatam), 6 janv. 1604, pr. (Lus.\n",
      "  3, 82). Il signe Antonius Dabreu. M. dans la rivière de « Chincheo »,m.q.\n",
      "  Changchow (Tchang-tcheou), ou peut-être Chuanchow (Ts'iuen-tcheou), au Fou-kien,\n",
      "  en 1611, en route vers le Japon (Schûtte 343., HS 43, 57 dit 1612). Pf. 125.\n",
      "  (Distinct du Provincial de Portugal de ce nom, 1627-1629 N. Lisbonne 1561, E. à\n",
      "  Coïmbre 1576 (Lus. 43 II, 509v). Un P. de ce nom meurt dans un naufrage le 31\n",
      "  oct. 1611, mais à Coulam, sur la côte malabare (Goa 24 II). HS 43a, 2v parle,\n",
      "  semble-t-il, de ce dernier qu'il reporte à l'an 1612.\n",
      "  \"\"\"\n",
      "  referido$António de Abreu/m/id=deh-antonio-de-abreu-ref1\n",
      "    ls$nacionalidade/Portugal/0\n",
      "    ls$jesuita-cargo/Provincial de Portugal/16270000\n",
      "    ls$jesuita-cargo/Provincial de Portugal/16290000\n",
      "    ls$nascimento@wikidata/\"https://www.wikidata.org/wiki/Q597\"%Lisboa/15610000\n",
      "    ls$nascimento/Lisboa#@wikidata:Q597/15610000\n",
      "    ls$jesuita-entrada@wikidata/\"https://www.wikidata.org/wiki/Q45412\"%Coimbra/15760000\n",
      "    ls$jesuita-entrada/Coimbra#@wikidata:Q45412/15760000\n",
      "    ls$dehergne/1-ref1/0/obs=\"\"\"\n",
      "      (Distinct du Provincial de Portugal de ce nom, 1627-1629 N. Lisbonne 1561,\n",
      "  E. à Coïmbre 1576 (Lus. 43 II, 509v).\n",
      "  \"\"\"\n",
      "  referido$António de Abreu/m/id=deh-antonio-de-abreu-ref2\n",
      "    ls$nacionalidade/Portugal/0\n",
      "    ls$morte@wikidata/\"https://www.wikidata.org/wiki/Q321475\"%Coulam, Malabar/16111031\n",
      "    ls$morte/Coulam, Malabar#Naufrágio @wikidata:Q321475/16111031\n",
      "    ls$dehergne/1-ref2/0/obs=\"\"\"\n",
      "      Un P. de ce nom meurt dans un naufrage le 31 oct. 1611, mais à Coulam, sur\n",
      "  la côte malabare (Goa 24 II). HS 43a, 2v parle, semble-t-il, de ce dernier qu'il\n",
      "  reporte à l'an 1612.\n",
      "  \"\"\"\n"
     ]
    }
   ],
   "source": [
    "# NBVAL_IGNORE_OUTPUT\n",
    "# for some reason this gerates a little variation in the output and the test fails\n",
    "# so we are ignoring the output\n",
    "from timelink.api.models import Person\n",
    "\n",
    "id = 'deh-antonio-de-abreu'\n",
    "\n",
    "with tlnb.db.session() as session:\n",
    "    p = tlnb.db.get_person(id, session=session)\n",
    "    print(p.to_kleio())"
   ]
  },
  {
   "cell_type": "code",
   "execution_count": 3,
   "metadata": {},
   "outputs": [
    {
     "name": "stdout",
     "output_type": "stream",
     "text": [
      "n$luisa gomes/f/id=soure-1740-o12-luisa/obs=Test changing value in object\n",
      "  referido$antonio da cunha roxo/m/id=soure-1740-o12-luisa-per1/obs=teve filhos com luisa gomes\n",
      "    ls$naturalidade/lorvao/17401007\n",
      "    ls$morto/antes/17401007\n",
      "    rel$parentesco/marido1/luisa gomes/soure-1740-o12-luisa/17401007\n",
      "  marido$manuel gomes da costa/m/id=soure-1740-o12-luisa-per2/obs=teve filhos com luisa gomes\n",
      "    ls$naturalidade/eiras/17401007\n",
      "    ls$ec/c/17401007\n",
      "  rel$parentesco/mulher/manuel gomes da costa/soure-1740-o12-luisa-per2/17401007\n",
      "  ls$ec/c/17401007\n",
      "  ls$morto/agora/17401007\n"
     ]
    }
   ],
   "source": [
    "\n",
    "with tlnb.db.session() as session:\n",
    "    p.obs = 'Test changing value in object'\n",
    "    session.add(p)\n",
    "    session.commit()\n",
    "    print(p.to_kleio())\n"
   ]
  }
 ],
 "metadata": {
  "kernelspec": {
   "display_name": ".venv",
   "language": "python",
   "name": "python3"
  },
  "language_info": {
   "codemirror_mode": {
    "name": "ipython",
    "version": 3
   },
   "file_extension": ".py",
   "mimetype": "text/x-python",
   "name": "python",
   "nbconvert_exporter": "python",
   "pygments_lexer": "ipython3",
   "version": "3.11.1"
  }
 },
 "nbformat": 4,
 "nbformat_minor": 2
}
