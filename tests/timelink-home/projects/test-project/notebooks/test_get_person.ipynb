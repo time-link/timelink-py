{
 "cells": [
  {
   "cell_type": "markdown",
   "metadata": {},
   "source": [
    "## Test if get_person() and other similar functions in Database work as expected"
   ]
  },
  {
   "cell_type": "code",
   "execution_count": 1,
   "metadata": {},
   "outputs": [
    {
     "name": "stdout",
     "output_type": "stream",
     "text": [
      "Timelink version: 1.1.11\n",
      "Project name: test-project\n",
      "Project home: /Users/jrc/develop/timelink-py/tests/timelink-home/projects/test-project\n",
      "Database type: sqlite\n",
      "Database name: test_project\n",
      "Kleio image: timelinkserver/kleio-server\n",
      "Kleio server token: rGIlPB65zvJg0sTkuwje5BKixXNnb2vq\n",
      "Kleio server URL: http://127.0.0.1:8088\n",
      "Kleio server home: /Users/jrc/develop/timelink-py/tests/timelink-home/projects/test-project\n",
      "Kleio server container: practical_satoshi\n",
      "Kleio version requested: latest\n",
      "Kleio server version: 12.5.570 (2024-02-29 07:39:03)\n",
      "SQLite directory: /Users/jrc/develop/timelink-py/tests/timelink-home/projects/test-project/database/sqlite\n",
      "Call print_info(show_password=True) to show the Postgres password\n",
      "TimelinkNotebook(project_name=test-project, project_home=/Users/jrc/develop/timelink-py/tests/timelink-home/projects/test-project, db_type=sqlite, db_name=test_project, kleio_image=timelinkserver/kleio-server, kleio_version=latest, postgres_image=postgres, postgres_version=latest)\n"
     ]
    }
   ],
   "source": [
    "from timelink.notebooks import TimelinkNotebook\n",
    "\n",
    "tlnb = TimelinkNotebook()\n",
    "tlnb.print_info(show_token=True)"
   ]
  },
  {
   "cell_type": "code",
   "execution_count": 10,
   "metadata": {},
   "outputs": [
    {
     "name": "stdout",
     "output_type": "stream",
     "text": [
      "The object is detached. Attaching it to a session.\n",
      "n$António de Abreu/m/id=deh-antonio-de-abreu\n",
      "  ls$nacionalidade/Portugal/0\n",
      "  ls$jesuita-estatuto/Padre/0\n",
      "  ls$jesuita-entrada@wikidata/\"https://www.wikidata.org/wiki/Q1171\"/15791200\n",
      "  ls$jesuita-entrada/Goa, Índia/15791200\n",
      "  ls$embarque/S. Valentim/16020325\n",
      "  ls$wicky/486/16020325\n",
      "  ls$wicky-viagem/44/16020325\n",
      "  ls$jesuita-votos/4V/16040106\n",
      "  ls$jesuita-votos-local@wikidata/\"https://www.wikidata.org/wiki/Q695585\"/16040106\n",
      "  ls$jesuita-votos-local/Negapattinam, Índia/16040106\n",
      "  ls$morte@wikidata/\"https://www.wikidata.org/wiki/Q57970\"/16110000\n",
      "  ls$morte/Changchow, China/16110000\n",
      "  ls$dehergne/1/0/obs=\"\"\"\n",
      "      E. Goa, déc. 1579 (DI XII, 612 n. 54). Emb. non prêtre, le 25 mars 1602, sur le S. Valentim (W 486). | V. « Negapatami » (Négapatam), 6 janv. 1604, pr. (Lus. 3, 82). Il signe Antonius Dabreu. M. dans la rivière de « Chincheo »,m.q. Changchow (Tchang-tcheou), ou peut-être Chuanchow (Ts'iuen-tcheou), au Fou-kien, en 1611, en route vers le Japon (Schûtte 343., HS 43, 57 dit 1612). Pf. 125. (Distinct du Provincial de Portugal de ce nom, 1627-1629 N. Lisbonne 1561, E. à Coïmbre 1576 (Lus. 43 II, 509v). Un P. de ce nom meurt dans un naufrage le 31 oct. 1611, mais à Coulam, sur la côte malabare (Goa 24 II). HS 43a, 2v parle, semble-t-il, de ce dernier qu'il reporte à l'an 1612.\n",
      "  \"\"\"\n",
      "  referido$António de Abreu/m/id=deh-antonio-de-abreu-ref1\n",
      "    ls$nacionalidade/Portugal/0\n",
      "    ls$jesuita-cargo/Provincial de Portugal/16270000\n",
      "    ls$jesuita-cargo/Provincial de Portugal/16290000\n",
      "    ls$nascimento@wikidata/\"https://www.wikidata.org/wiki/Q597\"/15610000\n",
      "    ls$nascimento/Lisboa/15610000\n",
      "    ls$jesuita-entrada@wikidata/\"https://www.wikidata.org/wiki/Q45412\"/15760000\n",
      "    ls$jesuita-entrada/Coimbra/15760000\n",
      "    ls$dehergne/1-ref1/0/obs=(Distinct du Provincial de Portugal de ce nom, 1627-1629 N. Lisbonne 1561, E. à Coïmbre 1576 (Lus. 43 II, 509v).\n",
      "  referido$António de Abreu/m/id=deh-antonio-de-abreu-ref2\n",
      "    ls$nacionalidade/Portugal/0\n",
      "    ls$morte@wikidata/\"https://www.wikidata.org/wiki/Q321475\"/16111031\n",
      "    ls$morte/Coulam, Malabar/16111031\n",
      "    ls$dehergne/1-ref2/0/obs=\"\"\"\n",
      "      Un P. de ce nom meurt dans un naufrage le 31 oct. 1611, mais à Coulam, sur la côte malabare (Goa 24 II). HS 43a, 2v parle, semble-t-il, de ce dernier qu'il reporte à l'an 1612.\n",
      "  \"\"\"\n"
     ]
    }
   ],
   "source": [
    "from timelink.api.models.person import Person\n",
    "from sqlalchemy.orm import object_session\n",
    "\n",
    "id = 'deh-antonio-de-abreu'\n",
    "\n",
    "p = tlnb.db.get_person(id)\n",
    "\n",
    "# Assuming 'my_object' is the instance you want to check\n",
    "if object_session(p) is None:\n",
    "    print(\"The object is detached. Attaching it to a session.\")\n",
    "    with tlnb.db.session() as session:\n",
    "        session.add(p)\n",
    "        print(p.to_kleio())\n",
    "else:\n",
    "    print(\"The object is attached to a session.\")\n",
    "    print(p.to_kleio())\n",
    "\n",
    "\n"
   ]
  },
  {
   "cell_type": "markdown",
   "metadata": {},
   "source": [
    "# This should work too"
   ]
  },
  {
   "cell_type": "code",
   "execution_count": 13,
   "metadata": {},
   "outputs": [
    {
     "ename": "DetachedInstanceError",
     "evalue": "Parent instance <Person at 0x14007f250> is not bound to a Session; lazy load operation of attribute 'contains' cannot proceed (Background on this error at: https://sqlalche.me/e/20/bhk3)",
     "output_type": "error",
     "traceback": [
      "\u001b[0;31m---------------------------------------------------------------------------\u001b[0m",
      "\u001b[0;31mDetachedInstanceError\u001b[0m                     Traceback (most recent call last)",
      "Cell \u001b[0;32mIn[13], line 2\u001b[0m\n\u001b[1;32m      1\u001b[0m p \u001b[38;5;241m=\u001b[39m tlnb\u001b[38;5;241m.\u001b[39mdb\u001b[38;5;241m.\u001b[39mget_person(\u001b[38;5;28mid\u001b[39m)\n\u001b[0;32m----> 2\u001b[0m \u001b[38;5;28mprint\u001b[39m(\u001b[43mp\u001b[49m\u001b[38;5;241;43m.\u001b[39;49m\u001b[43mto_kleio\u001b[49m\u001b[43m(\u001b[49m\u001b[43m)\u001b[49m)\n",
      "File \u001b[0;32m~/develop/timelink-py/timelink/api/models/person.py:45\u001b[0m, in \u001b[0;36mPerson.to_kleio\u001b[0;34m(self, ident, ident_inc, show_contained, width)\u001b[0m\n\u001b[1;32m     43\u001b[0m \u001b[38;5;28;01mif\u001b[39;00m \u001b[38;5;28mself\u001b[39m\u001b[38;5;241m.\u001b[39mobs \u001b[38;5;129;01mis\u001b[39;00m \u001b[38;5;129;01mnot\u001b[39;00m \u001b[38;5;28;01mNone\u001b[39;00m \u001b[38;5;129;01mand\u001b[39;00m \u001b[38;5;28mlen\u001b[39m(\u001b[38;5;28mself\u001b[39m\u001b[38;5;241m.\u001b[39mobs\u001b[38;5;241m.\u001b[39mstrip()) \u001b[38;5;241m>\u001b[39m \u001b[38;5;241m0\u001b[39m:\n\u001b[1;32m     44\u001b[0m     r \u001b[38;5;241m=\u001b[39m \u001b[38;5;124mf\u001b[39m\u001b[38;5;124m\"\u001b[39m\u001b[38;5;132;01m{\u001b[39;00mr\u001b[38;5;132;01m}\u001b[39;00m\u001b[38;5;124m/obs=\u001b[39m\u001b[38;5;132;01m{\u001b[39;00mquote_long_text(\u001b[38;5;28mself\u001b[39m\u001b[38;5;241m.\u001b[39mobs,width\u001b[38;5;241m=\u001b[39mwidth)\u001b[38;5;132;01m}\u001b[39;00m\u001b[38;5;124m\"\u001b[39m\n\u001b[0;32m---> 45\u001b[0m kleio \u001b[38;5;241m=\u001b[39m \u001b[38;5;28;43msuper\u001b[39;49m\u001b[43m(\u001b[49m\u001b[43m)\u001b[49m\u001b[38;5;241;43m.\u001b[39;49m\u001b[43mto_kleio\u001b[49m\u001b[43m(\u001b[49m\n\u001b[1;32m     46\u001b[0m \u001b[43m    \u001b[49m\u001b[43mself_string\u001b[49m\u001b[38;5;241;43m=\u001b[39;49m\u001b[43mr\u001b[49m\u001b[43m,\u001b[49m\n\u001b[1;32m     47\u001b[0m \u001b[43m    \u001b[49m\u001b[43mshow_contained\u001b[49m\u001b[38;5;241;43m=\u001b[39;49m\u001b[43mshow_contained\u001b[49m\u001b[43m,\u001b[49m\n\u001b[1;32m     48\u001b[0m \u001b[43m    \u001b[49m\u001b[43mident\u001b[49m\u001b[38;5;241;43m=\u001b[39;49m\u001b[43mident\u001b[49m\u001b[43m,\u001b[49m\n\u001b[1;32m     49\u001b[0m \u001b[43m    \u001b[49m\u001b[43mident_inc\u001b[49m\u001b[38;5;241;43m=\u001b[39;49m\u001b[43mident_inc\u001b[49m\u001b[43m,\u001b[49m\n\u001b[1;32m     50\u001b[0m \u001b[43m    \u001b[49m\u001b[43mwidth\u001b[49m\u001b[38;5;241;43m=\u001b[39;49m\u001b[43mwidth\u001b[49m\u001b[43m,\u001b[49m\n\u001b[1;32m     51\u001b[0m \u001b[43m\u001b[49m\u001b[43m)\u001b[49m\n\u001b[1;32m     52\u001b[0m \u001b[38;5;28;01mreturn\u001b[39;00m kleio\n",
      "File \u001b[0;32m~/develop/timelink-py/timelink/api/models/entity.py:237\u001b[0m, in \u001b[0;36mEntity.to_kleio\u001b[0;34m(self, self_string, show_contained, ident, ident_inc, **kwargs)\u001b[0m\n\u001b[1;32m    234\u001b[0m \u001b[38;5;28;01melse\u001b[39;00m:\n\u001b[1;32m    235\u001b[0m     s \u001b[38;5;241m=\u001b[39m \u001b[38;5;124mf\u001b[39m\u001b[38;5;124m\"\u001b[39m\u001b[38;5;132;01m{\u001b[39;00mident\u001b[38;5;132;01m}\u001b[39;00m\u001b[38;5;132;01m{\u001b[39;00mself_string\u001b[38;5;132;01m}\u001b[39;00m\u001b[38;5;124m\"\u001b[39m\n\u001b[0;32m--> 237\u001b[0m contained_entities: List[Entity] \u001b[38;5;241m=\u001b[39m \u001b[38;5;28;43mself\u001b[39;49m\u001b[38;5;241;43m.\u001b[39;49m\u001b[43mcontains\u001b[49m\n\u001b[1;32m    238\u001b[0m \u001b[38;5;66;03m# sort by the_order\u001b[39;00m\n\u001b[1;32m    239\u001b[0m \u001b[38;5;28;01mif\u001b[39;00m show_contained \u001b[38;5;129;01mand\u001b[39;00m contained_entities \u001b[38;5;129;01mis\u001b[39;00m \u001b[38;5;129;01mnot\u001b[39;00m \u001b[38;5;28;01mNone\u001b[39;00m:\n",
      "File \u001b[0;32m~/develop/timelink-py/.venv/lib/python3.11/site-packages/sqlalchemy/orm/attributes.py:566\u001b[0m, in \u001b[0;36mInstrumentedAttribute.__get__\u001b[0;34m(self, instance, owner)\u001b[0m\n\u001b[1;32m    564\u001b[0m \u001b[38;5;28;01mexcept\u001b[39;00m \u001b[38;5;167;01mAttributeError\u001b[39;00m \u001b[38;5;28;01mas\u001b[39;00m err:\n\u001b[1;32m    565\u001b[0m     \u001b[38;5;28;01mraise\u001b[39;00m orm_exc\u001b[38;5;241m.\u001b[39mUnmappedInstanceError(instance) \u001b[38;5;28;01mfrom\u001b[39;00m \u001b[38;5;21;01merr\u001b[39;00m\n\u001b[0;32m--> 566\u001b[0m \u001b[38;5;28;01mreturn\u001b[39;00m \u001b[38;5;28;43mself\u001b[39;49m\u001b[38;5;241;43m.\u001b[39;49m\u001b[43mimpl\u001b[49m\u001b[38;5;241;43m.\u001b[39;49m\u001b[43mget\u001b[49m\u001b[43m(\u001b[49m\u001b[43mstate\u001b[49m\u001b[43m,\u001b[49m\u001b[43m \u001b[49m\u001b[43mdict_\u001b[49m\u001b[43m)\u001b[49m\n",
      "File \u001b[0;32m~/develop/timelink-py/.venv/lib/python3.11/site-packages/sqlalchemy/orm/attributes.py:1086\u001b[0m, in \u001b[0;36mAttributeImpl.get\u001b[0;34m(self, state, dict_, passive)\u001b[0m\n\u001b[1;32m   1083\u001b[0m \u001b[38;5;28;01mif\u001b[39;00m \u001b[38;5;129;01mnot\u001b[39;00m passive \u001b[38;5;241m&\u001b[39m CALLABLES_OK:\n\u001b[1;32m   1084\u001b[0m     \u001b[38;5;28;01mreturn\u001b[39;00m PASSIVE_NO_RESULT\n\u001b[0;32m-> 1086\u001b[0m value \u001b[38;5;241m=\u001b[39m \u001b[38;5;28;43mself\u001b[39;49m\u001b[38;5;241;43m.\u001b[39;49m\u001b[43m_fire_loader_callables\u001b[49m\u001b[43m(\u001b[49m\u001b[43mstate\u001b[49m\u001b[43m,\u001b[49m\u001b[43m \u001b[49m\u001b[43mkey\u001b[49m\u001b[43m,\u001b[49m\u001b[43m \u001b[49m\u001b[43mpassive\u001b[49m\u001b[43m)\u001b[49m\n\u001b[1;32m   1088\u001b[0m \u001b[38;5;28;01mif\u001b[39;00m value \u001b[38;5;129;01mis\u001b[39;00m PASSIVE_NO_RESULT \u001b[38;5;129;01mor\u001b[39;00m value \u001b[38;5;129;01mis\u001b[39;00m NO_VALUE:\n\u001b[1;32m   1089\u001b[0m     \u001b[38;5;28;01mreturn\u001b[39;00m value\n",
      "File \u001b[0;32m~/develop/timelink-py/.venv/lib/python3.11/site-packages/sqlalchemy/orm/attributes.py:1121\u001b[0m, in \u001b[0;36mAttributeImpl._fire_loader_callables\u001b[0;34m(self, state, key, passive)\u001b[0m\n\u001b[1;32m   1119\u001b[0m     \u001b[38;5;28;01mreturn\u001b[39;00m callable_(state, passive)\n\u001b[1;32m   1120\u001b[0m \u001b[38;5;28;01melif\u001b[39;00m \u001b[38;5;28mself\u001b[39m\u001b[38;5;241m.\u001b[39mcallable_:\n\u001b[0;32m-> 1121\u001b[0m     \u001b[38;5;28;01mreturn\u001b[39;00m \u001b[38;5;28;43mself\u001b[39;49m\u001b[38;5;241;43m.\u001b[39;49m\u001b[43mcallable_\u001b[49m\u001b[43m(\u001b[49m\u001b[43mstate\u001b[49m\u001b[43m,\u001b[49m\u001b[43m \u001b[49m\u001b[43mpassive\u001b[49m\u001b[43m)\u001b[49m\n\u001b[1;32m   1122\u001b[0m \u001b[38;5;28;01melse\u001b[39;00m:\n\u001b[1;32m   1123\u001b[0m     \u001b[38;5;28;01mreturn\u001b[39;00m ATTR_EMPTY\n",
      "File \u001b[0;32m~/develop/timelink-py/.venv/lib/python3.11/site-packages/sqlalchemy/orm/strategies.py:918\u001b[0m, in \u001b[0;36mLazyLoader._load_for_state\u001b[0;34m(self, state, passive, loadopt, extra_criteria, extra_options, alternate_effective_path, execution_options)\u001b[0m\n\u001b[1;32m    915\u001b[0m     \u001b[38;5;28;01mif\u001b[39;00m passive \u001b[38;5;241m&\u001b[39m PassiveFlag\u001b[38;5;241m.\u001b[39mNO_RAISE:\n\u001b[1;32m    916\u001b[0m         \u001b[38;5;28;01mreturn\u001b[39;00m LoaderCallableStatus\u001b[38;5;241m.\u001b[39mPASSIVE_NO_RESULT\n\u001b[0;32m--> 918\u001b[0m     \u001b[38;5;28;01mraise\u001b[39;00m orm_exc\u001b[38;5;241m.\u001b[39mDetachedInstanceError(\n\u001b[1;32m    919\u001b[0m         \u001b[38;5;124m\"\u001b[39m\u001b[38;5;124mParent instance \u001b[39m\u001b[38;5;132;01m%s\u001b[39;00m\u001b[38;5;124m is not bound to a Session; \u001b[39m\u001b[38;5;124m\"\u001b[39m\n\u001b[1;32m    920\u001b[0m         \u001b[38;5;124m\"\u001b[39m\u001b[38;5;124mlazy load operation of attribute \u001b[39m\u001b[38;5;124m'\u001b[39m\u001b[38;5;132;01m%s\u001b[39;00m\u001b[38;5;124m'\u001b[39m\u001b[38;5;124m cannot proceed\u001b[39m\u001b[38;5;124m\"\u001b[39m\n\u001b[1;32m    921\u001b[0m         \u001b[38;5;241m%\u001b[39m (orm_util\u001b[38;5;241m.\u001b[39mstate_str(state), \u001b[38;5;28mself\u001b[39m\u001b[38;5;241m.\u001b[39mkey)\n\u001b[1;32m    922\u001b[0m     )\n\u001b[1;32m    924\u001b[0m \u001b[38;5;66;03m# if we have a simple primary key load, check the\u001b[39;00m\n\u001b[1;32m    925\u001b[0m \u001b[38;5;66;03m# identity map without generating a Query at all\u001b[39;00m\n\u001b[1;32m    926\u001b[0m \u001b[38;5;28;01mif\u001b[39;00m use_get:\n",
      "\u001b[0;31mDetachedInstanceError\u001b[0m: Parent instance <Person at 0x14007f250> is not bound to a Session; lazy load operation of attribute 'contains' cannot proceed (Background on this error at: https://sqlalche.me/e/20/bhk3)"
     ]
    }
   ],
   "source": [
    "p = tlnb.db.get_person(id)\n",
    "print(p.to_kleio())"
   ]
  },
  {
   "cell_type": "code",
   "execution_count": null,
   "metadata": {},
   "outputs": [],
   "source": [
    "\n",
    "with tlnb.db.session() as session:\n",
    "    session.add(p)\n",
    "    print(p.to_kleio())\n"
   ]
  }
 ],
 "metadata": {
  "kernelspec": {
   "display_name": ".venv",
   "language": "python",
   "name": "python3"
  },
  "language_info": {
   "codemirror_mode": {
    "name": "ipython",
    "version": 3
   },
   "file_extension": ".py",
   "mimetype": "text/x-python",
   "name": "python",
   "nbconvert_exporter": "python",
   "pygments_lexer": "ipython3",
   "version": "3.11.1"
  }
 },
 "nbformat": 4,
 "nbformat_minor": 2
}
