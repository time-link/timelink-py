{
 "cells": [
  {
   "cell_type": "markdown",
   "metadata": {},
   "source": [
    "## Test if get_person() and other similar functions in Database work as expected"
   ]
  },
  {
   "cell_type": "code",
   "execution_count": 9,
   "metadata": {},
   "outputs": [
    {
     "name": "stdout",
     "output_type": "stream",
     "text": [
      "Timelink version: 1.1.11\n",
      "Project name: test-project\n",
      "Project home: /Users/jrc/develop/timelink-py/tests/timelink-home/projects/test-project\n",
      "Database type: sqlite\n",
      "Database name: test_project\n",
      "Kleio image: timelinkserver/kleio-server\n",
      "Kleio server token: QeOqgSCzQ5oI4GqIMLKiGK25QVxiIcYq\n",
      "Kleio server URL: http://127.0.0.1:8089\n",
      "Kleio server home: /Users/jrc/develop/timelink-py/tests/timelink-home/projects/test-project\n",
      "Kleio server container: peaceful_rosalind\n",
      "Kleio version requested: latest\n",
      "Kleio server version: 12.6.573 (2024-07-29 08:30:28)\n",
      "SQLite directory: /Users/jrc/develop/timelink-py/tests/timelink-home/projects/test-project/database/sqlite\n",
      "Call print_info(show_password=True) to show the Postgres password\n",
      "TimelinkNotebook(project_name=test-project, project_home=/Users/jrc/develop/timelink-py/tests/timelink-home/projects/test-project, db_type=sqlite, db_name=test_project, kleio_image=timelinkserver/kleio-server, kleio_version=latest, postgres_image=postgres, postgres_version=latest)\n"
     ]
    }
   ],
   "source": [
    "# NBVAL_IGNORE_OUTPUT\n",
    "\n",
    "from timelink.notebooks import TimelinkNotebook\n",
    "\n",
    "tlnb = TimelinkNotebook()\n",
    "tlnb.print_info(show_token=True)"
   ]
  },
  {
   "cell_type": "code",
   "execution_count": 10,
   "metadata": {},
   "outputs": [
    {
     "name": "stdout",
     "output_type": "stream",
     "text": [
      "The object is detached. Attaching it to a session.\n",
      "n$António de Abreu/m/id=deh-antonio-de-abreu/obs=Test changing value in object\n",
      "  ls$nacionalidade/Portugal/0\n",
      "  ls$jesuita-estatuto/Padre/0\n",
      "  ls$jesuita-entrada@wikidata/\"https://www.wikidata.org/wiki/Q1171\"/15791200\n",
      "  ls$jesuita-entrada/Goa, Índia/15791200\n",
      "  ls$embarque/S. Valentim/16020325\n",
      "  ls$wicky/486/16020325\n",
      "  ls$wicky-viagem/44/16020325\n",
      "  ls$jesuita-votos/4V/16040106\n",
      "  ls$jesuita-votos-local@wikidata/\"https://www.wikidata.org/wiki/Q695585\"/16040106\n",
      "  ls$jesuita-votos-local/Negapattinam, Índia/16040106\n",
      "  ls$morte@wikidata/\"https://www.wikidata.org/wiki/Q57970\"/16110000\n",
      "  ls$morte/Changchow, China/16110000\n",
      "  ls$dehergne/1/0/obs=\"\"\"\n",
      "      E. Goa, déc. 1579 (DI XII, 612 n. 54). Emb. non prêtre, le 25 mars 1602, sur le S. Valentim (W 486). | V. « Negapatami » (Négapatam), 6 janv. 1604, pr. (Lus. 3, 82). Il signe Antonius Dabreu. M. dans la rivière de « Chincheo »,m.q. Changchow (Tchang-tcheou), ou peut-être Chuanchow (Ts'iuen-tcheou), au Fou-kien, en 1611, en route vers le Japon (Schûtte 343., HS 43, 57 dit 1612). Pf. 125. (Distinct du Provincial de Portugal de ce nom, 1627-1629 N. Lisbonne 1561, E. à Coïmbre 1576 (Lus. 43 II, 509v). Un P. de ce nom meurt dans un naufrage le 31 oct. 1611, mais à Coulam, sur la côte malabare (Goa 24 II). HS 43a, 2v parle, semble-t-il, de ce dernier qu'il reporte à l'an 1612.\n",
      "  \"\"\"\n",
      "  referido$António de Abreu/m/id=deh-antonio-de-abreu-ref1\n",
      "    ls$nacionalidade/Portugal/0\n",
      "    ls$jesuita-cargo/Provincial de Portugal/16270000\n",
      "    ls$jesuita-cargo/Provincial de Portugal/16290000\n",
      "    ls$nascimento@wikidata/\"https://www.wikidata.org/wiki/Q597\"/15610000\n",
      "    ls$nascimento/Lisboa/15610000\n",
      "    ls$jesuita-entrada@wikidata/\"https://www.wikidata.org/wiki/Q45412\"/15760000\n",
      "    ls$jesuita-entrada/Coimbra/15760000\n",
      "    ls$dehergne/1-ref1/0/obs=(Distinct du Provincial de Portugal de ce nom, 1627-1629 N. Lisbonne 1561, E. à Coïmbre 1576 (Lus. 43 II, 509v).\n",
      "  referido$António de Abreu/m/id=deh-antonio-de-abreu-ref2\n",
      "    ls$nacionalidade/Portugal/0\n",
      "    ls$morte@wikidata/\"https://www.wikidata.org/wiki/Q321475\"/16111031\n",
      "    ls$morte/Coulam, Malabar/16111031\n",
      "    ls$dehergne/1-ref2/0/obs=\"\"\"\n",
      "      Un P. de ce nom meurt dans un naufrage le 31 oct. 1611, mais à Coulam, sur la côte malabare (Goa 24 II). HS 43a, 2v parle, semble-t-il, de ce dernier qu'il reporte à l'an 1612.\n",
      "  \"\"\"\n"
     ]
    }
   ],
   "source": [
    "from timelink.api.models.person import Person\n",
    "from sqlalchemy.orm import object_session\n",
    "\n",
    "id = 'deh-antonio-de-abreu'\n",
    "\n",
    "p = tlnb.db.get_person(id)\n",
    "\n",
    "# Assuming 'my_object' is the instance you want to check\n",
    "if object_session(p) is None:\n",
    "    print(\"The object is detached. Attaching it to a session.\")\n",
    "    with tlnb.db.session() as session:\n",
    "        session.add(p)\n",
    "        print(p.to_kleio())\n",
    "else:\n",
    "    print(\"The object is attached to a session.\")\n",
    "    print(p.to_kleio())\n",
    "\n",
    "\n"
   ]
  },
  {
   "cell_type": "markdown",
   "metadata": {},
   "source": [
    "# This should work too"
   ]
  },
  {
   "cell_type": "code",
   "execution_count": 11,
   "metadata": {},
   "outputs": [
    {
     "name": "stdout",
     "output_type": "stream",
     "text": [
      "n$António de Abreu/m/id=deh-antonio-de-abreu/obs=Test changing value in object\n",
      "  ls$nacionalidade/Portugal/0\n",
      "  ls$jesuita-estatuto/Padre/0\n",
      "  ls$jesuita-entrada@wikidata/\"https://www.wikidata.org/wiki/Q1171\"/15791200\n",
      "  ls$jesuita-entrada/Goa, Índia/15791200\n",
      "  ls$embarque/S. Valentim/16020325\n",
      "  ls$wicky/486/16020325\n",
      "  ls$wicky-viagem/44/16020325\n",
      "  ls$jesuita-votos/4V/16040106\n",
      "  ls$jesuita-votos-local@wikidata/\"https://www.wikidata.org/wiki/Q695585\"/16040106\n",
      "  ls$jesuita-votos-local/Negapattinam, Índia/16040106\n",
      "  ls$morte@wikidata/\"https://www.wikidata.org/wiki/Q57970\"/16110000\n",
      "  ls$morte/Changchow, China/16110000\n",
      "  ls$dehergne/1/0/obs=\"\"\"\n",
      "      E. Goa, déc. 1579 (DI XII, 612 n. 54). Emb. non prêtre, le 25 mars 1602, sur le S. Valentim (W 486). | V. « Negapatami » (Négapatam), 6 janv. 1604, pr. (Lus. 3, 82). Il signe Antonius Dabreu. M. dans la rivière de « Chincheo »,m.q. Changchow (Tchang-tcheou), ou peut-être Chuanchow (Ts'iuen-tcheou), au Fou-kien, en 1611, en route vers le Japon (Schûtte 343., HS 43, 57 dit 1612). Pf. 125. (Distinct du Provincial de Portugal de ce nom, 1627-1629 N. Lisbonne 1561, E. à Coïmbre 1576 (Lus. 43 II, 509v). Un P. de ce nom meurt dans un naufrage le 31 oct. 1611, mais à Coulam, sur la côte malabare (Goa 24 II). HS 43a, 2v parle, semble-t-il, de ce dernier qu'il reporte à l'an 1612.\n",
      "  \"\"\"\n",
      "  referido$António de Abreu/m/id=deh-antonio-de-abreu-ref1\n",
      "    ls$nacionalidade/Portugal/0\n",
      "    ls$jesuita-cargo/Provincial de Portugal/16270000\n",
      "    ls$jesuita-cargo/Provincial de Portugal/16290000\n",
      "    ls$nascimento@wikidata/\"https://www.wikidata.org/wiki/Q597\"/15610000\n",
      "    ls$nascimento/Lisboa/15610000\n",
      "    ls$jesuita-entrada@wikidata/\"https://www.wikidata.org/wiki/Q45412\"/15760000\n",
      "    ls$jesuita-entrada/Coimbra/15760000\n",
      "    ls$dehergne/1-ref1/0/obs=(Distinct du Provincial de Portugal de ce nom, 1627-1629 N. Lisbonne 1561, E. à Coïmbre 1576 (Lus. 43 II, 509v).\n",
      "  referido$António de Abreu/m/id=deh-antonio-de-abreu-ref2\n",
      "    ls$nacionalidade/Portugal/0\n",
      "    ls$morte@wikidata/\"https://www.wikidata.org/wiki/Q321475\"/16111031\n",
      "    ls$morte/Coulam, Malabar/16111031\n",
      "    ls$dehergne/1-ref2/0/obs=\"\"\"\n",
      "      Un P. de ce nom meurt dans un naufrage le 31 oct. 1611, mais à Coulam, sur la côte malabare (Goa 24 II). HS 43a, 2v parle, semble-t-il, de ce dernier qu'il reporte à l'an 1612.\n",
      "  \"\"\"\n"
     ]
    },
    {
     "name": "stderr",
     "output_type": "stream",
     "text": [
      "/var/folders/x7/qzytnd752559g0w475rfwkx00000gn/T/ipykernel_86928/2527046949.py:4: LegacyAPIWarning: The Query.get() method is considered legacy as of the 1.x series of SQLAlchemy and becomes a legacy construct in 2.0. The method is now available as Session.get() (deprecated since: 2.0) (Background on SQLAlchemy 2.0 at: https://sqlalche.me/e/b8d9)\n",
      "  p = session.query(Person).get(id)\n"
     ]
    }
   ],
   "source": [
    "# NBVAL_IGNORE_OUTPUT\n",
    "# for some reason this gerates a little variation in the output and the test fails\n",
    "# so we are ignoring the output\n",
    "from timelink.api.models import Person\n",
    "\n",
    "with tlnb.db.session() as session:\n",
    "    p = session.query(Person).get(id)\n",
    "    print(p.to_kleio())"
   ]
  },
  {
   "cell_type": "code",
   "execution_count": 12,
   "metadata": {},
   "outputs": [
    {
     "name": "stdout",
     "output_type": "stream",
     "text": [
      "n$António de Abreu/m/id=deh-antonio-de-abreu/obs=Test changing value in object\n",
      "  ls$nacionalidade/Portugal/0\n",
      "  ls$jesuita-estatuto/Padre/0\n",
      "  ls$jesuita-entrada@wikidata/\"https://www.wikidata.org/wiki/Q1171\"/15791200\n",
      "  ls$jesuita-entrada/Goa, Índia/15791200\n",
      "  ls$embarque/S. Valentim/16020325\n",
      "  ls$wicky/486/16020325\n",
      "  ls$wicky-viagem/44/16020325\n",
      "  ls$jesuita-votos/4V/16040106\n",
      "  ls$jesuita-votos-local@wikidata/\"https://www.wikidata.org/wiki/Q695585\"/16040106\n",
      "  ls$jesuita-votos-local/Negapattinam, Índia/16040106\n",
      "  ls$morte@wikidata/\"https://www.wikidata.org/wiki/Q57970\"/16110000\n",
      "  ls$morte/Changchow, China/16110000\n",
      "  ls$dehergne/1/0/obs=\"\"\"\n",
      "      E. Goa, déc. 1579 (DI XII, 612 n. 54). Emb. non prêtre, le 25 mars 1602, sur le S. Valentim (W 486). | V. « Negapatami » (Négapatam), 6 janv. 1604, pr. (Lus. 3, 82). Il signe Antonius Dabreu. M. dans la rivière de « Chincheo »,m.q. Changchow (Tchang-tcheou), ou peut-être Chuanchow (Ts'iuen-tcheou), au Fou-kien, en 1611, en route vers le Japon (Schûtte 343., HS 43, 57 dit 1612). Pf. 125. (Distinct du Provincial de Portugal de ce nom, 1627-1629 N. Lisbonne 1561, E. à Coïmbre 1576 (Lus. 43 II, 509v). Un P. de ce nom meurt dans un naufrage le 31 oct. 1611, mais à Coulam, sur la côte malabare (Goa 24 II). HS 43a, 2v parle, semble-t-il, de ce dernier qu'il reporte à l'an 1612.\n",
      "  \"\"\"\n",
      "  referido$António de Abreu/m/id=deh-antonio-de-abreu-ref1\n",
      "    ls$nacionalidade/Portugal/0\n",
      "    ls$jesuita-cargo/Provincial de Portugal/16270000\n",
      "    ls$jesuita-cargo/Provincial de Portugal/16290000\n",
      "    ls$nascimento@wikidata/\"https://www.wikidata.org/wiki/Q597\"/15610000\n",
      "    ls$nascimento/Lisboa/15610000\n",
      "    ls$jesuita-entrada@wikidata/\"https://www.wikidata.org/wiki/Q45412\"/15760000\n",
      "    ls$jesuita-entrada/Coimbra/15760000\n",
      "    ls$dehergne/1-ref1/0/obs=(Distinct du Provincial de Portugal de ce nom, 1627-1629 N. Lisbonne 1561, E. à Coïmbre 1576 (Lus. 43 II, 509v).\n",
      "  referido$António de Abreu/m/id=deh-antonio-de-abreu-ref2\n",
      "    ls$nacionalidade/Portugal/0\n",
      "    ls$morte@wikidata/\"https://www.wikidata.org/wiki/Q321475\"/16111031\n",
      "    ls$morte/Coulam, Malabar/16111031\n",
      "    ls$dehergne/1-ref2/0/obs=\"\"\"\n",
      "      Un P. de ce nom meurt dans un naufrage le 31 oct. 1611, mais à Coulam, sur la côte malabare (Goa 24 II). HS 43a, 2v parle, semble-t-il, de ce dernier qu'il reporte à l'an 1612.\n",
      "  \"\"\"\n"
     ]
    }
   ],
   "source": [
    "\n",
    "with tlnb.db.session() as session:\n",
    "    p.obs = 'Test changing value in object'\n",
    "    session.add(p)\n",
    "    session.commit()\n",
    "    print(p.to_kleio())\n"
   ]
  }
 ],
 "metadata": {
  "kernelspec": {
   "display_name": ".venv",
   "language": "python",
   "name": "python3"
  },
  "language_info": {
   "codemirror_mode": {
    "name": "ipython",
    "version": 3
   },
   "file_extension": ".py",
   "mimetype": "text/x-python",
   "name": "python",
   "nbconvert_exporter": "python",
   "pygments_lexer": "ipython3",
   "version": "3.11.1"
  }
 },
 "nbformat": 4,
 "nbformat_minor": 2
}
