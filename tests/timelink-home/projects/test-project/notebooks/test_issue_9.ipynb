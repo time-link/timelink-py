{
 "cells": [
  {
   "cell_type": "code",
   "execution_count": 1,
   "metadata": {},
   "outputs": [],
   "source": [
    "from timelink.notebooks import TimelinkNotebook\n",
    "\n",
    "tlnb = TimelinkNotebook(db_type=\"sqlite\", db_name=\"issue9\")\n"
   ]
  },
  {
   "cell_type": "code",
   "execution_count": 2,
   "metadata": {},
   "outputs": [
    {
     "name": "stdout",
     "output_type": "stream",
     "text": [
      "Timelink version: 1.1.13\n",
      "Project name: test-project\n",
      "Project home: /workspaces/timelink-py/tests/timelink-home/projects/test-project\n",
      "Database type: sqlite\n",
      "Database name: issue9\n",
      "Kleio image: timelinkserver/kleio-server\n",
      "Kleio server token: rYc5K...\n",
      "Kleio server URL: http://127.0.0.1:8088\n",
      "Kleio server home: /workspaces/timelink-py/tests/timelink-home/projects/test-project\n",
      "Kleio server container: eloquent_northcutt\n",
      "Kleio version requested: latest\n",
      "Kleio server version: 12.6.573 (2024-07-29 08:30:28)\n",
      "SQLite directory: /workspaces/timelink-py/tests/timelink-home/projects/test-project/database/sqlite\n",
      "Call print_info(show_token=True) to show the Kleio Server token\n",
      "Call print_info(show_password=True) to show the Postgres password\n",
      "TimelinkNotebook(project_name=test-project, project_home=/workspaces/timelink-py/tests/timelink-home/projects/test-project, db_type=sqlite, db_name=issue9, kleio_image=timelinkserver/kleio-server, kleio_version=latest, postgres_image=postgres, postgres_version=latest)\n"
     ]
    }
   ],
   "source": [
    "# NBVAL_IGNORE_OUTPUT\n",
    "import timelink\n",
    "\n",
    "tlnb.print_info()"
   ]
  },
  {
   "cell_type": "code",
   "execution_count": 6,
   "metadata": {},
   "outputs": [],
   "source": [
    "### Import file\n",
    "from timelink.api.database import import_from_xml\n",
    "\n",
    "db = tlnb.db\n",
    "with db.session() as session:\n",
    "   import_from_xml( \"../../../../xml_data/dehergne-a.xml\",session)\n"
   ]
  },
  {
   "cell_type": "code",
   "execution_count": 7,
   "metadata": {},
   "outputs": [
    {
     "name": "stdout",
     "output_type": "stream",
     "text": [
      "ls$nacionalidade/Portugal/0\n",
      "ls$jesuita-estatuto/Frade/0\n",
      "ls$nome/Pedro de Alcáceva/0\n",
      "ls$nome/Pedro de Alcoceva/0\n",
      "ls$nome-chines/Chang-Tch'ouan/0\n",
      "ls$nome-chines/San Chuang/0\n",
      "ls$nascimento/?/15230000\n",
      "ls$jesuita-entrada@wikidata/\"https://www.wikidata.org/wiki/Q45412\"%Coimbra/15420000\n",
      "ls$jesuita-entrada/Coimbra#@wikidata:Q45412/15420000/obs=saiu a primeira vez\n",
      "ls$jesuita-entrada@wikidata/\"https://www.wikidata.org/wiki/Q1171\"%Goa/15480502\n",
      "ls$jesuita-entrada/Goa#@wikidata:Q1171/15480502\n",
      "ls$estadia@wikidata/\"https://www.wikidata.org/wiki/Q61089\"%Malaca/0\n",
      "ls$estadia/Malaca#@wikidata:Q61089/0/obs=acompanha S. Francisco Xavier de Goa\n",
      "ls$estadia@wikidata/\"https://www.wikidata.org/wiki/Q17\"%Japão/15520000\n",
      "ls$estadia/Japão#@wikidata:Q17/15520000\n",
      "ls$estadia@wikidata/\"https://www.wikidata.org/wiki/Q15674\"%Kagoshima/15520814\n",
      "ls$estadia/Kagoshima#@wikidata:Q15674/15520814\n",
      "ls$estadia/Shangchuan%ilha de «Sancien» (Changtch'ouan, Shangchwan)/15530000\n",
      "ls$estadia@wikidata/\"https://www.wikidata.org/wiki/Q1171\"%Goa/15550000\n",
      "ls$estadia/Goa#@wikidata:Q1171/15550000\n",
      "ls$morte/?/15790000\n",
      "ls$dehergne/15/0/obs=\"\"\"\n",
      "      N. vers 1523 -E. Coïmbre, 1542., sorti, puis E. 2 mai 1548, Goa. Accompagne\n",
      "  St François Xavier de Goa à Malacca., va en 1552 au Japon., 14 août 1552,\n",
      "  Kagoshima., en 1553 retourne du Japon à l'île de « Sancian » (Chang-tch'ouan,\n",
      "  Shangchwan), dont il prend le nom., puis à Goa, 1555. P. dit à tort M 443, 669.,\n",
      "  non prêtre selon Sommervogel VIII col. 1600. M. non vers 1553 (AHU ms 1659, f°\n",
      "  17), mais en 1579 (HS 42, 27., Goa 24, 87v., DI. XI, 652). Nécrologe (Goa 31,\n",
      "  415). Pf. 5,8: Alcazova. SchOite, 874., DI. III, 822., Streit IV, 1399.\n",
      "  \"\"\"\n"
     ]
    }
   ],
   "source": [
    "with db.session() as session:\n",
    "    person = db.get_person('deh-pedro-de-alcacova', session=session)\n",
    "    # print(person.to_kleio())\n",
    "    for atr in person.attributes:\n",
    "\n",
    "\n",
    "        print(atr.to_kleio(width=80))\n",
    "\n"
   ]
  }
 ],
 "metadata": {
  "kernelspec": {
   "display_name": ".venv",
   "language": "python",
   "name": "python3"
  },
  "language_info": {
   "codemirror_mode": {
    "name": "ipython",
    "version": 3
   },
   "file_extension": ".py",
   "mimetype": "text/x-python",
   "name": "python",
   "nbconvert_exporter": "python",
   "pygments_lexer": "ipython3",
   "version": "3.11.2"
  }
 },
 "nbformat": 4,
 "nbformat_minor": 2
}
