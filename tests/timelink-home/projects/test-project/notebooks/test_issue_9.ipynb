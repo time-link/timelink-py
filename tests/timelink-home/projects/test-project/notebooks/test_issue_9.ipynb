{
 "cells": [
  {
   "cell_type": "code",
   "execution_count": 1,
   "metadata": {},
   "outputs": [],
   "source": [
    "from timelink.notebooks import TimelinkNotebook\n",
    "\n",
    "tlnb = TimelinkNotebook(db_type=\"sqlite\", db_name=\"issue9\")\n"
   ]
  },
  {
   "cell_type": "code",
   "execution_count": 2,
   "metadata": {},
   "outputs": [
    {
     "name": "stdout",
     "output_type": "stream",
     "text": [
      "Timelink version: 1.1.14\n",
      "Project name: test-project\n",
      "Project home: /Users/jrc/develop/timelink-py/tests/timelink-home/projects/test-project\n",
      "Database type: sqlite\n",
      "Database name: issue9\n",
      "Kleio image: timelinkserver/kleio-server\n",
      "Kleio server token: wBi8X...\n",
      "Kleio server URL: http://127.0.0.1:8089\n",
      "Kleio server home: /Users/jrc/develop/timelink-py/tests/timelink-home/projects/test-project\n",
      "Kleio server container: musing_roentgen\n",
      "Kleio version requested: latest\n",
      "Kleio server version: 12.6.573 (2024-07-29 08:30:28)\n",
      "SQLite directory: /Users/jrc/develop/timelink-py/tests/timelink-home/projects/test-project/database/sqlite\n",
      "Call print_info(show_token=True) to show the Kleio Server token\n",
      "Call print_info(show_password=True) to show the Postgres password\n",
      "TimelinkNotebook(project_name=test-project, project_home=/Users/jrc/develop/timelink-py/tests/timelink-home/projects/test-project, db_type=sqlite, db_name=issue9, kleio_image=timelinkserver/kleio-server, kleio_version=latest, postgres_image=postgres, postgres_version=latest)\n"
     ]
    }
   ],
   "source": [
    "# NBVAL_IGNORE_OUTPUT\n",
    "import timelink\n",
    "\n",
    "tlnb.print_info()"
   ]
  },
  {
   "cell_type": "code",
   "execution_count": 7,
   "metadata": {},
   "outputs": [
    {
     "data": {
      "text/html": [
       "<div>\n",
       "<style scoped>\n",
       "    .dataframe tbody tr th:only-of-type {\n",
       "        vertical-align: middle;\n",
       "    }\n",
       "\n",
       "    .dataframe tbody tr th {\n",
       "        vertical-align: top;\n",
       "    }\n",
       "\n",
       "    .dataframe thead th {\n",
       "        text-align: right;\n",
       "    }\n",
       "</style>\n",
       "<table border=\"1\" class=\"dataframe\">\n",
       "  <thead>\n",
       "    <tr style=\"text-align: right;\">\n",
       "      <th></th>\n",
       "      <th>name</th>\n",
       "      <th>import_errors</th>\n",
       "      <th>errors</th>\n",
       "    </tr>\n",
       "  </thead>\n",
       "  <tbody>\n",
       "    <tr>\n",
       "      <th>0</th>\n",
       "      <td>dehergne-a.cli</td>\n",
       "      <td>3</td>\n",
       "      <td>0</td>\n",
       "    </tr>\n",
       "  </tbody>\n",
       "</table>\n",
       "</div>"
      ],
      "text/plain": [
       "             name  import_errors  errors\n",
       "0  dehergne-a.cli              3       0"
      ]
     },
     "execution_count": 7,
     "metadata": {},
     "output_type": "execute_result"
    }
   ],
   "source": [
    "path = \"sources/reference_sources/linked_data\"\n",
    "tlnb.update_from_sources(path=path)\n",
    "# get the import status\n",
    "import_status = tlnb.get_import_status(path=path)\n",
    "# list those with import_error > 0 or error > 0\n",
    "errors = import_status.query(\"import_errors > 0 or errors > 0\")\n",
    "errors[['name', 'import_errors', 'errors']]"
   ]
  },
  {
   "cell_type": "code",
   "execution_count": 13,
   "metadata": {},
   "outputs": [
    {
     "data": {
      "text/plain": [
       "''"
      ]
     },
     "execution_count": 13,
     "metadata": {},
     "output_type": "execute_result"
    }
   ],
   "source": [
    "geomodel = tlnb.db.get_model('geoentity')\n",
    "with tlnb.db.session() as session:\n",
    "    geodesc = session.get(geomodel,'deh-r1644-hungtang')\n",
    "\n",
    "geodesc.obs"
   ]
  },
  {
   "cell_type": "code",
   "execution_count": 6,
   "metadata": {},
   "outputs": [
    {
     "name": "stdout",
     "output_type": "stream",
     "text": [
      "ls$nacionalidade/Portugal/0\n",
      "ls$jesuita-estatuto/Frade/0\n",
      "ls$nome/Pedro de Alcáceva/0\n",
      "ls$nome/Pedro de Alcoceva/0\n",
      "ls$nome-chines/Chang-Tch'ouan/0\n",
      "ls$nome-chines/San Chuang/0\n",
      "ls$nascimento/?/15230000\n",
      "ls$jesuita-entrada@wikidata/\"https://www.wikidata.org/wiki/Q45412\"%Coimbra/15420000\n",
      "ls$jesuita-entrada/Coimbra#@wikidata:Q45412/15420000/obs=saiu a primeira vez\n",
      "ls$jesuita-entrada@wikidata/\"https://www.wikidata.org/wiki/Q1171\"%Goa/15480502\n",
      "ls$jesuita-entrada/Goa#@wikidata:Q1171/15480502\n",
      "ls$estadia@wikidata/\"https://www.wikidata.org/wiki/Q61089\"%Malaca/0\n",
      "ls$estadia/Malaca#@wikidata:Q61089/0/obs=acompanha S. Francisco Xavier de Goa\n",
      "ls$estadia@wikidata/\"https://www.wikidata.org/wiki/Q17\"%Japão/15520000\n",
      "ls$estadia/Japão#@wikidata:Q17/15520000\n",
      "ls$estadia@wikidata/\"https://www.wikidata.org/wiki/Q15674\"%Kagoshima/15520814\n",
      "ls$estadia/Kagoshima#@wikidata:Q15674/15520814\n",
      "ls$estadia/Shangchuan%ilha de «Sancien» (Changtch'ouan, Shangchwan)/15530000\n",
      "ls$estadia@wikidata/\"https://www.wikidata.org/wiki/Q1171\"%Goa/15550000\n",
      "ls$estadia/Goa#@wikidata:Q1171/15550000\n",
      "ls$morte/?/15790000\n",
      "ls$dehergne/15/0/obs=\"\"\"\n",
      "      N. vers 1523 -E. Coïmbre, 1542., sorti, puis E. 2 mai 1548, Goa. Accompagne\n",
      "  St François Xavier de Goa à Malacca., va en 1552 au Japon., 14 août 1552,\n",
      "  Kagoshima., en 1553 retourne du Japon à l'île de « Sancian » (Chang-tch'ouan,\n",
      "  Shangchwan), dont il prend le nom., puis à Goa, 1555. P. dit à tort M 443, 669.,\n",
      "  non prêtre selon Sommervogel VIII col. 1600. M. non vers 1553 (AHU ms 1659, f°\n",
      "  17), mais en 1579 (HS 42, 27., Goa 24, 87v., DI. XI, 652). Nécrologe (Goa 31,\n",
      "  415). Pf. 5,8: Alcazova. SchOite, 874., DI. III, 822., Streit IV, 1399.\n",
      "  \"\"\"\n"
     ]
    }
   ],
   "source": [
    "with tlnb.db.session() as session:\n",
    "    person = tlnb.db.get_person('deh-pedro-de-alcacova', session=session)\n",
    "    # print(person.to_kleio())\n",
    "    for atr in person.attributes:\n",
    "\n",
    "\n",
    "        print(atr.to_kleio(width=80))\n",
    "\n"
   ]
  }
 ],
 "metadata": {
  "kernelspec": {
   "display_name": ".venv",
   "language": "python",
   "name": "python3"
  },
  "language_info": {
   "codemirror_mode": {
    "name": "ipython",
    "version": 3
   },
   "file_extension": ".py",
   "mimetype": "text/x-python",
   "name": "python",
   "nbconvert_exporter": "python",
   "pygments_lexer": "ipython3",
   "version": "3.11.1"
  }
 },
 "nbformat": 4,
 "nbformat_minor": 2
}
