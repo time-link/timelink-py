{
 "cells": [
  {
   "cell_type": "code",
   "execution_count": 1,
   "metadata": {},
   "outputs": [
    {
     "name": "stderr",
     "output_type": "stream",
     "text": [
      "INFO  [alembic.runtime.migration] Context impl SQLiteImpl.\n",
      "INFO  [alembic.runtime.migration] Will assume non-transactional DDL.\n"
     ]
    }
   ],
   "source": [
    "from timelink.notebooks import TimelinkNotebook\n",
    "\n",
    "tlnb = TimelinkNotebook(db_type=\"sqlite\", db_name=\"issue9\")\n"
   ]
  },
  {
   "cell_type": "code",
   "execution_count": 2,
   "metadata": {},
   "outputs": [
    {
     "name": "stdout",
     "output_type": "stream",
     "text": [
      "Timelink version: 1.1.15\n",
      "Project name: test-project\n",
      "Project home: /Users/jrc/develop/timelink-py/tests/timelink-home/projects/test-project\n",
      "Database type: sqlite\n",
      "Database name: issue9\n",
      "Kleio image: timelinkserver/kleio-server\n",
      "Kleio server token: 57sJJ...\n",
      "Kleio server URL: http://127.0.0.1:8089\n",
      "Kleio server home: /Users/jrc/develop/timelink-py/tests/timelink-home/projects/test-project\n",
      "Kleio server container: interesting_bose\n",
      "Kleio version requested: latest\n",
      "Kleio server version: 12.6.577 (2024-10-24 16:53:53)\n",
      "SQLite directory: /Users/jrc/develop/timelink-py/tests/timelink-home/projects/test-project/database/sqlite\n",
      "Call print_info(show_token=True) to show the Kleio Server token\n",
      "Call print_info(show_password=True) to show the Postgres password\n",
      "TimelinkNotebook(project_name=test-project, project_home=/Users/jrc/develop/timelink-py/tests/timelink-home/projects/test-project, db_type=sqlite, db_name=issue9, kleio_image=timelinkserver/kleio-server, kleio_version=latest, postgres_image=postgres, postgres_version=latest)\n"
     ]
    }
   ],
   "source": [
    "# NBVAL_IGNORE_OUTPUT\n",
    "import timelink\n",
    "\n",
    "tlnb.print_info()"
   ]
  },
  {
   "cell_type": "code",
   "execution_count": 3,
   "metadata": {},
   "outputs": [
    {
     "data": {
      "text/html": [
       "<div>\n",
       "<style scoped>\n",
       "    .dataframe tbody tr th:only-of-type {\n",
       "        vertical-align: middle;\n",
       "    }\n",
       "\n",
       "    .dataframe tbody tr th {\n",
       "        vertical-align: top;\n",
       "    }\n",
       "\n",
       "    .dataframe thead th {\n",
       "        text-align: right;\n",
       "    }\n",
       "</style>\n",
       "<table border=\"1\" class=\"dataframe\">\n",
       "  <thead>\n",
       "    <tr style=\"text-align: right;\">\n",
       "      <th></th>\n",
       "      <th>name</th>\n",
       "      <th>import_errors</th>\n",
       "      <th>errors</th>\n",
       "    </tr>\n",
       "  </thead>\n",
       "  <tbody>\n",
       "    <tr>\n",
       "      <th>0</th>\n",
       "      <td>dehergne-a.cli</td>\n",
       "      <td>3</td>\n",
       "      <td>0</td>\n",
       "    </tr>\n",
       "  </tbody>\n",
       "</table>\n",
       "</div>"
      ],
      "text/plain": [
       "             name  import_errors  errors\n",
       "0  dehergne-a.cli              3       0"
      ]
     },
     "execution_count": 3,
     "metadata": {},
     "output_type": "execute_result"
    }
   ],
   "source": [
    "path = \"sources/reference_sources/linked_data\"\n",
    "tlnb.update_from_sources(path=path)\n",
    "# get the import status\n",
    "import_status = tlnb.get_import_status(path=path)\n",
    "# list those with import_error > 0 or error > 0\n",
    "errors = import_status.query(\"import_errors > 0 or errors > 0\")\n",
    "errors[['name', 'import_errors', 'errors']]"
   ]
  },
  {
   "cell_type": "code",
   "execution_count": 4,
   "metadata": {},
   "outputs": [
    {
     "name": "stdout",
     "output_type": "stream",
     "text": [
      "geo3$Hungtang/geo3/id=deh-r1644-hungtang\n",
      "  atr$activa/sim/1636\n",
      "  rel$function-in-act/geo3/geodesc/deh-chre-1644/1644/obs=line: 171\n"
     ]
    },
    {
     "data": {
      "text/plain": [
       "'deh-r1644-foochow'"
      ]
     },
     "execution_count": 4,
     "metadata": {},
     "output_type": "execute_result"
    }
   ],
   "source": [
    "geomodel = tlnb.db.get_model('geoentity')\n",
    "with tlnb.db.session() as session:\n",
    "    geodesc = session.get(geomodel,'deh-r1644-hungtang')\n",
    "    print(geodesc.to_kleio())\n",
    "geodesc.extra_info\n",
    "geodesc.inside\n"
   ]
  },
  {
   "cell_type": "code",
   "execution_count": 5,
   "metadata": {},
   "outputs": [
    {
     "name": "stdout",
     "output_type": "stream",
     "text": [
      "ls$nacionalidade/Portugal/\n",
      "ls$jesuita-estatuto/Frade/\n",
      "ls$nome/Pedro de Alcáceva/\n",
      "ls$nome/Pedro de Alcoceva/\n",
      "ls$nome-chines/Chang-Tch'ouan/\n",
      "ls$nome-chines/San Chuang/\n",
      "ls$nascimento/?/1523\n",
      "ls$jesuita-entrada@wikidata/https://www.wikidata.org/wiki/Q45412%Coimbra/1542\n",
      "ls$jesuita-entrada/Coimbra#@wikidata:Q45412/1542/obs=saiu a primeira vez\n",
      "ls$jesuita-entrada@wikidata/https://www.wikidata.org/wiki/Q1171%Goa/1548-05-02\n",
      "ls$jesuita-entrada/Goa#@wikidata:Q1171/1548-05-02\n",
      "ls$estadia@wikidata/https://www.wikidata.org/wiki/Q61089%Malaca/\n",
      "ls$estadia/Malaca#@wikidata:Q61089//obs=acompanha S. Francisco Xavier de Goa\n",
      "ls$estadia@wikidata/https://www.wikidata.org/wiki/Q17%Japão/1552\n",
      "ls$estadia/Japão#@wikidata:Q17/1552\n",
      "ls$estadia@wikidata/https://www.wikidata.org/wiki/Q15674%Kagoshima/1552-08-14\n",
      "ls$estadia/Kagoshima#@wikidata:Q15674/1552-08-14\n",
      "ls$estadia/Shangchuan%ilha de «Sancien» (Changtch'ouan, Shangchwan)/1553\n",
      "ls$estadia@wikidata/https://www.wikidata.org/wiki/Q1171%Goa/1555\n",
      "ls$estadia/Goa#@wikidata:Q1171/1555\n",
      "ls$morte/?/1579\n",
      "ls$dehergne/15//obs=N. vers 1523 -E. Coïmbre, 1542., sorti, puis E. 2 mai 1548, Goa. Accompagne St François Xavier de Goa à Malacca., va en 1552 au Japon., 14 août 1552, Kagoshima., en 1553 retourne du Japon à l'île de « Sancian » (Chang-tch'ouan, Shangchwan), dont il prend le nom., puis à Goa, 1555. P. dit à tort M 443, 669., non prêtre selon Sommervogel VIII col. 1600. M. non vers 1553 (AHU ms 1659, f° 17), mais en 1579 (HS 42, 27., Goa 24, 87v., DI. XI, 652). Nécrologe (Goa 31, 415). Pf. 5,8: Alcazova. SchOite, 874., DI. III, 822., Streit IV, 1399.\n"
     ]
    }
   ],
   "source": [
    "with tlnb.db.session() as session:\n",
    "    person = tlnb.db.get_person('deh-pedro-de-alcacova', session=session)\n",
    "    # print(person.to_kleio())\n",
    "    for atr in person.attributes:\n",
    "\n",
    "\n",
    "        print(atr.to_kleio(width=80))\n",
    "\n"
   ]
  }
 ],
 "metadata": {
  "kernelspec": {
   "display_name": ".venv",
   "language": "python",
   "name": "python3"
  },
  "language_info": {
   "codemirror_mode": {
    "name": "ipython",
    "version": 3
   },
   "file_extension": ".py",
   "mimetype": "text/x-python",
   "name": "python",
   "nbconvert_exporter": "python",
   "pygments_lexer": "ipython3",
   "version": "3.11.1"
  }
 },
 "nbformat": 4,
 "nbformat_minor": 2
}
