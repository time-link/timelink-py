{
 "cells": [
  {
   "cell_type": "markdown",
   "metadata": {},
   "source": [
    "## Store comments and multiple entries as json #9\n",
    "https://github.com/time-link/timelink-py/issues/9"
   ]
  },
  {
   "cell_type": "code",
   "execution_count": 1,
   "metadata": {},
   "outputs": [
    {
     "name": "stderr",
     "output_type": "stream",
     "text": [
      "INFO  [alembic.runtime.migration] Context impl SQLiteImpl.\n",
      "INFO  [alembic.runtime.migration] Will assume non-transactional DDL.\n"
     ]
    },
    {
     "name": "stdout",
     "output_type": "stream",
     "text": [
      "Timelink version: 1.1.15\n",
      "Project name: test-project\n",
      "Project home: /Users/jrc/develop/timelink-py/tests/timelink-home/projects/test-project\n",
      "Database type: sqlite\n",
      "Database name: issue9\n",
      "Kleio image: timelinkserver/kleio-server\n",
      "Kleio server token: DJgg0...\n",
      "Kleio server URL: http://127.0.0.1:8090\n",
      "Kleio server home: /Users/jrc/develop/timelink-py/tests/timelink-home/projects/test-project\n",
      "Kleio server container: relaxed_matsumoto\n",
      "Kleio version requested: latest\n",
      "Kleio server version: 12.6.577 (2024-10-24 16:53:53)\n",
      "SQLite directory: /Users/jrc/develop/timelink-py/tests/timelink-home/projects/test-project/database/sqlite\n",
      "Call print_info(show_token=True) to show the Kleio Server token\n",
      "Call print_info(show_password=True) to show the Postgres password\n",
      "TimelinkNotebook(project_name=test-project, project_home=/Users/jrc/develop/timelink-py/tests/timelink-home/projects/test-project, db_type=sqlite, db_name=issue9, kleio_image=timelinkserver/kleio-server, kleio_version=latest, postgres_image=postgres, postgres_version=latest)\n"
     ]
    }
   ],
   "source": [
    "# NBVAL_IGNORE_OUTPUT\n",
    "from timelink.notebooks import TimelinkNotebook\n",
    "\n",
    "tlnb = TimelinkNotebook(db_type=\"sqlite\", db_name=\"issue9\")\n",
    "tlnb.print_info()"
   ]
  },
  {
   "cell_type": "code",
   "execution_count": 2,
   "metadata": {},
   "outputs": [
    {
     "data": {
      "text/html": [
       "<div>\n",
       "<style scoped>\n",
       "    .dataframe tbody tr th:only-of-type {\n",
       "        vertical-align: middle;\n",
       "    }\n",
       "\n",
       "    .dataframe tbody tr th {\n",
       "        vertical-align: top;\n",
       "    }\n",
       "\n",
       "    .dataframe thead th {\n",
       "        text-align: right;\n",
       "    }\n",
       "</style>\n",
       "<table border=\"1\" class=\"dataframe\">\n",
       "  <thead>\n",
       "    <tr style=\"text-align: right;\">\n",
       "      <th></th>\n",
       "      <th>name</th>\n",
       "      <th>import_errors</th>\n",
       "      <th>errors</th>\n",
       "    </tr>\n",
       "  </thead>\n",
       "  <tbody>\n",
       "  </tbody>\n",
       "</table>\n",
       "</div>"
      ],
      "text/plain": [
       "Empty DataFrame\n",
       "Columns: [name, import_errors, errors]\n",
       "Index: []"
      ]
     },
     "execution_count": 2,
     "metadata": {},
     "output_type": "execute_result"
    }
   ],
   "source": [
    "path = \"sources/reference_sources/issues/issue9\"\n",
    "tlnb.update_from_sources(path=path)\n",
    "# get the import status\n",
    "import_status = tlnb.get_import_status(path=path)\n",
    "# list those with import_error > 0 or error > 0\n",
    "errors = import_status.query(\"import_errors > 0 or errors > 0\")\n",
    "errors[['name', 'import_errors', 'errors']]"
   ]
  },
  {
   "cell_type": "code",
   "execution_count": 3,
   "metadata": {},
   "outputs": [
    {
     "name": "stdout",
     "output_type": "stream",
     "text": [
      "geo1$Chekiang#hoje:Zhejiang, 浙江, @wikidata:Q16967%Tche-kiang/geo1\n",
      "  rel$function-in-act/geo1/geodesc/issue9-geoentity/1644/obs=line: 14\n",
      "  atr$geoentity:name@wikidata/\"https://www.wikidata.org/wiki/Q16967\"#hoje:Zhejiang, 浙江, @wikidata:Q16967%Q16967/1644\n"
     ]
    },
    {
     "data": {
      "text/plain": [
       "{'name': {'comment': 'hoje:Zhejiang, 浙江, @wikidata:Q16967',\n",
       "  'original': 'Tche-kiang'}}"
      ]
     },
     "execution_count": 3,
     "metadata": {},
     "output_type": "execute_result"
    }
   ],
   "source": [
    "geomodel = tlnb.db.get_model('geoentity')\n",
    "with tlnb.db.session() as session:\n",
    "    geodesc = session.get(geomodel,'issue9-geodesc1')\n",
    "    print(geodesc.to_kleio())\n",
    "geodesc.extra_info\n"
   ]
  },
  {
   "cell_type": "code",
   "execution_count": 4,
   "metadata": {},
   "outputs": [
    {
     "name": "stdout",
     "output_type": "stream",
     "text": [
      "ls$nacionalidade/Portugal/2024-12-12\n",
      "ls$jesuita-estatuto/Frade/2024-12-12\n",
      "ls$nome/Pedro de Alcáceva/2024-12-12\n",
      "ls$nome/Pedro de Alcoceva/2024-12-12\n",
      "ls$nome-chines/Chang-Tch'ouan/2024-12-12\n",
      "ls$nome-chines/San Chuang/2024-12-12\n",
      "ls$nascimento/?/1523#cerca de\n",
      "ls$jesuita-entrada@wikidata/\"https://www.wikidata.org/wiki/Q45412\"%Coimbra/1542\n",
      "ls$jesuita-entrada/Coimbra#@wikidata:Q45412/1542obs=saiu a primeira vez\n",
      "ls$jesuita-entrada@wikidata/\"https://www.wikidata.org/wiki/Q1171\"%Goa/1548-05-02\n",
      "ls$jesuita-entrada/Goa#@wikidata:Q1171/1548-05-02\n",
      "ls$estadia@wikidata/\"https://www.wikidata.org/wiki/Q61089\"%Malaca/2024-12-12\n",
      "ls$estadia/Malaca#@wikidata:Q61089/2024-12-12obs=acompanha S. Francisco Xavier de Goa\n",
      "ls$estadia@wikidata/\"https://www.wikidata.org/wiki/Q17\"%Japão/1552\n",
      "ls$estadia/Japão#@wikidata:Q17/1552\n",
      "ls$estadia@wikidata/\"https://www.wikidata.org/wiki/Q15674\"%Kagoshima/1552-08-14\n",
      "ls$estadia/Kagoshima#@wikidata:Q15674/1552-08-14\n",
      "ls$estadia/Shangchuan%ilha de «Sancien» (Changtch'ouan, Shangchwan)/1553\n",
      "ls$estadia@wikidata/\"https://www.wikidata.org/wiki/Q1171\"%Goa/1555\n",
      "ls$estadia/Goa#@wikidata:Q1171/1555\n",
      "ls$morte/?/1579\n"
     ]
    }
   ],
   "source": [
    "with tlnb.db.session() as session:\n",
    "    person = tlnb.db.get_person('deh-pedro-de-alcacova', session=session)\n",
    "    # print(person.to_kleio())\n",
    "    for atr in person.attributes:\n",
    "        print(atr.to_kleio(width=80))\n",
    "\n"
   ]
  }
 ],
 "metadata": {
  "kernelspec": {
   "display_name": ".venv",
   "language": "python",
   "name": "python3"
  },
  "language_info": {
   "codemirror_mode": {
    "name": "ipython",
    "version": 3
   },
   "file_extension": ".py",
   "mimetype": "text/x-python",
   "name": "python",
   "nbconvert_exporter": "python",
   "pygments_lexer": "ipython3",
   "version": "3.10.14"
  }
 },
 "nbformat": 4,
 "nbformat_minor": 2
}
