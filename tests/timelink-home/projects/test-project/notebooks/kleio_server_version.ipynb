{
 "cells": [
  {
   "cell_type": "code",
   "execution_count": 1,
   "metadata": {},
   "outputs": [
    {
     "name": "stdout",
     "output_type": "stream",
     "text": [
      "Project name: test-project\n",
      "Project home: /Users/jrc/develop/timelink-py/tests/timelink-home/projects/test-project\n",
      "Database type: sqlite\n",
      "Database name: test_project\n",
      "Kleio image: timelinkserver/kleio-server\n",
      "Kleio server token: VUhhH...\n",
      "Kleio server URL: http://127.0.0.1:8092\n",
      "Kleio server home: /Users/jrc/develop/timelink-py/tests/timelink-home/projects/test-project\n",
      "Kleio server container: musing_euclid\n",
      "Kleio version requested: 12.3.565\n",
      "SQLite directory: /Users/jrc/develop/timelink-py/tests/timelink-home/projects/test-project/database/sqlite\n",
      "TimelinkNotebook(project_name=test-project, project_home=/Users/jrc/develop/timelink-py/tests/timelink-home/projects/test-project, db_type=sqlite, db_name=test_project, kleio_image=timelinkserver/kleio-server, kleio_version=12.3.565, postgres_image=postgres, postgres_version=latest)\n"
     ]
    }
   ],
   "source": [
    "# NBVAL_IGNORE_OUTPUT\n",
    "\n",
    "from timelink.notebooks import TimelinkNotebook\n",
    "\n",
    "tlnb = TimelinkNotebook(kleio_version=\"12.3.565\", stop_duplicates=True)\n",
    "tlnb.print_info()"
   ]
  },
  {
   "cell_type": "code",
   "execution_count": 2,
   "metadata": {},
   "outputs": [
    {
     "data": {
      "text/plain": [
       "[('quirky_heisenberg',\n",
       "  '/Users/jrc/develop/timelink-py/tests/timelink-home/projects/tutorial',\n",
       "  '8088',\n",
       "  'L27IvWeP9jXoK85iC4YfLonsW4uoFUyO',\n",
       "  <Container: 5b9f09df38c1>),\n",
       " ('fervent_feistel',\n",
       "  '/Users/jrc/develop/timelink-py/tests/timelink-home',\n",
       "  '8091',\n",
       "  '27TxkDjraV1MVozQslYNHpQz4SyqjOah',\n",
       "  <Container: ab815a8a9671>),\n",
       " ('musing_euclid',\n",
       "  '/Users/jrc/develop/timelink-py/tests/timelink-home/projects/test-project',\n",
       "  '8092',\n",
       "  'VUhhHrWiK2cfPdKOfscbPVGtXE0m6tGt',\n",
       "  <Container: 48e58cbddd29>),\n",
       " ('timelink-kleio-kleio-1',\n",
       "  '/Users/jrc/develop/timelink-kleio/tests/kleio-home',\n",
       "  '8089',\n",
       "  '36959fe35c6c47830a2682c58d8b575cfd11b527',\n",
       "  <Container: 47fb1ac86448>),\n",
       " ('exciting_swartz',\n",
       "  '/Users/jrc/develop/timelink-py/tests/timelink-home/projects/test-project',\n",
       "  '8090',\n",
       "  'IQEZigLkKGEwr5IG8UcMDJRid6Rrj6J0',\n",
       "  <Container: 985fe1cad2e4>)]"
      ]
     },
     "execution_count": 2,
     "metadata": {},
     "output_type": "execute_result"
    }
   ],
   "source": [
    "# NBVAL_IGNORE_OUTPUT\n",
    "\n",
    "from timelink.kleio.kleio_server import list_kleio_server_containers\n",
    "\n",
    "list_kleio_server_containers()\n"
   ]
  }
 ],
 "metadata": {
  "kernelspec": {
   "display_name": ".venv",
   "language": "python",
   "name": "python3"
  },
  "language_info": {
   "codemirror_mode": {
    "name": "ipython",
    "version": 3
   },
   "file_extension": ".py",
   "mimetype": "text/x-python",
   "name": "python",
   "nbconvert_exporter": "python",
   "pygments_lexer": "ipython3",
   "version": "3.10.9"
  }
 },
 "nbformat": 4,
 "nbformat_minor": 2
}
