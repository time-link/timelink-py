{
 "cells": [
  {
   "cell_type": "code",
   "execution_count": 5,
   "metadata": {},
   "outputs": [
    {
     "name": "stdout",
     "output_type": "stream",
     "text": [
      "Project name: test-project\n",
      "Project home: /Users/jrc/develop/timelink-py/tests/timelink-home/projects/test-project\n",
      "Database type: sqlite\n",
      "Database name: test_project\n",
      "Kleio image: timelinkserver/kleio-server\n",
      "Kleio version: 12.3.565\n",
      "Kleio server token: zJ3AJvalMBBLfr3EelVOffMnfzgkSBlD\n",
      "Kleio server URL: http://127.0.0.1:8095\n",
      "Kleio server home: /Users/jrc/develop/timelink-py/tests/timelink-home/projects/test-project\n",
      "SQLite directory: /Users/jrc/develop/timelink-py/tests/timelink-home/projects/test-project/database/sqlite\n",
      "TimelinkNotebook(project_name=test-project, project_home=/Users/jrc/develop/timelink-py/tests/timelink-home/projects/test-project, db_type=sqlite, db_name=test_project, kleio_image=timelinkserver/kleio-server, kleio_version=12.3.565, postgres_image=postgres, postgres_version=latest)\n"
     ]
    }
   ],
   "source": [
    "from timelink.notebooks import TimelinkNotebook\n",
    "\n",
    "tlnb = TimelinkNotebook(kleio_version=\"12.3.565\", stop_duplicates=True)\n",
    "tlnb.print_info()"
   ]
  },
  {
   "cell_type": "code",
   "execution_count": 1,
   "metadata": {},
   "outputs": [
    {
     "data": {
      "text/plain": [
       "[(<Container: 9ff5bdf7d4e7>,\n",
       "  '/Users/jrc/develop/timelink-py/tests/timelink-home/projects/test-project',\n",
       "  '8095',\n",
       "  'zJ3AJvalMBBLfr3EelVOffMnfzgkSBlD'),\n",
       " (<Container: 6519235ccadc>,\n",
       "  '/Users/jrc/mhk-home/sources/dehergne-locations',\n",
       "  '8091',\n",
       "  'AWHYi8Zx2zxYjVIk1q22XzxRBWNC0jYw'),\n",
       " (<Container: d0a6fc99eb39>,\n",
       "  '/Users/jrc/mhk-home/sources/dehergne-locations',\n",
       "  '8092',\n",
       "  'JV0IRQ1rUDsZBx0nym6IwSE6VaMO40zx'),\n",
       " (<Container: 46cc2bc8c4a7>,\n",
       "  '/Users/jrc/mhk-home/sources/dehergne-locations',\n",
       "  '8088',\n",
       "  'T5MpeWFXQ2vXuTOKOzoLvsAdJrB42IB4'),\n",
       " (<Container: 91bec0e9971c>,\n",
       "  '/Users/jrc/develop/timelink-py/tests/timelink-home',\n",
       "  '8096',\n",
       "  'QjHkuFqxRmCbp9q0V3kGqNv8y7Jg2U2H')]"
      ]
     },
     "execution_count": 1,
     "metadata": {},
     "output_type": "execute_result"
    }
   ],
   "source": [
    "from timelink.kleio.kleio_server import list_kleio_server_containers\n",
    "\n",
    "list_kleio_server_containers()\n"
   ]
  }
 ],
 "metadata": {
  "kernelspec": {
   "display_name": ".venv",
   "language": "python",
   "name": "python3"
  },
  "language_info": {
   "codemirror_mode": {
    "name": "ipython",
    "version": 3
   },
   "file_extension": ".py",
   "mimetype": "text/x-python",
   "name": "python",
   "nbconvert_exporter": "python",
   "pygments_lexer": "ipython3",
   "version": "3.10.4"
  }
 },
 "nbformat": 4,
 "nbformat_minor": 2
}
