{
 "cells": [
  {
   "cell_type": "code",
   "execution_count": 1,
   "metadata": {},
   "outputs": [
    {
     "name": "stdout",
     "output_type": "stream",
     "text": [
      "Project name: test-project\n",
      "Project home: /Users/jrc/develop/timelink-py/tests/timelink-home/projects/test-project\n",
      "Database type: sqlite\n",
      "Database name: test_project\n",
      "Kleio image: timelinkserver/kleio-server\n",
      "Kleio server token: E933n...\n",
      "Kleio server URL: http://127.0.0.1:8093\n",
      "Kleio server home: /Users/jrc/develop/timelink-py/tests/timelink-home/projects/test-project\n",
      "Kleio server container: epic_tu\n",
      "Kleio version requested: 12.3.565\n",
      "SQLite directory: /Users/jrc/develop/timelink-py/tests/timelink-home/projects/test-project/database/sqlite\n",
      "Call print_info(show_token=True) to show the Kleio Server token\n",
      "Call print_info(show_password=True) to show the Postgres password\n",
      "TimelinkNotebook(project_name=test-project, project_home=/Users/jrc/develop/timelink-py/tests/timelink-home/projects/test-project, db_type=sqlite, db_name=test_project, kleio_image=timelinkserver/kleio-server, kleio_version=12.3.565, postgres_image=postgres, postgres_version=latest)\n"
     ]
    }
   ],
   "source": [
    "# NBVAL_IGNORE_OUTPUT\n",
    "\n",
    "from timelink.notebooks import TimelinkNotebook\n",
    "\n",
    "tlnb = TimelinkNotebook(kleio_version=\"12.3.565\", stop_duplicates=True)\n",
    "tlnb.print_info()"
   ]
  },
  {
   "cell_type": "code",
   "execution_count": 2,
   "metadata": {},
   "outputs": [
    {
     "data": {
      "text/plain": [
       "[('trusting_carver',\n",
       "  '/Users/jrc/mhk-home/sources/dehergne-locations',\n",
       "  '8090',\n",
       "  'QxTDpSwccxwxohzkixdGvbNxECnIS2zS',\n",
       "  <Container: f22392bd1c52>),\n",
       " ('vigorous_mirzakhani',\n",
       "  '/Users/jrc/develop/timelink-py/tests/timelink-home/projects/test-project',\n",
       "  '8092',\n",
       "  'i5rlZrmvG48RbrVpAif7i8afNJ0qu6Kz',\n",
       "  <Container: 2ca2fe0b6e50>),\n",
       " ('timelink-kleio-kleio-1',\n",
       "  '/Users/jrc/develop/timelink-kleio/tests/kleio-home',\n",
       "  '8089',\n",
       "  '36959fe35c6c47830a2682c58d8b575cfd11b527',\n",
       "  <Container: 47fb1ac86448>),\n",
       " ('competent_ptolemy',\n",
       "  '/Users/jrc/develop/timelink-py/tests/timelink-home',\n",
       "  '8989',\n",
       "  '0123456789',\n",
       "  <Container: 4aa793444459>),\n",
       " ('wizardly_darwin',\n",
       "  '/Users/jrc/develop/timelink-py/tests/timelink-home/projects/tutorial',\n",
       "  '8091',\n",
       "  'e5Mby8W1tki8EenkvBWxDER98URyeYnQ',\n",
       "  <Container: 96ecc088ca7b>),\n",
       " ('cool_rosalind',\n",
       "  '/Users/jrc/mhk-home/sources/dehergne',\n",
       "  '8088',\n",
       "  'biSYnfzGfw4pcXTYkFRT4jieKqriOTui',\n",
       "  <Container: a10b33db891c>),\n",
       " ('epic_tu',\n",
       "  '/Users/jrc/develop/timelink-py/tests/timelink-home/projects/test-project',\n",
       "  '8093',\n",
       "  'E933n9P3mXP7aO83w2Vrk1sSncTCP4zL',\n",
       "  <Container: 5cc35578f2a8>)]"
      ]
     },
     "execution_count": 2,
     "metadata": {},
     "output_type": "execute_result"
    }
   ],
   "source": [
    "# NBVAL_IGNORE_OUTPUT\n",
    "\n",
    "from timelink.kleio.kleio_server import list_kleio_server_containers\n",
    "\n",
    "list_kleio_server_containers()\n"
   ]
  }
 ],
 "metadata": {
  "kernelspec": {
   "display_name": ".venv",
   "language": "python",
   "name": "python3"
  },
  "language_info": {
   "codemirror_mode": {
    "name": "ipython",
    "version": 3
   },
   "file_extension": ".py",
   "mimetype": "text/x-python",
   "name": "python",
   "nbconvert_exporter": "python",
   "pygments_lexer": "ipython3",
   "version": "3.10.9"
  }
 },
 "nbformat": 4,
 "nbformat_minor": 2
}
