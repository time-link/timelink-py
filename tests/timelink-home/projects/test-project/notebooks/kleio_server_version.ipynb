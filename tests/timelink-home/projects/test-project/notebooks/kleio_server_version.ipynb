{
 "cells": [
  {
   "cell_type": "code",
   "execution_count": 1,
   "metadata": {},
   "outputs": [
    {
     "name": "stdout",
     "output_type": "stream",
     "text": [
      "Timelink version: 1.1.12\n",
      "Project name: test-project\n",
      "Project home: /Users/jrc/develop/timelink-py/tests/timelink-home/projects/test-project\n",
      "Database type: sqlite\n",
      "Database name: test_project\n",
      "Kleio image: timelinkserver/kleio-server\n",
      "Kleio server token: BXS7M...\n",
      "Kleio server URL: http://127.0.0.1:8092\n",
      "Kleio server home: /Users/jrc/develop/timelink-py/tests/timelink-home/projects/test-project\n",
      "Kleio server container: xenodochial_kirch\n",
      "Kleio version requested: 12.3.565\n",
      "SQLite directory: /Users/jrc/develop/timelink-py/tests/timelink-home/projects/test-project/database/sqlite\n",
      "Call print_info(show_token=True) to show the Kleio Server token\n",
      "Call print_info(show_password=True) to show the Postgres password\n",
      "TimelinkNotebook(project_name=test-project, project_home=/Users/jrc/develop/timelink-py/tests/timelink-home/projects/test-project, db_type=sqlite, db_name=test_project, kleio_image=timelinkserver/kleio-server, kleio_version=12.3.565, postgres_image=postgres, postgres_version=latest)\n"
     ]
    }
   ],
   "source": [
    "# NBVAL_IGNORE_OUTPUT\n",
    "\n",
    "from timelink.notebooks import TimelinkNotebook\n",
    "\n",
    "tlnb = TimelinkNotebook(kleio_version=\"12.3.565\", stop_duplicates=True)\n",
    "tlnb.print_info()"
   ]
  },
  {
   "cell_type": "code",
   "execution_count": 2,
   "metadata": {},
   "outputs": [
    {
     "data": {
      "text/plain": [
       "[('affectionate_hamilton',\n",
       "  '/Users/jrc/develop/china-cronologia',\n",
       "  '8089',\n",
       "  'ltvKQQp8NIewIC8PJPHJ9Jx7kQq39sBR',\n",
       "  <Container: 86a71c0af0e7>),\n",
       " ('wonderful_moore',\n",
       "  '/Users/jrc/develop/timelink-py/tests/timelink-home',\n",
       "  '8989',\n",
       "  '0123456789',\n",
       "  <Container: 37dff135b320>),\n",
       " ('inspiring_austin',\n",
       "  '/Users/jrc/develop/timelink-py/tests/timelink-home/projects/test-project',\n",
       "  '8091',\n",
       "  'VS9ixOrEqi33fFTAU9eiLP0tljxnQ73N',\n",
       "  <Container: ffb32747cbd5>),\n",
       " ('cranky_sinoussi',\n",
       "  '/Users/jrc/develop/timelink-py/tests/timelink-home/projects/test-project',\n",
       "  '8090',\n",
       "  'ctRMXMOSPcLaex1QetJyuB8ELdQaLjBK',\n",
       "  <Container: cde854d1a9e7>),\n",
       " ('xenodochial_kirch',\n",
       "  '/Users/jrc/develop/timelink-py/tests/timelink-home/projects/test-project',\n",
       "  '8092',\n",
       "  'BXS7MGbT4N5dP2Vm9afGCuKn6m4ofS5j',\n",
       "  <Container: 4f0558b5f1cd>),\n",
       " ('zealous_banach',\n",
       "  '/Users/jrc/mhk-home/sources/china-coimbra-biografias',\n",
       "  '8088',\n",
       "  'Mi0z63ePt1wz41R6WZZtAK6pWmxSDp4E',\n",
       "  <Container: 6511b7e8a188>)]"
      ]
     },
     "execution_count": 2,
     "metadata": {},
     "output_type": "execute_result"
    }
   ],
   "source": [
    "# NBVAL_IGNORE_OUTPUT\n",
    "\n",
    "from timelink.kleio.kleio_server import list_kleio_server_containers\n",
    "\n",
    "list_kleio_server_containers()\n"
   ]
  }
 ],
 "metadata": {
  "kernelspec": {
   "display_name": ".venv",
   "language": "python",
   "name": "python3"
  },
  "language_info": {
   "codemirror_mode": {
    "name": "ipython",
    "version": 3
   },
   "file_extension": ".py",
   "mimetype": "text/x-python",
   "name": "python",
   "nbconvert_exporter": "python",
   "pygments_lexer": "ipython3",
   "version": "3.11.1"
  }
 },
 "nbformat": 4,
 "nbformat_minor": 2
}
