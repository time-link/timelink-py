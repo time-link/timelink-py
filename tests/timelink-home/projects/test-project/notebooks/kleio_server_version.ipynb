{
 "cells": [
  {
   "cell_type": "code",
   "execution_count": 1,
   "metadata": {},
   "outputs": [
    {
     "name": "stdout",
     "output_type": "stream",
     "text": [
      "Timelink version: 1.1.13\n",
      "Project name: test-project\n",
      "Project home: /Users/jrc/develop/timelink-py/tests/timelink-home/projects/test-project\n",
      "Database type: postgres\n",
      "Database name: tests\n",
      "Kleio image: timelinkserver/kleio-server:12.6.576\n",
      "Kleio server token: T7fAO...\n",
      "Kleio server URL: http://127.0.0.1:8089\n",
      "Kleio server home: /Users/jrc/develop/timelink-py/tests/timelink-home/projects/test-project\n",
      "Kleio server container: musing_dewdney\n",
      "Kleio version requested: latest\n",
      "Kleio server version: 12.6.573 (2024-07-29 08:30:28)\n",
      "Postgres password: rLsiYvBtpd\n",
      "Postgres image: postgres\n",
      "Postgres version: latest\n",
      "Postgres user: postgres\n",
      "Call print_info(show_token=True) to show the Kleio Server token\n",
      "TimelinkNotebook(project_name=test-project, project_home=/Users/jrc/develop/timelink-py/tests/timelink-home/projects/test-project, db_type=postgres, db_name=tests, kleio_image=timelinkserver/kleio-server:12.6.576, kleio_version=latest, postgres_image=postgres, postgres_version=latest)\n"
     ]
    }
   ],
   "source": [
    "# NBVAL_IGNORE_OUTPUT\n",
    "\n",
    "from timelink.notebooks import TimelinkNotebook\n",
    "\n",
    "tlnb = TimelinkNotebook(kleio_image=\"timelinkserver/kleio-server:12.6.576\",\n",
    "                        db_type=\"postgres\",\n",
    "                        db_name=\"tests\",\n",
    "                        stop_duplicates=True)\n",
    "tlnb.print_info(show_password=True,)"
   ]
  },
  {
   "cell_type": "code",
   "execution_count": 2,
   "metadata": {},
   "outputs": [
    {
     "data": {
      "text/plain": [
       "[('xenodochial_khorana',\n",
       "  '/Users/jrc/develop/timelink-py/tests/timelink-home/projects/test-project',\n",
       "  '8088',\n",
       "  'vcnDrCLBpUCG02GByZ0uUl13ox81D0Sy',\n",
       "  <Container: 887975807a51>),\n",
       " ('musing_dewdney',\n",
       "  '/Users/jrc/develop/timelink-py/tests/timelink-home/projects/test-project',\n",
       "  '8089',\n",
       "  'T7fAOPnFQDmbr4XqlMVSfk11jh2WCyCE',\n",
       "  <Container: e28288d90cdd>)]"
      ]
     },
     "execution_count": 2,
     "metadata": {},
     "output_type": "execute_result"
    }
   ],
   "source": [
    "# NBVAL_IGNORE_OUTPUT\n",
    "\n",
    "from timelink.kleio.kleio_server import list_kleio_server_containers\n",
    "\n",
    "list_kleio_server_containers()\n"
   ]
  }
 ],
 "metadata": {
  "kernelspec": {
   "display_name": ".venv",
   "language": "python",
   "name": "python3"
  },
  "language_info": {
   "codemirror_mode": {
    "name": "ipython",
    "version": 3
   },
   "file_extension": ".py",
   "mimetype": "text/x-python",
   "name": "python",
   "nbconvert_exporter": "python",
   "pygments_lexer": "ipython3",
   "version": "3.11.1"
  }
 },
 "nbformat": 4,
 "nbformat_minor": 2
}
