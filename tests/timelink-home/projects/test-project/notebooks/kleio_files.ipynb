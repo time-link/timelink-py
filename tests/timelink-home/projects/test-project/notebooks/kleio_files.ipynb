{
 "cells": [
  {
   "cell_type": "markdown",
   "metadata": {},
   "source": [
    "# Manage files: translate, import\n",
    "\n"
   ]
  },
  {
   "cell_type": "code",
   "execution_count": 1,
   "metadata": {},
   "outputs": [
    {
     "name": "stdout",
     "output_type": "stream",
     "text": [
      "Kleio Home Found: /Users/jrc/develop/timelink-py/tests/timelink-home/projects/test-project\n",
      "Token: 8Sev\n",
      "URL: http://127.0.0.1:8090\n",
      "Kleio Home: /Users/jrc/develop/timelink-py/tests/timelink-home/projects/test-project\n"
     ]
    }
   ],
   "source": [
    "# NBVAL_IGNORE_OUTPUT\n",
    "\n",
    "from timelink.kleio import KleioServer\n",
    "from timelink.kleio import KleioServer\n",
    "\n",
    "kleio_home_found = KleioServer.find_local_kleio_home()\n",
    "print(f\"Kleio Home Found: {kleio_home_found}\")\n",
    "\n",
    "kserver: KleioServer = KleioServer.start(kleio_home=kleio_home_found,\n",
    "                                         kleio_image='kleio-server',\n",
    "                                         kleio_version='12.6.574')\n",
    "# kserver: KleioServer = KleioServer.attach(kleio_home=kleio_home_found,token=\"mytoken\",url=\"http://localhost:4040\")\n",
    "token = kserver.get_token()\n",
    "url = kserver.get_url()\n",
    "khome = kserver.get_kleio_home()\n",
    "\n",
    "print(f\"Token: {token[:4]}\")\n",
    "print(f\"URL: {url}\")\n",
    "print(f\"Kleio Home: {khome}\")\n"
   ]
  },
  {
   "cell_type": "markdown",
   "metadata": {},
   "source": [
    "# get the list of files in the directory"
   ]
  },
  {
   "cell_type": "code",
   "execution_count": 4,
   "metadata": {},
   "outputs": [
    {
     "name": "stdout",
     "output_type": "stream",
     "text": [
      "E http://127.0.0.1:8090/rest/sources/kleio/reference_sources/notariais/notarial80.cli?token=8Sevrnnc1EbzZUXB0ipE0btr6KiNjRM0 2024-07-02 13:36:20 2024-07-02T13:36:00+00:00\n",
      "E http://127.0.0.1:8090/rest/sources/kleio/reference_sources/paroquiais/obitos/ob1688.cli?token=8Sevrnnc1EbzZUXB0ipE0btr6KiNjRM0 2024-02-08 06:21:39 2024-02-10T14:33:00+00:00\n",
      "E http://127.0.0.1:8090/rest/sources/kleio/reference_sources/paroquiais/obitos/ob1688b.cli?token=8Sevrnnc1EbzZUXB0ipE0btr6KiNjRM0 2024-02-08 06:21:39 2024-02-10T14:33:00+00:00\n",
      "E http://127.0.0.1:8090/rest/sources/kleio/reference_sources/paroquiais/obitos/obiteirasproblem.cli?token=8Sevrnnc1EbzZUXB0ipE0btr6KiNjRM0 2024-02-08 06:21:39 2024-02-26T03:29:00+00:00\n",
      "E http://127.0.0.1:8090/rest/sources/kleio/reference_sources/paroquiais/obitos/obitoShort_id_id.cli?token=8Sevrnnc1EbzZUXB0ipE0btr6KiNjRM0 2024-02-08 06:21:39 2024-02-10T14:33:00+00:00\n",
      "E http://127.0.0.1:8090/rest/sources/kleio/reference_sources/varia/nommiz.cli?token=8Sevrnnc1EbzZUXB0ipE0btr6KiNjRM0 2024-02-08 06:21:39 2024-06-30T14:16:00+00:00\n",
      "T http://127.0.0.1:8090/rest/sources/kleio/reference_sources/linked_data/dehergne-a.cli?token=8Sevrnnc1EbzZUXB0ipE0btr6KiNjRM0 2024-09-05 08:38:04 None\n",
      "T http://127.0.0.1:8090/rest/sources/kleio/reference_sources/linked_data/dehergne-locations-1644.cli?token=8Sevrnnc1EbzZUXB0ipE0btr6KiNjRM0 2024-09-05 08:38:04 None\n",
      "T http://127.0.0.1:8090/rest/sources/kleio/reference_sources/notariais/docsregiospontepisc.cli?token=8Sevrnnc1EbzZUXB0ipE0btr6KiNjRM0 2024-07-11 12:37:17 2024-07-02T13:36:00+00:00\n",
      "T http://127.0.0.1:8090/rest/sources/kleio/reference_sources/notariais/notlousa1.cli?token=8Sevrnnc1EbzZUXB0ipE0btr6KiNjRM0 2024-07-11 12:37:17 2024-06-30T14:16:00+00:00\n",
      "T http://127.0.0.1:8090/rest/sources/kleio/reference_sources/notariais/perdoes.cli?token=8Sevrnnc1EbzZUXB0ipE0btr6KiNjRM0 2024-07-11 12:37:17 2024-06-30T14:16:00+00:00\n",
      "T http://127.0.0.1:8090/rest/sources/kleio/reference_sources/paroquiais/baptismos/bap-com-celebrantes.cli?token=8Sevrnnc1EbzZUXB0ipE0btr6KiNjRM0 2024-09-05 13:56:44 2024-06-30T14:15:00+00:00\n",
      "T http://127.0.0.1:8090/rest/sources/kleio/reference_sources/paroquiais/baptismos/bapt1714.cli?token=8Sevrnnc1EbzZUXB0ipE0btr6KiNjRM0 2024-09-05 13:56:44 2024-06-30T14:15:00+00:00\n",
      "T http://127.0.0.1:8090/rest/sources/kleio/reference_sources/paroquiais/baptismos/bapteirasproblem1.cli?token=8Sevrnnc1EbzZUXB0ipE0btr6KiNjRM0 2024-09-05 13:56:44 2024-06-30T14:16:00+00:00\n",
      "T http://127.0.0.1:8090/rest/sources/kleio/reference_sources/paroquiais/baptismos/bapteirasproblem2.cli?token=8Sevrnnc1EbzZUXB0ipE0btr6KiNjRM0 2024-07-11 12:37:17 2024-06-30T14:16:00+00:00\n",
      "T http://127.0.0.1:8090/rest/sources/kleio/reference_sources/paroquiais/baptismos/rogeriodomingos_bap_problem.cli?token=8Sevrnnc1EbzZUXB0ipE0btr6KiNjRM0 2024-07-11 12:37:17 2024-06-30T14:16:00+00:00\n",
      "T http://127.0.0.1:8090/rest/sources/kleio/reference_sources/paroquiais/casamentos/cas1714-1722-com-celebrante.cli?token=8Sevrnnc1EbzZUXB0ipE0btr6KiNjRM0 2024-07-11 12:37:17 2024-06-30T14:15:00+00:00\n",
      "T http://127.0.0.1:8090/rest/sources/kleio/reference_sources/paroquiais/casamentos/cas1714-1722.cli?token=8Sevrnnc1EbzZUXB0ipE0btr6KiNjRM0 2024-07-11 12:37:17 2024-06-30T14:16:00+00:00\n",
      "T http://127.0.0.1:8090/rest/sources/kleio/reference_sources/paroquiais/crisma/crisma1753.cli?token=8Sevrnnc1EbzZUXB0ipE0btr6KiNjRM0 2024-07-11 12:37:17 2024-06-30T14:16:00+00:00\n",
      "T http://127.0.0.1:8090/rest/sources/kleio/reference_sources/paroquiais/obitos/obit1714.cli?token=8Sevrnnc1EbzZUXB0ipE0btr6KiNjRM0 2024-07-11 12:37:17 2024-06-30T14:16:00+00:00\n",
      "T http://127.0.0.1:8090/rest/sources/kleio/reference_sources/paroquiais/obitos/obitoShort.cli?token=8Sevrnnc1EbzZUXB0ipE0btr6KiNjRM0 2024-07-11 12:37:17 2024-06-30T14:16:00+00:00\n",
      "T http://127.0.0.1:8090/rest/sources/kleio/reference_sources/paroquiais/obitos/obitoShort_id.cli?token=8Sevrnnc1EbzZUXB0ipE0btr6KiNjRM0 2024-07-11 12:37:17 2024-06-30T14:16:00+00:00\n",
      "T http://127.0.0.1:8090/rest/sources/kleio/reference_sources/paroquiais/obitos/testeParentescos.cli?token=8Sevrnnc1EbzZUXB0ipE0btr6KiNjRM0 2024-07-11 12:37:17 2024-06-30T14:16:00+00:00\n",
      "T http://127.0.0.1:8090/rest/sources/kleio/reference_sources/roisdeconfessados/coja-rol-1841.cli?token=8Sevrnnc1EbzZUXB0ipE0btr6KiNjRM0 2024-07-11 12:37:17 2024-06-30T14:16:00+00:00\n",
      "T http://127.0.0.1:8090/rest/sources/kleio/reference_sources/roisdeconfessados/eiras-rol1.cli?token=8Sevrnnc1EbzZUXB0ipE0btr6KiNjRM0 2024-07-11 12:37:17 2024-06-30T14:16:00+00:00\n",
      "T http://127.0.0.1:8090/rest/sources/kleio/reference_sources/roisdeconfessados/eiras-rol2.cli?token=8Sevrnnc1EbzZUXB0ipE0btr6KiNjRM0 2024-07-11 12:37:17 2024-06-30T14:16:00+00:00\n",
      "T http://127.0.0.1:8090/rest/sources/kleio/reference_sources/roisdeconfessados/eiras-rol3.cli?token=8Sevrnnc1EbzZUXB0ipE0btr6KiNjRM0 2024-07-11 12:37:17 2024-06-30T14:16:00+00:00\n",
      "T http://127.0.0.1:8090/rest/sources/kleio/reference_sources/varia/Devedores.cli?token=8Sevrnnc1EbzZUXB0ipE0btr6KiNjRM0 2024-07-11 12:37:17 2024-06-30T14:15:00+00:00\n",
      "T http://127.0.0.1:8090/rest/sources/kleio/reference_sources/varia/EmpFAfonso.cli?token=8Sevrnnc1EbzZUXB0ipE0btr6KiNjRM0 2024-07-11 12:37:17 2024-06-30T14:15:00+00:00\n",
      "T http://127.0.0.1:8090/rest/sources/kleio/reference_sources/varia/auc-alunos.cli?token=8Sevrnnc1EbzZUXB0ipE0btr6KiNjRM0 2024-07-11 12:37:17 2024-06-30T14:17:00+00:00\n",
      "T http://127.0.0.1:8090/rest/sources/kleio/reference_sources/varia/auc_cartulario18.cli?token=8Sevrnnc1EbzZUXB0ipE0btr6KiNjRM0 2024-07-11 12:37:17 2024-06-30T14:15:00+00:00\n",
      "T http://127.0.0.1:8090/rest/sources/kleio/reference_sources/varia/eleicoes1.cli?token=8Sevrnnc1EbzZUXB0ipE0btr6KiNjRM0 2024-07-11 12:37:17 2024-06-30T14:16:00+00:00\n",
      "T http://127.0.0.1:8090/rest/sources/kleio/reference_sources/varia/genealdiversas.cli?token=8Sevrnnc1EbzZUXB0ipE0btr6KiNjRM0 2024-07-11 12:37:17 2024-06-30T14:16:00+00:00\n",
      "T http://127.0.0.1:8090/rest/sources/kleio/reference_sources/varia/glopes-lap1561.cli?token=8Sevrnnc1EbzZUXB0ipE0btr6KiNjRM0 2024-07-11 12:37:17 2024-06-30T14:16:00+00:00\n",
      "T http://127.0.0.1:8090/rest/sources/kleio/reference_sources/varia/ivcc.cli?token=8Sevrnnc1EbzZUXB0ipE0btr6KiNjRM0 2024-07-11 12:37:17 2024-06-30T14:16:00+00:00\n",
      "T http://127.0.0.1:8090/rest/sources/kleio/reference_sources/varia/lrazao516pe.cli?token=8Sevrnnc1EbzZUXB0ipE0btr6KiNjRM0 2024-07-11 12:37:17 2024-06-30T14:16:00+00:00\n",
      "T http://127.0.0.1:8090/rest/sources/kleio/reference_sources/varia/misMesa.cli?token=8Sevrnnc1EbzZUXB0ipE0btr6KiNjRM0 2024-07-11 12:37:17 2024-06-30T14:16:00+00:00\n",
      "T http://127.0.0.1:8090/rest/sources/kleio/reference_sources/varia/mp758-santiago-beduido.cli?token=8Sevrnnc1EbzZUXB0ipE0btr6KiNjRM0 2024-07-11 12:37:17 2024-06-30T14:16:00+00:00\n",
      "T http://127.0.0.1:8090/rest/sources/kleio/reference_sources/varia/quotes.cli?token=8Sevrnnc1EbzZUXB0ipE0btr6KiNjRM0 2024-07-11 12:37:17 2024-06-30T14:16:00+00:00\n",
      "T http://127.0.0.1:8090/rest/sources/kleio/reference_sources/varia/sourecoimbrabispcoimbra_apontamentosd.cli?token=8Sevrnnc1EbzZUXB0ipE0btr6KiNjRM0 2024-07-11 12:37:17 2024-06-30T14:16:00+00:00\n",
      "T http://127.0.0.1:8090/rest/sources/kleio/reference_sources/varia/vereacao.cli?token=8Sevrnnc1EbzZUXB0ipE0btr6KiNjRM0 2024-07-11 12:37:17 2024-06-30T14:16:00+00:00\n",
      "T http://127.0.0.1:8090/rest/sources/kleio/reference_sources/varia/xpto_comuns_soure.kleio?token=8Sevrnnc1EbzZUXB0ipE0btr6KiNjRM0 2024-07-11 12:37:17 2024-06-30T14:16:00+00:00\n"
     ]
    }
   ],
   "source": [
    "from typing import List\n",
    "from timelink.kleio.schemas import KleioFile\n",
    "\n",
    "kfiles: List[KleioFile] = kserver.translation_status(path='kleio',recurse='yes',status=None)\n",
    "\n",
    "for kfile in sorted(kfiles, key=lambda kfile: kfile.status.value+kfile.path):\n",
    "    print(kfile.status.value,url+kfile.source_url+f\"?token={token}\",kfile.modified_string, kfile.translated_string)"
   ]
  },
  {
   "cell_type": "markdown",
   "metadata": {},
   "source": [
    "### Translate new and updated files"
   ]
  },
  {
   "cell_type": "code",
   "execution_count": 5,
   "metadata": {},
   "outputs": [],
   "source": [
    "for kfile in kserver.translation_status(path='sources/api',recurse='yes',status='T'):\n",
    "    print(kfile.status.value, kfile.path)\n",
    "    kserver.translate(kfile.path, recurse='no', spawn='no')"
   ]
  },
  {
   "cell_type": "markdown",
   "metadata": {},
   "source": [
    "### List files translated sucessfully. Status=\"V\""
   ]
  },
  {
   "cell_type": "code",
   "execution_count": 6,
   "metadata": {},
   "outputs": [],
   "source": [
    "for kfile in kserver.translation_status(path='sources/api',recurse='yes',status='V'):\n",
    "    print(\"Import\",kfile.status.value, kfile.xml_url)\n"
   ]
  },
  {
   "cell_type": "markdown",
   "metadata": {},
   "source": [
    "### List files with errors"
   ]
  },
  {
   "cell_type": "code",
   "execution_count": 5,
   "metadata": {},
   "outputs": [],
   "source": [
    "for kfile in kserver.translation_status(path='sources/api',recurse='yes',status='E'):\n",
    "    print(\"ERROR\",kfile.status.value, kfile.path)"
   ]
  },
  {
   "cell_type": "markdown",
   "metadata": {},
   "source": [
    "### List files with warnings"
   ]
  },
  {
   "cell_type": "code",
   "execution_count": 6,
   "metadata": {},
   "outputs": [],
   "source": [
    "for kfile in kserver.translation_status(path='',recurse='yes',status='W'):\n",
    "    print(\"Import\",kfile.status.value, kfile.path)"
   ]
  },
  {
   "cell_type": "code",
   "execution_count": 7,
   "metadata": {},
   "outputs": [],
   "source": [
    "for kfile in kserver.translation_status(path='',recurse='yes',status='P'):\n",
    "    print(\"Processing\",kfile.status.value, kfile.path)"
   ]
  },
  {
   "cell_type": "code",
   "execution_count": 8,
   "metadata": {},
   "outputs": [],
   "source": [
    "for kfile in kserver.translation_status(path='',recurse='yes',status='Q'):\n",
    "    print(\"Queued\",kfile.status.value, kfile.path)\n"
   ]
  },
  {
   "cell_type": "markdown",
   "metadata": {},
   "source": []
  }
 ],
 "metadata": {
  "kernelspec": {
   "display_name": ".venv",
   "language": "python",
   "name": "python3"
  },
  "language_info": {
   "codemirror_mode": {
    "name": "ipython",
    "version": 3
   },
   "file_extension": ".py",
   "mimetype": "text/x-python",
   "name": "python",
   "nbconvert_exporter": "python",
   "pygments_lexer": "ipython3",
   "version": "3.11.1"
  },
  "orig_nbformat": 4
 },
 "nbformat": 4,
 "nbformat_minor": 2
}
