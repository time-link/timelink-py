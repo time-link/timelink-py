{
 "cells": [
  {
   "cell_type": "code",
   "execution_count": 1,
   "metadata": {},
   "outputs": [
    {
     "name": "stdout",
     "output_type": "stream",
     "text": [
      "Kleio Home Found: /Users/jrc/develop/timelink-py/tests/timelink-home/projects/test-project\n",
      "Token: IQEZ\n",
      "URL: http://127.0.0.1:8090\n",
      "Kleio Home: /Users/jrc/develop/timelink-py/tests/timelink-home/projects/test-project\n"
     ]
    }
   ],
   "source": [
    "# NBVAL_IGNORE_OUTPUT\n",
    "\n",
    "from timelink.kleio import KleioServer\n",
    "from timelink.kleio import KleioServer\n",
    "\n",
    "kleio_home_found = KleioServer.find_local_kleio_home()\n",
    "print(f\"Kleio Home Found: {kleio_home_found}\")\n",
    "\n",
    "kserver: KleioServer = KleioServer.start(kleio_home=kleio_home_found)\n",
    "# kserver: KleioServer = KleioServer.attach(kleio_home=kleio_home_found,token=\"mytoken\",url=\"http://localhost:4040\")\n",
    "token = kserver.get_token()\n",
    "url = kserver.get_url()\n",
    "khome = kserver.get_kleio_home()\n",
    "\n",
    "print(f\"Token: {token[:4]}\")\n",
    "print(f\"URL: {url}\")\n",
    "print(f\"Kleio Home: {khome}\")\n"
   ]
  },
  {
   "cell_type": "markdown",
   "metadata": {},
   "source": [
    "# get the list of files in the directory"
   ]
  },
  {
   "cell_type": "code",
   "execution_count": 2,
   "metadata": {},
   "outputs": [],
   "source": [
    "from typing import List\n",
    "from timelink.kleio.schemas import KleioFile\n",
    "\n",
    "kfiles: List[KleioFile] = kserver.translation_status(path='sources',recurse='yes',status=None)\n",
    "\n",
    "for kfile in sorted(kfiles, key=lambda kfile: kfile.status.value+kfile.path):\n",
    "    print(kfile.status.value,url+kfile.source_url+f\"?token={token}\",kfile.modified_string, kfile.translated_string)"
   ]
  },
  {
   "cell_type": "markdown",
   "metadata": {},
   "source": [
    "### Translate new and updated files"
   ]
  },
  {
   "cell_type": "code",
   "execution_count": 3,
   "metadata": {},
   "outputs": [],
   "source": [
    "for kfile in kserver.translation_status(path='sources/api',recurse='yes',status='T'):\n",
    "    print(kfile.status.value, kfile.path)\n",
    "    kserver.translate(kfile.path, recurse='no', spawn='no')"
   ]
  },
  {
   "cell_type": "markdown",
   "metadata": {},
   "source": [
    "### List files translated sucessfully. Status=\"V\""
   ]
  },
  {
   "cell_type": "code",
   "execution_count": 4,
   "metadata": {},
   "outputs": [],
   "source": [
    "for kfile in kserver.translation_status(path='sources/api',recurse='yes',status='V'):\n",
    "    print(\"Import\",kfile.status.value, kfile.xml_url)\n"
   ]
  },
  {
   "cell_type": "markdown",
   "metadata": {},
   "source": [
    "### List files with errors"
   ]
  },
  {
   "cell_type": "code",
   "execution_count": 5,
   "metadata": {},
   "outputs": [],
   "source": [
    "for kfile in kserver.translation_status(path='sources/api',recurse='yes',status='E'):\n",
    "    print(\"ERROR\",kfile.status.value, kfile.path)"
   ]
  },
  {
   "cell_type": "markdown",
   "metadata": {},
   "source": [
    "### List files with warnings"
   ]
  },
  {
   "cell_type": "code",
   "execution_count": 6,
   "metadata": {},
   "outputs": [],
   "source": [
    "for kfile in kserver.translation_status(path='',recurse='yes',status='W'):\n",
    "    print(\"Import\",kfile.status.value, kfile.path)"
   ]
  },
  {
   "cell_type": "code",
   "execution_count": 7,
   "metadata": {},
   "outputs": [],
   "source": [
    "for kfile in kserver.translation_status(path='',recurse='yes',status='P'):\n",
    "    print(\"Processing\",kfile.status.value, kfile.path)"
   ]
  },
  {
   "cell_type": "code",
   "execution_count": 8,
   "metadata": {},
   "outputs": [],
   "source": [
    "for kfile in kserver.translation_status(path='',recurse='yes',status='Q'):\n",
    "    print(\"Queued\",kfile.status.value, kfile.path)\n"
   ]
  }
 ],
 "metadata": {
  "kernelspec": {
   "display_name": ".venv",
   "language": "python",
   "name": "python3"
  },
  "language_info": {
   "codemirror_mode": {
    "name": "ipython",
    "version": 3
   },
   "file_extension": ".py",
   "mimetype": "text/x-python",
   "name": "python",
   "nbconvert_exporter": "python",
   "pygments_lexer": "ipython3",
   "version": "3.10.9"
  },
  "orig_nbformat": 4
 },
 "nbformat": 4,
 "nbformat_minor": 2
}
