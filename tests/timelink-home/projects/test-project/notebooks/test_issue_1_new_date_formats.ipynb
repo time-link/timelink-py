{
 "cells": [
  {
   "cell_type": "markdown",
   "metadata": {},
   "source": [
    "## New format for dates\n",
    "https://github.com/time-link/timelink-py/issues/1"
   ]
  },
  {
   "cell_type": "code",
   "execution_count": 1,
   "metadata": {},
   "outputs": [
    {
     "name": "stderr",
     "output_type": "stream",
     "text": [
      "WARNING:root:Reusing existing container vigorous_morse\n"
     ]
    },
    {
     "name": "stdout",
     "output_type": "stream",
     "text": [
      "Timelink version: 1.1.24\n",
      "Project name: test-project\n",
      "Project home: /Users/jrc/develop/timelink-py/tests/timelink-home/projects/test-project\n",
      "Database type: sqlite\n",
      "Database name: issue1\n",
      "Kleio image: timelinkserver/kleio-server\n",
      "Kleio server token: oY7YK...\n",
      "Kleio server URL: http://127.0.0.1:8089\n",
      "Kleio server home: /Users/jrc/develop/timelink-py/tests/timelink-home/projects/test-project\n",
      "Kleio server container: vigorous_morse\n",
      "Kleio version requested: latest\n",
      "Kleio server version: 12.8.593 (2025-03-16 21:55:53)\n",
      "SQLite directory: /Users/jrc/develop/timelink-py/tests/timelink-home/projects/test-project/database/sqlite\n",
      "Database version: 6ccf1ef385a6\n",
      "Call print_info(show_token=True) to show the Kleio Server token\n",
      "Call print_info(show_password=True) to show the Postgres password\n",
      "TimelinkNotebook(project_name=test-project, project_home=/Users/jrc/develop/timelink-py/tests/timelink-home/projects/test-project, db_type=sqlite, db_name=issue1, kleio_image=timelinkserver/kleio-server, kleio_version=latest, postgres_image=postgres, postgres_version=latest)\n"
     ]
    }
   ],
   "source": [
    "# NBVAL_IGNORE_OUTPUT\n",
    "from timelink.notebooks import TimelinkNotebook\n",
    "\n",
    "tlnb = TimelinkNotebook(db_type=\"sqlite\", db_name=\"issue1\")\n",
    "tlnb.print_info()"
   ]
  },
  {
   "cell_type": "code",
   "execution_count": 2,
   "metadata": {},
   "outputs": [
    {
     "name": "stderr",
     "output_type": "stream",
     "text": [
      "/Users/jrc/develop/timelink-py/timelink/api/models/pom_som_mapper.py:803: UserWarning: Element type of group ls:issue1_ks_p1-atra2 is too long for column the_type of class attribute truncating to 32 characters\n",
      "  entity_from_group: Entity = cls.kgroup_to_entity(group, session)\n"
     ]
    },
    {
     "data": {
      "text/html": [
       "<div>\n",
       "<style scoped>\n",
       "    .dataframe tbody tr th:only-of-type {\n",
       "        vertical-align: middle;\n",
       "    }\n",
       "\n",
       "    .dataframe tbody tr th {\n",
       "        vertical-align: top;\n",
       "    }\n",
       "\n",
       "    .dataframe thead th {\n",
       "        text-align: right;\n",
       "    }\n",
       "</style>\n",
       "<table border=\"1\" class=\"dataframe\">\n",
       "  <thead>\n",
       "    <tr style=\"text-align: right;\">\n",
       "      <th></th>\n",
       "      <th>name</th>\n",
       "      <th>import_errors</th>\n",
       "      <th>errors</th>\n",
       "    </tr>\n",
       "  </thead>\n",
       "  <tbody>\n",
       "  </tbody>\n",
       "</table>\n",
       "</div>"
      ],
      "text/plain": [
       "Empty DataFrame\n",
       "Columns: [name, import_errors, errors]\n",
       "Index: []"
      ]
     },
     "execution_count": 2,
     "metadata": {},
     "output_type": "execute_result"
    }
   ],
   "source": [
    "path = \"sources/reference_sources/issues/issue1_ks\"\n",
    "tlnb.update_from_sources(path=path, force=True)\n",
    "# get the import status\n",
    "import_status = tlnb.get_import_status(path=path)\n",
    "# list those with import_error > 0 or error > 0\n",
    "errors = import_status.query(\"import_errors > 0 or errors > 0\")\n",
    "errors[['name', 'import_errors', 'errors']]"
   ]
  },
  {
   "cell_type": "code",
   "execution_count": 3,
   "metadata": {},
   "outputs": [
    {
     "name": "stdout",
     "output_type": "stream",
     "text": [
      "<1640 ls$tep-date@wikidata/\"https://www.wikidata.org/wiki/Q14773\"%date-relative-beforeMacau/16399999.7\n",
      "<1640 ls$tep-date/date-relative-beforeMacau#@wikidata:Q14773/<1640/obs=(before 1640)\n",
      ">1581 ls$date-relative-with-linked-data@w/\"https://www.wikidata.org/wiki/Q14773\"%Macau/15810000.3\n",
      ">1581 ls$date-relative-with-linked-data/Macau#@wikidata:Q14773/>1581/obs=relative with linked\n",
      "1580-13 ls$bad-date/date-bad-month/1580-13/obs=(bad date)\n",
      "E15804012 ls$bad-date/date-bad-month/E15804012/obs=(bad date)\n",
      "E15800499 ls$bad-date/date-bad-day/E15800499/obs=(bad date)\n",
      ">1580:<1640 ls$tep-date/date-range-relative/>1580:<1640/obs=(after 1580 and before 1640)\n",
      ">1580-04-15:<1640-12-01 ls$tep-date/date-range-relative/>1580-04-15:<1640-12-01/obs=(after 15 April 1580 and before December 1st 1640)\n"
     ]
    },
    {
     "name": "stderr",
     "output_type": "stream",
     "text": [
      "/Users/jrc/develop/timelink-py/.venv/lib/python3.10/site-packages/IPython/core/interactiveshell.py:3579: UserWarning: Invalid date: 15804012 -> unconverted data remains: 2\n",
      "  exec(code_obj, self.user_global_ns, self.user_ns)\n",
      "/Users/jrc/develop/timelink-py/timelink/api/models/attribute.py:58: UserWarning: Invalid date: 15804012 -> unconverted data remains: 2\n",
      "  r += f\"{self.for_kleio('the_date')}\"\n",
      "/Users/jrc/develop/timelink-py/.venv/lib/python3.10/site-packages/IPython/core/interactiveshell.py:3579: UserWarning: Invalid date: 15800499 -> unconverted data remains: 9\n",
      "  exec(code_obj, self.user_global_ns, self.user_ns)\n",
      "/Users/jrc/develop/timelink-py/timelink/api/models/attribute.py:58: UserWarning: Invalid date: 15800499 -> unconverted data remains: 9\n",
      "  r += f\"{self.for_kleio('the_date')}\"\n"
     ]
    },
    {
     "name": "stdout",
     "output_type": "stream",
     "text": [
      "1681 ls$tep-date/date-uncertain/1681#?/obs=(uncertain)\n",
      "1580 ls$tep-date/date-year/1580\n",
      "1640-12-01 ls$tep-date/date-full-hifens/1640-12-01/obs=(December 1st 1640)\n",
      "1580-04-15:1640-12-01 ls$tep-date/date-range/1580-04-15:1640-12-01/obs=(from 15 April 1580 to December 1st 1640)\n",
      "1580:1640 ls$tep-date/date-range-years/1580:1640/obs=(from 1580 to 1640)\n",
      "1580: ls$tep-date/date-range-open-end/1580:/obs=(period starting in 1580, no end date)\n",
      ":1640 ls$tep-date/date-range-open-start/:1640/obs=(period ending in 1640, no start date)\n",
      ">1580 ls$tep-date/date-relative-after/>1580/obs=(after 1580)\n",
      "1681-05-16 ls$tep-date/date-uncertain/1681-05-16#?/obs=(uncertain, the whole date, not just the day)\n"
     ]
    }
   ],
   "source": [
    "from timelink.kleio.utilities import format_timelink_date\n",
    "\n",
    "with tlnb.db.session() as session:\n",
    "    person = tlnb.db.get_person('issue1_ks_p1', session=session)\n",
    "    # print(person.to_kleio())\n",
    "    for atr in person.attributes:\n",
    "        print(format_timelink_date(atr.the_date), atr.to_kleio())\n",
    "\n",
    "\n"
   ]
  }
 ],
 "metadata": {
  "kernelspec": {
   "display_name": ".venv",
   "language": "python",
   "name": "python3"
  },
  "language_info": {
   "codemirror_mode": {
    "name": "ipython",
    "version": 3
   },
   "file_extension": ".py",
   "mimetype": "text/x-python",
   "name": "python",
   "nbconvert_exporter": "python",
   "pygments_lexer": "ipython3",
   "version": "3.10.14"
  }
 },
 "nbformat": 4,
 "nbformat_minor": 2
}
