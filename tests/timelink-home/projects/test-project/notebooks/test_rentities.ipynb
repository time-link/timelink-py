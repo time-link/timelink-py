{
 "cells": [
  {
   "cell_type": "markdown",
   "metadata": {},
   "source": [
    "## Test Real Entities"
   ]
  },
  {
   "cell_type": "code",
   "execution_count": 1,
   "metadata": {},
   "outputs": [
    {
     "name": "stdout",
     "output_type": "stream",
     "text": [
      "Timelink version: 1.1.15\n",
      "Project name: test-project\n",
      "Project home: /workspaces/timelink-py/tests/timelink-home/projects/test-project\n",
      "Database type: sqlite\n",
      "Database name: rentitynb\n",
      "Kleio image: timelinkserver/kleio-server\n",
      "Kleio server token: mLahU...\n",
      "Kleio server URL: http://127.0.0.1:8088\n",
      "Kleio server home: /workspaces/timelink-py/tests/timelink-home/projects/test-project\n",
      "Kleio server container: suspicious_bohr\n",
      "Kleio version requested: latest\n",
      "Kleio server version: 12.6.577 (2024-10-24 16:53:53)\n",
      "SQLite directory: /workspaces/timelink-py/tests/timelink-home/projects/test-project/database/sqlite\n",
      "Call print_info(show_token=True) to show the Kleio Server token\n",
      "Call print_info(show_password=True) to show the Postgres password\n",
      "TimelinkNotebook(project_name=test-project, project_home=/workspaces/timelink-py/tests/timelink-home/projects/test-project, db_type=sqlite, db_name=rentitynb, kleio_image=timelinkserver/kleio-server, kleio_version=latest, postgres_image=postgres, postgres_version=latest)\n"
     ]
    }
   ],
   "source": [
    "# NBVAL_IGNORE_OUTPUT\n",
    "\n",
    "from timelink.notebooks import TimelinkNotebook\n",
    "\n",
    "tlnb = TimelinkNotebook(db_name='rentitynb')\n",
    "tlnb.print_info()\n"
   ]
  },
  {
   "cell_type": "code",
   "execution_count": 2,
   "metadata": {},
   "outputs": [
    {
     "name": "stdout",
     "output_type": "stream",
     "text": [
      "person$John Doe/m/id=john-doe\n",
      "  attribute$age/30/2020-01-01\n",
      "person$John Doe II/m/id=john-doe2\n",
      "  attribute$age/31/2021-01-01\n",
      "rentity$John Doe/id=rp-john-doe\n",
      "  attribute$age/30/2020-01-01\n",
      "  attribute$age/31/2021-01-01\n"
     ]
    }
   ],
   "source": [
    "from timelink.api.models import Person, Attribute\n",
    "from timelink.api.models.rentity import REntity, Link, LinkStatus\n",
    "# log sql from sqlalchemy to stdout\n",
    "import logging\n",
    "logging.basicConfig()\n",
    "logging.getLogger('sqlalchemy.engine').setLevel(logging.ERROR)\n",
    "\n",
    "with tlnb.db.session() as session:\n",
    "    tlnb.db.drop_db(session=session)\n",
    "    tlnb.db.create_db()\n",
    "\n",
    "\n",
    "with tlnb.db.session() as session:\n",
    "    # Create a person\n",
    "    person1: Person = Person(id='john-doe',name=\"John Doe\", sex='m')\n",
    "    person2: Person = Person(id='john-doe2',name=\"John Doe II\", sex='m')\n",
    "    session.add(person1)\n",
    "    session.add(person2)\n",
    "    person1.attributes.append(Attribute(id='p1-a1',the_type='age',the_value='30', the_date='2020-01-01'))\n",
    "    person2.attributes.append(Attribute(id='p1-a2',the_type='age',the_value='31', the_date='2021-01-01'))\n",
    "    session.commit()\n",
    "\n",
    "with tlnb.db.session() as session:\n",
    "    person1 = session.get(Person,'john-doe')\n",
    "    person2 = session.get(Person,'john-doe2')\n",
    "    print(person1)\n",
    "    print(person2)\n",
    "\n",
    "with tlnb.db.session() as session:\n",
    "    # Create a real person\n",
    "    rpjd = REntity.same_as('john-doe',\n",
    "                                'john-doe2',\n",
    "                                real_id='rp-john-doe',\n",
    "                                user='tester',\n",
    "                                status=LinkStatus.MANUAL,\n",
    "                                session=session)\n",
    "    session.commit()\n",
    "    print(rpjd.to_kleio())"
   ]
  }
 ],
 "metadata": {
  "kernelspec": {
   "display_name": "Python 3",
   "language": "python",
   "name": "python3"
  },
  "language_info": {
   "codemirror_mode": {
    "name": "ipython",
    "version": 3
   },
   "file_extension": ".py",
   "mimetype": "text/x-python",
   "name": "python",
   "nbconvert_exporter": "python",
   "pygments_lexer": "ipython3",
   "version": "3.10.16"
  }
 },
 "nbformat": 4,
 "nbformat_minor": 2
}
