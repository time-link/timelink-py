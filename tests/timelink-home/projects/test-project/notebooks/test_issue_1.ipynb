{
 "cells": [
  {
   "cell_type": "markdown",
   "metadata": {},
   "source": [
    "## New format for dates\n",
    "https://github.com/time-link/timelink-py/issues/1"
   ]
  },
  {
   "cell_type": "code",
   "execution_count": 1,
   "metadata": {},
   "outputs": [
    {
     "name": "stdout",
     "output_type": "stream",
     "text": [
      "Timelink version: 1.1.18\n",
      "Project name: test-project\n",
      "Project home: /Users/jrc/develop/timelink-py/tests/timelink-home/projects/test-project\n",
      "Database type: sqlite\n",
      "Database name: issue1\n",
      "Kleio image: timelinkserver/kleio-server\n",
      "Kleio server token: yFr0g...\n",
      "Kleio server URL: http://127.0.0.1:8088\n",
      "Kleio server home: /Users/jrc/develop/timelink-py/tests/timelink-home/projects/test-project\n",
      "Kleio server container: stoic_vaughan\n",
      "Kleio version requested: latest\n",
      "Kleio server version: 12.7.579 (2025-01-29 17:45:15)\n",
      "SQLite directory: /Users/jrc/develop/timelink-py/tests/timelink-home/projects/test-project/database/sqlite\n",
      "Database version: 6ccf1ef385a6\n",
      "Call print_info(show_token=True) to show the Kleio Server token\n",
      "Call print_info(show_password=True) to show the Postgres password\n",
      "TimelinkNotebook(project_name=test-project, project_home=/Users/jrc/develop/timelink-py/tests/timelink-home/projects/test-project, db_type=sqlite, db_name=issue1, kleio_image=timelinkserver/kleio-server, kleio_version=latest, postgres_image=postgres, postgres_version=latest)\n"
     ]
    }
   ],
   "source": [
    "# NBVAL_IGNORE_OUTPUT\n",
    "from timelink.notebooks import TimelinkNotebook\n",
    "\n",
    "tlnb = TimelinkNotebook(db_type=\"sqlite\", db_name=\"issue1\")\n",
    "tlnb.print_info()"
   ]
  },
  {
   "cell_type": "code",
   "execution_count": 2,
   "metadata": {},
   "outputs": [
    {
     "data": {
      "text/html": [
       "<div>\n",
       "<style scoped>\n",
       "    .dataframe tbody tr th:only-of-type {\n",
       "        vertical-align: middle;\n",
       "    }\n",
       "\n",
       "    .dataframe tbody tr th {\n",
       "        vertical-align: top;\n",
       "    }\n",
       "\n",
       "    .dataframe thead th {\n",
       "        text-align: right;\n",
       "    }\n",
       "</style>\n",
       "<table border=\"1\" class=\"dataframe\">\n",
       "  <thead>\n",
       "    <tr style=\"text-align: right;\">\n",
       "      <th></th>\n",
       "      <th>name</th>\n",
       "      <th>import_errors</th>\n",
       "      <th>errors</th>\n",
       "    </tr>\n",
       "  </thead>\n",
       "  <tbody>\n",
       "  </tbody>\n",
       "</table>\n",
       "</div>"
      ],
      "text/plain": [
       "Empty DataFrame\n",
       "Columns: [name, import_errors, errors]\n",
       "Index: []"
      ]
     },
     "execution_count": 2,
     "metadata": {},
     "output_type": "execute_result"
    }
   ],
   "source": [
    "path = \"sources/reference_sources/issues/issue1_ks\"\n",
    "tlnb.update_from_sources(path=path)\n",
    "# get the import status\n",
    "import_status = tlnb.get_import_status(path=path)\n",
    "# list those with import_error > 0 or error > 0\n",
    "errors = import_status.query(\"import_errors > 0 or errors > 0\")\n",
    "errors[['name', 'import_errors', 'errors']]"
   ]
  },
  {
   "cell_type": "code",
   "execution_count": 3,
   "metadata": {},
   "outputs": [
    {
     "name": "stdout",
     "output_type": "stream",
     "text": [
      "ls$tep-date/date-year/1580\n",
      "ls$tep-date/date-full-hifens/1640-12-01/obs=(December 1st 1640)\n",
      "ls$tep-date/date-range/1580-04-15:1640-12-01/obs=(from 15 April 1580 to December 1st 1640)\n",
      "ls$tep-date/date-range-years/1580:1640/obs=(from 1580 to 1640)\n",
      "ls$tep-date/date-range-open-end/1580:/obs=(period starting in 1580, no end date)\n",
      "ls$tep-date/date-range-open-start/:1640/obs=(period ending in 1640, no start date)\n",
      "ls$tep-date/date-relative-after/>1580/obs=(after 1580)\n",
      "ls$tep-date/date-relative-before/<1640/obs=(before 1640)\n",
      "ls$tep-date/date-range-relative>/1580:<1640/obs=(after 1580 and before 1640)\n",
      "ls$tep-date/date-range-relative>/1580-04-15:<1640-12-01/obs=(after 15 April 1580 and before December 1st 1640)\n",
      "ls$tep-date/date-uncertain/1681/obs=(uncertain)\n",
      "ls$tep-date/date-uncertain/1681-05-16/obs=(uncertain, the whole date, not just the day)\n"
     ]
    }
   ],
   "source": [
    "with tlnb.db.session() as session:\n",
    "    person = tlnb.db.get_person('issue1_ks_p1', session=session)\n",
    "    # print(person.to_kleio())\n",
    "    for atr in person.attributes:\n",
    "        print(atr.to_kleio(width=80))\n",
    "\n"
   ]
  }
 ],
 "metadata": {
  "kernelspec": {
   "display_name": ".venv",
   "language": "python",
   "name": "python3"
  },
  "language_info": {
   "codemirror_mode": {
    "name": "ipython",
    "version": 3
   },
   "file_extension": ".py",
   "mimetype": "text/x-python",
   "name": "python",
   "nbconvert_exporter": "python",
   "pygments_lexer": "ipython3",
   "version": "3.10.14"
  }
 },
 "nbformat": 4,
 "nbformat_minor": 2
}
