{
 "cells": [
  {
   "attachments": {},
   "cell_type": "markdown",
   "metadata": {},
   "source": [
    "# OCR pdf files\n",
    "\n",
    "Having the full text of a source for kleio transcripts\n",
    "allows github co-pilot to suggest kleio notation.\n",
    "\n",
    "THis notebook coverts a pdf file in text using ocr\n",
    "in a simple way"
   ]
  },
  {
   "cell_type": "markdown",
   "metadata": {},
   "source": [
    "> First time use: follow instructions in the [README.md](README.md) file in this directory."
   ]
  },
  {
   "cell_type": "markdown",
   "metadata": {},
   "source": [
    "# Convert PDFs to images and extract text"
   ]
  },
  {
   "cell_type": "markdown",
   "metadata": {},
   "source": [
    "Install pdf2image"
   ]
  },
  {
   "cell_type": "code",
   "execution_count": 39,
   "metadata": {},
   "outputs": [
    {
     "name": "stdout",
     "output_type": "stream",
     "text": [
      ".bash_profile RUN!\n",
      "Collecting pdf2image\n",
      "  Downloading pdf2image-1.17.0-py3-none-any.whl (11 kB)\n",
      "Requirement already satisfied: pillow in /Users/jrc/mhk-home/sources/china-coimbra/.venv/lib/python3.11/site-packages (from pdf2image) (10.3.0)\n",
      "Installing collected packages: pdf2image\n",
      "Successfully installed pdf2image-1.17.0\n",
      "\u001b[33mWARNING: There was an error checking the latest version of pip.\u001b[0m\u001b[33m\n",
      "\u001b[0m"
     ]
    }
   ],
   "source": [
    "! pip install pdf2image"
   ]
  },
  {
   "cell_type": "markdown",
   "metadata": {},
   "source": [
    "Install popler in your computer\n",
    "\n",
    "1. Download and install poppler for your operating system. \n",
    "2. On Windows, follow the notes at: https://www.geeksforgeeks.org/convert-pdf-to-image-using-python/\n",
    "3. On Mac use [homebrew](https://brew.sh): \n",
    "        ```\n",
    "        brew install poppler\n",
    "        ```\n",
    "\n"
   ]
  },
  {
   "cell_type": "markdown",
   "metadata": {},
   "source": [
    "Setup the file path for the pdf file (use alt click on the file on VSCode Explorer and \"Copy Relative Path\")"
   ]
  },
  {
   "cell_type": "code",
   "execution_count": 42,
   "metadata": {},
   "outputs": [],
   "source": [
    "pdf_file_path = \"sources/china-coimbra-biografias/sources/cartas-anuas/dehergne-1980/Dehergne-1980.pdf\"\n",
    "# make path relative to this notebook (this could be more flexible using os or pathlib)\n",
    "pdf_file_path = '../' + pdf_file_path"
   ]
  },
  {
   "cell_type": "markdown",
   "metadata": {},
   "source": [
    "Convert the pdf to images, save image list for next step"
   ]
  },
  {
   "cell_type": "code",
   "execution_count": 54,
   "metadata": {},
   "outputs": [
    {
     "name": "stdout",
     "output_type": "stream",
     "text": [
      "Image Dehergne-1980_0.jpg saved\n",
      "Image Dehergne-1980_1.jpg saved\n",
      "Image Dehergne-1980_2.jpg saved\n",
      "Image Dehergne-1980_3.jpg saved\n",
      "Image Dehergne-1980_4.jpg saved\n",
      "Image Dehergne-1980_5.jpg saved\n",
      "Image Dehergne-1980_6.jpg saved\n",
      "Image Dehergne-1980_7.jpg saved\n",
      "Image Dehergne-1980_8.jpg saved\n",
      "Image Dehergne-1980_9.jpg saved\n",
      "Image Dehergne-1980_10.jpg saved\n",
      "Image Dehergne-1980_11.jpg saved\n",
      "Image Dehergne-1980_12.jpg saved\n",
      "Image Dehergne-1980_13.jpg saved\n",
      "On folder ../sources/china-coimbra-biografias/sources/cartas-anuas/dehergne-1980\n"
     ]
    }
   ],
   "source": [
    "# convert pdf to images\n",
    "from pathlib import Path\n",
    "from pdf2image import convert_from_path\n",
    "\n",
    "# get the name of the pdf file without extension using pathlib\n",
    "pdf_file_name = Path(pdf_file_path).stem\n",
    "# get the path of the pdf file directory using pathlib\n",
    "pdf_file_dir = Path(pdf_file_path).parent\n",
    "\n",
    "# convert to images using 200dpi as default resolution\n",
    "images = convert_from_path(pdf_file_path, dpi=200)\n",
    "\n",
    "# save images\n",
    "image_list = []\n",
    "for i, image in enumerate(images):\n",
    "    # generate file name for jpg image\n",
    "    jpg_file_name = f\"{pdf_file_name}_{i}.jpg\"\n",
    "    # save image\n",
    "    image_file_path = pdf_file_dir / jpg_file_name\n",
    "    image.save(image_file_path, \"JPEG\")\n",
    "    # append file name to list\n",
    "    image_list.append(image_file_path)\n",
    "\n",
    "    print(f\"Image {Path(image_file_path).name} saved\")\n",
    "print(f\"On folder {Path(image_file_path).parent}\")\n",
    "\n",
    "\n",
    "\n",
    "\n"
   ]
  },
  {
   "cell_type": "markdown",
   "metadata": {},
   "source": [
    "Extract text from images using `tesseract` "
   ]
  },
  {
   "cell_type": "markdown",
   "metadata": {},
   "source": [
    "Install `tesseract` \n",
    "\n",
    "* On Mac do this in the terminal (command+J to open)\n",
    "``` \n",
    "        brew install tesseract\n",
    "\n",
    "        brew install tesseract-lang\n",
    "```\n",
    "  \n",
    "* On Windows go to this [site](https://github.com/UB-Mannheim/tesseract/wiki)\n",
    "\n",
    "Complete instalation instructions and problem solving [here] (https://tesseract-ocr.github.io/tessdoc/Installation.html)"
   ]
  },
  {
   "cell_type": "markdown",
   "metadata": {},
   "source": [
    "Install pytesseract library"
   ]
  },
  {
   "cell_type": "code",
   "execution_count": 50,
   "metadata": {},
   "outputs": [
    {
     "name": "stderr",
     "output_type": "stream",
     "text": [
      "68104.38s - pydevd: Sending message related to process being replaced timed-out after 5 seconds\n"
     ]
    },
    {
     "name": "stdout",
     "output_type": "stream",
     "text": [
      ".bash_profile RUN!\n",
      "Requirement already satisfied: pytesseract in /Users/jrc/mhk-home/sources/china-coimbra/.venv/lib/python3.11/site-packages (0.3.10)\n",
      "Requirement already satisfied: pillow in /Users/jrc/mhk-home/sources/china-coimbra/.venv/lib/python3.11/site-packages (10.3.0)\n",
      "Requirement already satisfied: packaging>=21.3 in /Users/jrc/mhk-home/sources/china-coimbra/.venv/lib/python3.11/site-packages (from pytesseract) (24.0)\n",
      "\u001b[33mWARNING: There was an error checking the latest version of pip.\u001b[0m\u001b[33m\n",
      "\u001b[0m"
     ]
    }
   ],
   "source": [
    "! pip install pytesseract pillow"
   ]
  },
  {
   "cell_type": "markdown",
   "metadata": {},
   "source": [
    "Convert each of the images from the pdf to text and save to file"
   ]
  },
  {
   "cell_type": "code",
   "execution_count": 56,
   "metadata": {},
   "outputs": [
    {
     "name": "stdout",
     "output_type": "stream",
     "text": [
      "Text saved to Dehergne-1980_0.txt\n",
      "Text saved to Dehergne-1980_1.txt\n",
      "Text saved to Dehergne-1980_2.txt\n",
      "Text saved to Dehergne-1980_3.txt\n",
      "Text saved to Dehergne-1980_4.txt\n",
      "Text saved to Dehergne-1980_5.txt\n",
      "Text saved to Dehergne-1980_6.txt\n",
      "Text saved to Dehergne-1980_7.txt\n",
      "Text saved to Dehergne-1980_8.txt\n",
      "Text saved to Dehergne-1980_9.txt\n",
      "Text saved to Dehergne-1980_10.txt\n",
      "Text saved to Dehergne-1980_11.txt\n",
      "Text saved to Dehergne-1980_12.txt\n",
      "Text saved to Dehergne-1980_13.txt\n"
     ]
    }
   ],
   "source": [
    "# Convert each of the images from the pdf to text and save to file\n",
    "from PIL import Image\n",
    "import pytesseract\n",
    "\n",
    "# create a directory to save the text files\n",
    "text_dir = pdf_file_dir\n",
    "text_dir.mkdir(exist_ok=True)\n",
    "\n",
    "# decide if you want to use specify a language\n",
    "# lang = \"por\"\n",
    "lang = None\n",
    "# decide if you want to avoid interpreting columns in text\n",
    "config = \"--psm 6\"\n",
    "#config = None\n",
    "\n",
    "# iterate over the images\n",
    "for i, image_path in enumerate(image_list):\n",
    "    # open the image\n",
    "    image = Image.open(image_path)\n",
    "    # convert image to text\n",
    "    text = pytesseract.image_to_string(image, lang=lang, config=config)\n",
    "    # generate file name for text file\n",
    "    txt_file_name = f\"{Path(image_path).stem}.txt\"\n",
    "    # save text to file\n",
    "    with open(text_dir / txt_file_name, \"w\") as f:\n",
    "        f.write(text)\n",
    "    print(f\"Text saved to {txt_file_name}\")\n",
    "\n"
   ]
  }
 ],
 "metadata": {
  "interpreter": {
   "hash": "3f4c6253aba8c88efd38f4ed4b487a5473d5ec3d89bf67adb7a60aebc2f1f844"
  },
  "kernelspec": {
   "display_name": "Python 3.10.4 64-bit ('3.10.4')",
   "language": "python",
   "name": "python3"
  },
  "language_info": {
   "codemirror_mode": {
    "name": "ipython",
    "version": 3
   },
   "file_extension": ".py",
   "mimetype": "text/x-python",
   "name": "python",
   "nbconvert_exporter": "python",
   "pygments_lexer": "ipython3",
   "version": "3.11.1"
  },
  "orig_nbformat": 4
 },
 "nbformat": 4,
 "nbformat_minor": 2
}
