{
 "cells": [
  {
   "attachments": {},
   "cell_type": "markdown",
   "metadata": {},
   "source": [
    "# OCR pdf files\n",
    "\n",
    "Having the full text of a source for kleio transcripts\n",
    "allows github co-pilot to suggest kleio notation.\n",
    "\n",
    "THis notebook coverts a pdf file in text using ocr\n",
    "in a simple way"
   ]
  },
  {
   "cell_type": "markdown",
   "metadata": {},
   "source": [
    "> First time use: follow instructions in the [README.md](README.md) file in this directory."
   ]
  },
  {
   "cell_type": "markdown",
   "metadata": {},
   "source": [
    "# Convert PDFs to images and extract text"
   ]
  },
  {
   "cell_type": "markdown",
   "metadata": {},
   "source": [
    "Install pdf2image"
   ]
  },
  {
   "cell_type": "code",
   "execution_count": 1,
   "metadata": {},
   "outputs": [
    {
     "name": "stdout",
     "output_type": "stream",
     "text": [
      ".bash_profile RUN!\n",
      "Collecting pdf2image\n",
      "  Using cached pdf2image-1.17.0-py3-none-any.whl.metadata (6.2 kB)\n",
      "Requirement already satisfied: pillow in /Users/jrc/develop/timelink-py/.venv/lib/python3.11/site-packages (from pdf2image) (10.3.0)\n",
      "Using cached pdf2image-1.17.0-py3-none-any.whl (11 kB)\n",
      "Installing collected packages: pdf2image\n",
      "Successfully installed pdf2image-1.17.0\n"
     ]
    }
   ],
   "source": [
    "! pip install pdf2image"
   ]
  },
  {
   "cell_type": "markdown",
   "metadata": {},
   "source": [
    "Install popler in your computer\n",
    "\n",
    "1. Download and install poppler for your operating system. \n",
    "2. On Windows, follow the notes at: https://www.geeksforgeeks.org/convert-pdf-to-image-using-python/\n",
    "3. On Mac use [homebrew](https://brew.sh): \n",
    "        ```\n",
    "        brew install poppler\n",
    "        ```\n",
    "\n"
   ]
  },
  {
   "cell_type": "markdown",
   "metadata": {},
   "source": [
    "Setup the file path for the pdf file (use alt click on the file on VSCode Explorer and \"Copy Relative Path\")"
   ]
  },
  {
   "cell_type": "code",
   "execution_count": 2,
   "metadata": {},
   "outputs": [],
   "source": [
    "pdf_file_path = \"sources/china-coimbra-biografias/sources/cartas-anuas/dehergne-1980/Dehergne-1980.pdf\"\n",
    "# make path relative to this notebook (this could be more flexible using os or pathlib)\n",
    "pdf_file_path = '../' + pdf_file_path"
   ]
  },
  {
   "cell_type": "markdown",
   "metadata": {},
   "source": [
    "Convert the pdf to images, save image list for next step"
   ]
  },
  {
   "cell_type": "code",
   "execution_count": 3,
   "metadata": {},
   "outputs": [
    {
     "ename": "PDFPageCountError",
     "evalue": "Unable to get page count.\nI/O Error: Couldn't open file '../sources/china-coimbra-biografias/sources/cartas-anuas/dehergne-1980/Dehergne-1980.pdf': No such file or directory.\n",
     "output_type": "error",
     "traceback": [
      "\u001b[0;31m---------------------------------------------------------------------------\u001b[0m",
      "\u001b[0;31mValueError\u001b[0m                                Traceback (most recent call last)",
      "File \u001b[0;32m~/develop/timelink-py/.venv/lib/python3.11/site-packages/pdf2image/pdf2image.py:602\u001b[0m, in \u001b[0;36mpdfinfo_from_path\u001b[0;34m(pdf_path, userpw, ownerpw, poppler_path, rawdates, timeout, first_page, last_page)\u001b[0m\n\u001b[1;32m    601\u001b[0m \u001b[38;5;28;01mif\u001b[39;00m \u001b[38;5;124m\"\u001b[39m\u001b[38;5;124mPages\u001b[39m\u001b[38;5;124m\"\u001b[39m \u001b[38;5;129;01mnot\u001b[39;00m \u001b[38;5;129;01min\u001b[39;00m d:\n\u001b[0;32m--> 602\u001b[0m     \u001b[38;5;28;01mraise\u001b[39;00m \u001b[38;5;167;01mValueError\u001b[39;00m\n\u001b[1;32m    604\u001b[0m \u001b[38;5;28;01mreturn\u001b[39;00m d\n",
      "\u001b[0;31mValueError\u001b[0m: ",
      "\nDuring handling of the above exception, another exception occurred:\n",
      "\u001b[0;31mPDFPageCountError\u001b[0m                         Traceback (most recent call last)",
      "Cell \u001b[0;32mIn[3], line 11\u001b[0m\n\u001b[1;32m      8\u001b[0m pdf_file_dir \u001b[38;5;241m=\u001b[39m Path(pdf_file_path)\u001b[38;5;241m.\u001b[39mparent\n\u001b[1;32m     10\u001b[0m \u001b[38;5;66;03m# convert to images using 200dpi as default resolution\u001b[39;00m\n\u001b[0;32m---> 11\u001b[0m images \u001b[38;5;241m=\u001b[39m \u001b[43mconvert_from_path\u001b[49m\u001b[43m(\u001b[49m\u001b[43mpdf_file_path\u001b[49m\u001b[43m,\u001b[49m\u001b[43m \u001b[49m\u001b[43mdpi\u001b[49m\u001b[38;5;241;43m=\u001b[39;49m\u001b[38;5;241;43m200\u001b[39;49m\u001b[43m)\u001b[49m\n\u001b[1;32m     13\u001b[0m \u001b[38;5;66;03m# save images\u001b[39;00m\n\u001b[1;32m     14\u001b[0m image_list \u001b[38;5;241m=\u001b[39m []\n",
      "File \u001b[0;32m~/develop/timelink-py/.venv/lib/python3.11/site-packages/pdf2image/pdf2image.py:127\u001b[0m, in \u001b[0;36mconvert_from_path\u001b[0;34m(pdf_path, dpi, output_folder, first_page, last_page, fmt, jpegopt, thread_count, userpw, ownerpw, use_cropbox, strict, transparent, single_file, output_file, poppler_path, grayscale, size, paths_only, use_pdftocairo, timeout, hide_annotations)\u001b[0m\n\u001b[1;32m    124\u001b[0m \u001b[38;5;28;01mif\u001b[39;00m \u001b[38;5;28misinstance\u001b[39m(poppler_path, PurePath):\n\u001b[1;32m    125\u001b[0m     poppler_path \u001b[38;5;241m=\u001b[39m poppler_path\u001b[38;5;241m.\u001b[39mas_posix()\n\u001b[0;32m--> 127\u001b[0m page_count \u001b[38;5;241m=\u001b[39m \u001b[43mpdfinfo_from_path\u001b[49m\u001b[43m(\u001b[49m\n\u001b[1;32m    128\u001b[0m \u001b[43m    \u001b[49m\u001b[43mpdf_path\u001b[49m\u001b[43m,\u001b[49m\u001b[43m \u001b[49m\u001b[43muserpw\u001b[49m\u001b[43m,\u001b[49m\u001b[43m \u001b[49m\u001b[43mownerpw\u001b[49m\u001b[43m,\u001b[49m\u001b[43m \u001b[49m\u001b[43mpoppler_path\u001b[49m\u001b[38;5;241;43m=\u001b[39;49m\u001b[43mpoppler_path\u001b[49m\n\u001b[1;32m    129\u001b[0m \u001b[43m\u001b[49m\u001b[43m)\u001b[49m[\u001b[38;5;124m\"\u001b[39m\u001b[38;5;124mPages\u001b[39m\u001b[38;5;124m\"\u001b[39m]\n\u001b[1;32m    131\u001b[0m \u001b[38;5;66;03m# We start by getting the output format, the buffer processing function and if we need pdftocairo\u001b[39;00m\n\u001b[1;32m    132\u001b[0m parsed_fmt, final_extension, parse_buffer_func, use_pdfcairo_format \u001b[38;5;241m=\u001b[39m _parse_format(\n\u001b[1;32m    133\u001b[0m     fmt, grayscale\n\u001b[1;32m    134\u001b[0m )\n",
      "File \u001b[0;32m~/develop/timelink-py/.venv/lib/python3.11/site-packages/pdf2image/pdf2image.py:611\u001b[0m, in \u001b[0;36mpdfinfo_from_path\u001b[0;34m(pdf_path, userpw, ownerpw, poppler_path, rawdates, timeout, first_page, last_page)\u001b[0m\n\u001b[1;32m    607\u001b[0m     \u001b[38;5;28;01mraise\u001b[39;00m PDFInfoNotInstalledError(\n\u001b[1;32m    608\u001b[0m         \u001b[38;5;124m\"\u001b[39m\u001b[38;5;124mUnable to get page count. Is poppler installed and in PATH?\u001b[39m\u001b[38;5;124m\"\u001b[39m\n\u001b[1;32m    609\u001b[0m     )\n\u001b[1;32m    610\u001b[0m \u001b[38;5;28;01mexcept\u001b[39;00m \u001b[38;5;167;01mValueError\u001b[39;00m:\n\u001b[0;32m--> 611\u001b[0m     \u001b[38;5;28;01mraise\u001b[39;00m PDFPageCountError(\n\u001b[1;32m    612\u001b[0m         \u001b[38;5;124mf\u001b[39m\u001b[38;5;124m\"\u001b[39m\u001b[38;5;124mUnable to get page count.\u001b[39m\u001b[38;5;130;01m\\n\u001b[39;00m\u001b[38;5;132;01m{\u001b[39;00merr\u001b[38;5;241m.\u001b[39mdecode(\u001b[38;5;124m'\u001b[39m\u001b[38;5;124mutf8\u001b[39m\u001b[38;5;124m'\u001b[39m,\u001b[38;5;250m \u001b[39m\u001b[38;5;124m'\u001b[39m\u001b[38;5;124mignore\u001b[39m\u001b[38;5;124m'\u001b[39m)\u001b[38;5;132;01m}\u001b[39;00m\u001b[38;5;124m\"\u001b[39m\n\u001b[1;32m    613\u001b[0m     )\n",
      "\u001b[0;31mPDFPageCountError\u001b[0m: Unable to get page count.\nI/O Error: Couldn't open file '../sources/china-coimbra-biografias/sources/cartas-anuas/dehergne-1980/Dehergne-1980.pdf': No such file or directory.\n"
     ]
    }
   ],
   "source": [
    "# convert pdf to images\n",
    "from pathlib import Path\n",
    "from pdf2image import convert_from_path\n",
    "\n",
    "# get the name of the pdf file without extension using pathlib\n",
    "pdf_file_name = Path(pdf_file_path).stem\n",
    "# get the path of the pdf file directory using pathlib\n",
    "pdf_file_dir = Path(pdf_file_path).parent\n",
    "\n",
    "# convert to images using 200dpi as default resolution\n",
    "images = convert_from_path(pdf_file_path, dpi=200)\n",
    "\n",
    "# save images\n",
    "image_list = []\n",
    "for i, image in enumerate(images):\n",
    "    # generate file name for jpg image\n",
    "    jpg_file_name = f\"{pdf_file_name}_{i}.jpg\"\n",
    "    # save image\n",
    "    image_file_path = pdf_file_dir / jpg_file_name\n",
    "    image.save(image_file_path, \"JPEG\")\n",
    "    # append file name to list\n",
    "    image_list.append(image_file_path)\n",
    "\n",
    "    print(f\"Image {Path(image_file_path).name} saved\")\n",
    "print(f\"On folder {Path(image_file_path).parent}\")\n",
    "\n",
    "\n",
    "\n",
    "\n"
   ]
  },
  {
   "cell_type": "markdown",
   "metadata": {},
   "source": [
    "Extract text from images using `tesseract` "
   ]
  },
  {
   "cell_type": "markdown",
   "metadata": {},
   "source": [
    "Install `tesseract` \n",
    "\n",
    "* On Mac do this in the terminal (command+J to open)\n",
    "``` \n",
    "        brew install tesseract\n",
    "\n",
    "        brew install tesseract-lang\n",
    "```\n",
    "  \n",
    "* On Windows go to this [site](https://github.com/UB-Mannheim/tesseract/wiki)\n",
    "\n",
    "Complete instalation instructions and problem solving [here] (https://tesseract-ocr.github.io/tessdoc/Installation.html)"
   ]
  },
  {
   "cell_type": "markdown",
   "metadata": {},
   "source": [
    "Install pytesseract library"
   ]
  },
  {
   "cell_type": "code",
   "execution_count": null,
   "metadata": {},
   "outputs": [
    {
     "name": "stderr",
     "output_type": "stream",
     "text": [
      "68104.38s - pydevd: Sending message related to process being replaced timed-out after 5 seconds\n"
     ]
    },
    {
     "name": "stdout",
     "output_type": "stream",
     "text": [
      ".bash_profile RUN!\n",
      "Requirement already satisfied: pytesseract in /Users/jrc/mhk-home/sources/china-coimbra/.venv/lib/python3.11/site-packages (0.3.10)\n",
      "Requirement already satisfied: pillow in /Users/jrc/mhk-home/sources/china-coimbra/.venv/lib/python3.11/site-packages (10.3.0)\n",
      "Requirement already satisfied: packaging>=21.3 in /Users/jrc/mhk-home/sources/china-coimbra/.venv/lib/python3.11/site-packages (from pytesseract) (24.0)\n",
      "\u001b[33mWARNING: There was an error checking the latest version of pip.\u001b[0m\u001b[33m\n",
      "\u001b[0m"
     ]
    }
   ],
   "source": [
    "! pip install pytesseract pillow"
   ]
  },
  {
   "cell_type": "markdown",
   "metadata": {},
   "source": [
    "Convert each of the images from the pdf to text and save to file"
   ]
  },
  {
   "cell_type": "code",
   "execution_count": null,
   "metadata": {},
   "outputs": [
    {
     "name": "stdout",
     "output_type": "stream",
     "text": [
      "Text saved to Dehergne-1980_0.txt\n",
      "Text saved to Dehergne-1980_1.txt\n",
      "Text saved to Dehergne-1980_2.txt\n",
      "Text saved to Dehergne-1980_3.txt\n",
      "Text saved to Dehergne-1980_4.txt\n",
      "Text saved to Dehergne-1980_5.txt\n",
      "Text saved to Dehergne-1980_6.txt\n",
      "Text saved to Dehergne-1980_7.txt\n",
      "Text saved to Dehergne-1980_8.txt\n",
      "Text saved to Dehergne-1980_9.txt\n",
      "Text saved to Dehergne-1980_10.txt\n",
      "Text saved to Dehergne-1980_11.txt\n",
      "Text saved to Dehergne-1980_12.txt\n",
      "Text saved to Dehergne-1980_13.txt\n"
     ]
    }
   ],
   "source": [
    "# Convert each of the images from the pdf to text and save to file\n",
    "from PIL import Image\n",
    "import pytesseract\n",
    "\n",
    "# create a directory to save the text files\n",
    "text_dir = pdf_file_dir\n",
    "text_dir.mkdir(exist_ok=True)\n",
    "\n",
    "# decide if you want to use specify a language\n",
    "# lang = \"por\"\n",
    "lang = None\n",
    "# decide if you want to avoid interpreting columns in text\n",
    "config = \"--psm 6\"\n",
    "#config = None\n",
    "\n",
    "# iterate over the images\n",
    "for i, image_path in enumerate(image_list):\n",
    "    # open the image\n",
    "    image = Image.open(image_path)\n",
    "    # convert image to text\n",
    "    text = pytesseract.image_to_string(image, lang=lang, config=config)\n",
    "    # generate file name for text file\n",
    "    txt_file_name = f\"{Path(image_path).stem}.txt\"\n",
    "    # save text to file\n",
    "    with open(text_dir / txt_file_name, \"w\") as f:\n",
    "        f.write(text)\n",
    "    print(f\"Text saved to {txt_file_name}\")\n",
    "\n"
   ]
  }
 ],
 "metadata": {
  "kernelspec": {
   "display_name": ".venv",
   "language": "python",
   "name": "python3"
  },
  "language_info": {
   "codemirror_mode": {
    "name": "ipython",
    "version": 3
   },
   "file_extension": ".py",
   "mimetype": "text/x-python",
   "name": "python",
   "nbconvert_exporter": "python",
   "pygments_lexer": "ipython3",
   "version": "3.11.1"
  },
  "orig_nbformat": 4
 },
 "nbformat": 4,
 "nbformat_minor": 2
}
