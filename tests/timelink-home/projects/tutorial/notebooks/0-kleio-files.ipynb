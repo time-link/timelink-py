{
 "cells": [
  {
   "attachments": {},
   "cell_type": "markdown",
   "metadata": {},
   "source": [
    "# Managing Kleio files"
   ]
  },
  {
   "cell_type": "markdown",
   "metadata": {},
   "source": [
    "> First time use: follow instructions in the [README.md](README.md) file in this directory."
   ]
  },
  {
   "cell_type": "markdown",
   "metadata": {},
   "source": [
    "## Initial setup\n",
    "\n",
    "Create a TimelinkNotebook object. This will be the interface for most of your interactions with Timelink.\n",
    "\n",
    "The first time you run this notebook, you will be prompted to install ìpykernel. This is required to run Timelink in a notebook.\n",
    "\n",
    "Note:\n",
    "* First time run takes a little time as the required Docker images are downloaded.\n",
    "* Timelink will default to using sqlite as the database, see [Receipts notebook for more control](1-receipts.ipynb)\n"
   ]
  },
  {
   "cell_type": "code",
   "execution_count": 2,
   "metadata": {
    "ExecuteTime": {
     "end_time": "2024-01-28T11:49:18.183923Z",
     "start_time": "2024-01-28T11:49:17.066125Z"
    }
   },
   "outputs": [
    {
     "name": "stdout",
     "output_type": "stream",
     "text": [
      "Timelink version: 1.1.10\n",
      "Project name: tutorial\n",
      "Project home: /Users/jrc/develop/timelink-py/tests/timelink-home/projects/tutorial\n",
      "Database type: sqlite\n",
      "Database name: tutorial\n",
      "Kleio image: timelinkserver/kleio-server\n",
      "Kleio server token: C84zd...\n",
      "Kleio server URL: http://127.0.0.1:8090\n",
      "Kleio server home: /Users/jrc/develop/timelink-py/tests/timelink-home/projects/tutorial\n",
      "Kleio server container: epic_yonath\n",
      "Kleio version requested: latest\n",
      "Kleio server version: 12.5.570 (2024-02-29 07:39:03)\n",
      "SQLite directory: /Users/jrc/develop/timelink-py/tests/timelink-home/projects/tutorial/database/sqlite\n",
      "Call print_info(show_token=True) to show the Kleio Server token\n",
      "Call print_info(show_password=True) to show the Postgres password\n",
      "TimelinkNotebook(project_name=tutorial, project_home=/Users/jrc/develop/timelink-py/tests/timelink-home/projects/tutorial, db_type=sqlite, db_name=tutorial, kleio_image=timelinkserver/kleio-server, kleio_version=latest, postgres_image=postgres, postgres_version=latest)\n"
     ]
    }
   ],
   "source": [
    "from timelink.notebooks import TimelinkNotebook\n",
    "\n",
    "tlnb = TimelinkNotebook()\n",
    "tlnb.print_info()\n"
   ]
  },
  {
   "cell_type": "markdown",
   "metadata": {},
   "source": [
    "TimelinkNotebook created a database to store data and a Kleio server to \n",
    "translate transcriptions in Kleio notation into data that can be imported\n",
    "into a database.\n",
    "\n",
    "To get information about the database and the Kleio server do ```tnlb.print_info()```"
   ]
  },
  {
   "cell_type": "markdown",
   "metadata": {},
   "source": [
    "### Database status\n",
    "\n",
    "Count the number of rows in each table in the database.\n"
   ]
  },
  {
   "cell_type": "code",
   "execution_count": 3,
   "metadata": {},
   "outputs": [
    {
     "data": {
      "text/html": [
       "<div>\n",
       "<style scoped>\n",
       "    .dataframe tbody tr th:only-of-type {\n",
       "        vertical-align: middle;\n",
       "    }\n",
       "\n",
       "    .dataframe tbody tr th {\n",
       "        vertical-align: top;\n",
       "    }\n",
       "\n",
       "    .dataframe thead th {\n",
       "        text-align: right;\n",
       "    }\n",
       "</style>\n",
       "<table border=\"1\" class=\"dataframe\">\n",
       "  <thead>\n",
       "    <tr style=\"text-align: right;\">\n",
       "      <th></th>\n",
       "      <th>table</th>\n",
       "      <th>count</th>\n",
       "    </tr>\n",
       "  </thead>\n",
       "  <tbody>\n",
       "    <tr>\n",
       "      <th>0</th>\n",
       "      <td>acts</td>\n",
       "      <td>40</td>\n",
       "    </tr>\n",
       "    <tr>\n",
       "      <th>1</th>\n",
       "      <td>attributes</td>\n",
       "      <td>15297</td>\n",
       "    </tr>\n",
       "    <tr>\n",
       "      <th>2</th>\n",
       "      <td>class_attributes</td>\n",
       "      <td>63</td>\n",
       "    </tr>\n",
       "    <tr>\n",
       "      <th>3</th>\n",
       "      <td>classes</td>\n",
       "      <td>13</td>\n",
       "    </tr>\n",
       "    <tr>\n",
       "      <th>4</th>\n",
       "      <td>entities</td>\n",
       "      <td>18644</td>\n",
       "    </tr>\n",
       "    <tr>\n",
       "      <th>5</th>\n",
       "      <td>geoentities</td>\n",
       "      <td>359</td>\n",
       "    </tr>\n",
       "    <tr>\n",
       "      <th>6</th>\n",
       "      <td>goods</td>\n",
       "      <td>0</td>\n",
       "    </tr>\n",
       "    <tr>\n",
       "      <th>7</th>\n",
       "      <td>kleiofiles</td>\n",
       "      <td>5</td>\n",
       "    </tr>\n",
       "    <tr>\n",
       "      <th>8</th>\n",
       "      <td>objects</td>\n",
       "      <td>0</td>\n",
       "    </tr>\n",
       "    <tr>\n",
       "      <th>9</th>\n",
       "      <td>persons</td>\n",
       "      <td>1066</td>\n",
       "    </tr>\n",
       "    <tr>\n",
       "      <th>10</th>\n",
       "      <td>relations</td>\n",
       "      <td>1864</td>\n",
       "    </tr>\n",
       "    <tr>\n",
       "      <th>11</th>\n",
       "      <td>rentities</td>\n",
       "      <td>0</td>\n",
       "    </tr>\n",
       "    <tr>\n",
       "      <th>12</th>\n",
       "      <td>rgeoentities</td>\n",
       "      <td>0</td>\n",
       "    </tr>\n",
       "    <tr>\n",
       "      <th>13</th>\n",
       "      <td>robjects</td>\n",
       "      <td>0</td>\n",
       "    </tr>\n",
       "    <tr>\n",
       "      <th>14</th>\n",
       "      <td>rpersons</td>\n",
       "      <td>0</td>\n",
       "    </tr>\n",
       "    <tr>\n",
       "      <th>15</th>\n",
       "      <td>sources</td>\n",
       "      <td>5</td>\n",
       "    </tr>\n",
       "    <tr>\n",
       "      <th>16</th>\n",
       "      <td>syslog</td>\n",
       "      <td>0</td>\n",
       "    </tr>\n",
       "    <tr>\n",
       "      <th>17</th>\n",
       "      <td>syspar</td>\n",
       "      <td>0</td>\n",
       "    </tr>\n",
       "  </tbody>\n",
       "</table>\n",
       "</div>"
      ],
      "text/plain": [
       "               table  count\n",
       "0               acts     40\n",
       "1         attributes  15297\n",
       "2   class_attributes     63\n",
       "3            classes     13\n",
       "4           entities  18644\n",
       "5        geoentities    359\n",
       "6              goods      0\n",
       "7         kleiofiles      5\n",
       "8            objects      0\n",
       "9            persons   1066\n",
       "10         relations   1864\n",
       "11         rentities      0\n",
       "12      rgeoentities      0\n",
       "13          robjects      0\n",
       "14          rpersons      0\n",
       "15           sources      5\n",
       "16            syslog      0\n",
       "17            syspar      0"
      ]
     },
     "execution_count": 3,
     "metadata": {},
     "output_type": "execute_result"
    }
   ],
   "source": [
    "tlnb.table_row_count_df()"
   ]
  },
  {
   "cell_type": "markdown",
   "metadata": {},
   "source": [
    "### Show the kleio files available "
   ]
  },
  {
   "cell_type": "code",
   "execution_count": 4,
   "metadata": {},
   "outputs": [
    {
     "data": {
      "text/html": [
       "<div>\n",
       "<style scoped>\n",
       "    .dataframe tbody tr th:only-of-type {\n",
       "        vertical-align: middle;\n",
       "    }\n",
       "\n",
       "    .dataframe tbody tr th {\n",
       "        vertical-align: top;\n",
       "    }\n",
       "\n",
       "    .dataframe thead th {\n",
       "        text-align: right;\n",
       "    }\n",
       "</style>\n",
       "<table border=\"1\" class=\"dataframe\">\n",
       "  <thead>\n",
       "    <tr style=\"text-align: right;\">\n",
       "      <th></th>\n",
       "      <th>path</th>\n",
       "      <th>name</th>\n",
       "      <th>modified</th>\n",
       "      <th>status</th>\n",
       "      <th>translated</th>\n",
       "      <th>errors</th>\n",
       "      <th>warnings</th>\n",
       "      <th>import_status</th>\n",
       "      <th>import_errors</th>\n",
       "      <th>import_warnings</th>\n",
       "      <th>import_error_rpt</th>\n",
       "      <th>import_warning_rpt</th>\n",
       "      <th>imported</th>\n",
       "      <th>rpt_url</th>\n",
       "      <th>xml_url</th>\n",
       "    </tr>\n",
       "  </thead>\n",
       "  <tbody>\n",
       "    <tr>\n",
       "      <th>0</th>\n",
       "      <td>kleio/auc-alunos.cli</td>\n",
       "      <td>auc-alunos.cli</td>\n",
       "      <td>2024-05-02 23:34:41.960048+00:00</td>\n",
       "      <td>V</td>\n",
       "      <td>2024-05-02 23:34:00+00:00</td>\n",
       "      <td>0</td>\n",
       "      <td>0</td>\n",
       "      <td>U</td>\n",
       "      <td>0</td>\n",
       "      <td>0</td>\n",
       "      <td>0</td>\n",
       "      <td>0</td>\n",
       "      <td>0</td>\n",
       "      <td>/rest/reports/kleio/auc-alunos.rpt</td>\n",
       "      <td>/rest/exports/kleio/auc-alunos.xml</td>\n",
       "    </tr>\n",
       "    <tr>\n",
       "      <th>1</th>\n",
       "      <td>kleio/b1685.cli</td>\n",
       "      <td>b1685.cli</td>\n",
       "      <td>2024-05-02 23:32:57.113070+00:00</td>\n",
       "      <td>W</td>\n",
       "      <td>2024-05-02 23:32:00+00:00</td>\n",
       "      <td>0</td>\n",
       "      <td>1</td>\n",
       "      <td>U</td>\n",
       "      <td>0</td>\n",
       "      <td>0</td>\n",
       "      <td>0</td>\n",
       "      <td>0</td>\n",
       "      <td>0</td>\n",
       "      <td>/rest/reports/kleio/b1685.rpt</td>\n",
       "      <td>/rest/exports/kleio/b1685.xml</td>\n",
       "    </tr>\n",
       "    <tr>\n",
       "      <th>2</th>\n",
       "      <td>kleio/dehergne-a.cli</td>\n",
       "      <td>dehergne-a.cli</td>\n",
       "      <td>2024-05-02 23:33:03.251985+00:00</td>\n",
       "      <td>V</td>\n",
       "      <td>2024-05-02 23:33:00+00:00</td>\n",
       "      <td>0</td>\n",
       "      <td>0</td>\n",
       "      <td>U</td>\n",
       "      <td>0</td>\n",
       "      <td>0</td>\n",
       "      <td>0</td>\n",
       "      <td>0</td>\n",
       "      <td>0</td>\n",
       "      <td>/rest/reports/kleio/dehergne-a.rpt</td>\n",
       "      <td>/rest/exports/kleio/dehergne-a.xml</td>\n",
       "    </tr>\n",
       "    <tr>\n",
       "      <th>3</th>\n",
       "      <td>kleio/dehergne-locations-1644.cli</td>\n",
       "      <td>dehergne-locations-1644.cli</td>\n",
       "      <td>2024-05-02 23:33:01.001769+00:00</td>\n",
       "      <td>V</td>\n",
       "      <td>2024-05-02 23:33:00+00:00</td>\n",
       "      <td>0</td>\n",
       "      <td>0</td>\n",
       "      <td>U</td>\n",
       "      <td>0</td>\n",
       "      <td>0</td>\n",
       "      <td>0</td>\n",
       "      <td>0</td>\n",
       "      <td>0</td>\n",
       "      <td>/rest/reports/kleio/dehergne-locations-1644.rpt</td>\n",
       "      <td>/rest/exports/kleio/dehergne-locations-1644.xml</td>\n",
       "    </tr>\n",
       "    <tr>\n",
       "      <th>4</th>\n",
       "      <td>kleio/dehergne-locations-1701.cli</td>\n",
       "      <td>dehergne-locations-1701.cli</td>\n",
       "      <td>2024-05-02 23:33:04.306500+00:00</td>\n",
       "      <td>V</td>\n",
       "      <td>2024-05-02 23:33:00+00:00</td>\n",
       "      <td>0</td>\n",
       "      <td>0</td>\n",
       "      <td>U</td>\n",
       "      <td>0</td>\n",
       "      <td>0</td>\n",
       "      <td>0</td>\n",
       "      <td>0</td>\n",
       "      <td>0</td>\n",
       "      <td>/rest/reports/kleio/dehergne-locations-1701.rpt</td>\n",
       "      <td>/rest/exports/kleio/dehergne-locations-1701.xml</td>\n",
       "    </tr>\n",
       "  </tbody>\n",
       "</table>\n",
       "</div>"
      ],
      "text/plain": [
       "                                path                         name  \\\n",
       "0               kleio/auc-alunos.cli               auc-alunos.cli   \n",
       "1                    kleio/b1685.cli                    b1685.cli   \n",
       "2               kleio/dehergne-a.cli               dehergne-a.cli   \n",
       "3  kleio/dehergne-locations-1644.cli  dehergne-locations-1644.cli   \n",
       "4  kleio/dehergne-locations-1701.cli  dehergne-locations-1701.cli   \n",
       "\n",
       "                          modified status                translated  errors  \\\n",
       "0 2024-05-02 23:34:41.960048+00:00      V 2024-05-02 23:34:00+00:00       0   \n",
       "1 2024-05-02 23:32:57.113070+00:00      W 2024-05-02 23:32:00+00:00       0   \n",
       "2 2024-05-02 23:33:03.251985+00:00      V 2024-05-02 23:33:00+00:00       0   \n",
       "3 2024-05-02 23:33:01.001769+00:00      V 2024-05-02 23:33:00+00:00       0   \n",
       "4 2024-05-02 23:33:04.306500+00:00      V 2024-05-02 23:33:00+00:00       0   \n",
       "\n",
       "   warnings import_status  import_errors  import_warnings  import_error_rpt  \\\n",
       "0         0             U              0                0                 0   \n",
       "1         1             U              0                0                 0   \n",
       "2         0             U              0                0                 0   \n",
       "3         0             U              0                0                 0   \n",
       "4         0             U              0                0                 0   \n",
       "\n",
       "   import_warning_rpt  imported  \\\n",
       "0                   0         0   \n",
       "1                   0         0   \n",
       "2                   0         0   \n",
       "3                   0         0   \n",
       "4                   0         0   \n",
       "\n",
       "                                           rpt_url  \\\n",
       "0               /rest/reports/kleio/auc-alunos.rpt   \n",
       "1                    /rest/reports/kleio/b1685.rpt   \n",
       "2               /rest/reports/kleio/dehergne-a.rpt   \n",
       "3  /rest/reports/kleio/dehergne-locations-1644.rpt   \n",
       "4  /rest/reports/kleio/dehergne-locations-1701.rpt   \n",
       "\n",
       "                                           xml_url  \n",
       "0               /rest/exports/kleio/auc-alunos.xml  \n",
       "1                    /rest/exports/kleio/b1685.xml  \n",
       "2               /rest/exports/kleio/dehergne-a.xml  \n",
       "3  /rest/exports/kleio/dehergne-locations-1644.xml  \n",
       "4  /rest/exports/kleio/dehergne-locations-1701.xml  "
      ]
     },
     "execution_count": 4,
     "metadata": {},
     "output_type": "execute_result"
    }
   ],
   "source": [
    "kleio_files = tlnb.get_kleio_files()\n",
    "kleio_files"
   ]
  },
  {
   "cell_type": "markdown",
   "metadata": {},
   "source": [
    "## Optionally clean translations "
   ]
  },
  {
   "cell_type": "code",
   "execution_count": 9,
   "metadata": {},
   "outputs": [
    {
     "data": {
      "text/plain": [
       "['kleio/dehergne-locations-1701.cli',\n",
       " 'kleio/dehergne-locations-1644.cli',\n",
       " 'kleio/dehergne-a.cli',\n",
       " 'kleio/b1685.cli',\n",
       " 'kleio/auc-alunos.cli']"
      ]
     },
     "execution_count": 9,
     "metadata": {},
     "output_type": "execute_result"
    }
   ],
   "source": [
    "tlnb.kleio_server.translation_clean(\"\", recurse=\"yes\")"
   ]
  },
  {
   "cell_type": "markdown",
   "metadata": {},
   "source": [
    "\n",
    "# Update the database from Kleio sources.\n",
    "\n",
    "Updates source translations and imports into database sources with no errors.\n",
    "\n",
    "Only changed files since last import, or new files, will be processed."
   ]
  },
  {
   "cell_type": "code",
   "execution_count": 11,
   "metadata": {
    "ExecuteTime": {
     "end_time": "2024-01-28T11:49:58.486757Z",
     "start_time": "2024-01-28T11:49:58.160084Z"
    }
   },
   "outputs": [],
   "source": [
    "import logging\n",
    "logging.basicConfig(level=logging.INFO)\n",
    "\n",
    "tlnb.update_from_sources()\n",
    "# get the import status\n",
    "import_status = tlnb.get_import_status()\n",
    "# list those with import_error > 0 or error > 0\n",
    "errors = import_status.query(\"import_errors > 0 or errors > 0\")\n",
    "if len(errors) > 0:\n",
    "    print(errors)"
   ]
  },
  {
   "cell_type": "markdown",
   "metadata": {},
   "source": [
    "## Check the status of the files"
   ]
  },
  {
   "cell_type": "markdown",
   "metadata": {},
   "source": [
    "Check the import status of the translated files\n",
    "\n",
    "* I: Imported\n",
    "* E: Imported with error\n",
    "* W: Imported with warnings no errors\n",
    "* N: Not imported\n",
    "* U: Translation updated need to reimport"
   ]
  },
  {
   "cell_type": "code",
   "execution_count": 10,
   "metadata": {
    "ExecuteTime": {
     "end_time": "2024-01-28T11:56:35.486657Z",
     "start_time": "2024-01-28T11:55:56.014315Z"
    }
   },
   "outputs": [
    {
     "data": {
      "text/html": [
       "<div>\n",
       "<style scoped>\n",
       "    .dataframe tbody tr th:only-of-type {\n",
       "        vertical-align: middle;\n",
       "    }\n",
       "\n",
       "    .dataframe tbody tr th {\n",
       "        vertical-align: top;\n",
       "    }\n",
       "\n",
       "    .dataframe thead th {\n",
       "        text-align: right;\n",
       "    }\n",
       "</style>\n",
       "<table border=\"1\" class=\"dataframe\">\n",
       "  <thead>\n",
       "    <tr style=\"text-align: right;\">\n",
       "      <th></th>\n",
       "      <th>import_status</th>\n",
       "      <th>import_errors</th>\n",
       "      <th>import_warnings</th>\n",
       "      <th>name</th>\n",
       "      <th>errors</th>\n",
       "      <th>warnings</th>\n",
       "      <th>path</th>\n",
       "    </tr>\n",
       "  </thead>\n",
       "  <tbody>\n",
       "    <tr>\n",
       "      <th>0</th>\n",
       "      <td>I</td>\n",
       "      <td>0</td>\n",
       "      <td>0</td>\n",
       "      <td>auc-alunos.cli</td>\n",
       "      <td>0</td>\n",
       "      <td>0</td>\n",
       "      <td>kleio/auc-alunos.cli</td>\n",
       "    </tr>\n",
       "    <tr>\n",
       "      <th>1</th>\n",
       "      <td>I</td>\n",
       "      <td>0</td>\n",
       "      <td>0</td>\n",
       "      <td>b1685.cli</td>\n",
       "      <td>0</td>\n",
       "      <td>1</td>\n",
       "      <td>kleio/b1685.cli</td>\n",
       "    </tr>\n",
       "    <tr>\n",
       "      <th>2</th>\n",
       "      <td>I</td>\n",
       "      <td>0</td>\n",
       "      <td>0</td>\n",
       "      <td>dehergne-a.cli</td>\n",
       "      <td>0</td>\n",
       "      <td>0</td>\n",
       "      <td>kleio/dehergne-a.cli</td>\n",
       "    </tr>\n",
       "    <tr>\n",
       "      <th>3</th>\n",
       "      <td>I</td>\n",
       "      <td>0</td>\n",
       "      <td>0</td>\n",
       "      <td>dehergne-locations-1644.cli</td>\n",
       "      <td>0</td>\n",
       "      <td>0</td>\n",
       "      <td>kleio/dehergne-locations-1644.cli</td>\n",
       "    </tr>\n",
       "    <tr>\n",
       "      <th>4</th>\n",
       "      <td>I</td>\n",
       "      <td>0</td>\n",
       "      <td>0</td>\n",
       "      <td>dehergne-locations-1701.cli</td>\n",
       "      <td>0</td>\n",
       "      <td>0</td>\n",
       "      <td>kleio/dehergne-locations-1701.cli</td>\n",
       "    </tr>\n",
       "  </tbody>\n",
       "</table>\n",
       "</div>"
      ],
      "text/plain": [
       "  import_status  import_errors  import_warnings                         name  \\\n",
       "0             I              0                0               auc-alunos.cli   \n",
       "1             I              0                0                    b1685.cli   \n",
       "2             I              0                0               dehergne-a.cli   \n",
       "3             I              0                0  dehergne-locations-1644.cli   \n",
       "4             I              0                0  dehergne-locations-1701.cli   \n",
       "\n",
       "   errors  warnings                               path  \n",
       "0       0         0               kleio/auc-alunos.cli  \n",
       "1       0         1                    kleio/b1685.cli  \n",
       "2       0         0               kleio/dehergne-a.cli  \n",
       "3       0         0  kleio/dehergne-locations-1644.cli  \n",
       "4       0         0  kleio/dehergne-locations-1701.cli  "
      ]
     },
     "execution_count": 10,
     "metadata": {},
     "output_type": "execute_result"
    }
   ],
   "source": [
    "imported_files_df = tlnb.get_import_status()\n",
    "imported_files_df[[\"import_status\",\"import_errors\",\"import_warnings\",\"name\",\"errors\",\"warnings\",\"path\"]].sort_values(\"name\")\n"
   ]
  },
  {
   "cell_type": "markdown",
   "metadata": {},
   "source": [
    "### Check a translation report\n",
    "\n",
    "If needed to check for errors.\n"
   ]
  },
  {
   "cell_type": "code",
   "execution_count": 7,
   "metadata": {},
   "outputs": [
    {
     "name": "stdout",
     "output_type": "stream",
     "text": [
      "KleioTranslator - server version 12.5 - build 570 2024-02-29 07:39:02\n",
      "2-5-2024 23-32\n",
      "\n",
      "Processing data file b1685.cli\n",
      "-------------------------------------------\n",
      "Generic Act translation module with geoentities (XML).\n",
      "     Joaquim Ramos de Carvalho (joaquim@uc.pt) \n",
      "** New document: kleio\n",
      "=========================\n",
      "kleio translation started\n",
      "=========================\n",
      "Structure: gacto2.str\n",
      "Prefix: \n",
      "Autorel: \n",
      "Translation count: 40\n",
      "Obs: \n",
      "** Processing source fonte$baptismos 1685\n",
      "\n",
      "WARNING: b1685.cli line 3 * Warning: Filename should match source Id to avoid errors. File: b1685 Id: baptismos 1685.\n",
      "Near lines: 3 \n",
      "Near lines: 4       bap$b1685.1/8/7/1685/?/manuel cordeiro\n",
      "\n",
      "6: bap$b1685.1\n",
      "22: bap$b1685.2\n",
      "40: bap$b1685.3\n",
      "59: bap$b1685.4\n",
      "70: bap$b1685.5\n",
      "79: bap$b1685.6\n",
      "98: bap$b1685.7\n",
      "113: bap$b1685.8\n",
      "129: bap$b1685.9\n",
      "144: bap$b1685.10\n",
      "156: bap$b1685.11\n",
      "171: bap$b1685.12\n",
      "183: bap$b1685.13\n",
      "201: bap$b1685.14\n",
      "219: bap$b1685.15\n",
      "235: bap$b1685.16\n",
      "250: bap$b1685.17\n",
      "266: bap$b1685.18\n",
      "284: bap$b1685.19\n",
      "301: bap$b1685.20\n",
      "318: bap$b1685.21\n",
      "334: bap$b1685.22\n",
      "351: bap$b1685.23\n",
      "368: bap$b1685.24\n",
      "381: bap$b1685.25\n",
      "396: bap$b1685.26\n",
      "416: bap$b1685.27\n",
      "431: bap$b1685.27b\n",
      "452: bap$b1685.27c\n",
      "466: bap$b1685.27d\n",
      "483: bap$b1685.28\n",
      "502: bap$b1685.29\n",
      "519: bap$b1685.30\n",
      "533: bap$b1685.31\n",
      "552: bap$b1685.32\n",
      "573: bap$b1685.33\n",
      "*** End of File\n",
      "\n",
      "\n",
      "Structure file: /usr/local/timelink/clio/src/gacto2.str\n",
      "Structure processing report: /usr/local/timelink/clio/src/gacto2.srpt\n",
      "Structure in JSON: /usr/local/timelink/clio/src/gacto2.str.json\n",
      "\n",
      "Kleio file: /kleio-home/kleio/b1685.cli\n",
      "Original file: /kleio-home/kleio/b1685.org\n",
      "Previous version: /kleio-home/kleio/b1685.old\n",
      "Temp file with ids: /kleio-home/kleio/b1685.ids\n",
      "** - /kleio-home/kleio/b1685.cli-renamed to- /kleio-home/kleio/b1685.old\n",
      "0  errors. \n",
      "1  warnings.\n",
      "Translation finished.\n",
      "\n"
     ]
    }
   ],
   "source": [
    "file_number=1\n",
    "rpt = tlnb.get_translation_report(imported_files_df, file_number)\n",
    "print(rpt)\n"
   ]
  },
  {
   "cell_type": "markdown",
   "metadata": {},
   "source": [
    "### Get the import report for a file\n",
    "\n",
    "In case there are errors in the import phase check the import report."
   ]
  },
  {
   "cell_type": "code",
   "execution_count": 8,
   "metadata": {},
   "outputs": [
    {
     "name": "stdout",
     "output_type": "stream",
     "text": [
      "auc-alunos.cli\n",
      "No errors\n",
      "No warnings\n",
      "\n",
      "\n"
     ]
    }
   ],
   "source": [
    "rpt = tlnb.get_import_rpt(imported_files_df, rows=[0])\n",
    "print(rpt)"
   ]
  }
 ],
 "metadata": {
  "interpreter": {
   "hash": "3f4c6253aba8c88efd38f4ed4b487a5473d5ec3d89bf67adb7a60aebc2f1f844"
  },
  "kernelspec": {
   "display_name": "Python 3.10.4 64-bit ('3.10.4')",
   "language": "python",
   "name": "python3"
  },
  "language_info": {
   "codemirror_mode": {
    "name": "ipython",
    "version": 3
   },
   "file_extension": ".py",
   "mimetype": "text/x-python",
   "name": "python",
   "nbconvert_exporter": "python",
   "pygments_lexer": "ipython3",
   "version": "3.11.1"
  },
  "orig_nbformat": 4
 },
 "nbformat": 4,
 "nbformat_minor": 2
}
