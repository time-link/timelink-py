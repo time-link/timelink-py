{
 "cells": [
  {
   "cell_type": "markdown",
   "metadata": {},
   "source": [
    "# Timelink with notebooks: tutorial\n",
    "\n",
    "Before you start:\n",
    "\n",
    "## Check the requirements\n",
    "\n",
    "1. If you are seeing this you probably already have VSCode and Python running in your computer.\n",
    "2. Your first step is to check if you have the requirments to run Timelink in a notebook. Goto to [Requirements check notebook](01-requirements-check.ipynb)\n",
    "\n",
    "## Outline of the tutorial\n",
    "\n",
    "- Transcription of Historical Sources\n",
    "  - Using the Kleio notation to transcribe sources [01-Transcribing](01-Transcribing.ipynb)\n",
    "- Translate and Import\n",
    "\t- Translate and Import Historical Souces [02-Translating](02-Translating.ipynb)\n",
    "\t- Developers how to run a kleio aerver\n",
    "\t\t- launching The kleio server in docker from a python script with timelink-py\n",
    "\t\t- Launching stand alone\n",
    "\t\t- Main kleio server api\n",
    "\t\t\t- Translating\n",
    "\t\t\t- Getting translations results and other files \n",
    "\t\t\t- uploading files\n",
    "\t\t\t- defining users \n",
    "- Explorar\n",
    "\t- List people\n",
    "\t\t- By name\n",
    "\t\t- People with atrributes\n",
    "\t\t- groups of people\n",
    "\t\t- Networks\n",
    "\t- Querying\n",
    "\t\t- querying with SQL\n",
    "\t\t\t- Inspecting the database structure\n",
    "\t\t\t- Sql queries with sqlalcheny\n",
    "\t\t\t- SQL receipts\n",
    "\t\t- Querying with ORM\n",
    "\t\t- Processing query results with pandas. \n",
    "\t\t- Direct access to database \n",
    "\t\t\t- SQLite\n",
    "\t\t\t\t- From VSCode \n",
    "\t\t\t\t- Dbbrowser\n",
    "- Extending\n",
    "\t- adapting existing source groups \n",
    "\t\t- Modifying the str definition. \n",
    "\t\t\t- defining  the str file for a given source file. \n",
    "\t\t- Giving new names to existing groups\n",
    "\t\t- Defining new source hierarchies with part \n",
    "\t\t- Adding new elements to existing groups\n",
    "\t- Creating new database tables for new types of sources\n",
    "\t- infering \n",
    "\n"
   ]
  }
 ],
 "metadata": {
  "language_info": {
   "name": "python"
  }
 },
 "nbformat": 4,
 "nbformat_minor": 2
}
