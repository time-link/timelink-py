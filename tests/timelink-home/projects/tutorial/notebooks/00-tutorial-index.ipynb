{
 "cells": [
  {
   "cell_type": "markdown",
   "metadata": {},
   "source": [
    "# Timelink with notebooks: tutorial\n",
    "\n",
    "Before you start:\n",
    "\n",
    "## Check the requirements\n",
    "\n",
    "1. If you are seeing this you probably already have VSCode and Python running in your computer.\n",
    "2. Your first step is to check if you have the requirments to run Timelink in a notebook. Goto to [Requirements check notebook](01-requirements-check.ipynb)\n",
    "\n",
    "## How to process an historical source\n",
    "\n"
   ]
  }
 ],
 "metadata": {
  "language_info": {
   "name": "python"
  }
 },
 "nbformat": 4,
 "nbformat_minor": 2
}
