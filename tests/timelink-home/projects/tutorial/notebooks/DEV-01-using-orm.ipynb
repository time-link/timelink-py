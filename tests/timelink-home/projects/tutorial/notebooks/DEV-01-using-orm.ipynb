{
 "cells": [
  {
   "cell_type": "markdown",
   "metadata": {},
   "source": [
    "# Timelink developper tutorial\n",
    "## Using ORM for database access"
   ]
  },
  {
   "cell_type": "markdown",
   "metadata": {},
   "source": [
    "`timelink` uses SQLAlchemy ORM models for database access.\n",
    "\n",
    "The `timelink` database schema is based on the concept of hierarchical classes.\n",
    "\n",
    "At the root of the hierarchy is the `Entity` class. Basic builtin classes specialize `Entity`: `Person`, `Object`, `Source`, `Act`.\n",
    "\n",
    "The hierarchy is managed through SQLAlchemy \"Joined table inheritance\".\n",
    "\n",
    "For documentation see: https://docs.sqlalchemy.org/en/20/orm/inheritance.html"
   ]
  },
  {
   "cell_type": "markdown",
   "metadata": {},
   "source": [
    "### Initialize a notebook object\n",
    "\n",
    "You need docker to run this tutorial"
   ]
  },
  {
   "cell_type": "code",
   "execution_count": 1,
   "metadata": {},
   "outputs": [
    {
     "name": "stdout",
     "output_type": "stream",
     "text": [
      "Timelink version: 1.1.18\n",
      "Project name: tutorial\n",
      "Project home: /Users/jrc/develop/timelink-py/tests/timelink-home/projects/tutorial\n",
      "Database type: sqlite\n",
      "Database name: orm_tutorial\n",
      "Kleio image: timelinkserver/kleio-server\n",
      "Kleio server token: 91JBg...\n",
      "Kleio server URL: http://127.0.0.1:8089\n",
      "Kleio server home: /Users/jrc/develop/timelink-py/tests/timelink-home/projects/tutorial\n",
      "Kleio server container: dazzling_wilson\n",
      "Kleio version requested: latest\n",
      "Kleio server version: 12.7.579 (2025-01-29 17:45:15)\n",
      "SQLite directory: /Users/jrc/develop/timelink-py/tests/timelink-home/projects/tutorial/database/sqlite\n",
      "Database version: 6ccf1ef385a6\n",
      "Call print_info(show_token=True) to show the Kleio Server token\n",
      "Call print_info(show_password=True) to show the Postgres password\n",
      "TimelinkNotebook(project_name=tutorial, project_home=/Users/jrc/develop/timelink-py/tests/timelink-home/projects/tutorial, db_type=sqlite, db_name=orm_tutorial, kleio_image=timelinkserver/kleio-server, kleio_version=latest, postgres_image=postgres, postgres_version=latest)\n"
     ]
    }
   ],
   "source": [
    "from timelink.notebooks import TimelinkNotebook\n",
    "\n",
    "tlnb = TimelinkNotebook(db_name='orm_tutorial')\n",
    "tlnb.db.drop_db()\n",
    "tlnb.db.create_db()\n",
    "tlnb.print_info()"
   ]
  },
  {
   "cell_type": "markdown",
   "metadata": {},
   "source": [
    "#### Get the database object from the Notebook object\n",
    "\n",
    "This will make it easier to access the database functions, but you can use the `tlnb.db` expression as well."
   ]
  },
  {
   "cell_type": "markdown",
   "metadata": {},
   "source": [
    "Show the tables in the database"
   ]
  },
  {
   "cell_type": "code",
   "execution_count": 2,
   "metadata": {},
   "outputs": [
    {
     "name": "stdout",
     "output_type": "stream",
     "text": [
      "\n",
      "entities\n",
      "id                   entities             VARCHAR    \n",
      "class                entities             VARCHAR    \n",
      "inside               entities             VARCHAR    {ForeignKey('entities.id')}\n",
      "the_source           entities             VARCHAR    \n",
      "the_order            entities             INTEGER    \n",
      "the_level            entities             INTEGER    \n",
      "the_line             entities             INTEGER    \n",
      "groupname            entities             VARCHAR    \n",
      "extra_info           entities             JSON       \n",
      "updated              entities             DATETIME   \n",
      "indexed              entities             DATETIME   \n",
      "\n",
      "attributes\n",
      "id                   attributes           VARCHAR    {ForeignKey('entities.id')}\n",
      "entity               attributes           VARCHAR    {ForeignKey('entities.id')}\n",
      "the_type             attributes           VARCHAR    \n",
      "the_value            attributes           VARCHAR    \n",
      "the_date             attributes           VARCHAR    \n",
      "obs                  attributes           VARCHAR    \n",
      "\n",
      "relations\n",
      "id                   relations            VARCHAR    {ForeignKey('entities.id')}\n",
      "origin               relations            VARCHAR    {ForeignKey('entities.id')}\n",
      "destination          relations            VARCHAR    {ForeignKey('entities.id')}\n",
      "the_type             relations            VARCHAR    \n",
      "the_value            relations            VARCHAR    \n",
      "the_date             relations            VARCHAR    \n",
      "obs                  relations            VARCHAR    \n",
      "\n",
      "acts\n",
      "id                   acts                 VARCHAR    {ForeignKey('entities.id')}\n",
      "the_type             acts                 VARCHAR(32) \n",
      "the_date             acts                 VARCHAR    \n",
      "loc                  acts                 VARCHAR    \n",
      "ref                  acts                 VARCHAR    \n",
      "obs                  acts                 VARCHAR    \n",
      "\n",
      "sources\n",
      "id                   sources              VARCHAR    {ForeignKey('entities.id')}\n",
      "the_type             sources              VARCHAR(32) \n",
      "the_date             sources              VARCHAR    \n",
      "loc                  sources              VARCHAR    \n",
      "ref                  sources              VARCHAR    \n",
      "kleiofile            sources              VARCHAR    \n",
      "replaces             sources              VARCHAR    \n",
      "obs                  sources              VARCHAR    \n",
      "\n",
      "aregisters\n",
      "id                   aregisters           VARCHAR    {ForeignKey('entities.id')}\n",
      "the_type             aregisters           VARCHAR(32) \n",
      "the_date             aregisters           VARCHAR    \n",
      "dbase                aregisters           VARCHAR    \n",
      "replace_mode         aregisters           VARCHAR    \n",
      "kleiofile            aregisters           VARCHAR    \n",
      "obs                  aregisters           VARCHAR    \n",
      "\n",
      "persons\n",
      "id                   persons              VARCHAR    {ForeignKey('entities.id')}\n",
      "name                 persons              VARCHAR    \n",
      "sex                  persons              VARCHAR(1) \n",
      "obs                  persons              VARCHAR    \n",
      "\n",
      "objects\n",
      "id                   objects              VARCHAR    {ForeignKey('entities.id')}\n",
      "name                 objects              VARCHAR    \n",
      "the_type             objects              VARCHAR(32) \n",
      "obs                  objects              VARCHAR    \n",
      "\n",
      "geoentities\n",
      "id                   geoentities          VARCHAR    {ForeignKey('entities.id')}\n",
      "name                 geoentities          VARCHAR    \n",
      "the_type             geoentities          VARCHAR(32) \n",
      "obs                  geoentities          VARCHAR    \n",
      "\n",
      "rentities\n",
      "id                   rentities            VARCHAR(64) {ForeignKey('entities.id')}\n",
      "user                 rentities            VARCHAR(64) \n",
      "description          rentities            VARCHAR(4096) \n",
      "status               rentities            VARCHAR(9) \n",
      "obs                  rentities            VARCHAR    \n",
      "\n",
      "links\n",
      "id                   links                INTEGER    \n",
      "rid                  links                VARCHAR(64) {ForeignKey('rentities.id')}\n",
      "entity               links                VARCHAR(64) {ForeignKey('entities.id')}\n",
      "user                 links                VARCHAR(64) \n",
      "rule                 links                VARCHAR(4096) \n",
      "status               links                VARCHAR(9) \n",
      "source               links                VARCHAR(64) {ForeignKey('sources.id')}\n",
      "aregister            links                VARCHAR(64) {ForeignKey('aregisters.id')}\n",
      "\n",
      "blinks\n",
      "id                   blinks               INTEGER    \n",
      "rid                  blinks               VARCHAR(64) {ForeignKey('rentities.id')}\n",
      "entity               blinks               VARCHAR(64) \n",
      "user                 blinks               VARCHAR(64) \n",
      "source               blinks               VARCHAR(64) \n",
      "rule                 blinks               VARCHAR(4096) \n",
      "status               blinks               VARCHAR(9) \n",
      "aregister            blinks               VARCHAR(64) \n",
      "\n",
      "classes\n",
      "id                   classes              VARCHAR    {ForeignKey('entities.id')}\n",
      "table_name           classes              VARCHAR    \n",
      "group_name           classes              VARCHAR(32) \n",
      "super                classes              VARCHAR    \n",
      "\n",
      "class_attributes\n",
      "the_class            class_attributes     VARCHAR    {ForeignKey('classes.id')}\n",
      "name                 class_attributes     VARCHAR(32) \n",
      "colname              class_attributes     VARCHAR(32) \n",
      "colclass             class_attributes     VARCHAR(32) \n",
      "coltype              class_attributes     VARCHAR(32) \n",
      "colsize              class_attributes     INTEGER    \n",
      "colprecision         class_attributes     INTEGER    \n",
      "pkey                 class_attributes     INTEGER    \n",
      "\n",
      "syspar\n",
      "pname                syspar               VARCHAR    \n",
      "pvalue               syspar               VARCHAR    \n",
      "ptype                syspar               VARCHAR    \n",
      "obs                  syspar               VARCHAR    \n",
      "\n",
      "syslog\n",
      "seq                  syslog               INTEGER    \n",
      "time                 syslog               DATETIME   \n",
      "level                syslog               INTEGER    \n",
      "origin               syslog               VARCHAR    \n",
      "message              syslog               VARCHAR    \n",
      "\n",
      "kleiofiles\n",
      "path                 kleiofiles           VARCHAR(1024) \n",
      "name                 kleiofiles           VARCHAR(255) \n",
      "structure            kleiofiles           VARCHAR(255) \n",
      "translator           kleiofiles           VARCHAR(255) \n",
      "translation_date     kleiofiles           DATETIME   \n",
      "nerrors              kleiofiles           INTEGER    \n",
      "nwarnings            kleiofiles           INTEGER    \n",
      "error_rpt            kleiofiles           VARCHAR    \n",
      "warning_rpt          kleiofiles           VARCHAR    \n",
      "imported             kleiofiles           DATETIME   \n",
      "imported_string      kleiofiles           VARCHAR(255) \n",
      "\n",
      "goods\n",
      "description          goods                VARCHAR(1024) \n",
      "id                   goods                VARCHAR(64) {ForeignKey('objects.id')}\n",
      "loc                  goods                VARCHAR(64) \n",
      "\n",
      "rgeoentities\n",
      "id                   rgeoentities         VARCHAR(64) {ForeignKey('rentities.id')}\n",
      "sname                rgeoentities         VARCHAR(64) \n",
      "\n",
      "robjects\n",
      "id                   robjects             VARCHAR(64) {ForeignKey('rentities.id')}\n",
      "sname                robjects             VARCHAR(64) \n",
      "the_type             robjects             VARCHAR(32) \n",
      "\n",
      "rpersons\n",
      "id                   rpersons             VARCHAR(64) {ForeignKey('rentities.id')}\n",
      "sex                  rpersons             VARCHAR    \n",
      "sname                rpersons             VARCHAR(64) \n"
     ]
    }
   ],
   "source": [
    "db = tlnb.db  # get the TimelinkDatabase object from the notebook\n",
    "for table in db.metadata.tables.keys():\n",
    "    print()\n",
    "    db.describe(table, show=True)\n"
   ]
  },
  {
   "cell_type": "markdown",
   "metadata": {},
   "source": [
    "### Creating person Python objects"
   ]
  },
  {
   "cell_type": "code",
   "execution_count": 3,
   "metadata": {},
   "outputs": [
    {
     "name": "stderr",
     "output_type": "stream",
     "text": [
      "/Users/jrc/develop/timelink-py/timelink/api/models/entity.py:295: UserWarning: Could not update element to columnsmappings because object not in session\n",
      "  warnings.warn(\n",
      "/Users/jrc/develop/timelink-py/timelink/api/models/entity.py:295: UserWarning: Could not update element to columnsmappings because object not in session\n",
      "  warnings.warn(\n"
     ]
    },
    {
     "name": "stdout",
     "output_type": "stream",
     "text": [
      "person$John Doe/m/id=jd/obs=A person\n"
     ]
    },
    {
     "name": "stderr",
     "output_type": "stream",
     "text": [
      "/Users/jrc/develop/timelink-py/timelink/api/models/entity.py:295: UserWarning: Could not update element to columnsmappings because object not in session\n",
      "  warnings.warn(\n",
      "/Users/jrc/develop/timelink-py/timelink/api/models/entity.py:295: UserWarning: Could not update element to columnsmappings because object not in session\n",
      "  warnings.warn(\n",
      "/Users/jrc/develop/timelink-py/timelink/api/models/entity.py:295: UserWarning: Could not update element to columnsmappings because object not in session\n",
      "  warnings.warn(\n"
     ]
    },
    {
     "name": "stdout",
     "output_type": "stream",
     "text": [
      "person$Jane Doe/f/id=jane/obs=Another person\n"
     ]
    },
    {
     "name": "stderr",
     "output_type": "stream",
     "text": [
      "/Users/jrc/develop/timelink-py/timelink/api/models/entity.py:295: UserWarning: Could not update element to columnsmappings because object not in session\n",
      "  warnings.warn(\n"
     ]
    }
   ],
   "source": [
    "from timelink.api.models import Entity, Person\n",
    "\n",
    "p1 = Person(id='jd', name='John Doe',sex='m', obs=\"A person\")\n",
    "p2 = Person(id='jane', name='Jane Doe', sex='f', obs=\"Another person\")\n",
    "print(p1)\n",
    "print(p2)"
   ]
  },
  {
   "cell_type": "markdown",
   "metadata": {},
   "source": [
    "### Create a database session and add the python objects"
   ]
  },
  {
   "cell_type": "code",
   "execution_count": 4,
   "metadata": {},
   "outputs": [],
   "source": [
    "with db.session() as session:\n",
    "    session.add(p1)\n",
    "    session.add(p2)\n",
    "    session.commit()\n",
    "\n"
   ]
  },
  {
   "cell_type": "markdown",
   "metadata": {},
   "source": [
    "### Query with SQLAlchemy ORM query model\n",
    "\n",
    "Use the SQLAlchemy models to query the database.\n",
    "\n",
    "For a full tutorial see: https://docs.sqlalchemy.org/en/20/orm/queryguide/\n"
   ]
  },
  {
   "cell_type": "markdown",
   "metadata": {},
   "source": [
    "#### Search people using entity attributes (columns in the database)\n",
    "\n",
    "See https://docs.sqlalchemy.org/en/20/orm/quickstart.html#simple-select"
   ]
  },
  {
   "cell_type": "code",
   "execution_count": 5,
   "metadata": {},
   "outputs": [
    {
     "name": "stdout",
     "output_type": "stream",
     "text": [
      "[Person(id=Entity(id=\"jane\", pom_class=\"person\", inside=\"None\", the_source=None, the_order=None, the_level=None, the_line=None, groupname=\"None\", updated=2025-02-24 08:13:41.284299, indexed=None), name=\"Jane Doe\", sex=\"f\", obs=Another person)]\n"
     ]
    }
   ],
   "source": [
    "\n",
    "with db.session() as session:\n",
    "    r = session.query(Person).where(Person.sex == 'f').all()\n",
    "    print(r)"
   ]
  },
  {
   "cell_type": "markdown",
   "metadata": {},
   "source": [
    "Co-pilot normally helps if you add a previous commnent"
   ]
  },
  {
   "cell_type": "code",
   "execution_count": 6,
   "metadata": {},
   "outputs": [],
   "source": [
    "# search for people with name starting with \"Jane\""
   ]
  },
  {
   "cell_type": "code",
   "execution_count": 7,
   "metadata": {},
   "outputs": [
    {
     "name": "stdout",
     "output_type": "stream",
     "text": [
      "[Person(id=Entity(id=\"jane\", pom_class=\"person\", inside=\"None\", the_source=None, the_order=None, the_level=None, the_line=None, groupname=\"None\", updated=2025-02-24 08:13:41.284299, indexed=None), name=\"Jane Doe\", sex=\"f\", obs=Another person)]\n"
     ]
    }
   ],
   "source": [
    "with db.session() as session:\n",
    "    r = session.query(Person).where(Person.name.like('Jane%')).all()\n",
    "    print(r)"
   ]
  },
  {
   "cell_type": "markdown",
   "metadata": {},
   "source": [
    "Note that you can have the result in kleio format"
   ]
  },
  {
   "cell_type": "code",
   "execution_count": 8,
   "metadata": {},
   "outputs": [
    {
     "name": "stdout",
     "output_type": "stream",
     "text": [
      "person$Jane Doe/f/id=jane/obs=Another person\n"
     ]
    }
   ],
   "source": [
    "with db.session() as session:\n",
    "    r = session.query(Person).where(Person.name.like('Jane%')).all()\n",
    "    for p in r:\n",
    "        print(p.to_kleio())"
   ]
  },
  {
   "cell_type": "markdown",
   "metadata": {},
   "source": [
    "### Adding attribute and relations for people objects"
   ]
  },
  {
   "cell_type": "markdown",
   "metadata": {},
   "source": [
    "#### Create some attributes and relations "
   ]
  },
  {
   "cell_type": "code",
   "execution_count": 9,
   "metadata": {},
   "outputs": [],
   "source": [
    "from timelink.api.models import Attribute, Relation\n",
    "\n",
    "with db.session() as session:\n",
    "    a1 = Attribute(id='jd1', the_type='age', the_value=\"33\", the_date=\"2024-10-05\", obs=\"John's age\")\n",
    "    jd = session.get(Person, 'jd')\n",
    "    jd.add_attribute(a1)\n",
    "    a2 = Attribute(id='jd2', the_type='age', the_value=\"11\", the_date=\"2024-10-05\", obs=\"Jane's age\")\n",
    "    jane = session.get(Person, 'jane')\n",
    "    jane.add_attribute(a2)\n",
    "    r1 = Relation(id='jd_jane',\n",
    "                    the_type='kinship',\n",
    "                    the_value='father',\n",
    "                    the_date='2024-10-05',\n",
    "                    inside='jd',\n",
    "                    origin='jd',\n",
    "                    destination='jane',\n",
    "                    obs=\"John is the father of Jane\")\n",
    "    session.add(r1)\n",
    "    session.commit()\n"
   ]
  },
  {
   "cell_type": "markdown",
   "metadata": {},
   "source": [
    "We can know retrieve the attributes"
   ]
  },
  {
   "cell_type": "code",
   "execution_count": 10,
   "metadata": {},
   "outputs": [
    {
     "name": "stdout",
     "output_type": "stream",
     "text": [
      "[Attribute(id=Entity(id=\"jd1\", pom_class=\"attribute\", inside=\"jd\", the_source=None, the_order=None, the_level=None, the_line=None, groupname=\"None\", updated=2025-02-24 08:13:57.988426, indexed=None), entity=\"jd\", the_type=\"age\", the_value=\"33\", the_date=\"2024-10-05\"\", obs=John's age)]\n",
      "[Relation(id=Entity(id=\"jd_jane\", pom_class=\"relation\", inside=\"jd\", the_source=None, the_order=None, the_level=None, the_line=None, groupname=\"None\", updated=2025-02-24 08:13:57.984099, indexed=None), origin=\"jd\", destination=\"jane\", the_type=\"kinship\", the_value=\"father\", the_date=\"2024-10-05\", obs=John is the father of Jane)]\n",
      "[Attribute(id=Entity(id=\"jd2\", pom_class=\"attribute\", inside=\"jane\", the_source=None, the_order=None, the_level=None, the_line=None, groupname=\"None\", updated=2025-02-24 08:13:57.988431, indexed=None), entity=\"jane\", the_type=\"age\", the_value=\"11\", the_date=\"2024-10-05\"\", obs=Jane's age)]\n",
      "[Relation(id=Entity(id=\"jd_jane\", pom_class=\"relation\", inside=\"jd\", the_source=None, the_order=None, the_level=None, the_line=None, groupname=\"None\", updated=2025-02-24 08:13:57.984099, indexed=None), origin=\"jd\", destination=\"jane\", the_type=\"kinship\", the_value=\"father\", the_date=\"2024-10-05\", obs=John is the father of Jane)]\n"
     ]
    }
   ],
   "source": [
    "with db.session() as session:\n",
    "    jd = session.get(Person, 'jd')\n",
    "    print(jd.attributes)\n",
    "    print(jd.rels_out)\n",
    "    jane = session.get(Person, 'jane')\n",
    "    print(jane.attributes)\n",
    "    print(jane.rels_in)"
   ]
  },
  {
   "cell_type": "markdown",
   "metadata": {},
   "source": [
    "Relations:\n",
    "- `origin` and `destination` contain the ids of the related entities\n",
    "- `org` and `dest`  contain the ORM managed related entities"
   ]
  },
  {
   "cell_type": "code",
   "execution_count": 11,
   "metadata": {},
   "outputs": [
    {
     "name": "stdout",
     "output_type": "stream",
     "text": [
      "id = jane\n",
      "entity =\n",
      " person$Jane Doe/f/id=jane/obs=Another person\n",
      "  <rel$kinship/father/John Doe/jd/2024-10-05/obs=John is the father of Jane\n",
      "  attribute$age/11/2024-10-05/obs=Jane's age\n"
     ]
    }
   ],
   "source": [
    "with db.session() as session:\n",
    "    # get John Doe, the father\n",
    "    jd = session.get(Person, 'jd')\n",
    "    # get the first relation\n",
    "    rel = jd.rels_out[0]\n",
    "    # get the destination entity id\n",
    "    print('id =', rel.destination)\n",
    "    # get the destination entity (note that print will show the entity)\n",
    "    print('entity =\\n',rel.dest)"
   ]
  },
  {
   "cell_type": "markdown",
   "metadata": {},
   "source": [
    "Same from the other side (daughter)"
   ]
  },
  {
   "cell_type": "code",
   "execution_count": 12,
   "metadata": {},
   "outputs": [
    {
     "name": "stdout",
     "output_type": "stream",
     "text": [
      "id = jd\n",
      "entity =\n",
      " person$John Doe/m/id=jd/obs=A person\n",
      "  rel$kinship/father/Jane Doe/jd/2024-10-05/obs=John is the father of Jane\n",
      "  attribute$age/33/2024-10-05/obs=John's age\n"
     ]
    }
   ],
   "source": [
    "with db.session() as session:\n",
    "    jane = session.get(Person, 'jane')\n",
    "    rel = jane.rels_in[0]\n",
    "    print('id =', rel.origin)\n",
    "    print('entity =\\n', rel.org)\n"
   ]
  },
  {
   "cell_type": "markdown",
   "metadata": {},
   "source": [
    "And the kleio representation will show the attributes and the relations"
   ]
  },
  {
   "cell_type": "code",
   "execution_count": 13,
   "metadata": {},
   "outputs": [
    {
     "name": "stdout",
     "output_type": "stream",
     "text": [
      "person$John Doe/m/id=jd/obs=A person\n",
      "  rel$kinship/father/Jane Doe/jd/2024-10-05/obs=John is the father of Jane\n",
      "  attribute$age/33/2024-10-05/obs=John's age\n",
      "person$Jane Doe/f/id=jane/obs=Another person\n",
      "  <rel$kinship/father/John Doe/jd/2024-10-05/obs=John is the father of Jane\n",
      "  attribute$age/11/2024-10-05/obs=Jane's age\n"
     ]
    }
   ],
   "source": [
    "with db.session() as session:\n",
    "    jd = session.get(Person, 'jd')\n",
    "    print(jd.to_kleio())\n",
    "    jane = session.get(Person, 'jane')\n",
    "    print(jane.to_kleio())"
   ]
  },
  {
   "cell_type": "markdown",
   "metadata": {},
   "source": [
    "The attributes are also in their own table"
   ]
  },
  {
   "cell_type": "code",
   "execution_count": 14,
   "metadata": {},
   "outputs": [
    {
     "name": "stdout",
     "output_type": "stream",
     "text": [
      "('age', '33', '2024-10-05')\n",
      "('age', '11', '2024-10-05')\n"
     ]
    }
   ],
   "source": [
    "from sqlalchemy.sql import text\n",
    "\n",
    "# print(db.table_names())\n",
    "# print(db.describe('attributes'))\n",
    "with db.session() as session:\n",
    "    sql = text(\"SELECT the_type, the_value, the_date \"\n",
    "                \"FROM attributes\")\n",
    "    result = session.execute(sql)\n",
    "    for row in result:\n",
    "        print(row)"
   ]
  },
  {
   "cell_type": "markdown",
   "metadata": {},
   "source": [
    "## Searching the inheritance hierarchy\n",
    "\n",
    "https://docs.sqlalchemy.org/en/20/orm/queryguide/inheritance.html"
   ]
  },
  {
   "cell_type": "markdown",
   "metadata": {},
   "source": [
    "### Search for people with certain attributes\n",
    "\n",
    "see: https://docs.sqlalchemy.org/en/20/orm/quickstart.html#select-with-join"
   ]
  },
  {
   "cell_type": "code",
   "execution_count": 15,
   "metadata": {},
   "outputs": [
    {
     "name": "stdout",
     "output_type": "stream",
     "text": [
      "person$John Doe/m/id=jd/obs=A person\n",
      "  rel$kinship/father/Jane Doe/jd/2024-10-05/obs=John is the father of Jane\n",
      "  attribute$age/33/2024-10-05/obs=John's age\n",
      "person$Jane Doe/f/id=jane/obs=Another person\n",
      "  <rel$kinship/father/John Doe/jd/2024-10-05/obs=John is the father of Jane\n",
      "  attribute$age/11/2024-10-05/obs=Jane's age\n"
     ]
    }
   ],
   "source": [
    "from sqlalchemy.sql import select\n",
    "from sqlalchemy.orm import aliased\n",
    "from timelink.api.models import Attribute, Person\n",
    "\n",
    "# when joining tables, we need to use aliases\n",
    "# we use db.get_model to get an aliased model\n",
    "# see  https://docs.sqlalchemy.org/en/20/errors.html#error-xaj2\n",
    "\n",
    "PersonAliased = aliased(Person)  # or db.get_model('Person')\n",
    "\n",
    "with db.session() as session:\n",
    "    stmt = (  # note the parentheses\n",
    "        select(PersonAliased)\n",
    "        .join(PersonAliased.attributes)\n",
    "        .where(Attribute.the_type == \"age\")\n",
    "    )\n",
    "    people = session.scalars(stmt).all()\n",
    "    for person in people:\n",
    "        print(person)\n",
    "\n"
   ]
  },
  {
   "cell_type": "code",
   "execution_count": 16,
   "metadata": {},
   "outputs": [
    {
     "name": "stdout",
     "output_type": "stream",
     "text": [
      "Under thirty:\n",
      "person$Jane Doe/f/id=jane/obs=Another person\n",
      "  <rel$kinship/father/John Doe/jd/2024-10-05/obs=John is the father of Jane\n",
      "  attribute$age/11/2024-10-05/obs=Jane's age\n"
     ]
    },
    {
     "name": "stderr",
     "output_type": "stream",
     "text": [
      "/var/folders/x7/qzytnd752559g0w475rfwkx00000gn/T/ipykernel_16831/1941485576.py:10: SAWarning: An alias is being generated automatically against joined entity Mapper[Attribute(attributes)] due to overlapping tables.  This is a legacy pattern which may be deprecated in a later release.  Use the aliased(<entity>, flat=True) construct explicitly, see the linked example. (Background on this warning at: https://sqlalche.me/e/20/xaj2)\n",
      "  under_thirty = session.execute(stmt).scalars().all()\n"
     ]
    }
   ],
   "source": [
    "PersonAliased = db.get_model('person')  # or aliased(Person)\n",
    "\n",
    "with db.session() as session:\n",
    "    stmt = (  # note the parentheses\n",
    "        select(PersonAliased)\n",
    "        .join(PersonAliased.attributes)\n",
    "        .where(Attribute.the_type == 'age')\n",
    "        .where(Attribute.the_value < \"30\")\n",
    "    )\n",
    "    under_thirty = session.execute(stmt).scalars().all()\n",
    "    print(\"Under thirty:\")\n",
    "    for p in under_thirty:\n",
    "        print(p)"
   ]
  },
  {
   "cell_type": "markdown",
   "metadata": {},
   "source": [
    "## Inspecting the database\n"
   ]
  },
  {
   "cell_type": "markdown",
   "metadata": {},
   "source": [
    "### Get the known ORM models\n",
    "\n",
    "Note that importing kleio files can add to the available ORM models."
   ]
  },
  {
   "cell_type": "code",
   "execution_count": 17,
   "metadata": {},
   "outputs": [
    {
     "data": {
      "text/plain": [
       "['attribute',\n",
       " 'relation',\n",
       " 'act',\n",
       " 'source',\n",
       " 'aregister',\n",
       " 'person',\n",
       " 'good',\n",
       " 'object',\n",
       " 'geoentity',\n",
       " 'rgeoentity',\n",
       " 'robject',\n",
       " 'rperson',\n",
       " 'rentity',\n",
       " 'class',\n",
       " 'entity']"
      ]
     },
     "execution_count": 17,
     "metadata": {},
     "output_type": "execute_result"
    }
   ],
   "source": [
    "db.get_models_ids()"
   ]
  },
  {
   "cell_type": "markdown",
   "metadata": {},
   "source": [
    "### Get the columns of a model"
   ]
  },
  {
   "cell_type": "code",
   "execution_count": 18,
   "metadata": {},
   "outputs": [
    {
     "name": "stdout",
     "output_type": "stream",
     "text": [
      "entities id VARCHAR set()\n",
      "entities class VARCHAR set()\n",
      "entities inside VARCHAR {ForeignKey('entities.id')}\n",
      "entities the_source VARCHAR set()\n",
      "entities the_order INTEGER set()\n",
      "entities the_level INTEGER set()\n",
      "entities the_line INTEGER set()\n",
      "entities groupname VARCHAR set()\n",
      "entities extra_info JSON set()\n",
      "entities updated DATETIME set()\n",
      "entities indexed DATETIME set()\n",
      "attributes id VARCHAR {ForeignKey('entities.id')}\n",
      "attributes entity VARCHAR {ForeignKey('entities.id')}\n",
      "attributes the_type VARCHAR set()\n",
      "attributes the_value VARCHAR set()\n",
      "attributes the_date VARCHAR set()\n",
      "attributes obs VARCHAR set()\n"
     ]
    }
   ],
   "source": [
    "cols = db.get_columns('attribute')\n",
    "for col in cols:\n",
    "    print(col.table, col.name, col.type, col.foreign_keys)"
   ]
  },
  {
   "cell_type": "markdown",
   "metadata": {},
   "source": [
    "Also with the model class"
   ]
  },
  {
   "cell_type": "code",
   "execution_count": 19,
   "metadata": {},
   "outputs": [
    {
     "data": {
      "text/plain": [
       "[Column('id', String(), table=<entities>, primary_key=True, nullable=False),\n",
       " Column('class', String(), table=<entities>, nullable=False),\n",
       " Column('inside', String(), ForeignKey('entities.id'), table=<entities>),\n",
       " Column('the_source', String(), table=<entities>),\n",
       " Column('the_order', Integer(), table=<entities>),\n",
       " Column('the_level', Integer(), table=<entities>),\n",
       " Column('the_line', Integer(), table=<entities>),\n",
       " Column('groupname', String(), table=<entities>),\n",
       " Column('extra_info', JSON(), table=<entities>),\n",
       " Column('updated', DateTime(), table=<entities>, default=CallableColumnDefault(<function datetime.utcnow at 0x108b7ba30>)),\n",
       " Column('indexed', DateTime(), table=<entities>),\n",
       " Column('id', String(), ForeignKey('entities.id'), table=<relations>, primary_key=True, nullable=False),\n",
       " Column('origin', String(), ForeignKey('entities.id'), table=<relations>),\n",
       " Column('destination', String(), ForeignKey('entities.id'), table=<relations>),\n",
       " Column('the_type', String(), table=<relations>),\n",
       " Column('the_value', String(), table=<relations>),\n",
       " Column('the_date', String(), table=<relations>),\n",
       " Column('obs', String(), table=<relations>)]"
      ]
     },
     "execution_count": 19,
     "metadata": {},
     "output_type": "execute_result"
    }
   ],
   "source": [
    "from timelink.api.models import Entity, Person, Attribute, Relation\n",
    "\n",
    "db.describe(Relation)"
   ]
  },
  {
   "cell_type": "markdown",
   "metadata": {},
   "source": [
    "### Getting the tables\n",
    "\n",
    "By using tables in queries the inheritance system is by passed\n",
    "and only the columns specific to a table are used."
   ]
  },
  {
   "cell_type": "code",
   "execution_count": 20,
   "metadata": {},
   "outputs": [
    {
     "data": {
      "text/plain": [
       "['acts',\n",
       " 'alembic_version',\n",
       " 'aregisters',\n",
       " 'attributes',\n",
       " 'blinks',\n",
       " 'class_attributes',\n",
       " 'classes',\n",
       " 'entities',\n",
       " 'geoentities',\n",
       " 'goods',\n",
       " 'kleiofiles',\n",
       " 'links',\n",
       " 'objects',\n",
       " 'persons',\n",
       " 'relations',\n",
       " 'rentities',\n",
       " 'rgeoentities',\n",
       " 'robjects',\n",
       " 'rpersons',\n",
       " 'sources',\n",
       " 'syslog',\n",
       " 'syspar']"
      ]
     },
     "execution_count": 20,
     "metadata": {},
     "output_type": "execute_result"
    }
   ],
   "source": [
    "db.table_names()"
   ]
  },
  {
   "cell_type": "markdown",
   "metadata": {},
   "source": [
    "### Check columns of a table"
   ]
  },
  {
   "cell_type": "code",
   "execution_count": 21,
   "metadata": {},
   "outputs": [
    {
     "data": {
      "text/plain": [
       "[Column('id', String(), ForeignKey('entities.id'), table=<attributes>, primary_key=True, nullable=False),\n",
       " Column('entity', String(), ForeignKey('entities.id'), table=<attributes>),\n",
       " Column('the_type', String(), table=<attributes>),\n",
       " Column('the_value', String(), table=<attributes>),\n",
       " Column('the_date', String(), table=<attributes>),\n",
       " Column('obs', String(), table=<attributes>)]"
      ]
     },
     "execution_count": 21,
     "metadata": {},
     "output_type": "execute_result"
    }
   ],
   "source": [
    "db.describe('attributes')"
   ]
  },
  {
   "cell_type": "markdown",
   "metadata": {},
   "source": [
    "## Queries in SQL, use ORM to fetch full entities\n",
    "\n",
    "Using tables and columns directly more efficient queries\n",
    "can be done. Use ids from results to fetch the full entity."
   ]
  },
  {
   "cell_type": "code",
   "execution_count": null,
   "metadata": {},
   "outputs": [
    {
     "name": "stdout",
     "output_type": "stream",
     "text": [
      "person$Jane Doe/f/id=jane/obs=Another person\n",
      "  <rel$kinship/father/John Doe/2024-10-05/obs=John is the father of Jane\n",
      "  attribute$age/11/2024-10-05/obs=Jane's age\n"
     ]
    }
   ],
   "source": [
    "from sqlalchemy import select, text\n",
    "from timelink.api.models import Entity\n",
    "sql = text(\"SELECT p.id \"\n",
    "           \"FROM persons p, attributes a \"\n",
    "           \"WHERE p.id = a.entity \"\n",
    "           \"AND a.the_type = 'age' \"\n",
    "           \"AND the_value < '30'\")\n",
    "\n",
    "with db.session() as session:\n",
    "    result = session.execute(sql).scalars().all()\n",
    "    for id in result:\n",
    "        person = session.get(Entity, id)\n",
    "        # note that the correct type of entity is returned\n",
    "        print(person.to_kleio())\n",
    "\n"
   ]
  },
  {
   "cell_type": "markdown",
   "metadata": {},
   "source": [
    "## Changing data"
   ]
  },
  {
   "cell_type": "markdown",
   "metadata": {},
   "source": [
    "#### Changing the value of an attribute"
   ]
  },
  {
   "cell_type": "code",
   "execution_count": null,
   "metadata": {},
   "outputs": [
    {
     "name": "stdout",
     "output_type": "stream",
     "text": [
      "person$John Doe/m/id=jd/obs=A person\n",
      "  rel$kinship/father/Jane Doe/2024-10-05/obs=John is the father of Jane\n",
      "  attribute$age/33/2024-10-05/obs=John's age\n",
      "before: attribute$age/33/2024-10-05/obs=John's age\n",
      "after: attribute$age/38/2024-10-05/obs=John's age\n",
      "New version of entity\n",
      "person$John Doe/m/id=jd/obs=A person\n",
      "  rel$kinship/father/Jane Doe/2024-10-05/obs=John is the father of Jane\n",
      "  attribute$age/38/2024-10-05/obs=John's age\n"
     ]
    }
   ],
   "source": [
    "from timelink.api.models import Person\n",
    "\n",
    "with db.session() as session:\n",
    "    p1 = session.get(Person, 'jd')\n",
    "    print(p1)\n",
    "    # get the age attribute\n",
    "    a1 = [atr for atr in p1.attributes if atr.the_type == 'age'][0]\n",
    "    print(\"before:\", a1)\n",
    "\n",
    "    a1.the_value = str(int(a1.the_value) + 5)  #\n",
    "\n",
    "    print(\"after:\", a1)\n",
    "    session.commit()\n",
    "    print(\"New version of entity\")\n",
    "    print(p1.to_kleio())"
   ]
  },
  {
   "cell_type": "markdown",
   "metadata": {},
   "source": [
    "Confirm persistence of changes data"
   ]
  },
  {
   "cell_type": "code",
   "execution_count": null,
   "metadata": {},
   "outputs": [
    {
     "name": "stdout",
     "output_type": "stream",
     "text": [
      "after: attribute$age/38/2024-10-05/obs=John's age\n",
      "person$John Doe/m/id=jd/obs=A person\n",
      "  rel$kinship/father/Jane Doe/2024-10-05/obs=John is the father of Jane\n",
      "  attribute$age/38/2024-10-05/obs=John's age\n"
     ]
    }
   ],
   "source": [
    "with db.session() as session:\n",
    "    p1 = session.get(Person, 'jd')\n",
    "    # get the age attribute\n",
    "    a1 = [atr for atr in p1.attributes if atr.the_type == 'age'][0]\n",
    "    print(\"after:\", a1)\n",
    "    print(p1)"
   ]
  },
  {
   "cell_type": "markdown",
   "metadata": {},
   "source": [
    "## Deleting data"
   ]
  }
 ],
 "metadata": {
  "kernelspec": {
   "display_name": ".venv",
   "language": "python",
   "name": "python3"
  },
  "language_info": {
   "codemirror_mode": {
    "name": "ipython",
    "version": 3
   },
   "file_extension": ".py",
   "mimetype": "text/x-python",
   "name": "python",
   "nbconvert_exporter": "python",
   "pygments_lexer": "ipython3",
   "version": "3.10.14"
  }
 },
 "nbformat": 4,
 "nbformat_minor": 2
}
