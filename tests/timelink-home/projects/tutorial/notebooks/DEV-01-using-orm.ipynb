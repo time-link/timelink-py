{
 "cells": [
  {
   "cell_type": "markdown",
   "metadata": {},
   "source": [
    "# Timelink developper tutorial\n",
    "## Using ORM for database access"
   ]
  },
  {
   "cell_type": "markdown",
   "metadata": {},
   "source": [
    "`timelink` uses SQLAlchemy ORM models for database access.\n",
    "\n",
    "The `timelink` database schema is based on the concept of hierarchical classes.\n",
    "\n",
    "At the root of the hierarchy is the `Entity` class. Basic builtin classes specialize `Entity`: `Person`, `Object`, `Source`, `Act`.\n",
    "\n",
    "The hierarchy is managed through SQLAlchemy \"Joined table inheritance\".\n",
    "\n",
    "For documentation see: https://docs.sqlalchemy.org/en/20/orm/inheritance.html"
   ]
  },
  {
   "cell_type": "markdown",
   "metadata": {},
   "source": [
    "### Initialize a notebook object\n",
    "\n",
    "You need docker to run this tutorial"
   ]
  },
  {
   "cell_type": "code",
   "execution_count": 1,
   "metadata": {},
   "outputs": [
    {
     "name": "stdout",
     "output_type": "stream",
     "text": [
      "Timelink version: 1.1.14\n",
      "Project name: tutorial\n",
      "Project home: /Users/jrc/develop/timelink-py/tests/timelink-home/projects/tutorial\n",
      "Database type: sqlite\n",
      "Database name: orm_tutorial\n",
      "Kleio image: timelinkserver/kleio-server\n",
      "Kleio server token: SuoUN...\n",
      "Kleio server URL: http://127.0.0.1:8089\n",
      "Kleio server home: /Users/jrc/develop/timelink-py/tests/timelink-home/projects/tutorial\n",
      "Kleio server container: dazzling_jepsen\n",
      "Kleio version requested: latest\n",
      "Kleio server version: 12.6.573 (2024-07-29 08:30:28)\n",
      "SQLite directory: /Users/jrc/develop/timelink-py/tests/timelink-home/projects/tutorial/database/sqlite\n",
      "Call print_info(show_token=True) to show the Kleio Server token\n",
      "Call print_info(show_password=True) to show the Postgres password\n",
      "TimelinkNotebook(project_name=tutorial, project_home=/Users/jrc/develop/timelink-py/tests/timelink-home/projects/tutorial, db_type=sqlite, db_name=orm_tutorial, kleio_image=timelinkserver/kleio-server, kleio_version=latest, postgres_image=postgres, postgres_version=latest)\n"
     ]
    }
   ],
   "source": [
    "from timelink.notebooks import TimelinkNotebook\n",
    "\n",
    "tlnb = TimelinkNotebook(db_name='orm_tutorial')\n",
    "tlnb.db.drop_db()\n",
    "tlnb.db.create_db()\n",
    "tlnb.print_info()"
   ]
  },
  {
   "cell_type": "markdown",
   "metadata": {},
   "source": [
    "#### Get the database object from the Notebook object\n",
    "\n",
    "This will make it easier to access the database functions, but you can use the `tlnb.db` expression as well."
   ]
  },
  {
   "cell_type": "markdown",
   "metadata": {},
   "source": [
    "Show the tables in the database"
   ]
  },
  {
   "cell_type": "code",
   "execution_count": 2,
   "metadata": {},
   "outputs": [
    {
     "name": "stdout",
     "output_type": "stream",
     "text": [
      "['acts', 'aregisters', 'attributes', 'class_attributes', 'classes', 'entities', 'geoentities', 'kleiofiles', 'links', 'objects', 'persons', 'relations', 'rentities', 'sources', 'syslog', 'syspar']\n"
     ]
    }
   ],
   "source": [
    "db = tlnb.db  # get the TimelinkDatabase object from the notebook\n",
    "print(db.table_names())"
   ]
  },
  {
   "cell_type": "markdown",
   "metadata": {},
   "source": [
    "### Creating person Python objects"
   ]
  },
  {
   "cell_type": "code",
   "execution_count": 3,
   "metadata": {},
   "outputs": [
    {
     "name": "stdout",
     "output_type": "stream",
     "text": [
      "person$John Doe/m/id=jd/obs=A person\n",
      "person$Jane Doe/f/id=jane/obs=Another person\n"
     ]
    }
   ],
   "source": [
    "from timelink.api.models import Entity, Person\n",
    "\n",
    "p1 = Person(id='jd', name='John Doe',sex='m', obs=\"A person\")\n",
    "p2 = Person(id='jane', name='Jane Doe', sex='f', obs=\"Another person\")\n",
    "print(p1)\n",
    "print(p2)"
   ]
  },
  {
   "cell_type": "markdown",
   "metadata": {},
   "source": [
    "### Create a database session and add the python objects"
   ]
  },
  {
   "cell_type": "code",
   "execution_count": 4,
   "metadata": {},
   "outputs": [],
   "source": [
    "with db.session() as session:\n",
    "    session.add(p1)\n",
    "    session.add(p2)\n",
    "    session.commit()\n",
    "\n"
   ]
  },
  {
   "cell_type": "markdown",
   "metadata": {},
   "source": [
    "### Query with SQLAlchemy ORM query model\n",
    "\n",
    "Use the SQLAlchemy models to query the database.\n",
    "\n",
    "For a full tutorial see: https://docs.sqlalchemy.org/en/20/orm/queryguide/\n"
   ]
  },
  {
   "cell_type": "markdown",
   "metadata": {},
   "source": [
    "#### Search people using entity attributes (columns in the database)\n",
    "\n",
    "See https://docs.sqlalchemy.org/en/20/orm/quickstart.html#simple-select"
   ]
  },
  {
   "cell_type": "code",
   "execution_count": 5,
   "metadata": {},
   "outputs": [
    {
     "name": "stdout",
     "output_type": "stream",
     "text": [
      "[Person(id=Entity(id=\"jane\", pom_class=\"person\",inside=\"None\", the_order=None, the_level=None, the_line=None, groupname=\"None\", updated=2024-10-15 10:18:07.221009, indexed=None,), name=\"Jane Doe\", sex=\"f\", obs=Another person)]\n"
     ]
    }
   ],
   "source": [
    "\n",
    "with db.session() as session:\n",
    "    r = session.query(Person).where(Person.sex == 'f').all()\n",
    "    print(r)"
   ]
  },
  {
   "cell_type": "markdown",
   "metadata": {},
   "source": [
    "Co-pilot normally helps if you add a previous commnent"
   ]
  },
  {
   "cell_type": "code",
   "execution_count": 6,
   "metadata": {},
   "outputs": [],
   "source": [
    "# search for people with name starting with \"Jane\""
   ]
  },
  {
   "cell_type": "code",
   "execution_count": 7,
   "metadata": {},
   "outputs": [
    {
     "name": "stdout",
     "output_type": "stream",
     "text": [
      "[Person(id=Entity(id=\"jane\", pom_class=\"person\",inside=\"None\", the_order=None, the_level=None, the_line=None, groupname=\"None\", updated=2024-10-15 10:18:07.221009, indexed=None,), name=\"Jane Doe\", sex=\"f\", obs=Another person)]\n"
     ]
    }
   ],
   "source": [
    "with db.session() as session:\n",
    "    r = session.query(Person).where(Person.name.like('Jane%')).all()\n",
    "    print(r)"
   ]
  },
  {
   "cell_type": "markdown",
   "metadata": {},
   "source": [
    "Note that you can have the result in kleio format"
   ]
  },
  {
   "cell_type": "code",
   "execution_count": 8,
   "metadata": {},
   "outputs": [
    {
     "name": "stdout",
     "output_type": "stream",
     "text": [
      "person$Jane Doe/f/id=jane/obs=Another person\n"
     ]
    }
   ],
   "source": [
    "with db.session() as session:\n",
    "    r = session.query(Person).where(Person.name.like('Jane%')).all()\n",
    "    for p in r:\n",
    "        print(p.to_kleio())"
   ]
  },
  {
   "cell_type": "markdown",
   "metadata": {},
   "source": [
    "### Adding attribute and relations for people objects"
   ]
  },
  {
   "cell_type": "markdown",
   "metadata": {},
   "source": [
    "#### Create some attributes and relations "
   ]
  },
  {
   "cell_type": "code",
   "execution_count": 9,
   "metadata": {},
   "outputs": [],
   "source": [
    "from timelink.api.models import Attribute, Relation\n",
    "\n",
    "with db.session() as session:\n",
    "    a1 = Attribute(id='jd1', the_type='age', the_value=\"33\", the_date=\"2024-10-05\", obs=\"John's age\")\n",
    "    jd = session.get(Person, 'jd')\n",
    "    jd.add_attribute(a1)\n",
    "    a2 = Attribute(id='jd2', the_type='age', the_value=\"11\", the_date=\"2024-10-05\", obs=\"Jane's age\")\n",
    "    jane = session.get(Person, 'jane')\n",
    "    jane.add_attribute(a2)\n",
    "    r1 = Relation(id='jd_jane',\n",
    "                    the_type='kinship',\n",
    "                    the_value='father',\n",
    "                    the_date='2024-10-05',\n",
    "                    inside='jd',\n",
    "                    origin='jd',\n",
    "                    destination='jane',\n",
    "                    obs=\"John is the father of Jane\")\n",
    "    session.add(r1)\n",
    "    session.commit()\n"
   ]
  },
  {
   "cell_type": "markdown",
   "metadata": {},
   "source": [
    "We can know retrieve the attributes"
   ]
  },
  {
   "cell_type": "code",
   "execution_count": 10,
   "metadata": {},
   "outputs": [
    {
     "name": "stdout",
     "output_type": "stream",
     "text": [
      "[Attribute(id=Entity(id=\"jd1\", pom_class=\"attribute\",inside=\"jd\", the_order=None, the_level=None, the_line=None, groupname=\"None\", updated=2024-10-15 10:18:07.453431, indexed=None,), entity=\"jd\", the_type=\"age\", the_value=\"33\", the_date=\"2024-10-05\"\", obs=John's age)]\n",
      "[Relation(id=Entity(id=\"jd_jane\", pom_class=\"relation\",inside=\"jd\", the_order=None, the_level=None, the_line=None, groupname=\"None\", updated=2024-10-15 10:18:07.451651, indexed=None,), origin=\"jd\", destination=\"jane\", the_type=\"kinship\", the_value=\"father\", the_date=\"2024-10-05\"\", obs=John is the father of Jane)]\n",
      "[Attribute(id=Entity(id=\"jd2\", pom_class=\"attribute\",inside=\"jane\", the_order=None, the_level=None, the_line=None, groupname=\"None\", updated=2024-10-15 10:18:07.453434, indexed=None,), entity=\"jane\", the_type=\"age\", the_value=\"11\", the_date=\"2024-10-05\"\", obs=Jane's age)]\n",
      "[Relation(id=Entity(id=\"jd_jane\", pom_class=\"relation\",inside=\"jd\", the_order=None, the_level=None, the_line=None, groupname=\"None\", updated=2024-10-15 10:18:07.451651, indexed=None,), origin=\"jd\", destination=\"jane\", the_type=\"kinship\", the_value=\"father\", the_date=\"2024-10-05\"\", obs=John is the father of Jane)]\n"
     ]
    }
   ],
   "source": [
    "with db.session() as session:\n",
    "    jd = session.get(Person, 'jd')\n",
    "    print(jd.attributes)\n",
    "    print(jd.rels_out)\n",
    "    jane = session.get(Person, 'jane')\n",
    "    print(jane.attributes)\n",
    "    print(jane.rels_in)"
   ]
  },
  {
   "cell_type": "markdown",
   "metadata": {},
   "source": [
    "Relations:\n",
    "- `origin` and `destination` contain the ids of the related entities\n",
    "- `org` and `dest`  contain the ORM managed related entities"
   ]
  },
  {
   "cell_type": "code",
   "execution_count": 11,
   "metadata": {},
   "outputs": [
    {
     "name": "stdout",
     "output_type": "stream",
     "text": [
      "id = jane\n",
      "entity = "
     ]
    },
    {
     "ename": "AttributeError",
     "evalue": "'Relation' object has no attribute 'class'",
     "output_type": "error",
     "traceback": [
      "\u001b[0;31m---------------------------------------------------------------------------\u001b[0m",
      "\u001b[0;31mAttributeError\u001b[0m                            Traceback (most recent call last)",
      "Cell \u001b[0;32mIn[11], line 9\u001b[0m\n\u001b[1;32m      7\u001b[0m \u001b[38;5;28mprint\u001b[39m(\u001b[38;5;124m'\u001b[39m\u001b[38;5;124mid =\u001b[39m\u001b[38;5;124m'\u001b[39m, rel\u001b[38;5;241m.\u001b[39mdestination)\n\u001b[1;32m      8\u001b[0m \u001b[38;5;66;03m# get the destination entity (note that print will show the entity)\u001b[39;00m\n\u001b[0;32m----> 9\u001b[0m \u001b[38;5;28;43mprint\u001b[39;49m\u001b[43m(\u001b[49m\u001b[38;5;124;43m'\u001b[39;49m\u001b[38;5;124;43mentity =\u001b[39;49m\u001b[38;5;124;43m'\u001b[39;49m\u001b[43m,\u001b[49m\u001b[43mrel\u001b[49m\u001b[38;5;241;43m.\u001b[39;49m\u001b[43mdest\u001b[49m\u001b[43m)\u001b[49m\n",
      "File \u001b[0;32m~/develop/timelink-py/timelink/api/models/person.py:36\u001b[0m, in \u001b[0;36mPerson.__str__\u001b[0;34m(self)\u001b[0m\n\u001b[1;32m     35\u001b[0m \u001b[38;5;28;01mdef\u001b[39;00m \u001b[38;5;21m__str__\u001b[39m(\u001b[38;5;28mself\u001b[39m):\n\u001b[0;32m---> 36\u001b[0m     \u001b[38;5;28;01mreturn\u001b[39;00m \u001b[38;5;28;43mself\u001b[39;49m\u001b[38;5;241;43m.\u001b[39;49m\u001b[43mto_kleio\u001b[49m\u001b[43m(\u001b[49m\u001b[43m)\u001b[49m\n",
      "File \u001b[0;32m~/develop/timelink-py/timelink/api/models/person.py:49\u001b[0m, in \u001b[0;36mPerson.to_kleio\u001b[0;34m(self, self_string, ident, ident_inc, show_contained, width)\u001b[0m\n\u001b[1;32m     47\u001b[0m \u001b[38;5;28;01mif\u001b[39;00m \u001b[38;5;28mself\u001b[39m\u001b[38;5;241m.\u001b[39mobs \u001b[38;5;129;01mis\u001b[39;00m \u001b[38;5;129;01mnot\u001b[39;00m \u001b[38;5;28;01mNone\u001b[39;00m \u001b[38;5;129;01mand\u001b[39;00m \u001b[38;5;28mlen\u001b[39m(\u001b[38;5;28mself\u001b[39m\u001b[38;5;241m.\u001b[39mobs\u001b[38;5;241m.\u001b[39mstrip()) \u001b[38;5;241m>\u001b[39m \u001b[38;5;241m0\u001b[39m:\n\u001b[1;32m     48\u001b[0m     r \u001b[38;5;241m=\u001b[39m \u001b[38;5;124mf\u001b[39m\u001b[38;5;124m\"\u001b[39m\u001b[38;5;132;01m{\u001b[39;00mr\u001b[38;5;132;01m}\u001b[39;00m\u001b[38;5;124m/obs=\u001b[39m\u001b[38;5;132;01m{\u001b[39;00mquote_long_text(\u001b[38;5;28mself\u001b[39m\u001b[38;5;241m.\u001b[39mobs,width\u001b[38;5;241m=\u001b[39mwidth)\u001b[38;5;132;01m}\u001b[39;00m\u001b[38;5;124m\"\u001b[39m\n\u001b[0;32m---> 49\u001b[0m kleio \u001b[38;5;241m=\u001b[39m \u001b[38;5;28;43msuper\u001b[39;49m\u001b[43m(\u001b[49m\u001b[43m)\u001b[49m\u001b[38;5;241;43m.\u001b[39;49m\u001b[43mto_kleio\u001b[49m\u001b[43m(\u001b[49m\n\u001b[1;32m     50\u001b[0m \u001b[43m    \u001b[49m\u001b[43mself_string\u001b[49m\u001b[38;5;241;43m=\u001b[39;49m\u001b[43mr\u001b[49m\u001b[43m,\u001b[49m\n\u001b[1;32m     51\u001b[0m \u001b[43m    \u001b[49m\u001b[43mshow_contained\u001b[49m\u001b[38;5;241;43m=\u001b[39;49m\u001b[43mshow_contained\u001b[49m\u001b[43m,\u001b[49m\n\u001b[1;32m     52\u001b[0m \u001b[43m    \u001b[49m\u001b[43mident\u001b[49m\u001b[38;5;241;43m=\u001b[39;49m\u001b[43mident\u001b[49m\u001b[43m,\u001b[49m\n\u001b[1;32m     53\u001b[0m \u001b[43m    \u001b[49m\u001b[43mident_inc\u001b[49m\u001b[38;5;241;43m=\u001b[39;49m\u001b[43mident_inc\u001b[49m\u001b[43m,\u001b[49m\n\u001b[1;32m     54\u001b[0m \u001b[43m    \u001b[49m\u001b[43mwidth\u001b[49m\u001b[38;5;241;43m=\u001b[39;49m\u001b[43mwidth\u001b[49m\u001b[43m,\u001b[49m\n\u001b[1;32m     55\u001b[0m \u001b[43m\u001b[49m\u001b[43m)\u001b[49m\n\u001b[1;32m     56\u001b[0m \u001b[38;5;28;01mreturn\u001b[39;00m kleio\n",
      "File \u001b[0;32m~/develop/timelink-py/timelink/api/models/entity.py:361\u001b[0m, in \u001b[0;36mEntity.to_kleio\u001b[0;34m(self, self_string, show_contained, ident, ident_inc, **kwargs)\u001b[0m\n\u001b[1;32m    359\u001b[0m date_list \u001b[38;5;241m=\u001b[39m bio[date]\n\u001b[1;32m    360\u001b[0m \u001b[38;5;28;01mfor\u001b[39;00m bio_item \u001b[38;5;129;01min\u001b[39;00m date_list:\n\u001b[0;32m--> 361\u001b[0m     bio_item_xi \u001b[38;5;241m=\u001b[39m \u001b[43mbio_item\u001b[49m\u001b[38;5;241;43m.\u001b[39;49m\u001b[43mwith_extra_info\u001b[49m\u001b[43m(\u001b[49m\u001b[43m)\u001b[49m\n\u001b[1;32m    362\u001b[0m     \u001b[38;5;28;01mif\u001b[39;00m bio_item\u001b[38;5;241m.\u001b[39mpom_class \u001b[38;5;241m==\u001b[39m \u001b[38;5;124m\"\u001b[39m\u001b[38;5;124mrelation\u001b[39m\u001b[38;5;124m\"\u001b[39m:\n\u001b[1;32m    363\u001b[0m         \u001b[38;5;28;01mif\u001b[39;00m bio_item\u001b[38;5;241m.\u001b[39mdestination \u001b[38;5;241m==\u001b[39m \u001b[38;5;28mself\u001b[39m\u001b[38;5;241m.\u001b[39mid:\n",
      "File \u001b[0;32m~/develop/timelink-py/timelink/api/models/entity.py:254\u001b[0m, in \u001b[0;36mEntity.with_extra_info\u001b[0;34m(self)\u001b[0m\n\u001b[1;32m    251\u001b[0m obs, extra_info \u001b[38;5;241m=\u001b[39m \u001b[38;5;28mself\u001b[39m\u001b[38;5;241m.\u001b[39mget_extra_info()\n\u001b[1;32m    252\u001b[0m \u001b[38;5;28;01mfor\u001b[39;00m name, column \u001b[38;5;129;01min\u001b[39;00m field_to_column\u001b[38;5;241m.\u001b[39mitems():\n\u001b[1;32m    253\u001b[0m     nvalue \u001b[38;5;241m=\u001b[39m render_with_extra_info(\n\u001b[0;32m--> 254\u001b[0m         name, \u001b[38;5;28;43mgetattr\u001b[39;49m\u001b[43m(\u001b[49m\u001b[38;5;28;43mself\u001b[39;49m\u001b[43m,\u001b[49m\u001b[43m \u001b[49m\u001b[43mcolumn\u001b[49m\u001b[43m)\u001b[49m, extra_info\n\u001b[1;32m    255\u001b[0m     )\n\u001b[1;32m    256\u001b[0m     \u001b[38;5;28msetattr\u001b[39m(new_entity, name, nvalue)\n\u001b[1;32m    258\u001b[0m \u001b[38;5;28msetattr\u001b[39m(new_entity, \u001b[38;5;124m\"\u001b[39m\u001b[38;5;124mobs\u001b[39m\u001b[38;5;124m\"\u001b[39m, obs)\n",
      "\u001b[0;31mAttributeError\u001b[0m: 'Relation' object has no attribute 'class'"
     ]
    }
   ],
   "source": [
    "with db.session() as session:\n",
    "    # get John Doe, the father\n",
    "    jd = session.get(Person, 'jd')\n",
    "    # get the first relation\n",
    "    rel = jd.rels_out[0]\n",
    "    # get the destination entity id\n",
    "    print('id =', rel.destination)\n",
    "    # get the destination entity (note that print will show the entity)\n",
    "    print('entity =',rel.dest)"
   ]
  },
  {
   "cell_type": "markdown",
   "metadata": {},
   "source": [
    "Same from the other side (daughter)"
   ]
  },
  {
   "cell_type": "code",
   "execution_count": 12,
   "metadata": {},
   "outputs": [
    {
     "name": "stdout",
     "output_type": "stream",
     "text": [
      "id = jd\n",
      "entity =\n",
      " person$John Doe/m/id=jd/obs=A person\n",
      "rel$kinship/father/Jane Doe/2024-10-05/obs=John is the father of Jane\n",
      "  attribute$age/33/2024-10-05/obs=John's age\n"
     ]
    }
   ],
   "source": [
    "with db.session() as session:\n",
    "    jane = session.get(Person, 'jane')\n",
    "    rel = jane.rels_in[0]\n",
    "    print('id =', rel.origin)\n",
    "    print('entity =\\n', rel.org)\n"
   ]
  },
  {
   "cell_type": "markdown",
   "metadata": {},
   "source": [
    "And the kleio representation will show the attributes and the relations"
   ]
  },
  {
   "cell_type": "code",
   "execution_count": null,
   "metadata": {},
   "outputs": [
    {
     "name": "stdout",
     "output_type": "stream",
     "text": [
      "person$John Doe/m/id=jd/obs=A person\n",
      "  rel$kinship/father/Jane Doe/2024-10-05/jane/2024-10-05/obs=John is the father of Jane\n",
      "  attribute$age/33/2024-10-05/obs=John's age\n"
     ]
    },
    {
     "name": "stdout",
     "output_type": "stream",
     "text": [
      "person$Jane Doe/f/id=jane/obs=Another person\n",
      "  rel$kinship/father/Jane Doe/2024-10-05/jane/2024-10-05/obs=John is the father of Jane\n",
      "  attribute$age/11/2024-10-05/obs=Jane's age\n"
     ]
    }
   ],
   "source": [
    "with db.session() as session:\n",
    "    jd = session.get(Person, 'jd')\n",
    "    print(jd.to_kleio())\n",
    "    jane = session.get(Person, 'jane')\n",
    "    print(jane.to_kleio())"
   ]
  },
  {
   "cell_type": "markdown",
   "metadata": {},
   "source": [
    "The attributes are also in their own table"
   ]
  },
  {
   "cell_type": "code",
   "execution_count": 16,
   "metadata": {},
   "outputs": [
    {
     "name": "stdout",
     "output_type": "stream",
     "text": [
      "('age', '33', '2024-10-05')\n",
      "('age', '11', '2024-10-05')\n"
     ]
    }
   ],
   "source": [
    "from sqlalchemy.sql import text\n",
    "\n",
    "# print(db.table_names())\n",
    "# print(db.describe('attributes'))\n",
    "with db.session() as session:\n",
    "    sql = text(\"SELECT the_type, the_value, the_date \"\n",
    "                \"FROM attributes\")\n",
    "    result = session.execute(sql)\n",
    "    for row in result:\n",
    "        print(row)"
   ]
  },
  {
   "cell_type": "markdown",
   "metadata": {},
   "source": [
    "## Searching the inherintace hierarchy\n",
    "\n",
    "https://docs.sqlalchemy.org/en/20/orm/queryguide/inheritance.html"
   ]
  },
  {
   "cell_type": "markdown",
   "metadata": {},
   "source": [
    "### Search for people with certain attributes\n",
    "\n",
    "see: https://docs.sqlalchemy.org/en/20/orm/quickstart.html#select-with-join"
   ]
  },
  {
   "cell_type": "code",
   "execution_count": 40,
   "metadata": {},
   "outputs": [
    {
     "name": "stdout",
     "output_type": "stream",
     "text": [
      "person$John Doe/m/id=jd/obs=A person\n",
      "  attribute$age/35/2024-10-05/obs=John's age\n",
      "person$Jane Doe/f/id=jane/obs=Another person\n",
      "  attribute$age/11/2024-10-05/obs=Jane's age\n"
     ]
    }
   ],
   "source": [
    "from sqlalchemy.sql import select\n",
    "from sqlalchemy.orm import aliased\n",
    "from timelink.api.models import Attribute, Person\n",
    "\n",
    "# when joining tables, we need to use aliases\n",
    "# we use db.get_model to get an aliased model\n",
    "# see  https://docs.sqlalchemy.org/en/20/errors.html#error-xaj2\n",
    "\n",
    "PersonAliased = aliased(Person)  # or db.get_model('Person')\n",
    "\n",
    "with db.session() as session:\n",
    "    stmt = (  # note the parentheses\n",
    "        select(PersonAliased)\n",
    "        .join(PersonAliased.attributes)\n",
    "        .where(Attribute.the_type == \"age\")\n",
    "    )\n",
    "    people = session.scalars(stmt).all()\n",
    "    for person in people:\n",
    "        print(person)\n",
    "\n"
   ]
  },
  {
   "cell_type": "code",
   "execution_count": 42,
   "metadata": {},
   "outputs": [
    {
     "name": "stdout",
     "output_type": "stream",
     "text": [
      "Under thirty:\n",
      "person$Jane Doe/f/id=jane/obs=Another person\n",
      "  attribute$age/11/2024-10-05/obs=Jane's age\n"
     ]
    }
   ],
   "source": [
    "PersonAliased = db.get_model('person')  # or aliased(Person)\n",
    "\n",
    "with db.session() as session:\n",
    "    stmt = (  # note the parentheses\n",
    "        select(PersonAliased)\n",
    "        .join(PersonAliased.attributes)\n",
    "        .where(Attribute.the_type == 'age')\n",
    "        .where(Attribute.the_value < \"30\")\n",
    "    )\n",
    "    under_thirty = session.execute(stmt).scalars().all()\n",
    "    print(\"Under thirty:\")\n",
    "    for p in under_thirty:\n",
    "        print(p)"
   ]
  },
  {
   "cell_type": "markdown",
   "metadata": {},
   "source": [
    "## Inspecting the database\n"
   ]
  },
  {
   "cell_type": "markdown",
   "metadata": {},
   "source": [
    "### Get the known ORM models\n",
    "\n",
    "Note that importing kleio files can add to the available ORM models."
   ]
  },
  {
   "cell_type": "code",
   "execution_count": 43,
   "metadata": {},
   "outputs": [
    {
     "data": {
      "text/plain": [
       "['attribute',\n",
       " 'relation',\n",
       " 'act',\n",
       " 'source',\n",
       " 'aregister',\n",
       " 'person',\n",
       " 'object',\n",
       " 'geoentity',\n",
       " 'rentity',\n",
       " 'class',\n",
       " 'entity']"
      ]
     },
     "execution_count": 43,
     "metadata": {},
     "output_type": "execute_result"
    }
   ],
   "source": [
    "db.get_models_ids()"
   ]
  },
  {
   "cell_type": "markdown",
   "metadata": {},
   "source": [
    "### Get the columns of a model"
   ]
  },
  {
   "cell_type": "code",
   "execution_count": 44,
   "metadata": {},
   "outputs": [
    {
     "name": "stdout",
     "output_type": "stream",
     "text": [
      "entities id VARCHAR set()\n",
      "entities class VARCHAR set()\n",
      "entities inside VARCHAR {ForeignKey('entities.id')}\n",
      "entities the_order INTEGER set()\n",
      "entities the_level INTEGER set()\n",
      "entities the_line INTEGER set()\n",
      "entities groupname VARCHAR set()\n",
      "entities updated DATETIME set()\n",
      "entities indexed DATETIME set()\n",
      "attributes id VARCHAR {ForeignKey('entities.id')}\n",
      "attributes entity VARCHAR {ForeignKey('entities.id')}\n",
      "attributes the_type VARCHAR set()\n",
      "attributes the_value VARCHAR set()\n",
      "attributes the_date VARCHAR set()\n",
      "attributes obs VARCHAR set()\n"
     ]
    }
   ],
   "source": [
    "cols = db.get_columns('attribute')\n",
    "for col in cols:\n",
    "    print(col.table, col.name, col.type, col.foreign_keys)"
   ]
  },
  {
   "cell_type": "markdown",
   "metadata": {},
   "source": [
    "Also with the model class"
   ]
  },
  {
   "cell_type": "code",
   "execution_count": 45,
   "metadata": {},
   "outputs": [
    {
     "name": "stdout",
     "output_type": "stream",
     "text": [
      "entities id VARCHAR \n",
      "entities class VARCHAR \n",
      "entities inside VARCHAR {ForeignKey('entities.id')}\n",
      "entities the_order INTEGER \n",
      "entities the_level INTEGER \n",
      "entities the_line INTEGER \n",
      "entities groupname VARCHAR \n",
      "entities updated DATETIME \n",
      "entities indexed DATETIME \n",
      "relations id VARCHAR {ForeignKey('entities.id')}\n",
      "relations origin VARCHAR {ForeignKey('entities.id')}\n",
      "relations destination VARCHAR {ForeignKey('entities.id')}\n",
      "relations the_type VARCHAR \n",
      "relations the_value VARCHAR \n",
      "relations the_date VARCHAR \n",
      "relations obs VARCHAR \n"
     ]
    }
   ],
   "source": [
    "from timelink.api.models import Entity, Person, Attribute, Relation\n",
    "\n",
    "db.describe(Relation)"
   ]
  },
  {
   "cell_type": "markdown",
   "metadata": {},
   "source": [
    "### Getting the tables\n",
    "\n",
    "By using tables in queries the inheritance system is by passed\n",
    "and only the columns specific to a table are used."
   ]
  },
  {
   "cell_type": "code",
   "execution_count": 46,
   "metadata": {},
   "outputs": [
    {
     "data": {
      "text/plain": [
       "['acts',\n",
       " 'aregisters',\n",
       " 'attributes',\n",
       " 'class_attributes',\n",
       " 'classes',\n",
       " 'entities',\n",
       " 'geoentities',\n",
       " 'kleiofiles',\n",
       " 'links',\n",
       " 'objects',\n",
       " 'persons',\n",
       " 'relations',\n",
       " 'rentities',\n",
       " 'sources',\n",
       " 'syslog',\n",
       " 'syspar']"
      ]
     },
     "execution_count": 46,
     "metadata": {},
     "output_type": "execute_result"
    }
   ],
   "source": [
    "db.table_names()"
   ]
  },
  {
   "cell_type": "markdown",
   "metadata": {},
   "source": [
    "### Check columns of a table"
   ]
  },
  {
   "cell_type": "code",
   "execution_count": 47,
   "metadata": {},
   "outputs": [
    {
     "name": "stdout",
     "output_type": "stream",
     "text": [
      "attributes id VARCHAR {ForeignKey('entities.id')}\n",
      "attributes entity VARCHAR {ForeignKey('entities.id')}\n",
      "attributes the_type VARCHAR \n",
      "attributes the_value VARCHAR \n",
      "attributes the_date VARCHAR \n",
      "attributes obs VARCHAR \n"
     ]
    }
   ],
   "source": [
    "db.describe('attributes')"
   ]
  },
  {
   "cell_type": "markdown",
   "metadata": {},
   "source": [
    "## Queries in SQL, use ORM to fetch full entities\n",
    "\n",
    "Using tables and columns directly more efficient queries\n",
    "can be done. Use ids from results to fetch the full entity."
   ]
  },
  {
   "cell_type": "code",
   "execution_count": 12,
   "metadata": {},
   "outputs": [
    {
     "ename": "AttributeError",
     "evalue": "'Relation' object has no attribute 'class'",
     "output_type": "error",
     "traceback": [
      "\u001b[0;31m---------------------------------------------------------------------------\u001b[0m",
      "\u001b[0;31mAttributeError\u001b[0m                            Traceback (most recent call last)",
      "Cell \u001b[0;32mIn[12], line 14\u001b[0m\n\u001b[1;32m     12\u001b[0m person \u001b[38;5;241m=\u001b[39m session\u001b[38;5;241m.\u001b[39mget(Entity, \u001b[38;5;28mid\u001b[39m)\n\u001b[1;32m     13\u001b[0m \u001b[38;5;66;03m# note that the correct type of entity is returned\u001b[39;00m\n\u001b[0;32m---> 14\u001b[0m \u001b[38;5;28mprint\u001b[39m(\u001b[43mperson\u001b[49m\u001b[38;5;241;43m.\u001b[39;49m\u001b[43mto_kleio\u001b[49m\u001b[43m(\u001b[49m\u001b[43m)\u001b[49m)\n",
      "File \u001b[0;32m~/develop/timelink-py/timelink/api/models/person.py:49\u001b[0m, in \u001b[0;36mPerson.to_kleio\u001b[0;34m(self, self_string, ident, ident_inc, show_contained, width)\u001b[0m\n\u001b[1;32m     47\u001b[0m \u001b[38;5;28;01mif\u001b[39;00m \u001b[38;5;28mself\u001b[39m\u001b[38;5;241m.\u001b[39mobs \u001b[38;5;129;01mis\u001b[39;00m \u001b[38;5;129;01mnot\u001b[39;00m \u001b[38;5;28;01mNone\u001b[39;00m \u001b[38;5;129;01mand\u001b[39;00m \u001b[38;5;28mlen\u001b[39m(\u001b[38;5;28mself\u001b[39m\u001b[38;5;241m.\u001b[39mobs\u001b[38;5;241m.\u001b[39mstrip()) \u001b[38;5;241m>\u001b[39m \u001b[38;5;241m0\u001b[39m:\n\u001b[1;32m     48\u001b[0m     r \u001b[38;5;241m=\u001b[39m \u001b[38;5;124mf\u001b[39m\u001b[38;5;124m\"\u001b[39m\u001b[38;5;132;01m{\u001b[39;00mr\u001b[38;5;132;01m}\u001b[39;00m\u001b[38;5;124m/obs=\u001b[39m\u001b[38;5;132;01m{\u001b[39;00mquote_long_text(\u001b[38;5;28mself\u001b[39m\u001b[38;5;241m.\u001b[39mobs,width\u001b[38;5;241m=\u001b[39mwidth)\u001b[38;5;132;01m}\u001b[39;00m\u001b[38;5;124m\"\u001b[39m\n\u001b[0;32m---> 49\u001b[0m kleio \u001b[38;5;241m=\u001b[39m \u001b[38;5;28;43msuper\u001b[39;49m\u001b[43m(\u001b[49m\u001b[43m)\u001b[49m\u001b[38;5;241;43m.\u001b[39;49m\u001b[43mto_kleio\u001b[49m\u001b[43m(\u001b[49m\n\u001b[1;32m     50\u001b[0m \u001b[43m    \u001b[49m\u001b[43mself_string\u001b[49m\u001b[38;5;241;43m=\u001b[39;49m\u001b[43mr\u001b[49m\u001b[43m,\u001b[49m\n\u001b[1;32m     51\u001b[0m \u001b[43m    \u001b[49m\u001b[43mshow_contained\u001b[49m\u001b[38;5;241;43m=\u001b[39;49m\u001b[43mshow_contained\u001b[49m\u001b[43m,\u001b[49m\n\u001b[1;32m     52\u001b[0m \u001b[43m    \u001b[49m\u001b[43mident\u001b[49m\u001b[38;5;241;43m=\u001b[39;49m\u001b[43mident\u001b[49m\u001b[43m,\u001b[49m\n\u001b[1;32m     53\u001b[0m \u001b[43m    \u001b[49m\u001b[43mident_inc\u001b[49m\u001b[38;5;241;43m=\u001b[39;49m\u001b[43mident_inc\u001b[49m\u001b[43m,\u001b[49m\n\u001b[1;32m     54\u001b[0m \u001b[43m    \u001b[49m\u001b[43mwidth\u001b[49m\u001b[38;5;241;43m=\u001b[39;49m\u001b[43mwidth\u001b[49m\u001b[43m,\u001b[49m\n\u001b[1;32m     55\u001b[0m \u001b[43m\u001b[49m\u001b[43m)\u001b[49m\n\u001b[1;32m     56\u001b[0m \u001b[38;5;28;01mreturn\u001b[39;00m kleio\n",
      "File \u001b[0;32m~/develop/timelink-py/timelink/api/models/entity.py:361\u001b[0m, in \u001b[0;36mEntity.to_kleio\u001b[0;34m(self, self_string, show_contained, ident, ident_inc, **kwargs)\u001b[0m\n\u001b[1;32m    359\u001b[0m date_list \u001b[38;5;241m=\u001b[39m bio[date]\n\u001b[1;32m    360\u001b[0m \u001b[38;5;28;01mfor\u001b[39;00m bio_item \u001b[38;5;129;01min\u001b[39;00m date_list:\n\u001b[0;32m--> 361\u001b[0m     bio_item_xi \u001b[38;5;241m=\u001b[39m \u001b[43mbio_item\u001b[49m\u001b[38;5;241;43m.\u001b[39;49m\u001b[43mwith_extra_info\u001b[49m\u001b[43m(\u001b[49m\u001b[43m)\u001b[49m\n\u001b[1;32m    362\u001b[0m     \u001b[38;5;28;01mif\u001b[39;00m bio_item\u001b[38;5;241m.\u001b[39mpom_class \u001b[38;5;241m==\u001b[39m \u001b[38;5;124m\"\u001b[39m\u001b[38;5;124mrelation\u001b[39m\u001b[38;5;124m\"\u001b[39m:\n\u001b[1;32m    363\u001b[0m         \u001b[38;5;28;01mif\u001b[39;00m bio_item\u001b[38;5;241m.\u001b[39mdestination \u001b[38;5;241m==\u001b[39m \u001b[38;5;28mself\u001b[39m\u001b[38;5;241m.\u001b[39mid:\n",
      "File \u001b[0;32m~/develop/timelink-py/timelink/api/models/entity.py:254\u001b[0m, in \u001b[0;36mEntity.with_extra_info\u001b[0;34m(self)\u001b[0m\n\u001b[1;32m    251\u001b[0m obs, extra_info \u001b[38;5;241m=\u001b[39m \u001b[38;5;28mself\u001b[39m\u001b[38;5;241m.\u001b[39mget_extra_info()\n\u001b[1;32m    252\u001b[0m \u001b[38;5;28;01mfor\u001b[39;00m name, column \u001b[38;5;129;01min\u001b[39;00m field_to_column\u001b[38;5;241m.\u001b[39mitems():\n\u001b[1;32m    253\u001b[0m     nvalue \u001b[38;5;241m=\u001b[39m render_with_extra_info(\n\u001b[0;32m--> 254\u001b[0m         name, \u001b[38;5;28;43mgetattr\u001b[39;49m\u001b[43m(\u001b[49m\u001b[38;5;28;43mself\u001b[39;49m\u001b[43m,\u001b[49m\u001b[43m \u001b[49m\u001b[43mcolumn\u001b[49m\u001b[43m)\u001b[49m, extra_info\n\u001b[1;32m    255\u001b[0m     )\n\u001b[1;32m    256\u001b[0m     \u001b[38;5;28msetattr\u001b[39m(new_entity, name, nvalue)\n\u001b[1;32m    258\u001b[0m \u001b[38;5;28msetattr\u001b[39m(new_entity, \u001b[38;5;124m\"\u001b[39m\u001b[38;5;124mobs\u001b[39m\u001b[38;5;124m\"\u001b[39m, obs)\n",
      "\u001b[0;31mAttributeError\u001b[0m: 'Relation' object has no attribute 'class'"
     ]
    }
   ],
   "source": [
    "from sqlalchemy import select, text\n",
    "from timelink.api.models import Entity\n",
    "sql = text(\"SELECT p.id \"\n",
    "           \"FROM persons p, attributes a \"\n",
    "           \"WHERE p.id = a.entity \"\n",
    "           \"AND a.the_type = 'age' \"\n",
    "           \"AND the_value < '30'\")\n",
    "\n",
    "with db.session() as session:\n",
    "    result = session.execute(sql).scalars().all()\n",
    "    for id in result:\n",
    "        person = session.get(Entity, id)\n",
    "        # note that the correct type of entity is returned\n",
    "        print(person.to_kleio())\n",
    "\n"
   ]
  },
  {
   "cell_type": "markdown",
   "metadata": {},
   "source": [
    "## Changing data"
   ]
  },
  {
   "cell_type": "markdown",
   "metadata": {},
   "source": [
    "#### Changing the value of an attribute"
   ]
  },
  {
   "cell_type": "code",
   "execution_count": 55,
   "metadata": {},
   "outputs": [
    {
     "name": "stdout",
     "output_type": "stream",
     "text": [
      "person$John Doe/m/id=jd/obs=A person\n",
      "  attribute$age/45/2024-10-05/obs=John's age\n",
      "before: attribute$age/45/2024-10-05/obs=John's age\n",
      "after: attribute$age/50/2024-10-05/obs=John's age\n",
      "New version of entity\n",
      "person$John Doe/m/id=jd/obs=A person\n",
      "  attribute$age/50/2024-10-05/obs=John's age\n"
     ]
    }
   ],
   "source": [
    "from timelink.api.models import Person\n",
    "\n",
    "with db.session() as session:\n",
    "    p1 = session.get(Person, 'jd')\n",
    "    print(p1)\n",
    "    # get the age attribute\n",
    "    a1 = [atr for atr in p1.attributes if atr.the_type == 'age'][0]\n",
    "    print(\"before:\", a1)\n",
    "\n",
    "    a1.the_value = str(int(a1.the_value) + 5)  #\n",
    "\n",
    "    print(\"after:\", a1)\n",
    "    session.commit()\n",
    "    print(\"New version of entity\")\n",
    "    print(p1.to_kleio())"
   ]
  },
  {
   "cell_type": "markdown",
   "metadata": {},
   "source": [
    "Confirm persistence of changes data"
   ]
  },
  {
   "cell_type": "code",
   "execution_count": 57,
   "metadata": {},
   "outputs": [
    {
     "name": "stdout",
     "output_type": "stream",
     "text": [
      "after: attribute$age/50/2024-10-05/obs=John's age\n",
      "person$John Doe/m/id=jd/obs=A person\n",
      "  attribute$age/50/2024-10-05/obs=John's age\n"
     ]
    }
   ],
   "source": [
    "with db.session() as session:\n",
    "    p1 = session.get(Person, 'jd')\n",
    "    # get the age attribute\n",
    "    a1 = [atr for atr in p1.attributes if atr.the_type == 'age'][0]\n",
    "    print(\"after:\", a1)\n",
    "    print(p1)"
   ]
  },
  {
   "cell_type": "markdown",
   "metadata": {},
   "source": [
    "## Deleting data"
   ]
  }
 ],
 "metadata": {
  "kernelspec": {
   "display_name": ".venv",
   "language": "python",
   "name": "python3"
  },
  "language_info": {
   "codemirror_mode": {
    "name": "ipython",
    "version": 3
   },
   "file_extension": ".py",
   "mimetype": "text/x-python",
   "name": "python",
   "nbconvert_exporter": "python",
   "pygments_lexer": "ipython3",
   "version": "3.10.4"
  }
 },
 "nbformat": 4,
 "nbformat_minor": 2
}
