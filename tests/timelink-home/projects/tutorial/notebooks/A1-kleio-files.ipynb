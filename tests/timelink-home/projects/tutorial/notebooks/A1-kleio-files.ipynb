{
 "cells": [
  {
   "attachments": {},
   "cell_type": "markdown",
   "metadata": {},
   "source": [
    "# Managing Kleio files"
   ]
  },
  {
   "cell_type": "markdown",
   "metadata": {},
   "source": [
    "> First time use: follow instructions in the [README.md](README.md) file in this directory."
   ]
  },
  {
   "cell_type": "markdown",
   "metadata": {},
   "source": [
    "## Initial setup\n",
    "\n",
    "Create a TimelinkNotebook object. This will be the interface for most of your interactions with Timelink.\n",
    "\n",
    "The first time you run this notebook, you will be prompted to install ìpykernel. This is required to run Timelink in a notebook.\n",
    "\n",
    "Note:\n",
    "* First time run takes a little time as the required Docker images are downloaded.\n",
    "* Timelink will default to using sqlite as the database, see [Receipts notebook for more control](1-receipts.ipynb)\n"
   ]
  },
  {
   "cell_type": "code",
   "execution_count": 2,
   "metadata": {
    "ExecuteTime": {
     "end_time": "2024-01-28T11:49:18.183923Z",
     "start_time": "2024-01-28T11:49:17.066125Z"
    }
   },
   "outputs": [
    {
     "name": "stderr",
     "output_type": "stream",
     "text": [
      "INFO  [alembic.runtime.migration] Context impl SQLiteImpl.\n",
      "INFO  [alembic.runtime.migration] Will assume non-transactional DDL.\n"
     ]
    },
    {
     "name": "stdout",
     "output_type": "stream",
     "text": [
      "Timelink version: 1.1.15\n",
      "Project name: tutorial\n",
      "Project home: /Users/jrc/develop/timelink-py/tests/timelink-home/projects/tutorial\n",
      "Database type: sqlite\n",
      "Database name: tutorial\n",
      "Kleio image: timelinkserver/kleio-server\n",
      "Kleio server token: tQxiv...\n",
      "Kleio server URL: http://127.0.0.1:8090\n",
      "Kleio server home: /Users/jrc/develop/timelink-py/tests/timelink-home/projects/tutorial\n",
      "Kleio server container: fervent_clarke\n",
      "Kleio version requested: latest\n",
      "Kleio server version: 12.6.577 (2024-10-24 16:53:53)\n",
      "SQLite directory: /Users/jrc/develop/timelink-py/tests/timelink-home/projects/tutorial/database/sqlite\n",
      "Call print_info(show_token=True) to show the Kleio Server token\n",
      "Call print_info(show_password=True) to show the Postgres password\n",
      "TimelinkNotebook(project_name=tutorial, project_home=/Users/jrc/develop/timelink-py/tests/timelink-home/projects/tutorial, db_type=sqlite, db_name=tutorial, kleio_image=timelinkserver/kleio-server, kleio_version=latest, postgres_image=postgres, postgres_version=latest)\n"
     ]
    }
   ],
   "source": [
    "from timelink.notebooks import TimelinkNotebook\n",
    "\n",
    "tlnb = TimelinkNotebook()\n",
    "tlnb.print_info()\n"
   ]
  },
  {
   "cell_type": "markdown",
   "metadata": {},
   "source": [
    "TimelinkNotebook created a database to store data and a Kleio server to \n",
    "translate transcriptions in Kleio notation into data that can be imported\n",
    "into a database.\n",
    "\n",
    "To get information about the database and the Kleio server do ```tnlb.print_info()```"
   ]
  },
  {
   "cell_type": "markdown",
   "metadata": {},
   "source": [
    "### Database status\n",
    "\n",
    "Count the number of rows in each table in the database.\n"
   ]
  },
  {
   "cell_type": "code",
   "execution_count": 3,
   "metadata": {},
   "outputs": [
    {
     "data": {
      "text/html": [
       "<div>\n",
       "<style scoped>\n",
       "    .dataframe tbody tr th:only-of-type {\n",
       "        vertical-align: middle;\n",
       "    }\n",
       "\n",
       "    .dataframe tbody tr th {\n",
       "        vertical-align: top;\n",
       "    }\n",
       "\n",
       "    .dataframe thead th {\n",
       "        text-align: right;\n",
       "    }\n",
       "</style>\n",
       "<table border=\"1\" class=\"dataframe\">\n",
       "  <thead>\n",
       "    <tr style=\"text-align: right;\">\n",
       "      <th></th>\n",
       "      <th>table</th>\n",
       "      <th>count</th>\n",
       "    </tr>\n",
       "  </thead>\n",
       "  <tbody>\n",
       "    <tr>\n",
       "      <th>0</th>\n",
       "      <td>acts</td>\n",
       "      <td>0</td>\n",
       "    </tr>\n",
       "    <tr>\n",
       "      <th>1</th>\n",
       "      <td>alembic_version</td>\n",
       "      <td>1</td>\n",
       "    </tr>\n",
       "    <tr>\n",
       "      <th>2</th>\n",
       "      <td>aregisters</td>\n",
       "      <td>0</td>\n",
       "    </tr>\n",
       "    <tr>\n",
       "      <th>3</th>\n",
       "      <td>attributes</td>\n",
       "      <td>0</td>\n",
       "    </tr>\n",
       "    <tr>\n",
       "      <th>4</th>\n",
       "      <td>blinks</td>\n",
       "      <td>0</td>\n",
       "    </tr>\n",
       "    <tr>\n",
       "      <th>5</th>\n",
       "      <td>class_attributes</td>\n",
       "      <td>63</td>\n",
       "    </tr>\n",
       "    <tr>\n",
       "      <th>6</th>\n",
       "      <td>classes</td>\n",
       "      <td>13</td>\n",
       "    </tr>\n",
       "    <tr>\n",
       "      <th>7</th>\n",
       "      <td>entities</td>\n",
       "      <td>13</td>\n",
       "    </tr>\n",
       "    <tr>\n",
       "      <th>8</th>\n",
       "      <td>geoentities</td>\n",
       "      <td>0</td>\n",
       "    </tr>\n",
       "    <tr>\n",
       "      <th>9</th>\n",
       "      <td>goods</td>\n",
       "      <td>0</td>\n",
       "    </tr>\n",
       "    <tr>\n",
       "      <th>10</th>\n",
       "      <td>kleiofiles</td>\n",
       "      <td>0</td>\n",
       "    </tr>\n",
       "    <tr>\n",
       "      <th>11</th>\n",
       "      <td>links</td>\n",
       "      <td>0</td>\n",
       "    </tr>\n",
       "    <tr>\n",
       "      <th>12</th>\n",
       "      <td>objects</td>\n",
       "      <td>0</td>\n",
       "    </tr>\n",
       "    <tr>\n",
       "      <th>13</th>\n",
       "      <td>persons</td>\n",
       "      <td>0</td>\n",
       "    </tr>\n",
       "    <tr>\n",
       "      <th>14</th>\n",
       "      <td>relations</td>\n",
       "      <td>0</td>\n",
       "    </tr>\n",
       "    <tr>\n",
       "      <th>15</th>\n",
       "      <td>rentities</td>\n",
       "      <td>0</td>\n",
       "    </tr>\n",
       "    <tr>\n",
       "      <th>16</th>\n",
       "      <td>rgeoentities</td>\n",
       "      <td>0</td>\n",
       "    </tr>\n",
       "    <tr>\n",
       "      <th>17</th>\n",
       "      <td>robjects</td>\n",
       "      <td>0</td>\n",
       "    </tr>\n",
       "    <tr>\n",
       "      <th>18</th>\n",
       "      <td>rpersons</td>\n",
       "      <td>0</td>\n",
       "    </tr>\n",
       "    <tr>\n",
       "      <th>19</th>\n",
       "      <td>sources</td>\n",
       "      <td>0</td>\n",
       "    </tr>\n",
       "    <tr>\n",
       "      <th>20</th>\n",
       "      <td>syslog</td>\n",
       "      <td>0</td>\n",
       "    </tr>\n",
       "    <tr>\n",
       "      <th>21</th>\n",
       "      <td>syspar</td>\n",
       "      <td>0</td>\n",
       "    </tr>\n",
       "  </tbody>\n",
       "</table>\n",
       "</div>"
      ],
      "text/plain": [
       "               table  count\n",
       "0               acts      0\n",
       "1    alembic_version      1\n",
       "2         aregisters      0\n",
       "3         attributes      0\n",
       "4             blinks      0\n",
       "5   class_attributes     63\n",
       "6            classes     13\n",
       "7           entities     13\n",
       "8        geoentities      0\n",
       "9              goods      0\n",
       "10        kleiofiles      0\n",
       "11             links      0\n",
       "12           objects      0\n",
       "13           persons      0\n",
       "14         relations      0\n",
       "15         rentities      0\n",
       "16      rgeoentities      0\n",
       "17          robjects      0\n",
       "18          rpersons      0\n",
       "19           sources      0\n",
       "20            syslog      0\n",
       "21            syspar      0"
      ]
     },
     "execution_count": 3,
     "metadata": {},
     "output_type": "execute_result"
    }
   ],
   "source": [
    "tlnb.table_row_count_df()"
   ]
  },
  {
   "cell_type": "markdown",
   "metadata": {},
   "source": [
    "### Show the kleio files available "
   ]
  },
  {
   "cell_type": "code",
   "execution_count": 4,
   "metadata": {},
   "outputs": [
    {
     "data": {
      "text/html": [
       "<div>\n",
       "<style scoped>\n",
       "    .dataframe tbody tr th:only-of-type {\n",
       "        vertical-align: middle;\n",
       "    }\n",
       "\n",
       "    .dataframe tbody tr th {\n",
       "        vertical-align: top;\n",
       "    }\n",
       "\n",
       "    .dataframe thead th {\n",
       "        text-align: right;\n",
       "    }\n",
       "</style>\n",
       "<table border=\"1\" class=\"dataframe\">\n",
       "  <thead>\n",
       "    <tr style=\"text-align: right;\">\n",
       "      <th></th>\n",
       "      <th>path</th>\n",
       "      <th>name</th>\n",
       "      <th>modified</th>\n",
       "      <th>status</th>\n",
       "      <th>translated</th>\n",
       "      <th>errors</th>\n",
       "      <th>warnings</th>\n",
       "      <th>import_status</th>\n",
       "      <th>import_errors</th>\n",
       "      <th>import_warnings</th>\n",
       "      <th>import_error_rpt</th>\n",
       "      <th>import_warning_rpt</th>\n",
       "      <th>imported</th>\n",
       "      <th>rpt_url</th>\n",
       "      <th>xml_url</th>\n",
       "    </tr>\n",
       "  </thead>\n",
       "  <tbody>\n",
       "    <tr>\n",
       "      <th>0</th>\n",
       "      <td>kleio/b1685.cli</td>\n",
       "      <td>b1685.cli</td>\n",
       "      <td>2024-12-06 03:39:36.260666+00:00</td>\n",
       "      <td>T</td>\n",
       "      <td>NaT</td>\n",
       "      <td>NaN</td>\n",
       "      <td>NaN</td>\n",
       "      <td>N</td>\n",
       "      <td>0</td>\n",
       "      <td>0</td>\n",
       "      <td>None</td>\n",
       "      <td>None</td>\n",
       "      <td>None</td>\n",
       "      <td>None</td>\n",
       "      <td>None</td>\n",
       "    </tr>\n",
       "    <tr>\n",
       "      <th>1</th>\n",
       "      <td>kleio/dehergne-a.cli</td>\n",
       "      <td>dehergne-a.cli</td>\n",
       "      <td>2024-12-06 03:39:36.262922+00:00</td>\n",
       "      <td>T</td>\n",
       "      <td>NaT</td>\n",
       "      <td>NaN</td>\n",
       "      <td>NaN</td>\n",
       "      <td>N</td>\n",
       "      <td>0</td>\n",
       "      <td>0</td>\n",
       "      <td>None</td>\n",
       "      <td>None</td>\n",
       "      <td>None</td>\n",
       "      <td>None</td>\n",
       "      <td>None</td>\n",
       "    </tr>\n",
       "    <tr>\n",
       "      <th>2</th>\n",
       "      <td>kleio/dehergne-locations-1644.cli</td>\n",
       "      <td>dehergne-locations-1644.cli</td>\n",
       "      <td>2024-12-06 03:39:36.263832+00:00</td>\n",
       "      <td>T</td>\n",
       "      <td>NaT</td>\n",
       "      <td>NaN</td>\n",
       "      <td>NaN</td>\n",
       "      <td>N</td>\n",
       "      <td>0</td>\n",
       "      <td>0</td>\n",
       "      <td>None</td>\n",
       "      <td>None</td>\n",
       "      <td>None</td>\n",
       "      <td>None</td>\n",
       "      <td>None</td>\n",
       "    </tr>\n",
       "    <tr>\n",
       "      <th>3</th>\n",
       "      <td>kleio/real-entities/real-entities.cli</td>\n",
       "      <td>real-entities.cli</td>\n",
       "      <td>2024-12-06 03:39:36.264506+00:00</td>\n",
       "      <td>T</td>\n",
       "      <td>2024-10-16 04:21:00+00:00</td>\n",
       "      <td>0.0</td>\n",
       "      <td>0.0</td>\n",
       "      <td>N</td>\n",
       "      <td>0</td>\n",
       "      <td>0</td>\n",
       "      <td>None</td>\n",
       "      <td>None</td>\n",
       "      <td>None</td>\n",
       "      <td>/rest/reports/kleio/real-entities/real-entitie...</td>\n",
       "      <td>/rest/exports/kleio/real-entities/real-entitie...</td>\n",
       "    </tr>\n",
       "  </tbody>\n",
       "</table>\n",
       "</div>"
      ],
      "text/plain": [
       "                                    path                         name  \\\n",
       "0                        kleio/b1685.cli                    b1685.cli   \n",
       "1                   kleio/dehergne-a.cli               dehergne-a.cli   \n",
       "2      kleio/dehergne-locations-1644.cli  dehergne-locations-1644.cli   \n",
       "3  kleio/real-entities/real-entities.cli            real-entities.cli   \n",
       "\n",
       "                          modified status                translated  errors  \\\n",
       "0 2024-12-06 03:39:36.260666+00:00      T                       NaT     NaN   \n",
       "1 2024-12-06 03:39:36.262922+00:00      T                       NaT     NaN   \n",
       "2 2024-12-06 03:39:36.263832+00:00      T                       NaT     NaN   \n",
       "3 2024-12-06 03:39:36.264506+00:00      T 2024-10-16 04:21:00+00:00     0.0   \n",
       "\n",
       "   warnings import_status  import_errors  import_warnings import_error_rpt  \\\n",
       "0       NaN             N              0                0             None   \n",
       "1       NaN             N              0                0             None   \n",
       "2       NaN             N              0                0             None   \n",
       "3       0.0             N              0                0             None   \n",
       "\n",
       "  import_warning_rpt imported  \\\n",
       "0               None     None   \n",
       "1               None     None   \n",
       "2               None     None   \n",
       "3               None     None   \n",
       "\n",
       "                                             rpt_url  \\\n",
       "0                                               None   \n",
       "1                                               None   \n",
       "2                                               None   \n",
       "3  /rest/reports/kleio/real-entities/real-entitie...   \n",
       "\n",
       "                                             xml_url  \n",
       "0                                               None  \n",
       "1                                               None  \n",
       "2                                               None  \n",
       "3  /rest/exports/kleio/real-entities/real-entitie...  "
      ]
     },
     "execution_count": 4,
     "metadata": {},
     "output_type": "execute_result"
    }
   ],
   "source": [
    "kleio_files = tlnb.get_kleio_files()\n",
    "kleio_files"
   ]
  },
  {
   "cell_type": "markdown",
   "metadata": {},
   "source": [
    "## Optionally clean translations "
   ]
  },
  {
   "cell_type": "code",
   "execution_count": 5,
   "metadata": {},
   "outputs": [
    {
     "data": {
      "text/plain": [
       "['kleio/real-entities/real-entities.cli',\n",
       " 'kleio/dehergne-locations-1644.cli',\n",
       " 'kleio/dehergne-a.cli',\n",
       " 'kleio/b1685.cli']"
      ]
     },
     "execution_count": 5,
     "metadata": {},
     "output_type": "execute_result"
    }
   ],
   "source": [
    "tlnb.kleio_server.translation_clean(\"\", recurse=\"yes\")"
   ]
  },
  {
   "cell_type": "markdown",
   "metadata": {},
   "source": [
    "\n",
    "# Update the database from Kleio sources.\n",
    "\n",
    "Updates source translations and imports into database sources with no errors.\n",
    "\n",
    "Only changed files since last import, or new files, will be processed."
   ]
  },
  {
   "cell_type": "code",
   "execution_count": 6,
   "metadata": {
    "ExecuteTime": {
     "end_time": "2024-01-28T11:49:58.486757Z",
     "start_time": "2024-01-28T11:49:58.160084Z"
    }
   },
   "outputs": [
    {
     "name": "stdout",
     "output_type": "stream",
     "text": [
      "                   path            name    size directory  \\\n",
      "1  kleio/dehergne-a.cli  dehergne-a.cli  119167     kleio   \n",
      "\n",
      "                          modified              modified_iso  \\\n",
      "1 2024-12-06 08:56:37.420016+00:00 2024-12-06 08:56:37+00:00   \n",
      "\n",
      "       modified_string                     qtime         qtime_string  \\\n",
      "1  2024-12-06 08:56:37 1970-01-01 00:00:00+00:00  1970-01-01 00:00:00   \n",
      "\n",
      "                           source_url  ...  \\\n",
      "1  /rest/sources/kleio/dehergne-a.cli  ...   \n",
      "\n",
      "                                             version  \\\n",
      "1  KleioTranslator - server version 12.6 - build ...   \n",
      "\n",
      "                              rpt_url                             xml_url  \\\n",
      "1  /rest/reports/kleio/dehergne-a.rpt  /rest/exports/kleio/dehergne-a.xml   \n",
      "\n",
      "   import_status  import_errors import_warnings  \\\n",
      "1              E              3               3   \n",
      "\n",
      "                                    import_error_rpt import_warning_rpt  \\\n",
      "1  ERROR: dehergne-a.cli processing same_as relat...        No warnings   \n",
      "\n",
      "                    imported          imported_string  \n",
      "1 2024-12-06 08:57:39.411878  2024-12-06 08:57:39 UTC  \n",
      "\n",
      "[1 rows x 25 columns]\n"
     ]
    }
   ],
   "source": [
    "import logging\n",
    "logging.basicConfig(level=logging.INFO)\n",
    "\n",
    "tlnb.update_from_sources()\n",
    "# get the import status\n",
    "import_status = tlnb.get_import_status()\n",
    "# list those with import_error > 0 or error > 0\n",
    "errors = import_status.query(\"import_errors > 0 or errors > 0\")\n",
    "if len(errors) > 0:\n",
    "    print(errors)"
   ]
  },
  {
   "cell_type": "markdown",
   "metadata": {},
   "source": [
    "## Check the status of the files"
   ]
  },
  {
   "cell_type": "markdown",
   "metadata": {},
   "source": [
    "Check the import status of the translated files\n",
    "\n",
    "* I: Imported\n",
    "* E: Imported with error\n",
    "* W: Imported with warnings no errors\n",
    "* N: Not imported\n",
    "* U: Translation updated need to reimport"
   ]
  },
  {
   "cell_type": "code",
   "execution_count": 7,
   "metadata": {
    "ExecuteTime": {
     "end_time": "2024-01-28T11:56:35.486657Z",
     "start_time": "2024-01-28T11:55:56.014315Z"
    }
   },
   "outputs": [
    {
     "data": {
      "text/html": [
       "<div>\n",
       "<style scoped>\n",
       "    .dataframe tbody tr th:only-of-type {\n",
       "        vertical-align: middle;\n",
       "    }\n",
       "\n",
       "    .dataframe tbody tr th {\n",
       "        vertical-align: top;\n",
       "    }\n",
       "\n",
       "    .dataframe thead th {\n",
       "        text-align: right;\n",
       "    }\n",
       "</style>\n",
       "<table border=\"1\" class=\"dataframe\">\n",
       "  <thead>\n",
       "    <tr style=\"text-align: right;\">\n",
       "      <th></th>\n",
       "      <th>import_status</th>\n",
       "      <th>import_errors</th>\n",
       "      <th>import_warnings</th>\n",
       "      <th>name</th>\n",
       "      <th>errors</th>\n",
       "      <th>warnings</th>\n",
       "      <th>path</th>\n",
       "    </tr>\n",
       "  </thead>\n",
       "  <tbody>\n",
       "    <tr>\n",
       "      <th>0</th>\n",
       "      <td>I</td>\n",
       "      <td>0</td>\n",
       "      <td>0</td>\n",
       "      <td>b1685.cli</td>\n",
       "      <td>0</td>\n",
       "      <td>1</td>\n",
       "      <td>kleio/b1685.cli</td>\n",
       "    </tr>\n",
       "    <tr>\n",
       "      <th>1</th>\n",
       "      <td>E</td>\n",
       "      <td>3</td>\n",
       "      <td>3</td>\n",
       "      <td>dehergne-a.cli</td>\n",
       "      <td>0</td>\n",
       "      <td>0</td>\n",
       "      <td>kleio/dehergne-a.cli</td>\n",
       "    </tr>\n",
       "    <tr>\n",
       "      <th>2</th>\n",
       "      <td>I</td>\n",
       "      <td>0</td>\n",
       "      <td>0</td>\n",
       "      <td>dehergne-locations-1644.cli</td>\n",
       "      <td>0</td>\n",
       "      <td>0</td>\n",
       "      <td>kleio/dehergne-locations-1644.cli</td>\n",
       "    </tr>\n",
       "    <tr>\n",
       "      <th>3</th>\n",
       "      <td>I</td>\n",
       "      <td>0</td>\n",
       "      <td>0</td>\n",
       "      <td>real-entities.cli</td>\n",
       "      <td>0</td>\n",
       "      <td>0</td>\n",
       "      <td>kleio/real-entities/real-entities.cli</td>\n",
       "    </tr>\n",
       "  </tbody>\n",
       "</table>\n",
       "</div>"
      ],
      "text/plain": [
       "  import_status  import_errors  import_warnings                         name  \\\n",
       "0             I              0                0                    b1685.cli   \n",
       "1             E              3                3               dehergne-a.cli   \n",
       "2             I              0                0  dehergne-locations-1644.cli   \n",
       "3             I              0                0            real-entities.cli   \n",
       "\n",
       "   errors  warnings                                   path  \n",
       "0       0         1                        kleio/b1685.cli  \n",
       "1       0         0                   kleio/dehergne-a.cli  \n",
       "2       0         0      kleio/dehergne-locations-1644.cli  \n",
       "3       0         0  kleio/real-entities/real-entities.cli  "
      ]
     },
     "execution_count": 7,
     "metadata": {},
     "output_type": "execute_result"
    }
   ],
   "source": [
    "imported_files_df = tlnb.get_import_status()\n",
    "imported_files_df[[\"import_status\",\"import_errors\",\"import_warnings\",\"name\",\"errors\",\"warnings\",\"path\"]].sort_values(\"name\")\n"
   ]
  },
  {
   "cell_type": "markdown",
   "metadata": {},
   "source": [
    "### Check a translation report\n",
    "\n",
    "If needed to check for errors.\n"
   ]
  },
  {
   "cell_type": "code",
   "execution_count": 8,
   "metadata": {},
   "outputs": [
    {
     "name": "stdout",
     "output_type": "stream",
     "text": [
      "KleioTranslator - server version 12.6 - build 577 2024-10-24 16:53:53\n",
      "6-12-2024 8-56\n",
      "\n",
      "Processing data file dehergne-a.cli\n",
      "-------------------------------------------\n",
      "Generic Act translation module with geoentities (XML).\n",
      "     Joaquim Ramos de Carvalho (joaquim@uc.pt) \n",
      "** New document: kleio\n",
      "=========================\n",
      "kleio translation started\n",
      "=========================\n",
      "Structure: gacto2.str\n",
      "Prefix: \n",
      "Autorel: \n",
      "Translation count: 185\n",
      "Obs: \n",
      "** Processing source fonte$dehergne-a\n",
      "7: lista$dehergne-notices-a\n",
      "*** End of File\n",
      "\n",
      "Line 541 \"SAME AS\" TO EXTERNAL REFERENCE EXPORTED (deh-belchior-miguel-carneiro-leitao) CHECK IF IT EXISTS BEFORE IMPORTING THIS FILE.\n",
      "Line 814 \"SAME AS\" TO EXTERNAL REFERENCE EXPORTED (deh-jean-regis-lieou) CHECK IF IT EXISTS BEFORE IMPORTING THIS FILE.\n",
      "Line 876 \"SAME AS\" TO EXTERNAL REFERENCE EXPORTED (deh-alessandro-cicero) CHECK IF IT EXISTS BEFORE IMPORTING THIS FILE.\n",
      "\n",
      "Structure file: /usr/local/timelink/clio/src/gacto2.str\n",
      "Structure processing report: /usr/local/timelink/clio/src/gacto2.srpt\n",
      "Structure in JSON: /usr/local/timelink/clio/src/gacto2.str.json\n",
      "\n",
      "Kleio file: /kleio-home/kleio/dehergne-a.cli\n",
      "Original file: /kleio-home/kleio/dehergne-a.org\n",
      "Previous version: /kleio-home/kleio/dehergne-a.old\n",
      "Temp file with ids: /kleio-home/kleio/dehergne-a.ids\n",
      "0  errors. \n",
      "0  warnings.\n",
      "Translation finished.\n",
      "\n"
     ]
    }
   ],
   "source": [
    "file_number=1\n",
    "rpt = tlnb.get_translation_report(imported_files_df, file_number)\n",
    "print(rpt)\n"
   ]
  },
  {
   "cell_type": "markdown",
   "metadata": {},
   "source": [
    "### Get the import report for a file\n",
    "\n",
    "In case there are errors in the import phase check the import report."
   ]
  },
  {
   "cell_type": "code",
   "execution_count": 9,
   "metadata": {},
   "outputs": [
    {
     "name": "stdout",
     "output_type": "stream",
     "text": [
      "b1685.cli\n",
      "No errors\n",
      "No warnings\n",
      "\n",
      "\n"
     ]
    }
   ],
   "source": [
    "rpt = tlnb.get_import_rpt(imported_files_df, rows=[0])\n",
    "print(rpt)"
   ]
  }
 ],
 "metadata": {
  "kernelspec": {
   "display_name": ".venv",
   "language": "python",
   "name": "python3"
  },
  "language_info": {
   "codemirror_mode": {
    "name": "ipython",
    "version": 3
   },
   "file_extension": ".py",
   "mimetype": "text/x-python",
   "name": "python",
   "nbconvert_exporter": "python",
   "pygments_lexer": "ipython3",
   "version": "3.11.1"
  },
  "orig_nbformat": 4
 },
 "nbformat": 4,
 "nbformat_minor": 2
}
