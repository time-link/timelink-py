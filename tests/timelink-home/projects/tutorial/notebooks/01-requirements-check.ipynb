{
 "cells": [
  {
   "cell_type": "markdown",
   "metadata": {},
   "source": [
    "## Check the requirements\n",
    "\n",
    "1. You need the Pyhton extension and required libraries to run timelink. If you have not done check the [README.md](README.md) file in this directory"
   ]
  }
 ],
 "metadata": {
  "language_info": {
   "name": "python"
  }
 },
 "nbformat": 4,
 "nbformat_minor": 2
}
