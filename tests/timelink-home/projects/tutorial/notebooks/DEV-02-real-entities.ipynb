{
 "cells": [
  {
   "cell_type": "markdown",
   "metadata": {},
   "source": [
    "# Real Entities\n",
    "\n",
    "## Problem Statement\n",
    "\n",
    "In a given database many occurrences of the same entity can be found.\n",
    "\n",
    "Due to homonyms and name variations it is difficult to identigy people during data entry, \n",
    "specially when collecting information from various sources, such as parish records.\n",
    "\n",
    "`timelink` introduces the concept of `real entity` to solve this problem.\n",
    "\n",
    "A `real entity` represents a real person, object or event, that can be represented by one or more occurrences in the database.\n",
    "\n",
    "A special table, called `links` is used to link all occurrences of the same `real entity`.\n",
    "\n",
    "Real entities are considered \"interpretations\" of the data, and can be reviewed any time, by changing the\n",
    "links table and occurrences associated with it.\n",
    "\n",
    "Also `timelink` allows for different users to create their own entires in the `links` table, so that each user can have their own interpretation of the data, and their own set of real entities.\n",
    "\n",
    "This notebook shows how to manage real entities in `timelink`."
   ]
  },
  {
   "cell_type": "code",
   "execution_count": 1,
   "metadata": {},
   "outputs": [
    {
     "name": "stdout",
     "output_type": "stream",
     "text": [
      "Timelink version: 1.1.14\n",
      "Project name: tutorial\n",
      "Project home: /Users/jrc/develop/timelink-py/tests/timelink-home/projects/tutorial\n",
      "Database type: sqlite\n",
      "Database name: rentities_tutorial\n",
      "Kleio image: timelinkserver/kleio-server\n",
      "Kleio server token: SuoUN1QkAdHgVLMjIcN3Hem5m9dszMtg\n",
      "Kleio server URL: http://127.0.0.1:8089\n",
      "Kleio server home: /Users/jrc/develop/timelink-py/tests/timelink-home/projects/tutorial\n",
      "Kleio server container: dazzling_jepsen\n",
      "Kleio version requested: latest\n",
      "Kleio server version: 12.6.573 (2024-07-29 08:30:28)\n",
      "SQLite directory: /Users/jrc/develop/timelink-py/tests/timelink-home/projects/tutorial/database/sqlite\n",
      "TimelinkNotebook(project_name=tutorial, project_home=/Users/jrc/develop/timelink-py/tests/timelink-home/projects/tutorial, db_type=sqlite, db_name=rentities_tutorial, kleio_image=timelinkserver/kleio-server, kleio_version=latest, postgres_image=postgres, postgres_version=latest)\n"
     ]
    }
   ],
   "source": [
    "from timelink.notebooks import TimelinkNotebook\n",
    "\n",
    "tlnb = TimelinkNotebook(db_name='rentities_tutorial')\n",
    "tlnb.db.drop_db()\n",
    "tlnb.db.create_db()\n",
    "kleio_home = tlnb.kleio_server.get_kleio_home()\n",
    "kleio_token = tlnb.kleio_server.get_token()\n",
    "kleio_url = tlnb.kleio_server.get_url()\n",
    "tlnb.print_info(show_token=True, show_password=True)"
   ]
  },
  {
   "cell_type": "markdown",
   "metadata": {},
   "source": [
    "Set VSCode extension settings."
   ]
  },
  {
   "cell_type": "code",
   "execution_count": 2,
   "metadata": {},
   "outputs": [
    {
     "name": "stdout",
     "output_type": "stream",
     "text": [
      "Workspace settings updated successfully.\n"
     ]
    }
   ],
   "source": [
    "import json\n",
    "import os\n",
    "\n",
    "# Path to the workspace settings file\n",
    "workspace_path = os.path.abspath(\"../../../../../\")\n",
    "settings_path = os.path.join(workspace_path, '.vscode', 'settings.json')\n",
    "\n",
    "# Ensure the .vscode directory exists\n",
    "os.makedirs(os.path.dirname(settings_path), exist_ok=True)\n",
    "\n",
    "# Read the existing settings\n",
    "if os.path.exists(settings_path):\n",
    "    with open(settings_path, 'r') as file:\n",
    "        settings = json.load(file)\n",
    "else:\n",
    "    settings = {}\n",
    "\n",
    "# Update the settings with your desired preferences\n",
    "# Example: Set the editor font size to 14\n",
    "settings['timelink.kleio.kleioServerHome'] = kleio_home\n",
    "settings['timelink.kleio.kleioServerToken'] = kleio_token\n",
    "settings['timelink.kleio.kleioServerUrl'] = kleio_url\n",
    "\n",
    "# Write the updated settings back to the file\n",
    "with open(settings_path, 'w') as file:\n",
    "    json.dump(settings, file, indent=4)\n",
    "\n",
    "print(\"Workspace settings updated successfully.\")"
   ]
  },
  {
   "cell_type": "markdown",
   "metadata": {},
   "source": [
    "## Check the kleio files"
   ]
  },
  {
   "cell_type": "code",
   "execution_count": 4,
   "metadata": {},
   "outputs": [
    {
     "data": {
      "text/html": [
       "<div>\n",
       "<style scoped>\n",
       "    .dataframe tbody tr th:only-of-type {\n",
       "        vertical-align: middle;\n",
       "    }\n",
       "\n",
       "    .dataframe tbody tr th {\n",
       "        vertical-align: top;\n",
       "    }\n",
       "\n",
       "    .dataframe thead th {\n",
       "        text-align: right;\n",
       "    }\n",
       "</style>\n",
       "<table border=\"1\" class=\"dataframe\">\n",
       "  <thead>\n",
       "    <tr style=\"text-align: right;\">\n",
       "      <th></th>\n",
       "      <th>path</th>\n",
       "      <th>name</th>\n",
       "      <th>modified</th>\n",
       "      <th>status</th>\n",
       "      <th>translated</th>\n",
       "      <th>errors</th>\n",
       "      <th>warnings</th>\n",
       "      <th>import_status</th>\n",
       "      <th>import_errors</th>\n",
       "      <th>import_warnings</th>\n",
       "      <th>import_error_rpt</th>\n",
       "      <th>import_warning_rpt</th>\n",
       "      <th>imported</th>\n",
       "      <th>rpt_url</th>\n",
       "      <th>xml_url</th>\n",
       "    </tr>\n",
       "  </thead>\n",
       "  <tbody>\n",
       "    <tr>\n",
       "      <th>0</th>\n",
       "      <td>kleio/real-entities/real-entities.cli</td>\n",
       "      <td>real-entities.cli</td>\n",
       "      <td>2024-10-16 04:21:34.075653+00:00</td>\n",
       "      <td>V</td>\n",
       "      <td>2024-10-16 04:21:00+00:00</td>\n",
       "      <td>0</td>\n",
       "      <td>0</td>\n",
       "      <td>N</td>\n",
       "      <td>0</td>\n",
       "      <td>0</td>\n",
       "      <td>None</td>\n",
       "      <td>None</td>\n",
       "      <td>None</td>\n",
       "      <td>/rest/reports/kleio/real-entities/real-entitie...</td>\n",
       "      <td>/rest/exports/kleio/real-entities/real-entitie...</td>\n",
       "    </tr>\n",
       "  </tbody>\n",
       "</table>\n",
       "</div>"
      ],
      "text/plain": [
       "                                    path               name  \\\n",
       "0  kleio/real-entities/real-entities.cli  real-entities.cli   \n",
       "\n",
       "                          modified status                translated  errors  \\\n",
       "0 2024-10-16 04:21:34.075653+00:00      V 2024-10-16 04:21:00+00:00       0   \n",
       "\n",
       "   warnings import_status  import_errors  import_warnings import_error_rpt  \\\n",
       "0         0             N              0                0             None   \n",
       "\n",
       "  import_warning_rpt imported  \\\n",
       "0               None     None   \n",
       "\n",
       "                                             rpt_url  \\\n",
       "0  /rest/reports/kleio/real-entities/real-entitie...   \n",
       "\n",
       "                                             xml_url  \n",
       "0  /rest/exports/kleio/real-entities/real-entitie...  "
      ]
     },
     "execution_count": 4,
     "metadata": {},
     "output_type": "execute_result"
    }
   ],
   "source": [
    "kleio_files = tlnb.get_kleio_files(path=\"kleio/real-entities\")\n",
    "kleio_files"
   ]
  },
  {
   "cell_type": "code",
   "execution_count": 5,
   "metadata": {},
   "outputs": [],
   "source": [
    "tlnb.update_from_sources(path=\"kleio/real-entities\")"
   ]
  },
  {
   "cell_type": "markdown",
   "metadata": {},
   "source": [
    "## Check the database"
   ]
  },
  {
   "cell_type": "code",
   "execution_count": 6,
   "metadata": {},
   "outputs": [
    {
     "data": {
      "text/html": [
       "<div>\n",
       "<style scoped>\n",
       "    .dataframe tbody tr th:only-of-type {\n",
       "        vertical-align: middle;\n",
       "    }\n",
       "\n",
       "    .dataframe tbody tr th {\n",
       "        vertical-align: top;\n",
       "    }\n",
       "\n",
       "    .dataframe thead th {\n",
       "        text-align: right;\n",
       "    }\n",
       "</style>\n",
       "<table border=\"1\" class=\"dataframe\">\n",
       "  <thead>\n",
       "    <tr style=\"text-align: right;\">\n",
       "      <th></th>\n",
       "      <th>table</th>\n",
       "      <th>count</th>\n",
       "    </tr>\n",
       "  </thead>\n",
       "  <tbody>\n",
       "    <tr>\n",
       "      <th>0</th>\n",
       "      <td>acts</td>\n",
       "      <td>1</td>\n",
       "    </tr>\n",
       "    <tr>\n",
       "      <th>1</th>\n",
       "      <td>aregisters</td>\n",
       "      <td>0</td>\n",
       "    </tr>\n",
       "    <tr>\n",
       "      <th>2</th>\n",
       "      <td>attributes</td>\n",
       "      <td>413</td>\n",
       "    </tr>\n",
       "    <tr>\n",
       "      <th>3</th>\n",
       "      <td>class_attributes</td>\n",
       "      <td>32</td>\n",
       "    </tr>\n",
       "    <tr>\n",
       "      <th>4</th>\n",
       "      <td>classes</td>\n",
       "      <td>5</td>\n",
       "    </tr>\n",
       "    <tr>\n",
       "      <th>5</th>\n",
       "      <td>entities</td>\n",
       "      <td>516</td>\n",
       "    </tr>\n",
       "    <tr>\n",
       "      <th>6</th>\n",
       "      <td>geoentities</td>\n",
       "      <td>0</td>\n",
       "    </tr>\n",
       "    <tr>\n",
       "      <th>7</th>\n",
       "      <td>kleiofiles</td>\n",
       "      <td>1</td>\n",
       "    </tr>\n",
       "    <tr>\n",
       "      <th>8</th>\n",
       "      <td>links</td>\n",
       "      <td>0</td>\n",
       "    </tr>\n",
       "    <tr>\n",
       "      <th>9</th>\n",
       "      <td>objects</td>\n",
       "      <td>0</td>\n",
       "    </tr>\n",
       "    <tr>\n",
       "      <th>10</th>\n",
       "      <td>persons</td>\n",
       "      <td>34</td>\n",
       "    </tr>\n",
       "    <tr>\n",
       "      <th>11</th>\n",
       "      <td>relations</td>\n",
       "      <td>62</td>\n",
       "    </tr>\n",
       "    <tr>\n",
       "      <th>12</th>\n",
       "      <td>rentities</td>\n",
       "      <td>0</td>\n",
       "    </tr>\n",
       "    <tr>\n",
       "      <th>13</th>\n",
       "      <td>sources</td>\n",
       "      <td>1</td>\n",
       "    </tr>\n",
       "    <tr>\n",
       "      <th>14</th>\n",
       "      <td>syslog</td>\n",
       "      <td>0</td>\n",
       "    </tr>\n",
       "    <tr>\n",
       "      <th>15</th>\n",
       "      <td>syspar</td>\n",
       "      <td>0</td>\n",
       "    </tr>\n",
       "  </tbody>\n",
       "</table>\n",
       "</div>"
      ],
      "text/plain": [
       "               table  count\n",
       "0               acts      1\n",
       "1         aregisters      0\n",
       "2         attributes    413\n",
       "3   class_attributes     32\n",
       "4            classes      5\n",
       "5           entities    516\n",
       "6        geoentities      0\n",
       "7         kleiofiles      1\n",
       "8              links      0\n",
       "9            objects      0\n",
       "10           persons     34\n",
       "11         relations     62\n",
       "12         rentities      0\n",
       "13           sources      1\n",
       "14            syslog      0\n",
       "15            syspar      0"
      ]
     },
     "execution_count": 6,
     "metadata": {},
     "output_type": "execute_result"
    }
   ],
   "source": [
    "tlnb.table_row_count_df()"
   ]
  },
  {
   "cell_type": "markdown",
   "metadata": {},
   "source": [
    "## Create a new real entity"
   ]
  },
  {
   "cell_type": "code",
   "execution_count": 9,
   "metadata": {},
   "outputs": [
    {
     "data": {
      "text/plain": [
       "[('deh-matteo-ricci', 'Matteo Ricci'),\n",
       " ('deh-joao-barradas-ref1', 'Matteo Ricci'),\n",
       " ('deh-lazzaro-cattaneo-ref1', 'Matteo Ricci'),\n",
       " ('deh-giovanni-cola-niccolo-ref1', 'Matteo Ricci'),\n",
       " ('deh-sabatino-de-ursis-ref1', 'Matteo Ricci'),\n",
       " ('deh-sebastien-fernandes-tchong-ref2', 'Matteo Ricci'),\n",
       " ('deh-jean-fernandes-tchong-ref1', 'Matteo Ricci'),\n",
       " ('deh-bento-de-gois-ref2', 'Matteo Ricci'),\n",
       " ('deh-manuel-pereira-yeou-ref1', 'Matteo Ricci'),\n",
       " ('deh-michele-ruggiere-ref4', 'Matteo Ricci')]"
      ]
     },
     "execution_count": 9,
     "metadata": {},
     "output_type": "execute_result"
    }
   ],
   "source": [
    "from timelink.api.models import Person\n",
    "\n",
    "with tlnb.db.session() as session:\n",
    "\n",
    "    session.expire_on_commit = False\n",
    "\n",
    "    occurrences = [\n",
    "        (id,name)\n",
    "        for (id,name) in session.query(Person.id, Person.name)\n",
    "        .filter(Person.name.like(\"Mat%Ricci\"))\n",
    "        .all()\n",
    "    ]\n",
    "occurrences"
   ]
  }
 ],
 "metadata": {
  "kernelspec": {
   "display_name": ".venv",
   "language": "python",
   "name": "python3"
  },
  "language_info": {
   "codemirror_mode": {
    "name": "ipython",
    "version": 3
   },
   "file_extension": ".py",
   "mimetype": "text/x-python",
   "name": "python",
   "nbconvert_exporter": "python",
   "pygments_lexer": "ipython3",
   "version": "3.10.4"
  }
 },
 "nbformat": 4,
 "nbformat_minor": 2
}
