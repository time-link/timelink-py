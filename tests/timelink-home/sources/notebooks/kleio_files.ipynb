{
 "cells": [
  {
   "cell_type": "code",
   "execution_count": 1,
   "metadata": {},
   "outputs": [],
   "source": [
    "import timelink.kleio.kleio_server as ks_tools\n"
   ]
  },
  {
   "cell_type": "code",
   "execution_count": 4,
   "metadata": {},
   "outputs": [
    {
     "name": "stdout",
     "output_type": "stream",
     "text": [
      "Token: u88i\n",
      "URL: http://localhost:8088\n",
      "/Users/jrc/develop/timelink-py/tests/timelink-home\n"
     ]
    }
   ],
   "source": [
    "import os\n",
    "\n",
    "kleio_home = '../../'\n",
    "\n",
    "if ks_tools.is_kserver_running():\n",
    "    token = ks_tools.get_kserver_token()\n",
    "    url = ks_tools.kleio_get_url()\n",
    "else:\n",
    "    if kleio_home is None:\n",
    "        kleio_home = ks_tools.find_local_kleio_home()\n",
    "    token = ks_tools.gen_token()\n",
    "    ks_tools.start_kleio_server(kleio_home=kleio_home, token=token)\n",
    "    token = ks_tools.get_kserver_token()\n",
    "    url = ks_tools.kleio_get_url()\n",
    "\n",
    "\n",
    "kserver: ks_tools.KleioServer = ks_tools.KleioServer(url=url, token=token)\n",
    "print(f\"Token: {token[:4]}\")\n",
    "print(f\"URL: {url}\")\n",
    "print(f\"{ks_tools.get_kserver_home()}\")\n"
   ]
  },
  {
   "cell_type": "markdown",
   "metadata": {},
   "source": [
    "# get the list of files in the directory"
   ]
  },
  {
   "cell_type": "code",
   "execution_count": 25,
   "metadata": {},
   "outputs": [
    {
     "name": "stdout",
     "output_type": "stream",
     "text": [
      "T sources/reference_sources/linked_data/dehergne-a.cli 2023-09-28 07:12:07 2023-09-28T07:10:00+00:00\n",
      "V sources/reference_sources/notariais/docsregiospontepisc.cli 2023-09-27 06:34:44 2023-09-09T14:44:00+00:00\n",
      "E sources/reference_sources/notariais/notarial80.cli 2023-09-09 06:41:40 2023-09-09T14:44:00+00:00\n",
      "V sources/reference_sources/notariais/notlousa1.cli 2023-09-27 06:34:44 2023-09-09T14:44:00+00:00\n",
      "V sources/reference_sources/notariais/perdoes.cli 2023-09-27 06:34:45 2023-09-09T14:44:00+00:00\n",
      "E sources/reference_sources/paroquiais/baptismos/bap-com-celebrantes.cli 2023-09-09 06:41:40 2023-09-10T12:14:00+00:00\n",
      "V sources/reference_sources/paroquiais/baptismos/bapt1714.cli 2023-09-28 07:10:31 2023-09-28T07:10:00+00:00\n",
      "V sources/reference_sources/paroquiais/baptismos/bapteirasproblem1.cli 2023-09-28 07:10:36 2023-09-28T07:10:00+00:00\n",
      "V sources/reference_sources/paroquiais/baptismos/bapteirasproblem2.cli 2023-09-28 07:10:40 2023-09-28T07:10:00+00:00\n",
      "V sources/reference_sources/paroquiais/baptismos/rogeriodomingos_bap_problem.cli 2023-09-28 07:11:16 2023-09-28T07:11:00+00:00\n",
      "V sources/reference_sources/paroquiais/casamentos/cas1714-1722-com-celebrante.cli 2023-09-28 07:10:37 2023-09-28T07:10:00+00:00\n",
      "V sources/reference_sources/paroquiais/casamentos/cas1714-1722.cli 2023-09-28 07:10:43 2023-09-28T07:10:00+00:00\n",
      "V sources/reference_sources/paroquiais/crisma/crisma1753.cli 2023-09-28 07:10:44 2023-09-28T07:10:00+00:00\n",
      "E sources/reference_sources/paroquiais/obitos/ob1688.cli 2023-09-09 06:41:40 2023-09-10T12:14:00+00:00\n",
      "E sources/reference_sources/paroquiais/obitos/ob1688b.cli 2023-09-09 06:41:40 2023-09-10T12:14:00+00:00\n",
      "V sources/reference_sources/paroquiais/obitos/obit1714.cli 2023-09-28 07:11:13 2023-09-28T07:11:00+00:00\n",
      "E sources/reference_sources/paroquiais/obitos/obiteirasproblem.cli 2023-09-09 06:41:40 2023-09-10T12:15:00+00:00\n",
      "V sources/reference_sources/paroquiais/obitos/obitoShort.cli 2023-09-28 07:11:14 2023-09-28T07:11:00+00:00\n",
      "V sources/reference_sources/paroquiais/obitos/obitoShort_id.cli 2023-09-28 07:11:15 2023-09-28T07:11:00+00:00\n",
      "E sources/reference_sources/paroquiais/obitos/obitoShort_id_id.cli 2023-09-09 06:41:40 2023-09-10T12:14:00+00:00\n",
      "V sources/reference_sources/paroquiais/obitos/testeParentescos.cli 2023-09-28 07:11:23 2023-09-28T07:11:00+00:00\n",
      "V sources/reference_sources/roisdeconfessados/coja-rol-1841.cli 2023-09-28 07:11:03 2023-09-28T07:11:00+00:00\n",
      "V sources/reference_sources/roisdeconfessados/rol1.cli 2023-09-28 07:11:21 2023-09-28T07:11:00+00:00\n",
      "V sources/reference_sources/roisdeconfessados/rol2.cli 2023-09-28 07:11:22 2023-09-28T07:11:00+00:00\n",
      "V sources/reference_sources/roisdeconfessados/rol3.cli 2023-09-28 07:11:26 2023-09-28T07:11:00+00:00\n",
      "V sources/reference_sources/varia/Devedores.cli 2023-09-28 07:10:25 2023-09-28T07:10:00+00:00\n",
      "W sources/reference_sources/varia/EmpFAfonso.cli 2023-09-28 07:10:27 2023-09-28T07:10:00+00:00\n",
      "V sources/reference_sources/varia/auc-alunos-264605-A-140337-140771.cli 2023-09-28 07:11:40 2023-09-28T07:11:00+00:00\n",
      "V sources/reference_sources/varia/auc_cartulario18.cli 2023-09-28 07:10:31 2023-09-28T07:10:00+00:00\n",
      "V sources/reference_sources/varia/dehergne-a.cli 2023-09-28 07:10:49 2023-09-28T07:10:00+00:00\n",
      "V sources/reference_sources/varia/eleicoes1.cli 2023-09-28 07:10:53 2023-09-28T07:10:00+00:00\n",
      "V sources/reference_sources/varia/genealdiversas.cli 2023-09-28 07:10:57 2023-09-28T07:10:00+00:00\n",
      "W sources/reference_sources/varia/glopes-lap1561.cli 2023-09-28 07:11:06 2023-09-28T07:11:00+00:00\n",
      "V sources/reference_sources/varia/ivcc.cli 2023-09-28 07:11:05 2023-09-28T07:11:00+00:00\n",
      "V sources/reference_sources/varia/lrazao516pe.cli 2023-09-28 07:11:17 2023-09-28T07:11:00+00:00\n",
      "V sources/reference_sources/varia/misMesa.cli 2023-09-28 07:11:11 2023-09-28T07:11:00+00:00\n",
      "V sources/reference_sources/varia/mp758-santiago-beduido.cli 2023-09-28 07:11:12 2023-09-28T07:11:00+00:00\n",
      "E sources/reference_sources/varia/nommiz.cli 2023-09-09 06:41:40 2023-09-27T12:17:00+00:00\n",
      "V sources/reference_sources/varia/quotes.cli 2023-09-28 07:11:16 2023-09-28T07:11:00+00:00\n",
      "V sources/reference_sources/varia/sourecoimbrabispcoimbra_apontamentosd.cli 2023-09-28 07:11:23 2023-09-28T07:11:00+00:00\n",
      "V sources/reference_sources/varia/vereacao.cli 2023-09-28 07:11:24 2023-09-28T07:11:00+00:00\n",
      "V sources/reference_sources/varia/xpto_comuns_soure.kleio 2023-09-28 07:11:26 2023-09-28T07:11:00+00:00\n"
     ]
    }
   ],
   "source": [
    "kfiles = kserver.translation_status(path='sources',recurse='yes',status=None)\n",
    "\n",
    "for kfile in sorted(kfiles, key=lambda kfile: kfile.path):\n",
    "    print(kfile.status.value,kfile.path,kfile.modified_string, kfile.translated_string)"
   ]
  },
  {
   "cell_type": "code",
   "execution_count": 19,
   "metadata": {},
   "outputs": [
    {
     "name": "stdout",
     "output_type": "stream",
     "text": [
      "translation_status_enum.T sources/reference_sources/varia/Devedores.cli\n",
      "translation_status_enum.T sources/reference_sources/varia/EmpFAfonso.cli\n",
      "translation_status_enum.T sources/reference_sources/varia/auc-alunos-264605-A-140337-140771.cli\n",
      "translation_status_enum.T sources/reference_sources/varia/auc_cartulario18.cli\n",
      "translation_status_enum.T sources/reference_sources/paroquiais/baptismos/bapt1714.cli\n",
      "translation_status_enum.T sources/reference_sources/paroquiais/baptismos/bapteirasproblem1.cli\n",
      "translation_status_enum.T sources/reference_sources/paroquiais/baptismos/bapteirasproblem2.cli\n",
      "translation_status_enum.T sources/reference_sources/paroquiais/casamentos/cas1714-1722-com-celebrante.cli\n",
      "translation_status_enum.T sources/reference_sources/paroquiais/casamentos/cas1714-1722.cli\n",
      "translation_status_enum.T sources/reference_sources/roisdeconfessados/coja-rol-1841.cli\n",
      "translation_status_enum.T sources/reference_sources/paroquiais/crisma/crisma1753.cli\n",
      "translation_status_enum.T sources/reference_sources/linked_data/dehergne-a.cli\n",
      "translation_status_enum.T sources/reference_sources/varia/dehergne-a.cli\n",
      "translation_status_enum.T sources/reference_sources/varia/eleicoes1.cli\n",
      "translation_status_enum.T sources/reference_sources/varia/genealdiversas.cli\n",
      "translation_status_enum.T sources/reference_sources/varia/glopes-lap1561.cli\n",
      "translation_status_enum.T sources/reference_sources/varia/ivcc.cli\n",
      "translation_status_enum.T sources/reference_sources/varia/lrazao516pe.cli\n",
      "translation_status_enum.T sources/reference_sources/varia/misMesa.cli\n",
      "translation_status_enum.T sources/reference_sources/varia/mp758-santiago-beduido.cli\n",
      "translation_status_enum.T sources/reference_sources/paroquiais/obitos/obit1714.cli\n",
      "translation_status_enum.T sources/reference_sources/paroquiais/obitos/obitoShort.cli\n",
      "translation_status_enum.T sources/reference_sources/paroquiais/obitos/obitoShort_id.cli\n",
      "translation_status_enum.T sources/reference_sources/varia/quotes.cli\n",
      "translation_status_enum.T sources/reference_sources/paroquiais/baptismos/rogeriodomingos_bap_problem.cli\n",
      "translation_status_enum.T sources/reference_sources/roisdeconfessados/rol1.cli\n",
      "translation_status_enum.T sources/reference_sources/roisdeconfessados/rol2.cli\n",
      "translation_status_enum.T sources/reference_sources/roisdeconfessados/rol3.cli\n",
      "translation_status_enum.T sources/reference_sources/varia/sourecoimbrabispcoimbra_apontamentosd.cli\n",
      "translation_status_enum.T sources/reference_sources/paroquiais/obitos/testeParentescos.cli\n",
      "translation_status_enum.T sources/reference_sources/varia/vereacao.cli\n",
      "translation_status_enum.T sources/reference_sources/varia/xpto_comuns_soure.kleio\n"
     ]
    }
   ],
   "source": [
    "for kfile in kserver.translation_status(path='sources',recurse='yes',status='T'):\n",
    "    print(kfile.status, kfile.path)\n",
    "    kserver.translate(kfile.path, recurse='no', spawn='no')"
   ]
  },
  {
   "cell_type": "code",
   "execution_count": 9,
   "metadata": {},
   "outputs": [
    {
     "data": {
      "text/plain": [
       "[KleioFile(path='sources/reference_sources/notariais/docsregiospontepisc.cli', name='docsregiospontepisc.cli', size=2175, directory='sources/reference_sources/notariais', modified=datetime.datetime(2023, 9, 27, 6, 34, 44, 973482, tzinfo=TzInfo(UTC)), modified_iso=datetime.datetime(2023, 9, 27, 6, 34, 44, tzinfo=TzInfo(UTC)), modified_string='2023-09-27 06:34:44', qtime=datetime.datetime(1970, 1, 1, 0, 0, tzinfo=TzInfo(UTC)), qtime_string='1970-01-01 00:00:00', source_url='/rest/sources/sources/reference_sources/notariais/docsregiospontepisc.cli', status=<translation_status_enum.V: 'V'>, translated=datetime.datetime(2023, 9, 9, 14, 44, tzinfo=TzInfo(UTC)), translated_string='2023-09-09T14:44:00+00:00', errors=0, warnings=0, version='ClioInput - version 2.3 - build 1590 21/06/2018 12:00 ', rpt_url='/rest/reports/sources/reference_sources/notariais/docsregiospontepisc.rpt', xml_url='/rest/exports/sources/reference_sources/notariais/docsregiospontepisc.xml'),\n",
       " KleioFile(path='sources/reference_sources/notariais/notlousa1.cli', name='notlousa1.cli', size=60801, directory='sources/reference_sources/notariais', modified=datetime.datetime(2023, 9, 27, 6, 34, 44, 985750, tzinfo=TzInfo(UTC)), modified_iso=datetime.datetime(2023, 9, 27, 6, 34, 44, tzinfo=TzInfo(UTC)), modified_string='2023-09-27 06:34:44', qtime=datetime.datetime(1970, 1, 1, 0, 0, tzinfo=TzInfo(UTC)), qtime_string='1970-01-01 00:00:00', source_url='/rest/sources/sources/reference_sources/notariais/notlousa1.cli', status=<translation_status_enum.V: 'V'>, translated=datetime.datetime(2023, 9, 9, 14, 44, tzinfo=TzInfo(UTC)), translated_string='2023-09-09T14:44:00+00:00', errors=0, warnings=0, version='ClioInput - version 2.3 - build 1590 21/06/2018 12:00 ', rpt_url='/rest/reports/sources/reference_sources/notariais/notlousa1.rpt', xml_url='/rest/exports/sources/reference_sources/notariais/notlousa1.xml'),\n",
       " KleioFile(path='sources/reference_sources/notariais/perdoes.cli', name='perdoes.cli', size=80614, directory='sources/reference_sources/notariais', modified=datetime.datetime(2023, 9, 27, 6, 34, 45, 1372, tzinfo=TzInfo(UTC)), modified_iso=datetime.datetime(2023, 9, 27, 6, 34, 45, tzinfo=TzInfo(UTC)), modified_string='2023-09-27 06:34:45', qtime=datetime.datetime(1970, 1, 1, 0, 0, tzinfo=TzInfo(UTC)), qtime_string='1970-01-01 00:00:00', source_url='/rest/sources/sources/reference_sources/notariais/perdoes.cli', status=<translation_status_enum.V: 'V'>, translated=datetime.datetime(2023, 9, 9, 14, 44, tzinfo=TzInfo(UTC)), translated_string='2023-09-09T14:44:00+00:00', errors=0, warnings=0, version='ClioInput - version 2.3 - build 1590 21/06/2018 12:00 ', rpt_url='/rest/reports/sources/reference_sources/notariais/perdoes.rpt', xml_url='/rest/exports/sources/reference_sources/notariais/perdoes.xml')]"
      ]
     },
     "execution_count": 9,
     "metadata": {},
     "output_type": "execute_result"
    }
   ],
   "source": [
    "to_import = kserver.translation_status(path='sources',recurse='yes',status='V')\n",
    "to_import"
   ]
  },
  {
   "cell_type": "code",
   "execution_count": 10,
   "metadata": {},
   "outputs": [
    {
     "data": {
      "text/plain": [
       "[KleioFile(path='sources/reference_sources/paroquiais/baptismos/bap-com-celebrantes.cli', name='bap-com-celebrantes.cli', size=2723, directory='sources/reference_sources/paroquiais/baptismos', modified=datetime.datetime(2023, 9, 9, 6, 41, 40, 464560, tzinfo=TzInfo(UTC)), modified_iso=datetime.datetime(2023, 9, 9, 6, 41, 40, tzinfo=TzInfo(UTC)), modified_string='2023-09-09 06:41:40', qtime=datetime.datetime(1970, 1, 1, 0, 0, tzinfo=TzInfo(UTC)), qtime_string='1970-01-01 00:00:00', source_url='/rest/sources/sources/reference_sources/paroquiais/baptismos/bap-com-celebrantes.cli', status=<translation_status_enum.E: 'E'>, translated=datetime.datetime(2023, 9, 10, 12, 14, tzinfo=TzInfo(UTC)), translated_string='2023-09-10T12:14:00+00:00', errors=1, warnings=0, version='KleioTranslator - server version 12.0 - build 545 2023-09-07 17:05:51', rpt_url='/rest/reports/sources/reference_sources/paroquiais/baptismos/bap-com-celebrantes.rpt', xml_url='/rest/exports/sources/reference_sources/paroquiais/baptismos/bap-com-celebrantes.xml'),\n",
       " KleioFile(path='sources/reference_sources/varia/nommiz.cli', name='nommiz.cli', size=113694, directory='sources/reference_sources/varia', modified=datetime.datetime(2023, 9, 9, 6, 41, 40, 455235, tzinfo=TzInfo(UTC)), modified_iso=datetime.datetime(2023, 9, 9, 6, 41, 40, tzinfo=TzInfo(UTC)), modified_string='2023-09-09 06:41:40', qtime=datetime.datetime(1970, 1, 1, 0, 0, tzinfo=TzInfo(UTC)), qtime_string='1970-01-01 00:00:00', source_url='/rest/sources/sources/reference_sources/varia/nommiz.cli', status=<translation_status_enum.E: 'E'>, translated=datetime.datetime(2023, 9, 27, 12, 17, tzinfo=TzInfo(UTC)), translated_string='2023-09-27T12:17:00+00:00', errors=1, warnings=3, version='KleioTranslator - server version 12.0 - build 545 2023-09-07 17:05:51', rpt_url='/rest/reports/sources/reference_sources/varia/nommiz.rpt', xml_url='/rest/exports/sources/reference_sources/varia/nommiz.xml'),\n",
       " KleioFile(path='sources/reference_sources/notariais/notarial80.cli', name='notarial80.cli', size=38720, directory='sources/reference_sources/notariais', modified=datetime.datetime(2023, 9, 9, 6, 41, 40, 456519, tzinfo=TzInfo(UTC)), modified_iso=datetime.datetime(2023, 9, 9, 6, 41, 40, tzinfo=TzInfo(UTC)), modified_string='2023-09-09 06:41:40', qtime=datetime.datetime(1970, 1, 1, 0, 0, tzinfo=TzInfo(UTC)), qtime_string='1970-01-01 00:00:00', source_url='/rest/sources/sources/reference_sources/notariais/notarial80.cli', status=<translation_status_enum.E: 'E'>, translated=datetime.datetime(2023, 9, 9, 14, 44, tzinfo=TzInfo(UTC)), translated_string='2023-09-09T14:44:00+00:00', errors=1, warnings=0, version='ClioInput - version 2.3 - build 1590 21/06/2018 12:00 ', rpt_url='/rest/reports/sources/reference_sources/notariais/notarial80.rpt', xml_url='/rest/exports/sources/reference_sources/notariais/notarial80.xml'),\n",
       " KleioFile(path='sources/reference_sources/paroquiais/obitos/ob1688.cli', name='ob1688.cli', size=16671, directory='sources/reference_sources/paroquiais/obitos', modified=datetime.datetime(2023, 9, 9, 6, 41, 40, 459346, tzinfo=TzInfo(UTC)), modified_iso=datetime.datetime(2023, 9, 9, 6, 41, 40, tzinfo=TzInfo(UTC)), modified_string='2023-09-09 06:41:40', qtime=datetime.datetime(1970, 1, 1, 0, 0, tzinfo=TzInfo(UTC)), qtime_string='1970-01-01 00:00:00', source_url='/rest/sources/sources/reference_sources/paroquiais/obitos/ob1688.cli', status=<translation_status_enum.E: 'E'>, translated=datetime.datetime(2023, 9, 10, 12, 14, tzinfo=TzInfo(UTC)), translated_string='2023-09-10T12:14:00+00:00', errors=2, warnings=0, version='KleioTranslator - server version 12.0 - build 545 2023-09-07 17:05:51', rpt_url='/rest/reports/sources/reference_sources/paroquiais/obitos/ob1688.rpt', xml_url='/rest/exports/sources/reference_sources/paroquiais/obitos/ob1688.xml'),\n",
       " KleioFile(path='sources/reference_sources/paroquiais/obitos/ob1688b.cli', name='ob1688b.cli', size=16672, directory='sources/reference_sources/paroquiais/obitos', modified=datetime.datetime(2023, 9, 9, 6, 41, 40, 459985, tzinfo=TzInfo(UTC)), modified_iso=datetime.datetime(2023, 9, 9, 6, 41, 40, tzinfo=TzInfo(UTC)), modified_string='2023-09-09 06:41:40', qtime=datetime.datetime(1970, 1, 1, 0, 0, tzinfo=TzInfo(UTC)), qtime_string='1970-01-01 00:00:00', source_url='/rest/sources/sources/reference_sources/paroquiais/obitos/ob1688b.cli', status=<translation_status_enum.E: 'E'>, translated=datetime.datetime(2023, 9, 10, 12, 14, tzinfo=TzInfo(UTC)), translated_string='2023-09-10T12:14:00+00:00', errors=2, warnings=0, version='KleioTranslator - server version 12.0 - build 545 2023-09-07 17:05:51', rpt_url='/rest/reports/sources/reference_sources/paroquiais/obitos/ob1688b.rpt', xml_url='/rest/exports/sources/reference_sources/paroquiais/obitos/ob1688b.xml'),\n",
       " KleioFile(path='sources/reference_sources/paroquiais/obitos/obiteirasproblem.cli', name='obiteirasproblem.cli', size=268277, directory='sources/reference_sources/paroquiais/obitos', modified=datetime.datetime(2023, 9, 9, 6, 41, 40, 459797, tzinfo=TzInfo(UTC)), modified_iso=datetime.datetime(2023, 9, 9, 6, 41, 40, tzinfo=TzInfo(UTC)), modified_string='2023-09-09 06:41:40', qtime=datetime.datetime(1970, 1, 1, 0, 0, tzinfo=TzInfo(UTC)), qtime_string='1970-01-01 00:00:00', source_url='/rest/sources/sources/reference_sources/paroquiais/obitos/obiteirasproblem.cli', status=<translation_status_enum.E: 'E'>, translated=datetime.datetime(2023, 9, 10, 12, 15, tzinfo=TzInfo(UTC)), translated_string='2023-09-10T12:15:00+00:00', errors=11, warnings=0, version='KleioTranslator - server version 12.0 - build 545 2023-09-07 17:05:51', rpt_url='/rest/reports/sources/reference_sources/paroquiais/obitos/obiteirasproblem.rpt', xml_url='/rest/exports/sources/reference_sources/paroquiais/obitos/obiteirasproblem.xml'),\n",
       " KleioFile(path='sources/reference_sources/paroquiais/obitos/obitoShort_id_id.cli', name='obitoShort_id_id.cli', size=666, directory='sources/reference_sources/paroquiais/obitos', modified=datetime.datetime(2023, 9, 9, 6, 41, 40, 459527, tzinfo=TzInfo(UTC)), modified_iso=datetime.datetime(2023, 9, 9, 6, 41, 40, tzinfo=TzInfo(UTC)), modified_string='2023-09-09 06:41:40', qtime=datetime.datetime(1970, 1, 1, 0, 0, tzinfo=TzInfo(UTC)), qtime_string='1970-01-01 00:00:00', source_url='/rest/sources/sources/reference_sources/paroquiais/obitos/obitoShort_id_id.cli', status=<translation_status_enum.E: 'E'>, translated=datetime.datetime(2023, 9, 10, 12, 14, tzinfo=TzInfo(UTC)), translated_string='2023-09-10T12:14:00+00:00', errors=1, warnings=0, version='KleioTranslator - server version 12.0 - build 545 2023-09-07 17:05:51', rpt_url='/rest/reports/sources/reference_sources/paroquiais/obitos/obitoShort_id_id.rpt', xml_url='/rest/exports/sources/reference_sources/paroquiais/obitos/obitoShort_id_id.xml')]"
      ]
     },
     "execution_count": 10,
     "metadata": {},
     "output_type": "execute_result"
    }
   ],
   "source": [
    "kerrors = kserver.translation_status(path='sources',recurse='yes',status='E')\n",
    "kerrors"
   ]
  },
  {
   "cell_type": "code",
   "execution_count": 11,
   "metadata": {},
   "outputs": [
    {
     "data": {
      "text/plain": [
       "[]"
      ]
     },
     "execution_count": 11,
     "metadata": {},
     "output_type": "execute_result"
    }
   ],
   "source": [
    "kwarnings = kserver.translation_status(path='sources',recurse='yes',status='W')\n",
    "kwarnings"
   ]
  },
  {
   "cell_type": "code",
   "execution_count": 23,
   "metadata": {},
   "outputs": [
    {
     "data": {
      "text/plain": [
       "[]"
      ]
     },
     "execution_count": 23,
     "metadata": {},
     "output_type": "execute_result"
    }
   ],
   "source": [
    "processing = kserver.translation_status(path='sources',recurse='yes',status='P')\n",
    "processing"
   ]
  },
  {
   "cell_type": "code",
   "execution_count": 22,
   "metadata": {},
   "outputs": [
    {
     "data": {
      "text/plain": [
       "[]"
      ]
     },
     "execution_count": 22,
     "metadata": {},
     "output_type": "execute_result"
    }
   ],
   "source": [
    "queued = kserver.translation_status(path='sources',recurse='yes',status='Q')\n",
    "queued"
   ]
  }
 ],
 "metadata": {
  "kernelspec": {
   "display_name": ".venv",
   "language": "python",
   "name": "python3"
  },
  "language_info": {
   "codemirror_mode": {
    "name": "ipython",
    "version": 3
   },
   "file_extension": ".py",
   "mimetype": "text/x-python",
   "name": "python",
   "nbconvert_exporter": "python",
   "pygments_lexer": "ipython3",
   "version": "3.10.9"
  },
  "orig_nbformat": 4
 },
 "nbformat": 4,
 "nbformat_minor": 2
}
