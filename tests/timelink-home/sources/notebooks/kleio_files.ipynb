{
 "cells": [
  {
   "cell_type": "code",
   "execution_count": 1,
   "metadata": {},
   "outputs": [],
   "source": [
    "import timelink.kleio.kleio_server as kserver\n"
   ]
  },
  {
   "cell_type": "code",
   "execution_count": 2,
   "metadata": {},
   "outputs": [
    {
     "name": "stdout",
     "output_type": "stream",
     "text": [
      "Token: 3aax\n",
      "URL: http://localhost:8088\n"
     ]
    }
   ],
   "source": [
    "if kserver.is_kserver_running():\n",
    "    token = kserver.get_kserver_token()\n",
    "    url = kserver.kleio_get_url()\n",
    "\n",
    "print(f\"Token: {token[:4]}\")\n",
    "print(f\"URL: {url}\")"
   ]
  },
  {
   "cell_type": "markdown",
   "metadata": {},
   "source": [
    "# get the list of files in the directory"
   ]
  },
  {
   "cell_type": "code",
   "execution_count": 3,
   "metadata": {},
   "outputs": [],
   "source": [
    "kfiles = kserver.kleio_translations_get(path='sources',recurse='yes',status=None,token=token, url=url)\n",
    "need_translation = [kfile.path for kfile in kfiles if kfile.status == 'T']\n",
    "ready_to_import = [kfile.path for kfile in kfiles if kfile.status == 'V']\n",
    "with_errors = [kfile.path for kfile in kfiles if kfile.status == 'E']\n",
    "with_warnings = [kfile.path for kfile in kfiles if kfile.status == 'W']"
   ]
  },
  {
   "cell_type": "code",
   "execution_count": 4,
   "metadata": {},
   "outputs": [
    {
     "data": {
      "text/plain": [
       "['sources/reference_sources/varia/Devedores.cli',\n",
       " 'sources/reference_sources/varia/EmpFAfonso.cli',\n",
       " 'sources/reference_sources/varia/auc-alunos-264605-A-140337-140771.cli',\n",
       " 'sources/reference_sources/varia/auc_cartulario18.cli',\n",
       " 'sources/reference_sources/roisdeconfessados/coja-rol-1841.cli',\n",
       " 'sources/reference_sources/paroquiais/crisma/crisma1753.cli',\n",
       " 'sources/reference_sources/varia/dehergne-a.cli',\n",
       " 'sources/reference_sources/notariais/docsregiospontepisc.cli',\n",
       " 'sources/reference_sources/varia/eleicoes1.cli',\n",
       " 'sources/reference_sources/varia/genealdiversas.cli',\n",
       " 'sources/reference_sources/varia/glopes-lap1561.cli',\n",
       " 'sources/reference_sources/varia/ivcc.cli',\n",
       " 'sources/reference_sources/varia/lrazao516pe.cli',\n",
       " 'sources/reference_sources/varia/misMesa.cli',\n",
       " 'sources/reference_sources/varia/mp758-santiago-beduido.cli',\n",
       " 'sources/reference_sources/notariais/notlousa1.cli',\n",
       " 'sources/reference_sources/notariais/perdoes.cli',\n",
       " 'sources/reference_sources/varia/quotes.cli',\n",
       " 'sources/reference_sources/roisdeconfessados/rol2.cli',\n",
       " 'sources/reference_sources/roisdeconfessados/rol3.cli',\n",
       " 'sources/reference_sources/varia/sourecoimbrabispcoimbra_apontamentosd.cli',\n",
       " 'sources/reference_sources/varia/vereacao.cli',\n",
       " 'sources/reference_sources/varia/xpto_comuns_soure.kleio']"
      ]
     },
     "execution_count": 4,
     "metadata": {},
     "output_type": "execute_result"
    }
   ],
   "source": [
    "ready_to_import"
   ]
  },
  {
   "cell_type": "code",
   "execution_count": 5,
   "metadata": {},
   "outputs": [
    {
     "data": {
      "text/plain": [
       "['sources/reference_sources/paroquiais/baptismos/bap-com-celebrantes.cli',\n",
       " 'sources/reference_sources/linked_data/dehergne-a.cli',\n",
       " 'sources/reference_sources/varia/nommiz.cli',\n",
       " 'sources/reference_sources/notariais/notarial80.cli',\n",
       " 'sources/reference_sources/roisdeconfessados/rol1.cli']"
      ]
     },
     "execution_count": 5,
     "metadata": {},
     "output_type": "execute_result"
    }
   ],
   "source": [
    "with_errors"
   ]
  },
  {
   "cell_type": "code",
   "execution_count": 6,
   "metadata": {},
   "outputs": [
    {
     "data": {
      "text/plain": [
       "[]"
      ]
     },
     "execution_count": 6,
     "metadata": {},
     "output_type": "execute_result"
    }
   ],
   "source": [
    "with_warnings"
   ]
  },
  {
   "cell_type": "code",
   "execution_count": 9,
   "metadata": {},
   "outputs": [
    {
     "data": {
      "text/plain": [
       "['sources/reference_sources/varia/Devedores.cli',\n",
       " 'sources/reference_sources/varia/EmpFAfonso.cli',\n",
       " 'sources/reference_sources/varia/auc-alunos-264605-A-140337-140771.cli',\n",
       " 'sources/reference_sources/varia/auc_cartulario18.cli',\n",
       " 'sources/reference_sources/paroquiais/baptismos/bap-com-celebrantes.cli',\n",
       " 'sources/reference_sources/paroquiais/baptismos/bapt1714.cli',\n",
       " 'sources/reference_sources/paroquiais/baptismos/bapteirasproblem1.cli',\n",
       " 'sources/reference_sources/paroquiais/baptismos/bapteirasproblem2.cli',\n",
       " 'sources/reference_sources/paroquiais/casamentos/cas1714-1722-com-celebrante.cli',\n",
       " 'sources/reference_sources/paroquiais/casamentos/cas1714-1722.cli',\n",
       " 'sources/reference_sources/roisdeconfessados/coja-rol-1841.cli',\n",
       " 'sources/reference_sources/paroquiais/crisma/crisma1753.cli',\n",
       " 'sources/reference_sources/linked_data/dehergne-a.cli',\n",
       " 'sources/reference_sources/varia/dehergne-a.cli',\n",
       " 'sources/reference_sources/varia/eleicoes1.cli',\n",
       " 'sources/reference_sources/varia/genealdiversas.cli',\n",
       " 'sources/reference_sources/varia/glopes-lap1561.cli',\n",
       " 'sources/reference_sources/varia/ivcc.cli',\n",
       " 'sources/reference_sources/varia/lrazao516pe.cli',\n",
       " 'sources/reference_sources/varia/misMesa.cli',\n",
       " 'sources/reference_sources/varia/mp758-santiago-beduido.cli',\n",
       " 'sources/reference_sources/varia/nommiz.cli',\n",
       " 'sources/reference_sources/paroquiais/obitos/ob1688.cli',\n",
       " 'sources/reference_sources/paroquiais/obitos/ob1688b.cli',\n",
       " 'sources/reference_sources/paroquiais/obitos/obit1714.cli',\n",
       " 'sources/reference_sources/paroquiais/obitos/obiteirasproblem.cli',\n",
       " 'sources/reference_sources/paroquiais/obitos/obitoShort.cli',\n",
       " 'sources/reference_sources/paroquiais/obitos/obitoShort_id.cli',\n",
       " 'sources/reference_sources/paroquiais/obitos/obitoShort_id_id.cli',\n",
       " 'sources/reference_sources/varia/quotes.cli',\n",
       " 'sources/reference_sources/paroquiais/baptismos/rogeriodomingos_bap_problem.cli',\n",
       " 'sources/reference_sources/roisdeconfessados/rol1.cli',\n",
       " 'sources/reference_sources/roisdeconfessados/rol2.cli',\n",
       " 'sources/reference_sources/roisdeconfessados/rol3.cli',\n",
       " 'sources/reference_sources/varia/sourecoimbrabispcoimbra_apontamentosd.cli',\n",
       " 'sources/reference_sources/paroquiais/obitos/testeParentescos.cli',\n",
       " 'sources/reference_sources/varia/vereacao.cli',\n",
       " 'sources/reference_sources/varia/xpto_comuns_soure.kleio']"
      ]
     },
     "execution_count": 9,
     "metadata": {},
     "output_type": "execute_result"
    }
   ],
   "source": [
    "need_translation"
   ]
  }
 ],
 "metadata": {
  "kernelspec": {
   "display_name": ".venv",
   "language": "python",
   "name": "python3"
  },
  "language_info": {
   "codemirror_mode": {
    "name": "ipython",
    "version": 3
   },
   "file_extension": ".py",
   "mimetype": "text/x-python",
   "name": "python",
   "nbconvert_exporter": "python",
   "pygments_lexer": "ipython3",
   "version": "3.10.9"
  },
  "orig_nbformat": 4
 },
 "nbformat": 4,
 "nbformat_minor": 2
}
