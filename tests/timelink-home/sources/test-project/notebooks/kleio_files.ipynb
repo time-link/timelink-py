{
 "cells": [
  {
   "cell_type": "code",
   "execution_count": 6,
   "metadata": {},
   "outputs": [
    {
     "name": "stdout",
     "output_type": "stream",
     "text": [
      "Token: 5Kap\n",
      "URL: http://localhost:8088\n",
      "Kleio Home: /Users/jrc/develop/timelink-py/tests/timelink-home/sources/test-project/sources\n"
     ]
    }
   ],
   "source": [
    "from timelink.kleio import KleioServer\n",
    "\n",
    "kleio_home=\"../sources\"\n",
    "\n",
    "kserver: KleioServer = KleioServer.start(kleio_home=kleio_home)\n",
    "\n",
    "token = kserver.get_token()\n",
    "url = kserver.get_url()\n",
    "khome = kserver.get_kleio_home()\n",
    "\n",
    "print(f\"Token: {token[:4]}\")\n",
    "print(f\"URL: {url}\")\n",
    "print(f\"Kleio Home: {khome}\")\n"
   ]
  },
  {
   "cell_type": "markdown",
   "metadata": {},
   "source": [
    "# get the list of files in the directory"
   ]
  },
  {
   "cell_type": "code",
   "execution_count": 10,
   "metadata": {},
   "outputs": [
    {
     "name": "stdout",
     "output_type": "stream",
     "text": [
      "V reference_sources/linked_data/dehergne-a.cli 2023-10-16 11:11:59 2023-10-16T11:11:00+00:00\n",
      "V reference_sources/notariais/docsregiospontepisc.cli 2023-09-27 06:34:44 2023-09-09T14:44:00+00:00\n",
      "E reference_sources/notariais/notarial80.cli 2023-09-09 06:41:40 2023-09-09T14:44:00+00:00\n",
      "V reference_sources/notariais/notlousa1.cli 2023-09-27 06:34:44 2023-09-09T14:44:00+00:00\n",
      "V reference_sources/notariais/perdoes.cli 2023-09-27 06:34:45 2023-09-09T14:44:00+00:00\n",
      "E reference_sources/paroquiais/baptismos/bap-com-celebrantes.cli 2023-09-09 06:41:40 2023-09-10T12:14:00+00:00\n",
      "V reference_sources/paroquiais/baptismos/bapt1714.cli 2023-10-16 11:11:41 2023-10-16T11:11:00+00:00\n",
      "V reference_sources/paroquiais/baptismos/bapteirasproblem1.cli 2023-10-16 11:11:47 2023-10-16T11:11:00+00:00\n",
      "V reference_sources/paroquiais/baptismos/bapteirasproblem2.cli 2023-10-16 11:11:51 2023-10-16T11:11:00+00:00\n",
      "V reference_sources/paroquiais/baptismos/rogeriodomingos_bap_problem.cli 2023-10-16 11:12:26 2023-10-16T11:12:00+00:00\n",
      "V reference_sources/paroquiais/casamentos/cas1714-1722-com-celebrante.cli 2023-10-16 11:11:48 2023-10-16T11:11:00+00:00\n",
      "V reference_sources/paroquiais/casamentos/cas1714-1722.cli 2023-10-16 11:11:54 2023-10-16T11:11:00+00:00\n",
      "V reference_sources/paroquiais/crisma/crisma1753.cli 2023-10-16 11:11:55 2023-10-16T11:11:00+00:00\n",
      "E reference_sources/paroquiais/obitos/ob1688.cli 2023-09-09 06:41:40 2023-09-10T12:14:00+00:00\n",
      "E reference_sources/paroquiais/obitos/ob1688b.cli 2023-09-09 06:41:40 2023-09-10T12:14:00+00:00\n",
      "V reference_sources/paroquiais/obitos/obit1714.cli 2023-10-16 11:12:23 2023-10-16T11:12:00+00:00\n",
      "E reference_sources/paroquiais/obitos/obiteirasproblem.cli 2023-09-09 06:41:40 2023-09-10T12:15:00+00:00\n",
      "V reference_sources/paroquiais/obitos/obitoShort.cli 2023-10-16 11:12:23 2023-10-16T11:12:00+00:00\n",
      "V reference_sources/paroquiais/obitos/obitoShort_id.cli 2023-10-16 11:12:24 2023-10-16T11:12:00+00:00\n",
      "E reference_sources/paroquiais/obitos/obitoShort_id_id.cli 2023-09-09 06:41:40 2023-09-10T12:14:00+00:00\n",
      "V reference_sources/paroquiais/obitos/testeParentescos.cli 2023-10-16 11:12:32 2023-10-16T11:12:00+00:00\n",
      "V reference_sources/roisdeconfessados/coja-rol-1841.cli 2023-10-16 11:12:13 2023-10-16T11:12:00+00:00\n",
      "V reference_sources/roisdeconfessados/rol1.cli 2023-10-16 11:12:30 2023-10-16T11:12:00+00:00\n",
      "V reference_sources/roisdeconfessados/rol2.cli 2023-10-16 11:12:30 2023-10-16T11:12:00+00:00\n",
      "V reference_sources/roisdeconfessados/rol3.cli 2023-10-16 11:12:34 2023-10-16T11:12:00+00:00\n",
      "V reference_sources/varia/Devedores.cli 2023-10-16 11:11:36 2023-10-16T11:11:00+00:00\n",
      "W reference_sources/varia/EmpFAfonso.cli 2023-10-16 11:11:38 2023-10-16T11:11:00+00:00\n",
      "V reference_sources/varia/auc-alunos-264605-A-140337-140771.cli 2023-10-16 11:12:49 2023-10-16T11:12:00+00:00\n",
      "V reference_sources/varia/auc_cartulario18.cli 2023-10-16 11:11:42 2023-10-16T11:11:00+00:00\n",
      "V reference_sources/varia/dehergne-a.cli 2023-10-16 11:12:00 2023-10-16T11:12:00+00:00\n",
      "V reference_sources/varia/eleicoes1.cli 2023-10-16 11:12:04 2023-10-16T11:12:00+00:00\n",
      "V reference_sources/varia/genealdiversas.cli 2023-10-16 11:12:07 2023-10-16T11:12:00+00:00\n",
      "W reference_sources/varia/glopes-lap1561.cli 2023-10-16 11:12:15 2023-10-16T11:12:00+00:00\n",
      "V reference_sources/varia/ivcc.cli 2023-10-16 11:12:15 2023-10-16T11:12:00+00:00\n",
      "V reference_sources/varia/lrazao516pe.cli 2023-10-16 11:12:26 2023-10-16T11:12:00+00:00\n",
      "V reference_sources/varia/misMesa.cli 2023-10-16 11:12:21 2023-10-16T11:12:00+00:00\n",
      "V reference_sources/varia/mp758-santiago-beduido.cli 2023-10-16 11:12:21 2023-10-16T11:12:00+00:00\n",
      "E reference_sources/varia/nommiz.cli 2023-09-09 06:41:40 2023-09-27T12:17:00+00:00\n",
      "V reference_sources/varia/quotes.cli 2023-10-16 11:12:25 2023-10-16T11:12:00+00:00\n",
      "V reference_sources/varia/sourecoimbrabispcoimbra_apontamentosd.cli 2023-10-16 11:12:31 2023-10-16T11:12:00+00:00\n",
      "V reference_sources/varia/vereacao.cli 2023-10-16 11:12:33 2023-10-16T11:12:00+00:00\n",
      "V reference_sources/varia/xpto_comuns_soure.kleio 2023-10-16 11:12:35 2023-10-16T11:12:00+00:00\n"
     ]
    }
   ],
   "source": [
    "from typing import List\n",
    "from timelink.kleio.schemas import KleioFile\n",
    "\n",
    "kfiles: List[KleioFile] = kserver.translation_status(path='',recurse='yes',status=None)\n",
    "\n",
    "for kfile in sorted(kfiles, key=lambda kfile: kfile.path):\n",
    "    print(kfile.status.value,kfile.path,kfile.modified_string, kfile.translated_string)"
   ]
  },
  {
   "cell_type": "code",
   "execution_count": 9,
   "metadata": {},
   "outputs": [
    {
     "name": "stdout",
     "output_type": "stream",
     "text": [
      "translation_status_enum.T reference_sources/varia/Devedores.cli\n",
      "translation_status_enum.T reference_sources/varia/EmpFAfonso.cli\n",
      "translation_status_enum.T reference_sources/varia/auc-alunos-264605-A-140337-140771.cli\n",
      "translation_status_enum.T reference_sources/varia/auc_cartulario18.cli\n",
      "translation_status_enum.T reference_sources/paroquiais/baptismos/bapt1714.cli\n",
      "translation_status_enum.T reference_sources/paroquiais/baptismos/bapteirasproblem1.cli\n",
      "translation_status_enum.T reference_sources/paroquiais/baptismos/bapteirasproblem2.cli\n",
      "translation_status_enum.T reference_sources/paroquiais/casamentos/cas1714-1722-com-celebrante.cli\n",
      "translation_status_enum.T reference_sources/paroquiais/casamentos/cas1714-1722.cli\n",
      "translation_status_enum.T reference_sources/roisdeconfessados/coja-rol-1841.cli\n",
      "translation_status_enum.T reference_sources/paroquiais/crisma/crisma1753.cli\n",
      "translation_status_enum.T reference_sources/linked_data/dehergne-a.cli\n",
      "translation_status_enum.T reference_sources/varia/dehergne-a.cli\n",
      "translation_status_enum.T reference_sources/varia/eleicoes1.cli\n",
      "translation_status_enum.T reference_sources/varia/genealdiversas.cli\n",
      "translation_status_enum.T reference_sources/varia/glopes-lap1561.cli\n",
      "translation_status_enum.T reference_sources/varia/ivcc.cli\n",
      "translation_status_enum.T reference_sources/varia/lrazao516pe.cli\n",
      "translation_status_enum.T reference_sources/varia/misMesa.cli\n",
      "translation_status_enum.T reference_sources/varia/mp758-santiago-beduido.cli\n",
      "translation_status_enum.T reference_sources/paroquiais/obitos/obit1714.cli\n",
      "translation_status_enum.T reference_sources/paroquiais/obitos/obitoShort.cli\n",
      "translation_status_enum.T reference_sources/paroquiais/obitos/obitoShort_id.cli\n",
      "translation_status_enum.T reference_sources/varia/quotes.cli\n",
      "translation_status_enum.T reference_sources/paroquiais/baptismos/rogeriodomingos_bap_problem.cli\n",
      "translation_status_enum.T reference_sources/roisdeconfessados/rol1.cli\n",
      "translation_status_enum.T reference_sources/roisdeconfessados/rol2.cli\n",
      "translation_status_enum.T reference_sources/roisdeconfessados/rol3.cli\n",
      "translation_status_enum.T reference_sources/varia/sourecoimbrabispcoimbra_apontamentosd.cli\n",
      "translation_status_enum.T reference_sources/paroquiais/obitos/testeParentescos.cli\n",
      "translation_status_enum.T reference_sources/varia/vereacao.cli\n",
      "translation_status_enum.T reference_sources/varia/xpto_comuns_soure.kleio\n"
     ]
    }
   ],
   "source": [
    "for kfile in kserver.translation_status(path='',recurse='yes',status='T'):\n",
    "    print(kfile.status, kfile.path)\n",
    "    kserver.translate(kfile.path, recurse='no', spawn='no')"
   ]
  },
  {
   "cell_type": "code",
   "execution_count": 13,
   "metadata": {},
   "outputs": [
    {
     "name": "stdout",
     "output_type": "stream",
     "text": [
      "Import V reference_sources/varia/Devedores.cli\n",
      "Import V reference_sources/varia/auc-alunos-264605-A-140337-140771.cli\n",
      "Import V reference_sources/varia/auc_cartulario18.cli\n",
      "Import V reference_sources/paroquiais/baptismos/bapt1714.cli\n",
      "Import V reference_sources/paroquiais/baptismos/bapteirasproblem1.cli\n",
      "Import V reference_sources/paroquiais/baptismos/bapteirasproblem2.cli\n",
      "Import V reference_sources/paroquiais/casamentos/cas1714-1722-com-celebrante.cli\n",
      "Import V reference_sources/paroquiais/casamentos/cas1714-1722.cli\n",
      "Import V reference_sources/roisdeconfessados/coja-rol-1841.cli\n",
      "Import V reference_sources/paroquiais/crisma/crisma1753.cli\n",
      "Import V reference_sources/linked_data/dehergne-a.cli\n",
      "Import V reference_sources/varia/dehergne-a.cli\n",
      "Import V reference_sources/notariais/docsregiospontepisc.cli\n",
      "Import V reference_sources/varia/eleicoes1.cli\n",
      "Import V reference_sources/varia/genealdiversas.cli\n",
      "Import V reference_sources/varia/ivcc.cli\n",
      "Import V reference_sources/varia/lrazao516pe.cli\n",
      "Import V reference_sources/varia/misMesa.cli\n",
      "Import V reference_sources/varia/mp758-santiago-beduido.cli\n",
      "Import V reference_sources/notariais/notlousa1.cli\n",
      "Import V reference_sources/paroquiais/obitos/obit1714.cli\n",
      "Import V reference_sources/paroquiais/obitos/obitoShort.cli\n",
      "Import V reference_sources/paroquiais/obitos/obitoShort_id.cli\n",
      "Import V reference_sources/notariais/perdoes.cli\n",
      "Import V reference_sources/varia/quotes.cli\n",
      "Import V reference_sources/paroquiais/baptismos/rogeriodomingos_bap_problem.cli\n",
      "Import V reference_sources/roisdeconfessados/rol1.cli\n",
      "Import V reference_sources/roisdeconfessados/rol2.cli\n",
      "Import V reference_sources/roisdeconfessados/rol3.cli\n",
      "Import V reference_sources/varia/sourecoimbrabispcoimbra_apontamentosd.cli\n",
      "Import V reference_sources/paroquiais/obitos/testeParentescos.cli\n",
      "Import V reference_sources/varia/vereacao.cli\n",
      "Import V reference_sources/varia/xpto_comuns_soure.kleio\n"
     ]
    }
   ],
   "source": [
    "for kfile in kserver.translation_status(path='',recurse='yes',status='V'):\n",
    "    print(\"Import\",kfile.status.value, kfile.path)\n"
   ]
  },
  {
   "cell_type": "code",
   "execution_count": 16,
   "metadata": {},
   "outputs": [
    {
     "name": "stdout",
     "output_type": "stream",
     "text": [
      "ERROR E reference_sources/paroquiais/baptismos/bap-com-celebrantes.cli\n",
      "ERROR E reference_sources/varia/nommiz.cli\n",
      "ERROR E reference_sources/notariais/notarial80.cli\n",
      "ERROR E reference_sources/paroquiais/obitos/ob1688.cli\n",
      "ERROR E reference_sources/paroquiais/obitos/ob1688b.cli\n",
      "ERROR E reference_sources/paroquiais/obitos/obiteirasproblem.cli\n",
      "ERROR E reference_sources/paroquiais/obitos/obitoShort_id_id.cli\n"
     ]
    }
   ],
   "source": [
    "for kfile in kserver.translation_status(path='',recurse='yes',status='E'):\n",
    "    print(\"ERROR\",kfile.status.value, kfile.path)"
   ]
  },
  {
   "cell_type": "code",
   "execution_count": 17,
   "metadata": {},
   "outputs": [
    {
     "name": "stdout",
     "output_type": "stream",
     "text": [
      "Import W reference_sources/varia/EmpFAfonso.cli\n",
      "Import W reference_sources/varia/glopes-lap1561.cli\n"
     ]
    }
   ],
   "source": [
    "for kfile in kserver.translation_status(path='',recurse='yes',status='W'):\n",
    "    print(\"Import\",kfile.status.value, kfile.path)"
   ]
  },
  {
   "cell_type": "code",
   "execution_count": 23,
   "metadata": {},
   "outputs": [
    {
     "data": {
      "text/plain": [
       "[]"
      ]
     },
     "execution_count": 23,
     "metadata": {},
     "output_type": "execute_result"
    }
   ],
   "source": [
    "processing = kserver.translation_status(path='sources',recurse='yes',status='P')\n",
    "processing"
   ]
  },
  {
   "cell_type": "code",
   "execution_count": 22,
   "metadata": {},
   "outputs": [
    {
     "data": {
      "text/plain": [
       "[]"
      ]
     },
     "execution_count": 22,
     "metadata": {},
     "output_type": "execute_result"
    }
   ],
   "source": [
    "queued = kserver.translation_status(path='sources',recurse='yes',status='Q')\n",
    "queued"
   ]
  }
 ],
 "metadata": {
  "kernelspec": {
   "display_name": ".venv",
   "language": "python",
   "name": "python3"
  },
  "language_info": {
   "codemirror_mode": {
    "name": "ipython",
    "version": 3
   },
   "file_extension": ".py",
   "mimetype": "text/x-python",
   "name": "python",
   "nbconvert_exporter": "python",
   "pygments_lexer": "ipython3",
   "version": "3.10.9"
  },
  "orig_nbformat": 4
 },
 "nbformat": 4,
 "nbformat_minor": 2
}
