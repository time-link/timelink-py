{
 "cells": [
  {
   "cell_type": "code",
   "execution_count": 1,
   "metadata": {},
   "outputs": [
    {
     "name": "stdout",
     "output_type": "stream",
     "text": [
      "Kleio Home Found: /Users/jrc/develop/timelink-py/tests/timelink-home/sources/test-project\n",
      "Token: myto\n",
      "URL: http://localhost:4040\n",
      "Kleio Home: /Users/jrc/develop/timelink-py/tests/timelink-home/sources/test-project\n"
     ]
    }
   ],
   "source": [
    "from timelink.kleio import KleioServer\n",
    "from timelink.kleio import KleioServer\n",
    "\n",
    "kleio_home_found = KleioServer.find_local_kleio_home()\n",
    "print(f\"Kleio Home Found: {kleio_home_found}\")\n",
    "\n",
    "kserver: KleioServer = KleioServer.start(kleio_home=kleio_home_found)\n",
    "# kserver: KleioServer = KleioServer.attach(kleio_home=kleio_home_found,token=\"mytoken\",url=\"http://localhost:4040\")\n",
    "token = kserver.get_token()\n",
    "url = kserver.get_url()\n",
    "khome = kserver.get_kleio_home()\n",
    "\n",
    "print(f\"Token: {token[:4]}\")\n",
    "print(f\"URL: {url}\")\n",
    "print(f\"Kleio Home: {khome}\")\n"
   ]
  },
  {
   "cell_type": "markdown",
   "metadata": {},
   "source": [
    "# get the list of files in the directory"
   ]
  },
  {
   "cell_type": "code",
   "execution_count": 24,
   "metadata": {},
   "outputs": [
    {
     "name": "stdout",
     "output_type": "stream",
     "text": [
      "E http://localhost:4040/rest/sources/sources/api/notariais/notarial80.cli?token=mytoken 2023-12-30 10:17:59 2023-12-30T16:20:00+08:00\n",
      "E http://localhost:4040/rest/sources/sources/api/paroquiais/baptismos/bap-com-celebrantes.cli?token=mytoken 2023-12-30 10:17:59 2023-03-31T19:42:00+08:00\n",
      "E http://localhost:4040/rest/sources/sources/api/paroquiais/obitos/ob1688.cli?token=mytoken 2023-12-30 10:17:59 2023-12-30T16:20:00+08:00\n",
      "E http://localhost:4040/rest/sources/sources/api/paroquiais/obitos/ob1688b.cli?token=mytoken 2023-12-30 10:17:59 2023-12-30T16:20:00+08:00\n",
      "E http://localhost:4040/rest/sources/sources/api/paroquiais/obitos/obiteirasproblem.cli?token=mytoken 2023-12-30 10:17:59 2023-12-30T16:21:00+08:00\n",
      "E http://localhost:4040/rest/sources/sources/api/paroquiais/obitos/obitoShort_id_id.cli?token=mytoken 2023-12-30 10:17:59 2023-12-30T16:20:00+08:00\n",
      "E http://localhost:4040/rest/sources/sources/api/varia/dehergne-a.cli?token=mytoken 2023-12-30 10:17:59 2023-12-30T16:20:00+08:00\n",
      "E http://localhost:4040/rest/sources/sources/api/varia/nommiz.cli?token=mytoken 2023-12-30 10:17:59 2023-12-30T16:20:00+08:00\n",
      "T http://localhost:4040/rest/sources/sources/api/varia/test-atr-date.cli?token=mytoken 2023-12-31 11:57:24 2023-12-30T16:21:00+08:00\n",
      "V http://localhost:4040/rest/sources/sources/api/identifications/mhk_identification_toliveira.cli?token=mytoken 2023-12-30 16:20:19 2023-12-30T16:20:00+08:00\n",
      "V http://localhost:4040/rest/sources/sources/api/linked_data/dehergne-a.cli?token=mytoken 2023-12-30 10:18:46 2023-12-30T06:18:00+08:00\n",
      "V http://localhost:4040/rest/sources/sources/api/linked_data/linked-data-error.cli?token=mytoken 2023-12-30 16:20:03 2023-12-30T16:20:00+08:00\n",
      "V http://localhost:4040/rest/sources/sources/api/notariais/docsregiospontepisc.cli?token=mytoken 2023-12-30 16:20:10 2023-12-30T16:20:00+08:00\n",
      "V http://localhost:4040/rest/sources/sources/api/notariais/notlousa1.cli?token=mytoken 2023-12-30 16:20:44 2023-12-30T16:20:00+08:00\n",
      "V http://localhost:4040/rest/sources/sources/api/notariais/perdoes.cli?token=mytoken 2023-12-30 16:20:58 2023-12-30T16:20:00+08:00\n",
      "V http://localhost:4040/rest/sources/sources/api/paroquiais/baptismos/bapt1714.cli?token=mytoken 2023-12-30 16:19:56 2023-12-30T16:19:00+08:00\n",
      "V http://localhost:4040/rest/sources/sources/api/paroquiais/baptismos/bapteirasproblem1.cli?token=mytoken 2023-12-30 16:20:04 2023-12-30T16:20:00+08:00\n",
      "V http://localhost:4040/rest/sources/sources/api/paroquiais/baptismos/bapteirasproblem2.cli?token=mytoken 2023-12-30 16:20:09 2023-12-30T16:20:00+08:00\n",
      "V http://localhost:4040/rest/sources/sources/api/paroquiais/baptismos/rogeriodomingos_bap_problem.cli?token=mytoken 2023-12-30 16:19:55 2023-12-30T16:19:00+08:00\n",
      "V http://localhost:4040/rest/sources/sources/api/paroquiais/casamentos/cas1714-1722-com-celebrante.cli?token=mytoken 2023-12-30 16:20:00 2023-12-30T16:20:00+08:00\n",
      "V http://localhost:4040/rest/sources/sources/api/paroquiais/casamentos/cas1714-1722.cli?token=mytoken 2023-12-30 16:20:28 2023-12-30T16:20:00+08:00\n",
      "V http://localhost:4040/rest/sources/sources/api/paroquiais/crisma/crisma1753.cli?token=mytoken 2023-12-30 16:20:29 2023-12-30T16:20:00+08:00\n",
      "V http://localhost:4040/rest/sources/sources/api/paroquiais/obitos/obit1714.cli?token=mytoken 2023-12-30 16:20:41 2023-12-30T16:20:00+08:00\n",
      "V http://localhost:4040/rest/sources/sources/api/paroquiais/obitos/obitoShort.cli?token=mytoken 2023-12-30 16:20:45 2023-12-30T16:20:00+08:00\n",
      "V http://localhost:4040/rest/sources/sources/api/paroquiais/obitos/obitoShort_id.cli?token=mytoken 2023-12-30 16:20:47 2023-12-30T16:20:00+08:00\n",
      "V http://localhost:4040/rest/sources/sources/api/paroquiais/obitos/testeParentescos.cli?token=mytoken 2023-12-30 16:21:03 2023-12-30T16:21:00+08:00\n",
      "V http://localhost:4040/rest/sources/sources/api/roisdeconfessados/coja-rol-1841.cli?token=mytoken 2023-12-30 16:20:56 2023-12-30T16:20:00+08:00\n",
      "V http://localhost:4040/rest/sources/sources/api/roisdeconfessados/rol1.cli?token=mytoken 2023-12-30 16:21:03 2023-12-30T16:21:00+08:00\n",
      "V http://localhost:4040/rest/sources/sources/api/roisdeconfessados/rol2.cli?token=mytoken 2023-12-30 16:21:01 2023-12-30T16:21:00+08:00\n",
      "V http://localhost:4040/rest/sources/sources/api/roisdeconfessados/rol3.cli?token=mytoken 2023-12-30 16:21:06 2023-12-30T16:21:00+08:00\n",
      "V http://localhost:4040/rest/sources/sources/api/varia/Devedores.cli?token=mytoken 2023-12-30 16:20:04 2023-12-30T16:20:00+08:00\n",
      "V http://localhost:4040/rest/sources/sources/api/varia/auc-alunos-264605-A-140337-140771.cli?token=mytoken 2023-12-30 16:21:45 2023-12-30T16:21:00+08:00\n",
      "V http://localhost:4040/rest/sources/sources/api/varia/auc_cartulario18.cli?token=mytoken 2023-12-30 16:20:03 2023-12-30T16:20:00+08:00\n",
      "V http://localhost:4040/rest/sources/sources/api/varia/eleicoes1.cli?token=mytoken 2023-12-30 16:20:15 2023-12-30T16:20:00+08:00\n",
      "V http://localhost:4040/rest/sources/sources/api/varia/genealdiversas.cli?token=mytoken 2023-12-30 16:20:18 2023-12-30T16:20:00+08:00\n",
      "V http://localhost:4040/rest/sources/sources/api/varia/ivcc.cli?token=mytoken 2023-12-30 16:20:17 2023-12-30T16:20:00+08:00\n",
      "V http://localhost:4040/rest/sources/sources/api/varia/lrazao516pe.cli?token=mytoken 2023-12-30 16:20:50 2023-12-30T16:20:00+08:00\n",
      "V http://localhost:4040/rest/sources/sources/api/varia/misMesa.cli?token=mytoken 2023-12-30 16:20:36 2023-12-30T16:20:00+08:00\n",
      "V http://localhost:4040/rest/sources/sources/api/varia/mp758-santiago-beduido.cli?token=mytoken 2023-12-30 16:20:23 2023-12-30T16:20:00+08:00\n",
      "V http://localhost:4040/rest/sources/sources/api/varia/quotes.cli?token=mytoken 2023-12-30 16:20:52 2023-12-30T16:20:00+08:00\n",
      "V http://localhost:4040/rest/sources/sources/api/varia/sourecoimbrabispcoimbra_apontamentosd.cli?token=mytoken 2023-12-30 16:21:00 2023-12-30T16:21:00+08:00\n",
      "V http://localhost:4040/rest/sources/sources/api/varia/vereacao.cli?token=mytoken 2023-12-30 16:21:04 2023-12-30T16:21:00+08:00\n",
      "V http://localhost:4040/rest/sources/sources/api/varia/xpto_comuns_soure.kleio?token=mytoken 2023-12-30 16:21:08 2023-12-30T16:21:00+08:00\n",
      "W http://localhost:4040/rest/sources/sources/api/varia/EmpFAfonso.cli?token=mytoken 2023-12-30 16:19:59 2023-12-30T16:19:00+08:00\n",
      "W http://localhost:4040/rest/sources/sources/api/varia/cartas.cli?token=mytoken 2023-12-30 16:19:59 2023-12-30T16:19:00+08:00\n",
      "W http://localhost:4040/rest/sources/sources/api/varia/glopes-lap1561.cli?token=mytoken 2023-12-30 16:20:37 2023-12-30T16:20:00+08:00\n"
     ]
    }
   ],
   "source": [
    "from typing import List\n",
    "from timelink.kleio.schemas import KleioFile\n",
    "\n",
    "kfiles: List[KleioFile] = kserver.translation_status(path='sources',recurse='yes',status=None)\n",
    "\n",
    "for kfile in sorted(kfiles, key=lambda kfile: kfile.status.value+kfile.path):\n",
    "    print(kfile.status.value,url+kfile.source_url+f\"?token={token}\",kfile.modified_string, kfile.translated_string)"
   ]
  },
  {
   "cell_type": "markdown",
   "metadata": {},
   "source": [
    "### Translate new and updated files"
   ]
  },
  {
   "cell_type": "code",
   "execution_count": 25,
   "metadata": {},
   "outputs": [
    {
     "name": "stdout",
     "output_type": "stream",
     "text": [
      "T sources/api/varia/test-atr-date.cli\n"
     ]
    }
   ],
   "source": [
    "for kfile in kserver.translation_status(path='sources/api',recurse='yes',status='T'):\n",
    "    print(kfile.status.value, kfile.path)\n",
    "    kserver.translate(kfile.path, recurse='no', spawn='no')"
   ]
  },
  {
   "cell_type": "markdown",
   "metadata": {},
   "source": [
    "### List files translated sucessfully. Status=\"V\""
   ]
  },
  {
   "cell_type": "code",
   "execution_count": 26,
   "metadata": {},
   "outputs": [
    {
     "name": "stdout",
     "output_type": "stream",
     "text": [
      "Import V /rest/exports/sources/api/varia/Devedores.xml\n",
      "Import V /rest/exports/sources/api/varia/auc-alunos-264605-A-140337-140771.xml\n",
      "Import V /rest/exports/sources/api/varia/auc_cartulario18.xml\n",
      "Import V /rest/exports/sources/api/paroquiais/baptismos/bapt1714.xml\n",
      "Import V /rest/exports/sources/api/paroquiais/baptismos/bapteirasproblem1.xml\n",
      "Import V /rest/exports/sources/api/paroquiais/baptismos/bapteirasproblem2.xml\n",
      "Import V /rest/exports/sources/api/paroquiais/casamentos/cas1714-1722-com-celebrante.xml\n",
      "Import V /rest/exports/sources/api/paroquiais/casamentos/cas1714-1722.xml\n",
      "Import V /rest/exports/sources/api/roisdeconfessados/coja-rol-1841.xml\n",
      "Import V /rest/exports/sources/api/paroquiais/crisma/crisma1753.xml\n",
      "Import V /rest/exports/sources/api/linked_data/dehergne-a.xml\n",
      "Import V /rest/exports/sources/api/notariais/docsregiospontepisc.xml\n",
      "Import V /rest/exports/sources/api/varia/eleicoes1.xml\n",
      "Import V /rest/exports/sources/api/varia/genealdiversas.xml\n",
      "Import V /rest/exports/sources/api/varia/ivcc.xml\n",
      "Import V /rest/exports/sources/api/linked_data/linked-data-error.xml\n",
      "Import V /rest/exports/sources/api/varia/lrazao516pe.xml\n",
      "Import V /rest/exports/sources/api/identifications/mhk_identification_toliveira.xml\n",
      "Import V /rest/exports/sources/api/varia/misMesa.xml\n",
      "Import V /rest/exports/sources/api/varia/mp758-santiago-beduido.xml\n",
      "Import V /rest/exports/sources/api/notariais/notlousa1.xml\n",
      "Import V /rest/exports/sources/api/paroquiais/obitos/obit1714.xml\n",
      "Import V /rest/exports/sources/api/paroquiais/obitos/obitoShort.xml\n",
      "Import V /rest/exports/sources/api/paroquiais/obitos/obitoShort_id.xml\n",
      "Import V /rest/exports/sources/api/notariais/perdoes.xml\n",
      "Import V /rest/exports/sources/api/varia/quotes.xml\n",
      "Import V /rest/exports/sources/api/paroquiais/baptismos/rogeriodomingos_bap_problem.xml\n",
      "Import V /rest/exports/sources/api/roisdeconfessados/rol1.xml\n",
      "Import V /rest/exports/sources/api/roisdeconfessados/rol2.xml\n",
      "Import V /rest/exports/sources/api/roisdeconfessados/rol3.xml\n",
      "Import V /rest/exports/sources/api/varia/sourecoimbrabispcoimbra_apontamentosd.xml\n",
      "Import V /rest/exports/sources/api/varia/test-atr-date.xml\n",
      "Import V /rest/exports/sources/api/paroquiais/obitos/testeParentescos.xml\n",
      "Import V /rest/exports/sources/api/varia/vereacao.xml\n",
      "Import V /rest/exports/sources/api/varia/xpto_comuns_soure.xml\n"
     ]
    }
   ],
   "source": [
    "for kfile in kserver.translation_status(path='sources/api',recurse='yes',status='V'):\n",
    "    print(\"Import\",kfile.status.value, kfile.xml_url)\n"
   ]
  },
  {
   "cell_type": "markdown",
   "metadata": {},
   "source": [
    "### List files with errors"
   ]
  },
  {
   "cell_type": "code",
   "execution_count": 27,
   "metadata": {},
   "outputs": [
    {
     "name": "stdout",
     "output_type": "stream",
     "text": [
      "ERROR E sources/api/paroquiais/baptismos/bap-com-celebrantes.cli\n",
      "ERROR E sources/api/varia/dehergne-a.cli\n",
      "ERROR E sources/api/varia/nommiz.cli\n",
      "ERROR E sources/api/notariais/notarial80.cli\n",
      "ERROR E sources/api/paroquiais/obitos/ob1688.cli\n",
      "ERROR E sources/api/paroquiais/obitos/ob1688b.cli\n",
      "ERROR E sources/api/paroquiais/obitos/obiteirasproblem.cli\n",
      "ERROR E sources/api/paroquiais/obitos/obitoShort_id_id.cli\n"
     ]
    }
   ],
   "source": [
    "for kfile in kserver.translation_status(path='sources/api',recurse='yes',status='E'):\n",
    "    print(\"ERROR\",kfile.status.value, kfile.path)"
   ]
  },
  {
   "cell_type": "markdown",
   "metadata": {},
   "source": [
    "### List files with warnings"
   ]
  },
  {
   "cell_type": "code",
   "execution_count": 28,
   "metadata": {},
   "outputs": [
    {
     "name": "stdout",
     "output_type": "stream",
     "text": [
      "Import W sources/api/varia/EmpFAfonso.cli\n",
      "Import W sources/reference_translations/varia/EmpFAfonso.cli\n",
      "Import W sources/test_translations/varia/EmpFAfonso.cli\n",
      "Import W sources/api/varia/cartas.cli\n",
      "Import W sources/reference_translations/varia/cartas.cli\n",
      "Import W sources/test_translations/varia/cartas.cli\n",
      "Import W sources/api/varia/glopes-lap1561.cli\n",
      "Import W sources/reference_translations/varia/glopes-lap1561.cli\n",
      "Import W sources/test_translations/varia/glopes-lap1561.cli\n"
     ]
    }
   ],
   "source": [
    "for kfile in kserver.translation_status(path='',recurse='yes',status='W'):\n",
    "    print(\"Import\",kfile.status.value, kfile.path)"
   ]
  },
  {
   "cell_type": "code",
   "execution_count": 14,
   "metadata": {},
   "outputs": [],
   "source": [
    "for kfile in kserver.translation_status(path='',recurse='yes',status='P'):\n",
    "    print(\"Processing\",kfile.status.value, kfile.path)"
   ]
  },
  {
   "cell_type": "code",
   "execution_count": 15,
   "metadata": {},
   "outputs": [],
   "source": [
    "for kfile in kserver.translation_status(path='',recurse='yes',status='Q'):\n",
    "    print(\"Queued\",kfile.status.value, kfile.path)\n"
   ]
  }
 ],
 "metadata": {
  "kernelspec": {
   "display_name": ".venv",
   "language": "python",
   "name": "python3"
  },
  "language_info": {
   "codemirror_mode": {
    "name": "ipython",
    "version": 3
   },
   "file_extension": ".py",
   "mimetype": "text/x-python",
   "name": "python",
   "nbconvert_exporter": "python",
   "pygments_lexer": "ipython3",
   "version": "3.10.9"
  },
  "orig_nbformat": 4
 },
 "nbformat": 4,
 "nbformat_minor": 2
}
