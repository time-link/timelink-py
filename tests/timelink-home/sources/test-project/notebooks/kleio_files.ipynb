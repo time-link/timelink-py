{
 "cells": [
  {
   "cell_type": "code",
   "execution_count": 1,
   "metadata": {},
   "outputs": [
    {
     "name": "stdout",
     "output_type": "stream",
     "text": [
      "Token: Y0HH\n",
      "URL: http://127.0.0.1:8090\n",
      "Kleio Home: /Users/jrc/develop/timelink-py/tests/timelink-home/sources/test-project/kleio\n"
     ]
    }
   ],
   "source": [
    "from timelink.kleio import KleioServer\n",
    "\n",
    "kleio_home=\"../kleio\"\n",
    "\n",
    "kserver: KleioServer = KleioServer.start(kleio_home=kleio_home)\n",
    "\n",
    "token = kserver.get_token()\n",
    "url = kserver.get_url()\n",
    "khome = kserver.get_kleio_home()\n",
    "\n",
    "print(f\"Token: {token[:4]}\")\n",
    "print(f\"URL: {url}\")\n",
    "print(f\"Kleio Home: {khome}\")\n"
   ]
  },
  {
   "cell_type": "markdown",
   "metadata": {},
   "source": [
    "# get the list of files in the directory"
   ]
  },
  {
   "cell_type": "code",
   "execution_count": 2,
   "metadata": {},
   "outputs": [
    {
     "name": "stdout",
     "output_type": "stream",
     "text": [
      "E reference_sources/notariais/notarial80.cli 2023-10-17 12:22:49 2023-10-17T13:49:00+00:00\n",
      "E reference_sources/paroquiais/baptismos/bap-com-celebrantes.cli 2023-10-17 12:22:49 2023-10-17T13:48:00+00:00\n",
      "E reference_sources/paroquiais/obitos/ob1688.cli 2023-10-17 12:22:49 2023-10-17T13:49:00+00:00\n",
      "E reference_sources/paroquiais/obitos/ob1688b.cli 2023-10-17 12:22:49 2023-10-17T13:49:00+00:00\n",
      "E reference_sources/paroquiais/obitos/obiteirasproblem.cli 2023-10-17 12:22:49 2023-10-17T13:50:00+00:00\n",
      "E reference_sources/paroquiais/obitos/obitoShort_id_id.cli 2023-10-17 12:22:49 2023-10-17T13:49:00+00:00\n",
      "E reference_sources/varia/nommiz.cli 2023-10-17 12:22:49 2023-10-17T13:49:00+00:00\n",
      "V reference_sources/linked_data/dehergne-a.cli 2023-10-18 01:24:20 2023-10-18T01:24:00+00:00\n",
      "V reference_sources/notariais/docsregiospontepisc.cli 2023-10-17 13:49:16 2023-10-17T13:49:00+00:00\n",
      "V reference_sources/notariais/notlousa1.cli 2023-10-17 13:49:50 2023-10-17T13:49:00+00:00\n",
      "V reference_sources/notariais/perdoes.cli 2023-10-17 13:49:58 2023-10-17T13:49:00+00:00\n",
      "V reference_sources/paroquiais/baptismos/bapt1714.cli 2023-10-17 13:48:57 2023-10-17T13:48:00+00:00\n",
      "V reference_sources/paroquiais/baptismos/bapteirasproblem1.cli 2023-10-17 13:49:03 2023-10-17T13:49:00+00:00\n",
      "V reference_sources/paroquiais/baptismos/bapteirasproblem2.cli 2023-10-17 13:49:06 2023-10-17T13:49:00+00:00\n",
      "V reference_sources/paroquiais/baptismos/rogeriodomingos_bap_problem.cli 2023-10-17 13:50:00 2023-10-17T13:50:00+00:00\n",
      "V reference_sources/paroquiais/casamentos/cas1714-1722-com-celebrante.cli 2023-10-17 13:49:03 2023-10-17T13:49:00+00:00\n",
      "V reference_sources/paroquiais/casamentos/cas1714-1722.cli 2023-10-17 13:49:10 2023-10-17T13:49:00+00:00\n",
      "V reference_sources/paroquiais/crisma/crisma1753.cli 2023-10-17 13:49:10 2023-10-17T13:49:00+00:00\n",
      "V reference_sources/paroquiais/obitos/obit1714.cli 2023-10-17 13:49:51 2023-10-17T13:49:00+00:00\n",
      "V reference_sources/paroquiais/obitos/obitoShort.cli 2023-10-17 13:49:52 2023-10-17T13:49:00+00:00\n",
      "V reference_sources/paroquiais/obitos/obitoShort_id.cli 2023-10-17 13:49:53 2023-10-17T13:49:00+00:00\n",
      "V reference_sources/paroquiais/obitos/testeParentescos.cli 2023-10-17 13:50:13 2023-10-17T13:50:00+00:00\n",
      "V reference_sources/roisdeconfessados/coja-rol-1841.cli 2023-10-17 13:49:29 2023-10-17T13:49:00+00:00\n",
      "V reference_sources/roisdeconfessados/rol1.cli 2023-10-17 13:50:04 2023-10-17T13:50:00+00:00\n",
      "V reference_sources/roisdeconfessados/rol2.cli 2023-10-17 13:50:09 2023-10-17T13:50:00+00:00\n",
      "V reference_sources/roisdeconfessados/rol3.cli 2023-10-17 13:50:14 2023-10-17T13:50:00+00:00\n",
      "V reference_sources/varia/Devedores.cli 2023-10-17 13:48:51 2023-10-17T13:48:00+00:00\n",
      "V reference_sources/varia/auc-alunos-264605-A-140337-140771.cli 2023-10-17 13:50:11 2023-10-17T13:50:00+00:00\n",
      "V reference_sources/varia/auc_cartulario18.cli 2023-10-17 13:48:57 2023-10-17T13:48:00+00:00\n",
      "V reference_sources/varia/dehergne-a.cli 2023-10-17 13:49:16 2023-10-17T13:49:00+00:00\n",
      "V reference_sources/varia/eleicoes1.cli 2023-10-17 13:49:20 2023-10-17T13:49:00+00:00\n",
      "V reference_sources/varia/genealdiversas.cli 2023-10-17 13:49:24 2023-10-17T13:49:00+00:00\n",
      "V reference_sources/varia/ivcc.cli 2023-10-17 13:49:31 2023-10-17T13:49:00+00:00\n",
      "V reference_sources/varia/lrazao516pe.cli 2023-10-17 13:49:43 2023-10-17T13:49:00+00:00\n",
      "V reference_sources/varia/misMesa.cli 2023-10-17 13:49:38 2023-10-17T13:49:00+00:00\n",
      "V reference_sources/varia/mp758-santiago-beduido.cli 2023-10-17 13:49:39 2023-10-17T13:49:00+00:00\n",
      "V reference_sources/varia/quotes.cli 2023-10-17 13:49:59 2023-10-17T13:49:00+00:00\n",
      "V reference_sources/varia/sourecoimbrabispcoimbra_apontamentosd.cli 2023-10-17 13:50:12 2023-10-17T13:50:00+00:00\n",
      "V reference_sources/varia/vereacao.cli 2023-10-17 13:50:14 2023-10-17T13:50:00+00:00\n",
      "V reference_sources/varia/xpto_comuns_soure.kleio 2023-10-17 13:50:16 2023-10-17T13:50:00+00:00\n",
      "W reference_sources/varia/EmpFAfonso.cli 2023-10-17 13:48:53 2023-10-17T13:48:00+00:00\n",
      "W reference_sources/varia/glopes-lap1561.cli 2023-10-17 13:49:33 2023-10-17T13:49:00+00:00\n"
     ]
    }
   ],
   "source": [
    "from typing import List\n",
    "from timelink.kleio.schemas import KleioFile\n",
    "\n",
    "kfiles: List[KleioFile] = kserver.translation_status(path='',recurse='yes',status=None)\n",
    "\n",
    "for kfile in sorted(kfiles, key=lambda kfile: kfile.status.value+kfile.path):\n",
    "    print(kfile.status.value,kfile.path,kfile.modified_string, kfile.translated_string)"
   ]
  },
  {
   "cell_type": "code",
   "execution_count": 3,
   "metadata": {},
   "outputs": [],
   "source": [
    "for kfile in kserver.translation_status(path='',recurse='yes',status='T'):\n",
    "    print(kfile.status.value, kfile.path)\n",
    "    kserver.translate(kfile.path, recurse='no', spawn='no')"
   ]
  },
  {
   "cell_type": "code",
   "execution_count": 2,
   "metadata": {},
   "outputs": [
    {
     "name": "stdout",
     "output_type": "stream",
     "text": [
      "Import V /rest/exports/reference_sources/varia/Devedores.xml\n",
      "Import V /rest/exports/reference_sources/varia/auc-alunos-264605-A-140337-140771.xml\n",
      "Import V /rest/exports/reference_sources/varia/auc_cartulario18.xml\n",
      "Import V /rest/exports/reference_sources/paroquiais/baptismos/bapt1714.xml\n",
      "Import V /rest/exports/reference_sources/paroquiais/baptismos/bapteirasproblem1.xml\n",
      "Import V /rest/exports/reference_sources/paroquiais/baptismos/bapteirasproblem2.xml\n",
      "Import V /rest/exports/reference_sources/paroquiais/casamentos/cas1714-1722-com-celebrante.xml\n",
      "Import V /rest/exports/reference_sources/paroquiais/casamentos/cas1714-1722.xml\n",
      "Import V /rest/exports/reference_sources/roisdeconfessados/coja-rol-1841.xml\n",
      "Import V /rest/exports/reference_sources/paroquiais/crisma/crisma1753.xml\n",
      "Import V /rest/exports/reference_sources/linked_data/dehergne-a.xml\n",
      "Import V /rest/exports/reference_sources/varia/dehergne-a.xml\n",
      "Import V /rest/exports/reference_sources/notariais/docsregiospontepisc.xml\n",
      "Import V /rest/exports/reference_sources/varia/eleicoes1.xml\n",
      "Import V /rest/exports/reference_sources/varia/genealdiversas.xml\n",
      "Import V /rest/exports/reference_sources/varia/ivcc.xml\n",
      "Import V /rest/exports/reference_sources/varia/lrazao516pe.xml\n",
      "Import V /rest/exports/reference_sources/varia/misMesa.xml\n",
      "Import V /rest/exports/reference_sources/varia/mp758-santiago-beduido.xml\n",
      "Import V /rest/exports/reference_sources/notariais/notlousa1.xml\n",
      "Import V /rest/exports/reference_sources/paroquiais/obitos/obit1714.xml\n",
      "Import V /rest/exports/reference_sources/paroquiais/obitos/obitoShort.xml\n",
      "Import V /rest/exports/reference_sources/paroquiais/obitos/obitoShort_id.xml\n",
      "Import V /rest/exports/reference_sources/notariais/perdoes.xml\n",
      "Import V /rest/exports/reference_sources/varia/quotes.xml\n",
      "Import V /rest/exports/reference_sources/paroquiais/baptismos/rogeriodomingos_bap_problem.xml\n",
      "Import V /rest/exports/reference_sources/roisdeconfessados/rol1.xml\n",
      "Import V /rest/exports/reference_sources/roisdeconfessados/rol2.xml\n",
      "Import V /rest/exports/reference_sources/roisdeconfessados/rol3.xml\n",
      "Import V /rest/exports/reference_sources/varia/sourecoimbrabispcoimbra_apontamentosd.xml\n",
      "Import V /rest/exports/reference_sources/paroquiais/obitos/testeParentescos.xml\n",
      "Import V /rest/exports/reference_sources/varia/vereacao.xml\n",
      "Import V /rest/exports/reference_sources/varia/xpto_comuns_soure.xml\n"
     ]
    }
   ],
   "source": [
    "for kfile in kserver.translation_status(path='',recurse='yes',status='V'):\n",
    "    print(\"Import\",kfile.status.value, kfile.xml_url)\n"
   ]
  },
  {
   "cell_type": "code",
   "execution_count": 4,
   "metadata": {},
   "outputs": [
    {
     "name": "stdout",
     "output_type": "stream",
     "text": [
      "ERROR E reference_sources/paroquiais/baptismos/bap-com-celebrantes.cli\n",
      "ERROR E reference_sources/varia/nommiz.cli\n",
      "ERROR E reference_sources/notariais/notarial80.cli\n",
      "ERROR E reference_sources/paroquiais/obitos/ob1688.cli\n",
      "ERROR E reference_sources/paroquiais/obitos/ob1688b.cli\n",
      "ERROR E reference_sources/paroquiais/obitos/obiteirasproblem.cli\n",
      "ERROR E reference_sources/paroquiais/obitos/obitoShort_id_id.cli\n"
     ]
    }
   ],
   "source": [
    "for kfile in kserver.translation_status(path='',recurse='yes',status='E'):\n",
    "    print(\"ERROR\",kfile.status.value, kfile.path)"
   ]
  },
  {
   "cell_type": "code",
   "execution_count": 5,
   "metadata": {},
   "outputs": [
    {
     "name": "stdout",
     "output_type": "stream",
     "text": [
      "Import W reference_sources/varia/EmpFAfonso.cli\n",
      "Import W reference_sources/varia/glopes-lap1561.cli\n"
     ]
    }
   ],
   "source": [
    "for kfile in kserver.translation_status(path='',recurse='yes',status='W'):\n",
    "    print(\"Import\",kfile.status.value, kfile.path)"
   ]
  },
  {
   "cell_type": "code",
   "execution_count": 6,
   "metadata": {},
   "outputs": [],
   "source": [
    "for kfile in kserver.translation_status(path='',recurse='yes',status='P'):\n",
    "    print(\"Processing\",kfile.status.value, kfile.path)"
   ]
  },
  {
   "cell_type": "code",
   "execution_count": 7,
   "metadata": {},
   "outputs": [],
   "source": [
    "for kfile in kserver.translation_status(path='',recurse='yes',status='Q'):\n",
    "    print(\"Queued\",kfile.status.value, kfile.path)"
   ]
  }
 ],
 "metadata": {
  "kernelspec": {
   "display_name": ".venv",
   "language": "python",
   "name": "python3"
  },
  "language_info": {
   "codemirror_mode": {
    "name": "ipython",
    "version": 3
   },
   "file_extension": ".py",
   "mimetype": "text/x-python",
   "name": "python",
   "nbconvert_exporter": "python",
   "pygments_lexer": "ipython3",
   "version": "3.10.4"
  },
  "orig_nbformat": 4
 },
 "nbformat": 4,
 "nbformat_minor": 2
}
